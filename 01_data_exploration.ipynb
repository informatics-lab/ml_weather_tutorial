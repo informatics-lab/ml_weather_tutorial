{
 "cells": [
  {
   "cell_type": "markdown",
   "id": "403e4bfd-7925-43e2-977b-2baca78c2eaf",
   "metadata": {
    "tags": []
   },
   "source": [
    "# 1. Data Exploration\n",
    "\n",
    "## Overview \n",
    "In the first section we will look at techniques to load and explore the data to be used for machine learning. The purpose of this exploration to gain an understanding of the data and how it relates to the problem we are trying to solve. This will help us make sensible choices for differents elements of our machine learning pipeline."
   ]
  },
  {
   "cell_type": "markdown",
   "id": "40489368-10b7-4757-b486-3af6db2a2a2b",
   "metadata": {},
   "source": [
    "### Prerequisities \n",
    "\n",
    "To be able to sucessfully work through this notebook, you will need some understanding of the following \n",
    "* The python programming language\n",
    "* Simple data handling in python\n",
    "* Basic plotting using matplotlib\n",
    "* Environment set up using pip or conda"
   ]
  },
  {
   "cell_type": "markdown",
   "id": "7b82b8cb-681d-44f8-bc23-e218e7653def",
   "metadata": {},
   "source": [
    "### Learning Outcomes \n",
    "\n",
    "* Loading tabular and gridded datasets using common python libraries\n",
    "* typical techniques for *exploratory data analysis* on different\n",
    "* key characteristics of datasets to use in choosing components for a machine learning pipeline\n"
   ]
  },
  {
   "cell_type": "markdown",
   "id": "3cceadd3-46b6-42dc-b702-943d09365ca6",
   "metadata": {},
   "source": [
    "## Tutorial - Exploratory Data Analysis\n",
    "\n",
    "The first step in a machine learning problem is to understand the data you have available for training a machine learning algorithm. In any data driven technique, the quality of the results is only going to be as good as the quality of the data. This can only be achieved by matching the appropriate techniques to the data that you have, so understanding the particular dataset to be used is the foundation of a successful outcome.\n",
    "\n",
    "To achieve this, one typically performs an *Exploratory Data Analysis*, where one produce a series of summary statistics and plots that highlight the most salient characteristics of the dataset for the problem at hand. Typical traits to be considered include:\n",
    "* The range of values different input feature can take e.g. min and max temperature, start and end dates.\n",
    "* Important subsets of the data e.g. different seasons or time of the day.\n",
    "* Distributions of different features, both as a whole and important subsets\n",
    "* Correlations between different features, especially input and target features.\n",
    "\n",
    "\n",
    "\n",
    "\n",
    "\n"
   ]
  },
  {
   "cell_type": "markdown",
   "id": "de71ed31-7104-4b61-8c9e-a2b6b7b70ddf",
   "metadata": {},
   "source": [
    "### Best Practices & Values\n",
    "\n",
    "Performing a through data exploration implements the Met Office Machine Learning best practices in the following ways\n",
    "* Ethics - Ensure we can justify our choices from understanding of the data and how it relates to the potential impacts of this work.\n",
    "* Data - Ensure that we understand biases or other issues with the data\n",
    "* ML Pitfall -  Avoid pitfalls through making informed choices based on analysis of data\n",
    "* ML Lifecycle - Ensure we store and proces the data so we can reproduce the results"
   ]
  },
  {
   "cell_type": "markdown",
   "id": "8d421494-3e87-4e51-8efd-b35ad50764e2",
   "metadata": {},
   "source": [
    "## Excercise 1: Load and explore tabular dataset - Falkland Islands Airfield Rotors\n",
    "\n",
    "The first dataset we will explore comes from a challenge by Operational Meteorologist Steve Ramsdale.  The aim of challenge is to forecast rotors, a type of localised topographically-driven turbulent wind gusts, at the Mount Pleasant Airfield in the Falkland Islands. \n",
    "\n",
    "![Image of the topography of the Falkland Islands](images/falklands_mtpleasant.png) \n",
    "\n",
    "These occur through northerly winds interacting with mountains to the north of the airfield.  The aim is to predict whether or not these will occur, using data from global, coarse-resolution models which are not able to to explicitly resolve this phenomenon.  \n",
    "\n",
    "The target is a human-created dataset produced by Operational Meterologists at the airfield, as to whether a rotor occured in any given three hour period."
   ]
  },
  {
   "cell_type": "markdown",
   "id": "08d6c251-f968-4401-b1e0-ff23d85fe2b1",
   "metadata": {},
   "source": [
    "## Dataset 1 - Predicting impactful turbulent wind gusts\n",
    "\n",
    "The first dataset we will explore comes from a challenge by a Met Office Chief Operational Meteorologist. In certain locations around the world turbulent lee wave gusts called rotors can cause problems for aviation. These are localised topographically-driven turbulent wind gusts and where these occur at an airfiel make conditions siufficiently hazardous so as to cause operations to be suspended. Rotors therefore impact the aviation industry, in partticular where flights have to be diverted for considerable distances from isolated airfields.\n",
    "\n",
    "What is needed is a prediction of whether such rotors are likely in a given time window, so that flight can be postponed or cancelled rather than risking the flight and turning back wasting fuel. As these are small scale features, they are not explicitly resolved in coarse resolution global models. Human OpMets are able to look at this model data and determine whether rotors are likely, but this is error-prone and time consuming. Can we train a machine learning algorithm to act as a tool to help OpMets with this process and provide a second opinion. In particular, a machine learning solution can easily look at multiple model outputs (ensemble output, different forecast centres e.g. ECMWF).\n",
    "\n",
    "The target is a human-created dataset produced by Operational Meterologists at the airfield, as to whether a rotor occured in any given three hour period.\n",
    "\n",
    "![Depiction of how turbulent lee wind gusts form](rotors_diagram.png)\n",
    "\n",
    "[Met Office Youtube video explaining rotors](https://www.youtube.com/watch?v=jgSZG9SqN_s)"
   ]
  },
  {
   "cell_type": "markdown",
   "id": "cb443a63-d2b5-4577-ad20-0f34c1e23e10",
   "metadata": {},
   "source": [
    "### Setup"
   ]
  },
  {
   "cell_type": "code",
   "execution_count": 1,
   "id": "677db567-6260-41fa-bdb9-13850c81c9dd",
   "metadata": {},
   "outputs": [],
   "source": [
    "import pathlib\n",
    "import datetime\n",
    "import os\n",
    "import functools"
   ]
  },
  {
   "cell_type": "code",
   "execution_count": 2,
   "id": "f9b4ad3d-958d-4b04-ac0e-5555800898bd",
   "metadata": {},
   "outputs": [],
   "source": [
    "import matplotlib\n",
    "%matplotlib inline"
   ]
  },
  {
   "cell_type": "code",
   "execution_count": 3,
   "id": "0096b3e9-f17e-4c6b-a4cc-12947c6f7192",
   "metadata": {},
   "outputs": [],
   "source": [
    "import numpy as np"
   ]
  },
  {
   "cell_type": "code",
   "execution_count": 4,
   "id": "4e4c1340-753c-44f8-ac43-7d00fbd045f7",
   "metadata": {},
   "outputs": [],
   "source": [
    "import pandas"
   ]
  },
  {
   "cell_type": "code",
   "execution_count": 5,
   "id": "404790fe-fdc9-4890-ae53-497e255b3d48",
   "metadata": {},
   "outputs": [],
   "source": [
    "import iris\n",
    "import iris.quickplot\n",
    "import iris.coord_categorisation\n",
    "import cartopy"
   ]
  },
  {
   "cell_type": "code",
   "execution_count": 6,
   "id": "64fdc2e3-7dfa-44b7-96dd-79ba9994aa72",
   "metadata": {},
   "outputs": [],
   "source": [
    "import sklearn\n",
    "import sklearn.metrics"
   ]
  },
  {
   "cell_type": "markdown",
   "id": "e0b0237d-990c-4261-a461-6dd579984be2",
   "metadata": {},
   "source": [
    "### Load data"
   ]
  },
  {
   "cell_type": "code",
   "execution_count": 7,
   "id": "71a8c8e2-98df-4ffe-9d0d-9e613a29e618",
   "metadata": {
    "tags": []
   },
   "outputs": [
    {
     "name": "stdout",
     "output_type": "stream",
     "text": [
      "/project/informatics_lab/data_science_cop/ML_challenges/2021_opmet_challenge/Rotors\n"
     ]
    }
   ],
   "source": [
    "try:\n",
    "    falklands_data_dir = os.environ['ML_TUTORIAL_DIR']\n",
    "except KeyError:\n",
    "    falklands_data_dir = '/project/informatics_lab/data_science_cop/ML_challenges/2021_opmet_challenge/Rotors'\n",
    "falklands_data_dir = pathlib.Path(falklands_data_dir)\n",
    "print(falklands_data_dir)"
   ]
  },
  {
   "cell_type": "code",
   "execution_count": 8,
   "id": "0349b603-8f6d-4858-a42e-0b65363688b6",
   "metadata": {},
   "outputs": [],
   "source": [
    "falklands_data_fname = '2021_met_office_aviation_rotors.csv'"
   ]
  },
  {
   "cell_type": "code",
   "execution_count": 9,
   "id": "5652d845-14b4-4b87-b249-66d85135fcf2",
   "metadata": {},
   "outputs": [
    {
     "data": {
      "text/plain": [
       "PosixPath('/project/informatics_lab/data_science_cop/ML_challenges/2021_opmet_challenge/Rotors/2021_met_office_aviation_rotors.csv')"
      ]
     },
     "execution_count": 9,
     "metadata": {},
     "output_type": "execute_result"
    }
   ],
   "source": [
    "falklands_data_path = falklands_data_dir / falklands_data_fname\n",
    "falklands_data_path"
   ]
  },
  {
   "cell_type": "code",
   "execution_count": 10,
   "id": "a8fc58fb-295a-4345-88e5-9dadc58f83b5",
   "metadata": {},
   "outputs": [
    {
     "data": {
      "text/plain": [
       "True"
      ]
     },
     "execution_count": 10,
     "metadata": {},
     "output_type": "execute_result"
    }
   ],
   "source": [
    "falklands_data_path.is_file()"
   ]
  },
  {
   "cell_type": "code",
   "execution_count": 11,
   "id": "c279ac65-86c2-4199-a270-5fd05147feb2",
   "metadata": {},
   "outputs": [],
   "source": [
    "falklands_df = pandas.read_csv(falklands_data_path)"
   ]
  },
  {
   "cell_type": "code",
   "execution_count": 12,
   "id": "a7d75cf1-8827-4a97-bef6-a3496062319d",
   "metadata": {},
   "outputs": [
    {
     "data": {
      "text/html": [
       "<div>\n",
       "<style scoped>\n",
       "    .dataframe tbody tr th:only-of-type {\n",
       "        vertical-align: middle;\n",
       "    }\n",
       "\n",
       "    .dataframe tbody tr th {\n",
       "        vertical-align: top;\n",
       "    }\n",
       "\n",
       "    .dataframe thead th {\n",
       "        text-align: right;\n",
       "    }\n",
       "</style>\n",
       "<table border=\"1\" class=\"dataframe\">\n",
       "  <thead>\n",
       "    <tr style=\"text-align: right;\">\n",
       "      <th></th>\n",
       "      <th>DTG</th>\n",
       "      <th>air_temp_obs</th>\n",
       "      <th>dewpoint_obs</th>\n",
       "      <th>wind_direction_obs</th>\n",
       "      <th>wind_speed_obs</th>\n",
       "      <th>wind_gust_obs</th>\n",
       "      <th>air_temp_1</th>\n",
       "      <th>air_temp_2</th>\n",
       "      <th>air_temp_3</th>\n",
       "      <th>air_temp_4</th>\n",
       "      <th>...</th>\n",
       "      <th>windspd_18</th>\n",
       "      <th>winddir_19</th>\n",
       "      <th>windspd_19</th>\n",
       "      <th>winddir_20</th>\n",
       "      <th>windspd_20</th>\n",
       "      <th>winddir_21</th>\n",
       "      <th>windspd_21</th>\n",
       "      <th>winddir_22</th>\n",
       "      <th>windspd_22</th>\n",
       "      <th>Rotors 1 is true</th>\n",
       "    </tr>\n",
       "  </thead>\n",
       "  <tbody>\n",
       "    <tr>\n",
       "      <th>0</th>\n",
       "      <td>NaN</td>\n",
       "      <td>NaN</td>\n",
       "      <td>NaN</td>\n",
       "      <td>NaN</td>\n",
       "      <td>NaN</td>\n",
       "      <td>NaN</td>\n",
       "      <td>NaN</td>\n",
       "      <td>NaN</td>\n",
       "      <td>NaN</td>\n",
       "      <td>NaN</td>\n",
       "      <td>...</td>\n",
       "      <td>NaN</td>\n",
       "      <td>NaN</td>\n",
       "      <td>NaN</td>\n",
       "      <td>NaN</td>\n",
       "      <td>NaN</td>\n",
       "      <td>NaN</td>\n",
       "      <td>NaN</td>\n",
       "      <td>NaN</td>\n",
       "      <td>NaN</td>\n",
       "      <td>NaN</td>\n",
       "    </tr>\n",
       "    <tr>\n",
       "      <th>1</th>\n",
       "      <td>01/01/2015 00:00</td>\n",
       "      <td>283.9</td>\n",
       "      <td>280.7</td>\n",
       "      <td>110.0</td>\n",
       "      <td>4.1</td>\n",
       "      <td>-9999999.0</td>\n",
       "      <td>284.000</td>\n",
       "      <td>283.625</td>\n",
       "      <td>283.250</td>\n",
       "      <td>282.625</td>\n",
       "      <td>...</td>\n",
       "      <td>5.8</td>\n",
       "      <td>341.0</td>\n",
       "      <td>6.0</td>\n",
       "      <td>334.0</td>\n",
       "      <td>6.1</td>\n",
       "      <td>330.0</td>\n",
       "      <td>6.0</td>\n",
       "      <td>329.0</td>\n",
       "      <td>5.8</td>\n",
       "      <td>NaN</td>\n",
       "    </tr>\n",
       "    <tr>\n",
       "      <th>2</th>\n",
       "      <td>01/01/2015 03:00</td>\n",
       "      <td>280.7</td>\n",
       "      <td>279.7</td>\n",
       "      <td>90.0</td>\n",
       "      <td>7.7</td>\n",
       "      <td>-9999999.0</td>\n",
       "      <td>281.500</td>\n",
       "      <td>281.250</td>\n",
       "      <td>280.750</td>\n",
       "      <td>280.250</td>\n",
       "      <td>...</td>\n",
       "      <td>6.8</td>\n",
       "      <td>344.0</td>\n",
       "      <td>5.3</td>\n",
       "      <td>348.0</td>\n",
       "      <td>3.8</td>\n",
       "      <td>360.0</td>\n",
       "      <td>3.2</td>\n",
       "      <td>12.0</td>\n",
       "      <td>3.5</td>\n",
       "      <td>NaN</td>\n",
       "    </tr>\n",
       "    <tr>\n",
       "      <th>3</th>\n",
       "      <td>01/01/2015 06:00</td>\n",
       "      <td>279.8</td>\n",
       "      <td>278.1</td>\n",
       "      <td>100.0</td>\n",
       "      <td>7.7</td>\n",
       "      <td>-9999999.0</td>\n",
       "      <td>279.875</td>\n",
       "      <td>279.625</td>\n",
       "      <td>279.125</td>\n",
       "      <td>278.625</td>\n",
       "      <td>...</td>\n",
       "      <td>6.0</td>\n",
       "      <td>345.0</td>\n",
       "      <td>5.5</td>\n",
       "      <td>358.0</td>\n",
       "      <td>5.0</td>\n",
       "      <td>10.0</td>\n",
       "      <td>4.2</td>\n",
       "      <td>38.0</td>\n",
       "      <td>4.0</td>\n",
       "      <td>NaN</td>\n",
       "    </tr>\n",
       "    <tr>\n",
       "      <th>4</th>\n",
       "      <td>01/01/2015 09:00</td>\n",
       "      <td>279.9</td>\n",
       "      <td>277.0</td>\n",
       "      <td>120.0</td>\n",
       "      <td>7.2</td>\n",
       "      <td>-9999999.0</td>\n",
       "      <td>279.625</td>\n",
       "      <td>279.250</td>\n",
       "      <td>278.875</td>\n",
       "      <td>278.250</td>\n",
       "      <td>...</td>\n",
       "      <td>3.1</td>\n",
       "      <td>338.0</td>\n",
       "      <td>3.5</td>\n",
       "      <td>354.0</td>\n",
       "      <td>3.9</td>\n",
       "      <td>9.0</td>\n",
       "      <td>4.4</td>\n",
       "      <td>22.0</td>\n",
       "      <td>4.6</td>\n",
       "      <td>NaN</td>\n",
       "    </tr>\n",
       "    <tr>\n",
       "      <th>...</th>\n",
       "      <td>...</td>\n",
       "      <td>...</td>\n",
       "      <td>...</td>\n",
       "      <td>...</td>\n",
       "      <td>...</td>\n",
       "      <td>...</td>\n",
       "      <td>...</td>\n",
       "      <td>...</td>\n",
       "      <td>...</td>\n",
       "      <td>...</td>\n",
       "      <td>...</td>\n",
       "      <td>...</td>\n",
       "      <td>...</td>\n",
       "      <td>...</td>\n",
       "      <td>...</td>\n",
       "      <td>...</td>\n",
       "      <td>...</td>\n",
       "      <td>...</td>\n",
       "      <td>...</td>\n",
       "      <td>...</td>\n",
       "      <td>...</td>\n",
       "    </tr>\n",
       "    <tr>\n",
       "      <th>20101</th>\n",
       "      <td>31/12/2020 06:00</td>\n",
       "      <td>276.7</td>\n",
       "      <td>275.5</td>\n",
       "      <td>270.0</td>\n",
       "      <td>3.6</td>\n",
       "      <td>-9999999.0</td>\n",
       "      <td>277.875</td>\n",
       "      <td>277.750</td>\n",
       "      <td>277.625</td>\n",
       "      <td>277.500</td>\n",
       "      <td>...</td>\n",
       "      <td>12.1</td>\n",
       "      <td>223.0</td>\n",
       "      <td>11.8</td>\n",
       "      <td>221.0</td>\n",
       "      <td>11.4</td>\n",
       "      <td>219.0</td>\n",
       "      <td>11.3</td>\n",
       "      <td>215.0</td>\n",
       "      <td>11.4</td>\n",
       "      <td>NaN</td>\n",
       "    </tr>\n",
       "    <tr>\n",
       "      <th>20102</th>\n",
       "      <td>31/12/2020 09:00</td>\n",
       "      <td>277.9</td>\n",
       "      <td>276.9</td>\n",
       "      <td>270.0</td>\n",
       "      <td>3.1</td>\n",
       "      <td>-9999999.0</td>\n",
       "      <td>277.875</td>\n",
       "      <td>277.625</td>\n",
       "      <td>277.875</td>\n",
       "      <td>277.875</td>\n",
       "      <td>...</td>\n",
       "      <td>10.2</td>\n",
       "      <td>230.0</td>\n",
       "      <td>10.8</td>\n",
       "      <td>230.0</td>\n",
       "      <td>11.6</td>\n",
       "      <td>227.0</td>\n",
       "      <td>12.3</td>\n",
       "      <td>222.0</td>\n",
       "      <td>12.0</td>\n",
       "      <td>NaN</td>\n",
       "    </tr>\n",
       "    <tr>\n",
       "      <th>20103</th>\n",
       "      <td>31/12/2020 12:00</td>\n",
       "      <td>283.5</td>\n",
       "      <td>277.1</td>\n",
       "      <td>220.0</td>\n",
       "      <td>3.6</td>\n",
       "      <td>-9999999.0</td>\n",
       "      <td>281.125</td>\n",
       "      <td>280.625</td>\n",
       "      <td>280.125</td>\n",
       "      <td>279.625</td>\n",
       "      <td>...</td>\n",
       "      <td>10.3</td>\n",
       "      <td>218.0</td>\n",
       "      <td>11.9</td>\n",
       "      <td>221.0</td>\n",
       "      <td>12.8</td>\n",
       "      <td>222.0</td>\n",
       "      <td>11.9</td>\n",
       "      <td>225.0</td>\n",
       "      <td>10.6</td>\n",
       "      <td>NaN</td>\n",
       "    </tr>\n",
       "    <tr>\n",
       "      <th>20104</th>\n",
       "      <td>31/12/2020 15:00</td>\n",
       "      <td>286.1</td>\n",
       "      <td>276.9</td>\n",
       "      <td>250.0</td>\n",
       "      <td>3.6</td>\n",
       "      <td>-9999999.0</td>\n",
       "      <td>284.625</td>\n",
       "      <td>284.125</td>\n",
       "      <td>283.625</td>\n",
       "      <td>283.000</td>\n",
       "      <td>...</td>\n",
       "      <td>9.4</td>\n",
       "      <td>218.0</td>\n",
       "      <td>8.6</td>\n",
       "      <td>212.0</td>\n",
       "      <td>8.3</td>\n",
       "      <td>218.0</td>\n",
       "      <td>8.7</td>\n",
       "      <td>226.0</td>\n",
       "      <td>10.1</td>\n",
       "      <td>NaN</td>\n",
       "    </tr>\n",
       "    <tr>\n",
       "      <th>20105</th>\n",
       "      <td>01/01/2021 00:00</td>\n",
       "      <td>285.1</td>\n",
       "      <td>279.3</td>\n",
       "      <td>300.0</td>\n",
       "      <td>6.2</td>\n",
       "      <td>-9999999.0</td>\n",
       "      <td>284.250</td>\n",
       "      <td>284.000</td>\n",
       "      <td>283.750</td>\n",
       "      <td>283.250</td>\n",
       "      <td>...</td>\n",
       "      <td>8.6</td>\n",
       "      <td>241.0</td>\n",
       "      <td>10.2</td>\n",
       "      <td>236.0</td>\n",
       "      <td>10.5</td>\n",
       "      <td>232.0</td>\n",
       "      <td>10.5</td>\n",
       "      <td>227.0</td>\n",
       "      <td>11.3</td>\n",
       "      <td>NaN</td>\n",
       "    </tr>\n",
       "  </tbody>\n",
       "</table>\n",
       "<p>20106 rows × 95 columns</p>\n",
       "</div>"
      ],
      "text/plain": [
       "                    DTG  air_temp_obs  dewpoint_obs  wind_direction_obs  \\\n",
       "0                   NaN           NaN           NaN                 NaN   \n",
       "1      01/01/2015 00:00         283.9         280.7               110.0   \n",
       "2      01/01/2015 03:00         280.7         279.7                90.0   \n",
       "3      01/01/2015 06:00         279.8         278.1               100.0   \n",
       "4      01/01/2015 09:00         279.9         277.0               120.0   \n",
       "...                 ...           ...           ...                 ...   \n",
       "20101  31/12/2020 06:00         276.7         275.5               270.0   \n",
       "20102  31/12/2020 09:00         277.9         276.9               270.0   \n",
       "20103  31/12/2020 12:00         283.5         277.1               220.0   \n",
       "20104  31/12/2020 15:00         286.1         276.9               250.0   \n",
       "20105  01/01/2021 00:00         285.1         279.3               300.0   \n",
       "\n",
       "       wind_speed_obs  wind_gust_obs  air_temp_1  air_temp_2  air_temp_3  \\\n",
       "0                 NaN            NaN         NaN         NaN         NaN   \n",
       "1                 4.1     -9999999.0     284.000     283.625     283.250   \n",
       "2                 7.7     -9999999.0     281.500     281.250     280.750   \n",
       "3                 7.7     -9999999.0     279.875     279.625     279.125   \n",
       "4                 7.2     -9999999.0     279.625     279.250     278.875   \n",
       "...               ...            ...         ...         ...         ...   \n",
       "20101             3.6     -9999999.0     277.875     277.750     277.625   \n",
       "20102             3.1     -9999999.0     277.875     277.625     277.875   \n",
       "20103             3.6     -9999999.0     281.125     280.625     280.125   \n",
       "20104             3.6     -9999999.0     284.625     284.125     283.625   \n",
       "20105             6.2     -9999999.0     284.250     284.000     283.750   \n",
       "\n",
       "       air_temp_4  ...  windspd_18  winddir_19  windspd_19  winddir_20  \\\n",
       "0             NaN  ...         NaN         NaN         NaN         NaN   \n",
       "1         282.625  ...         5.8       341.0         6.0       334.0   \n",
       "2         280.250  ...         6.8       344.0         5.3       348.0   \n",
       "3         278.625  ...         6.0       345.0         5.5       358.0   \n",
       "4         278.250  ...         3.1       338.0         3.5       354.0   \n",
       "...           ...  ...         ...         ...         ...         ...   \n",
       "20101     277.500  ...        12.1       223.0        11.8       221.0   \n",
       "20102     277.875  ...        10.2       230.0        10.8       230.0   \n",
       "20103     279.625  ...        10.3       218.0        11.9       221.0   \n",
       "20104     283.000  ...         9.4       218.0         8.6       212.0   \n",
       "20105     283.250  ...         8.6       241.0        10.2       236.0   \n",
       "\n",
       "       windspd_20  winddir_21  windspd_21  winddir_22  windspd_22  \\\n",
       "0             NaN         NaN         NaN         NaN         NaN   \n",
       "1             6.1       330.0         6.0       329.0         5.8   \n",
       "2             3.8       360.0         3.2        12.0         3.5   \n",
       "3             5.0        10.0         4.2        38.0         4.0   \n",
       "4             3.9         9.0         4.4        22.0         4.6   \n",
       "...           ...         ...         ...         ...         ...   \n",
       "20101        11.4       219.0        11.3       215.0        11.4   \n",
       "20102        11.6       227.0        12.3       222.0        12.0   \n",
       "20103        12.8       222.0        11.9       225.0        10.6   \n",
       "20104         8.3       218.0         8.7       226.0        10.1   \n",
       "20105        10.5       232.0        10.5       227.0        11.3   \n",
       "\n",
       "       Rotors 1 is true  \n",
       "0                   NaN  \n",
       "1                   NaN  \n",
       "2                   NaN  \n",
       "3                   NaN  \n",
       "4                   NaN  \n",
       "...                 ...  \n",
       "20101               NaN  \n",
       "20102               NaN  \n",
       "20103               NaN  \n",
       "20104               NaN  \n",
       "20105               NaN  \n",
       "\n",
       "[20106 rows x 95 columns]"
      ]
     },
     "execution_count": 12,
     "metadata": {},
     "output_type": "execute_result"
    }
   ],
   "source": [
    "falklands_df"
   ]
  },
  {
   "cell_type": "code",
   "execution_count": 13,
   "id": "2643e469-3c3a-468d-95b1-40df8aedb431",
   "metadata": {},
   "outputs": [
    {
     "data": {
      "text/plain": [
       "Index(['DTG', 'air_temp_obs', 'dewpoint_obs', 'wind_direction_obs',\n",
       "       'wind_speed_obs', 'wind_gust_obs', 'air_temp_1', 'air_temp_2',\n",
       "       'air_temp_3', 'air_temp_4', 'air_temp_5', 'air_temp_6', 'air_temp_7',\n",
       "       'air_temp_8', 'air_temp_9', 'air_temp_10', 'air_temp_11', 'air_temp_12',\n",
       "       'air_temp_13', 'air_temp_14', 'air_temp_15', 'air_temp_16',\n",
       "       'air_temp_17', 'air_temp_18', 'air_temp_19', 'air_temp_20',\n",
       "       'air_temp_21', 'air_temp_22', 'sh_1', 'sh_2', 'sh_3', 'sh_4', 'sh_5',\n",
       "       'sh_6', 'sh_7', 'sh_8', 'sh_9', 'sh_10', 'sh_11', 'sh_12', 'sh_13',\n",
       "       'sh_14', 'sh_15', 'sh_16', 'sh_17', 'sh_18', 'sh_19', 'sh_20', 'sh_21',\n",
       "       'sh_22', 'winddir_1', 'windspd_1', 'winddir_2', 'windspd_2',\n",
       "       'winddir_3', 'windspd_3', 'winddir_4', 'windspd_4', 'winddir_5',\n",
       "       'windspd_5', 'winddir_6', 'windspd_6', 'winddir_7', 'windspd_7',\n",
       "       'winddir_8', 'windspd_8', 'winddir_9', 'windspd_9', 'winddir_10',\n",
       "       'windspd_10', 'winddir_11', 'windspd_11', 'winddir_12', 'windspd_12',\n",
       "       'winddir_13', 'windspd_13', 'winddir_14', 'windspd_14', 'winddir_15',\n",
       "       'windspd_15', 'winddir_16', 'windspd_16', 'winddir_17', 'windspd_17',\n",
       "       'winddir_18', 'windspd_18', 'winddir_19', 'windspd_19', 'winddir_20',\n",
       "       'windspd_20', 'winddir_21', 'windspd_21', 'winddir_22', 'windspd_22',\n",
       "       'Rotors 1 is true'],\n",
       "      dtype='object')"
      ]
     },
     "execution_count": 13,
     "metadata": {},
     "output_type": "execute_result"
    }
   ],
   "source": [
    "falklands_df.columns"
   ]
  },
  {
   "cell_type": "markdown",
   "id": "4d6699d1-6b34-4f2d-a7f6-1fb99699b0b2",
   "metadata": {},
   "source": [
    "### Clean data\n",
    "We perform some initial cleaning of the dataset to make it easier to work with. Ideally this could be done once and saved out for future use."
   ]
  },
  {
   "cell_type": "code",
   "execution_count": 14,
   "id": "2fb3d1b3-6cd7-4ddb-b92b-2256e13cdea5",
   "metadata": {
    "tags": []
   },
   "outputs": [],
   "source": [
    "# rename target variable\n",
    "falklands_df = falklands_df.rename({'Rotors 1 is true': 'rotors_present'},axis=1)"
   ]
  },
  {
   "cell_type": "code",
   "execution_count": 15,
   "id": "0ba6c22a-6f95-4e2f-b0fa-b547d4902428",
   "metadata": {},
   "outputs": [],
   "source": [
    "# In the dataset, NaNs are used to represent that no rotors was observed. This is not good practice, so we are replacing the NaNs with 0's\n",
    "falklands_df.loc[falklands_df[falklands_df['rotors_present'].isna()].index, 'rotors_present'] = 0"
   ]
  },
  {
   "cell_type": "code",
   "execution_count": 16,
   "id": "47f3032b-008c-4664-815e-67c0c5e31cb2",
   "metadata": {},
   "outputs": [],
   "source": [
    "#  Create date and times using the pandas datetime functionality\n",
    "falklands_df['DTG'] = pandas.to_datetime(falklands_df['DTG'])\n",
    "\n",
    "# There are some duplicate dates and times, so we drop those\n",
    "falklands_df = falklands_df.drop_duplicates(subset=['DTG'])\n",
    "\n",
    "# get rid of data points without a date and time\n",
    "falklands_df = falklands_df[~falklands_df['DTG'].isnull()]\n"
   ]
  },
  {
   "cell_type": "code",
   "execution_count": 17,
   "id": "92f3c2e2-cdaf-4122-aa15-9239b08e8fcd",
   "metadata": {},
   "outputs": [],
   "source": [
    "#  subset observation so that wind speed, air temp, wind direction and dewpoints\n",
    "# are all greater than 0  (temperatures are in Kelvin, which must be greater than 0)\n",
    "falklands_df = falklands_df[(falklands_df['wind_speed_obs'] >= 0.0) &\n",
    "                            (falklands_df['air_temp_obs'] >= 0.0) &\n",
    "                            (falklands_df['wind_direction_obs'] >= 0.0) &\n",
    "                            (falklands_df['dewpoint_obs'] >= 0.0) \n",
    "                           ]\n"
   ]
  },
  {
   "cell_type": "code",
   "execution_count": 18,
   "id": "9cb695ec-36a3-4d34-b540-ed9a59b17b4b",
   "metadata": {},
   "outputs": [
    {
     "data": {
      "text/html": [
       "<div>\n",
       "<style scoped>\n",
       "    .dataframe tbody tr th:only-of-type {\n",
       "        vertical-align: middle;\n",
       "    }\n",
       "\n",
       "    .dataframe tbody tr th {\n",
       "        vertical-align: top;\n",
       "    }\n",
       "\n",
       "    .dataframe thead th {\n",
       "        text-align: right;\n",
       "    }\n",
       "</style>\n",
       "<table border=\"1\" class=\"dataframe\">\n",
       "  <thead>\n",
       "    <tr style=\"text-align: right;\">\n",
       "      <th></th>\n",
       "      <th>DTG</th>\n",
       "      <th>air_temp_obs</th>\n",
       "      <th>dewpoint_obs</th>\n",
       "      <th>wind_direction_obs</th>\n",
       "      <th>wind_speed_obs</th>\n",
       "      <th>wind_gust_obs</th>\n",
       "      <th>air_temp_1</th>\n",
       "      <th>air_temp_2</th>\n",
       "      <th>air_temp_3</th>\n",
       "      <th>air_temp_4</th>\n",
       "      <th>...</th>\n",
       "      <th>windspd_18</th>\n",
       "      <th>winddir_19</th>\n",
       "      <th>windspd_19</th>\n",
       "      <th>winddir_20</th>\n",
       "      <th>windspd_20</th>\n",
       "      <th>winddir_21</th>\n",
       "      <th>windspd_21</th>\n",
       "      <th>winddir_22</th>\n",
       "      <th>windspd_22</th>\n",
       "      <th>rotors_present</th>\n",
       "    </tr>\n",
       "  </thead>\n",
       "  <tbody>\n",
       "    <tr>\n",
       "      <th>1</th>\n",
       "      <td>2015-01-01 00:00:00</td>\n",
       "      <td>283.9</td>\n",
       "      <td>280.7</td>\n",
       "      <td>110.0</td>\n",
       "      <td>4.1</td>\n",
       "      <td>-9999999.0</td>\n",
       "      <td>284.000</td>\n",
       "      <td>283.625</td>\n",
       "      <td>283.250</td>\n",
       "      <td>282.625</td>\n",
       "      <td>...</td>\n",
       "      <td>5.8</td>\n",
       "      <td>341.0</td>\n",
       "      <td>6.0</td>\n",
       "      <td>334.0</td>\n",
       "      <td>6.1</td>\n",
       "      <td>330.0</td>\n",
       "      <td>6.0</td>\n",
       "      <td>329.0</td>\n",
       "      <td>5.8</td>\n",
       "      <td>0.0</td>\n",
       "    </tr>\n",
       "    <tr>\n",
       "      <th>2</th>\n",
       "      <td>2015-01-01 03:00:00</td>\n",
       "      <td>280.7</td>\n",
       "      <td>279.7</td>\n",
       "      <td>90.0</td>\n",
       "      <td>7.7</td>\n",
       "      <td>-9999999.0</td>\n",
       "      <td>281.500</td>\n",
       "      <td>281.250</td>\n",
       "      <td>280.750</td>\n",
       "      <td>280.250</td>\n",
       "      <td>...</td>\n",
       "      <td>6.8</td>\n",
       "      <td>344.0</td>\n",
       "      <td>5.3</td>\n",
       "      <td>348.0</td>\n",
       "      <td>3.8</td>\n",
       "      <td>360.0</td>\n",
       "      <td>3.2</td>\n",
       "      <td>12.0</td>\n",
       "      <td>3.5</td>\n",
       "      <td>0.0</td>\n",
       "    </tr>\n",
       "    <tr>\n",
       "      <th>3</th>\n",
       "      <td>2015-01-01 06:00:00</td>\n",
       "      <td>279.8</td>\n",
       "      <td>278.1</td>\n",
       "      <td>100.0</td>\n",
       "      <td>7.7</td>\n",
       "      <td>-9999999.0</td>\n",
       "      <td>279.875</td>\n",
       "      <td>279.625</td>\n",
       "      <td>279.125</td>\n",
       "      <td>278.625</td>\n",
       "      <td>...</td>\n",
       "      <td>6.0</td>\n",
       "      <td>345.0</td>\n",
       "      <td>5.5</td>\n",
       "      <td>358.0</td>\n",
       "      <td>5.0</td>\n",
       "      <td>10.0</td>\n",
       "      <td>4.2</td>\n",
       "      <td>38.0</td>\n",
       "      <td>4.0</td>\n",
       "      <td>0.0</td>\n",
       "    </tr>\n",
       "    <tr>\n",
       "      <th>4</th>\n",
       "      <td>2015-01-01 09:00:00</td>\n",
       "      <td>279.9</td>\n",
       "      <td>277.0</td>\n",
       "      <td>120.0</td>\n",
       "      <td>7.2</td>\n",
       "      <td>-9999999.0</td>\n",
       "      <td>279.625</td>\n",
       "      <td>279.250</td>\n",
       "      <td>278.875</td>\n",
       "      <td>278.250</td>\n",
       "      <td>...</td>\n",
       "      <td>3.1</td>\n",
       "      <td>338.0</td>\n",
       "      <td>3.5</td>\n",
       "      <td>354.0</td>\n",
       "      <td>3.9</td>\n",
       "      <td>9.0</td>\n",
       "      <td>4.4</td>\n",
       "      <td>22.0</td>\n",
       "      <td>4.6</td>\n",
       "      <td>0.0</td>\n",
       "    </tr>\n",
       "    <tr>\n",
       "      <th>5</th>\n",
       "      <td>2015-01-01 12:00:00</td>\n",
       "      <td>279.9</td>\n",
       "      <td>277.4</td>\n",
       "      <td>120.0</td>\n",
       "      <td>8.7</td>\n",
       "      <td>-9999999.0</td>\n",
       "      <td>279.250</td>\n",
       "      <td>278.875</td>\n",
       "      <td>278.375</td>\n",
       "      <td>277.875</td>\n",
       "      <td>...</td>\n",
       "      <td>1.6</td>\n",
       "      <td>273.0</td>\n",
       "      <td>2.0</td>\n",
       "      <td>303.0</td>\n",
       "      <td>2.3</td>\n",
       "      <td>329.0</td>\n",
       "      <td>2.5</td>\n",
       "      <td>338.0</td>\n",
       "      <td>2.4</td>\n",
       "      <td>0.0</td>\n",
       "    </tr>\n",
       "    <tr>\n",
       "      <th>...</th>\n",
       "      <td>...</td>\n",
       "      <td>...</td>\n",
       "      <td>...</td>\n",
       "      <td>...</td>\n",
       "      <td>...</td>\n",
       "      <td>...</td>\n",
       "      <td>...</td>\n",
       "      <td>...</td>\n",
       "      <td>...</td>\n",
       "      <td>...</td>\n",
       "      <td>...</td>\n",
       "      <td>...</td>\n",
       "      <td>...</td>\n",
       "      <td>...</td>\n",
       "      <td>...</td>\n",
       "      <td>...</td>\n",
       "      <td>...</td>\n",
       "      <td>...</td>\n",
       "      <td>...</td>\n",
       "      <td>...</td>\n",
       "      <td>...</td>\n",
       "    </tr>\n",
       "    <tr>\n",
       "      <th>20101</th>\n",
       "      <td>2020-12-31 06:00:00</td>\n",
       "      <td>276.7</td>\n",
       "      <td>275.5</td>\n",
       "      <td>270.0</td>\n",
       "      <td>3.6</td>\n",
       "      <td>-9999999.0</td>\n",
       "      <td>277.875</td>\n",
       "      <td>277.750</td>\n",
       "      <td>277.625</td>\n",
       "      <td>277.500</td>\n",
       "      <td>...</td>\n",
       "      <td>12.1</td>\n",
       "      <td>223.0</td>\n",
       "      <td>11.8</td>\n",
       "      <td>221.0</td>\n",
       "      <td>11.4</td>\n",
       "      <td>219.0</td>\n",
       "      <td>11.3</td>\n",
       "      <td>215.0</td>\n",
       "      <td>11.4</td>\n",
       "      <td>0.0</td>\n",
       "    </tr>\n",
       "    <tr>\n",
       "      <th>20102</th>\n",
       "      <td>2020-12-31 09:00:00</td>\n",
       "      <td>277.9</td>\n",
       "      <td>276.9</td>\n",
       "      <td>270.0</td>\n",
       "      <td>3.1</td>\n",
       "      <td>-9999999.0</td>\n",
       "      <td>277.875</td>\n",
       "      <td>277.625</td>\n",
       "      <td>277.875</td>\n",
       "      <td>277.875</td>\n",
       "      <td>...</td>\n",
       "      <td>10.2</td>\n",
       "      <td>230.0</td>\n",
       "      <td>10.8</td>\n",
       "      <td>230.0</td>\n",
       "      <td>11.6</td>\n",
       "      <td>227.0</td>\n",
       "      <td>12.3</td>\n",
       "      <td>222.0</td>\n",
       "      <td>12.0</td>\n",
       "      <td>0.0</td>\n",
       "    </tr>\n",
       "    <tr>\n",
       "      <th>20103</th>\n",
       "      <td>2020-12-31 12:00:00</td>\n",
       "      <td>283.5</td>\n",
       "      <td>277.1</td>\n",
       "      <td>220.0</td>\n",
       "      <td>3.6</td>\n",
       "      <td>-9999999.0</td>\n",
       "      <td>281.125</td>\n",
       "      <td>280.625</td>\n",
       "      <td>280.125</td>\n",
       "      <td>279.625</td>\n",
       "      <td>...</td>\n",
       "      <td>10.3</td>\n",
       "      <td>218.0</td>\n",
       "      <td>11.9</td>\n",
       "      <td>221.0</td>\n",
       "      <td>12.8</td>\n",
       "      <td>222.0</td>\n",
       "      <td>11.9</td>\n",
       "      <td>225.0</td>\n",
       "      <td>10.6</td>\n",
       "      <td>0.0</td>\n",
       "    </tr>\n",
       "    <tr>\n",
       "      <th>20104</th>\n",
       "      <td>2020-12-31 15:00:00</td>\n",
       "      <td>286.1</td>\n",
       "      <td>276.9</td>\n",
       "      <td>250.0</td>\n",
       "      <td>3.6</td>\n",
       "      <td>-9999999.0</td>\n",
       "      <td>284.625</td>\n",
       "      <td>284.125</td>\n",
       "      <td>283.625</td>\n",
       "      <td>283.000</td>\n",
       "      <td>...</td>\n",
       "      <td>9.4</td>\n",
       "      <td>218.0</td>\n",
       "      <td>8.6</td>\n",
       "      <td>212.0</td>\n",
       "      <td>8.3</td>\n",
       "      <td>218.0</td>\n",
       "      <td>8.7</td>\n",
       "      <td>226.0</td>\n",
       "      <td>10.1</td>\n",
       "      <td>0.0</td>\n",
       "    </tr>\n",
       "    <tr>\n",
       "      <th>20105</th>\n",
       "      <td>2021-01-01 00:00:00</td>\n",
       "      <td>285.1</td>\n",
       "      <td>279.3</td>\n",
       "      <td>300.0</td>\n",
       "      <td>6.2</td>\n",
       "      <td>-9999999.0</td>\n",
       "      <td>284.250</td>\n",
       "      <td>284.000</td>\n",
       "      <td>283.750</td>\n",
       "      <td>283.250</td>\n",
       "      <td>...</td>\n",
       "      <td>8.6</td>\n",
       "      <td>241.0</td>\n",
       "      <td>10.2</td>\n",
       "      <td>236.0</td>\n",
       "      <td>10.5</td>\n",
       "      <td>232.0</td>\n",
       "      <td>10.5</td>\n",
       "      <td>227.0</td>\n",
       "      <td>11.3</td>\n",
       "      <td>0.0</td>\n",
       "    </tr>\n",
       "  </tbody>\n",
       "</table>\n",
       "<p>17486 rows × 95 columns</p>\n",
       "</div>"
      ],
      "text/plain": [
       "                      DTG  air_temp_obs  dewpoint_obs  wind_direction_obs  \\\n",
       "1     2015-01-01 00:00:00         283.9         280.7               110.0   \n",
       "2     2015-01-01 03:00:00         280.7         279.7                90.0   \n",
       "3     2015-01-01 06:00:00         279.8         278.1               100.0   \n",
       "4     2015-01-01 09:00:00         279.9         277.0               120.0   \n",
       "5     2015-01-01 12:00:00         279.9         277.4               120.0   \n",
       "...                   ...           ...           ...                 ...   \n",
       "20101 2020-12-31 06:00:00         276.7         275.5               270.0   \n",
       "20102 2020-12-31 09:00:00         277.9         276.9               270.0   \n",
       "20103 2020-12-31 12:00:00         283.5         277.1               220.0   \n",
       "20104 2020-12-31 15:00:00         286.1         276.9               250.0   \n",
       "20105 2021-01-01 00:00:00         285.1         279.3               300.0   \n",
       "\n",
       "       wind_speed_obs  wind_gust_obs  air_temp_1  air_temp_2  air_temp_3  \\\n",
       "1                 4.1     -9999999.0     284.000     283.625     283.250   \n",
       "2                 7.7     -9999999.0     281.500     281.250     280.750   \n",
       "3                 7.7     -9999999.0     279.875     279.625     279.125   \n",
       "4                 7.2     -9999999.0     279.625     279.250     278.875   \n",
       "5                 8.7     -9999999.0     279.250     278.875     278.375   \n",
       "...               ...            ...         ...         ...         ...   \n",
       "20101             3.6     -9999999.0     277.875     277.750     277.625   \n",
       "20102             3.1     -9999999.0     277.875     277.625     277.875   \n",
       "20103             3.6     -9999999.0     281.125     280.625     280.125   \n",
       "20104             3.6     -9999999.0     284.625     284.125     283.625   \n",
       "20105             6.2     -9999999.0     284.250     284.000     283.750   \n",
       "\n",
       "       air_temp_4  ...  windspd_18  winddir_19  windspd_19  winddir_20  \\\n",
       "1         282.625  ...         5.8       341.0         6.0       334.0   \n",
       "2         280.250  ...         6.8       344.0         5.3       348.0   \n",
       "3         278.625  ...         6.0       345.0         5.5       358.0   \n",
       "4         278.250  ...         3.1       338.0         3.5       354.0   \n",
       "5         277.875  ...         1.6       273.0         2.0       303.0   \n",
       "...           ...  ...         ...         ...         ...         ...   \n",
       "20101     277.500  ...        12.1       223.0        11.8       221.0   \n",
       "20102     277.875  ...        10.2       230.0        10.8       230.0   \n",
       "20103     279.625  ...        10.3       218.0        11.9       221.0   \n",
       "20104     283.000  ...         9.4       218.0         8.6       212.0   \n",
       "20105     283.250  ...         8.6       241.0        10.2       236.0   \n",
       "\n",
       "       windspd_20  winddir_21  windspd_21  winddir_22  windspd_22  \\\n",
       "1             6.1       330.0         6.0       329.0         5.8   \n",
       "2             3.8       360.0         3.2        12.0         3.5   \n",
       "3             5.0        10.0         4.2        38.0         4.0   \n",
       "4             3.9         9.0         4.4        22.0         4.6   \n",
       "5             2.3       329.0         2.5       338.0         2.4   \n",
       "...           ...         ...         ...         ...         ...   \n",
       "20101        11.4       219.0        11.3       215.0        11.4   \n",
       "20102        11.6       227.0        12.3       222.0        12.0   \n",
       "20103        12.8       222.0        11.9       225.0        10.6   \n",
       "20104         8.3       218.0         8.7       226.0        10.1   \n",
       "20105        10.5       232.0        10.5       227.0        11.3   \n",
       "\n",
       "       rotors_present  \n",
       "1                 0.0  \n",
       "2                 0.0  \n",
       "3                 0.0  \n",
       "4                 0.0  \n",
       "5                 0.0  \n",
       "...               ...  \n",
       "20101             0.0  \n",
       "20102             0.0  \n",
       "20103             0.0  \n",
       "20104             0.0  \n",
       "20105             0.0  \n",
       "\n",
       "[17486 rows x 95 columns]"
      ]
     },
     "execution_count": 18,
     "metadata": {},
     "output_type": "execute_result"
    }
   ],
   "source": [
    "falklands_df"
   ]
  },
  {
   "cell_type": "markdown",
   "id": "4012374d-291e-47fd-a56d-ed3d6125d939",
   "metadata": {},
   "source": [
    "## Exploring class imbalance\n",
    "\n",
    "###Class imbalance\n",
    "\n",
    "Our target variables is the *rotors* column, labelling whether or not one or more rotors occured in a given 3 hour period."
   ]
  },
  {
   "cell_type": "code",
   "execution_count": 19,
   "id": "8872aba2-5442-40dc-8513-1bbf8baa7e42",
   "metadata": {},
   "outputs": [
    {
     "data": {
      "text/plain": [
       "0.0    17037\n",
       "1.0      449\n",
       "Name: rotors_present, dtype: int64"
      ]
     },
     "execution_count": 19,
     "metadata": {},
     "output_type": "execute_result"
    }
   ],
   "source": [
    "falklands_df['rotors_present'].value_counts()"
   ]
  },
  {
   "cell_type": "markdown",
   "id": "d121cb54-cad1-4213-b68a-ccce047b82a4",
   "metadata": {},
   "source": [
    "We see that this is an imbalanced classification problem. As a result we will have to consider carefully how to take this into account in our ML pipeline. This is because if we don't  the classifier will get a good score by never predicting rotors,  in this particular problem an accuracy of greater than 97% is achieved by this approach.  This is of course not a useful result for this problem based on what we want to achieve. Some of the ways we can take the class imbalance into account include: \n",
    "\n",
    "* *train/test split* - Ensure the distribution between classes in the train, validation and test sets is close to the distribution for the whole dataset, and also that this distribution is representative of the real-world problem.\n",
    "* *possible resampling strategies* - One can resample/undersample/oversample training data so the algorithm is presented with balanced training data\n",
    "* *classification metrics* - Ensure that the metric represents the business need and actual costs of making one prediction or another. In this, failing to predict a rotor event that occurs is very costly and should be penalised by the metric we use, where as predicting a rotor event that does not occur (false positive) is still ndesriable, but less costly so should be less penalised by our algorithm.\n",
    "\n"
   ]
  },
  {
   "cell_type": "code",
   "execution_count": 20,
   "id": "7a9355b9-3143-43a7-8de5-bdcd8b4a3953",
   "metadata": {},
   "outputs": [
    {
     "data": {
      "text/plain": [
       "Index(['DTG', 'air_temp_obs', 'dewpoint_obs', 'wind_direction_obs',\n",
       "       'wind_speed_obs', 'wind_gust_obs', 'air_temp_1', 'air_temp_2',\n",
       "       'air_temp_3', 'air_temp_4', 'air_temp_5', 'air_temp_6', 'air_temp_7',\n",
       "       'air_temp_8', 'air_temp_9', 'air_temp_10', 'air_temp_11', 'air_temp_12',\n",
       "       'air_temp_13', 'air_temp_14', 'air_temp_15', 'air_temp_16',\n",
       "       'air_temp_17', 'air_temp_18', 'air_temp_19', 'air_temp_20',\n",
       "       'air_temp_21', 'air_temp_22', 'sh_1', 'sh_2', 'sh_3', 'sh_4', 'sh_5',\n",
       "       'sh_6', 'sh_7', 'sh_8', 'sh_9', 'sh_10', 'sh_11', 'sh_12', 'sh_13',\n",
       "       'sh_14', 'sh_15', 'sh_16', 'sh_17', 'sh_18', 'sh_19', 'sh_20', 'sh_21',\n",
       "       'sh_22', 'winddir_1', 'windspd_1', 'winddir_2', 'windspd_2',\n",
       "       'winddir_3', 'windspd_3', 'winddir_4', 'windspd_4', 'winddir_5',\n",
       "       'windspd_5', 'winddir_6', 'windspd_6', 'winddir_7', 'windspd_7',\n",
       "       'winddir_8', 'windspd_8', 'winddir_9', 'windspd_9', 'winddir_10',\n",
       "       'windspd_10', 'winddir_11', 'windspd_11', 'winddir_12', 'windspd_12',\n",
       "       'winddir_13', 'windspd_13', 'winddir_14', 'windspd_14', 'winddir_15',\n",
       "       'windspd_15', 'winddir_16', 'windspd_16', 'winddir_17', 'windspd_17',\n",
       "       'winddir_18', 'windspd_18', 'winddir_19', 'windspd_19', 'winddir_20',\n",
       "       'windspd_20', 'winddir_21', 'windspd_21', 'winddir_22', 'windspd_22',\n",
       "       'rotors_present'],\n",
       "      dtype='object')"
      ]
     },
     "execution_count": 20,
     "metadata": {},
     "output_type": "execute_result"
    }
   ],
   "source": [
    "falklands_df.columns"
   ]
  },
  {
   "cell_type": "markdown",
   "id": "32ecb5ed-b32e-4500-a4d9-597788f232b0",
   "metadata": {},
   "source": [
    "Above we see the forecast variables from the Met Office Global Forecast model, which we want to use an input to our algorithm. We see there are 4 variables, each on 22 height levels, including\n",
    "* temperature\n",
    "* specific humidity\n",
    "* wind speed\n",
    "* wind direction"
   ]
  },
  {
   "cell_type": "markdown",
   "id": "13b01037-db7e-4965-be42-026fe3e1af55",
   "metadata": {},
   "source": [
    "Next we split into two groups, to see how the distribution of input variables differs for times with and without rotors."
   ]
  },
  {
   "cell_type": "code",
   "execution_count": 21,
   "id": "5245c7a1-f6b8-4cb0-b7ec-9dbf64f9d7f2",
   "metadata": {},
   "outputs": [],
   "source": [
    "# create a rotors and no rotors dataframe\n",
    "no_rotors_df = falklands_df[falklands_df['rotors_present'] ==False]\n",
    "rotors_present_df = falklands_df[falklands_df['rotors_present'] == True]"
   ]
  },
  {
   "cell_type": "code",
   "execution_count": 22,
   "id": "8a380eb0-4467-4aec-bd94-4fff8093f157",
   "metadata": {},
   "outputs": [
    {
     "data": {
      "text/plain": [
       "(17037, 95)"
      ]
     },
     "execution_count": 22,
     "metadata": {},
     "output_type": "execute_result"
    }
   ],
   "source": [
    "no_rotors_df.shape"
   ]
  },
  {
   "cell_type": "code",
   "execution_count": 23,
   "id": "9c7a73b9-0067-45c4-b6ea-1bb6c35c0a1b",
   "metadata": {},
   "outputs": [
    {
     "data": {
      "text/plain": [
       "(449, 95)"
      ]
     },
     "execution_count": 23,
     "metadata": {},
     "output_type": "execute_result"
    }
   ],
   "source": [
    "rotors_present_df.shape"
   ]
  },
  {
   "cell_type": "markdown",
   "id": "649cfa28-a4eb-4c63-81c0-e1197ffc6200",
   "metadata": {},
   "source": [
    "### Distribution of meteorological variables\n",
    "\n",
    "We start by looking at the distributions of surface observations"
   ]
  },
  {
   "cell_type": "code",
   "execution_count": 24,
   "id": "87ce6744-b5f5-471a-843c-ff1f786eef65",
   "metadata": {},
   "outputs": [
    {
     "data": {
      "text/plain": [
       "(0.0, 3500.0)"
      ]
     },
     "execution_count": 24,
     "metadata": {},
     "output_type": "execute_result"
    },
    {
     "data": {
      "image/png": "[encoded data removed]",
      "text/plain": [
       "<Figure size 1152x576 with 2 Axes>"
      ]
     },
     "metadata": {
      "needs_background": "light"
     },
     "output_type": "display_data"
    }
   ],
   "source": [
    "fig1 = matplotlib.pyplot.figure('distribution_wind_spevalue_countsirection', figsize=(16,8))\n",
    "ax1 = fig1.add_subplot(1,2,1,title='distribution of observed wind speeds')\n",
    "falklands_df['wind_speed_obs'].plot.hist(ax=ax1,bins=20)\n",
    "ax1.set_xlabel('windspeed in m/s-1',)\n",
    "ax1.set_ylim((0,3500))\n",
    "ax1 = fig1.add_subplot(1,2,2,title='distribution of observed wind directions')\n",
    "falklands_df['wind_direction_obs'].plot.hist(ax=ax1,bins=20)\n",
    "ax1.set_xlabel('wind direction',)\n",
    "ax1.set_ylim((0,3500))"
   ]
  },
  {
   "cell_type": "code",
   "execution_count": 25,
   "id": "0a4f1180-69d2-4c0e-856d-ae751f00464f",
   "metadata": {},
   "outputs": [
    {
     "data": {
      "text/plain": [
       "(0.0, 3500.0)"
      ]
     },
     "execution_count": 25,
     "metadata": {},
     "output_type": "execute_result"
    },
    {
     "data": {
      "image/png": "[encoded data removed]",
      "text/plain": [
       "<Figure size 1152x576 with 2 Axes>"
      ]
     },
     "metadata": {
      "needs_background": "light"
     },
     "output_type": "display_data"
    }
   ],
   "source": [
    "fig1 = matplotlib.pyplot.figure('distribution_temp_dewpoint', figsize=(16,8))\n",
    "ax1 = fig1.add_subplot(1,2,1,title='distribution of observed air temperatures')\n",
    "falklands_df['air_temp_obs'].plot.hist(ax=ax1,bins=20)\n",
    "ax1.set_xlabel('air temperature (K)',)\n",
    "ax1.set_ylim((0,3500))\n",
    "ax1 = fig1.add_subplot(1,2,2,title='distribution of observed dew point temperatures')\n",
    "falklands_df['dewpoint_obs'].plot.hist(ax=ax1,bins=20)\n",
    "ax1.set_xlabel('dew point temperature (K)',)\n",
    "ax1.set_ylim((0,3500))"
   ]
  },
  {
   "cell_type": "markdown",
   "id": "e6d6a3bc-7fb1-47bb-9f49-c52eca161c94",
   "metadata": {},
   "source": [
    "### Distribution of meteorological variables in relation to rotors\n",
    "\n",
    "Now compare for rotors present/absent"
   ]
  },
  {
   "cell_type": "code",
   "execution_count": 26,
   "id": "9cfc7721-7260-4462-bf4f-27e699a59f02",
   "metadata": {},
   "outputs": [
    {
     "name": "stdout",
     "output_type": "stream",
     "text": [
      "['air_temp_obs', 'dewpoint_obs', 'wind_direction_obs', 'wind_speed_obs']\n"
     ]
    },
    {
     "data": {
      "image/png": "[encoded data removed]",
      "text/plain": [
       "<Figure size 1152x1728 with 8 Axes>"
      ]
     },
     "metadata": {
      "needs_background": "light"
     },
     "output_type": "display_data"
    }
   ],
   "source": [
    "vars_to_plot = ['air_temp_obs', 'dewpoint_obs', 'wind_direction_obs', 'wind_speed_obs',]\n",
    "print(vars_to_plot)\n",
    "fig1 = matplotlib.pyplot.figure('comparing rota events',figsize=(16,6*len(vars_to_plot)))\n",
    "for ix1, var_name in enumerate(vars_to_plot):\n",
    "    ax1 = fig1.add_subplot(len(vars_to_plot),2,ix1*2+1, title=f'{var_name} histogram for no rotors')\n",
    "    no_rotors_df[var_name].hist(bins=20,ax=ax1)\n",
    "    ax1 = fig1.add_subplot(len(vars_to_plot),2,ix1*2+2, title=f'{var_name} histogram for rotors')\n",
    "    rotors_present_df[var_name].hist(bins=20,ax=ax1)"
   ]
  },
  {
   "cell_type": "markdown",
   "id": "79428b80-ba0e-4a42-a76f-acfcb9592ff5",
   "metadata": {},
   "source": [
    "The above diagrams already show some differences for conditions at the surface when a rotor is observed compared to when it is not.  Most obvious is the wind direction , where rotors are found mostly in northerly winds, as is already known. Other surface variables show smaller differences."
   ]
  },
  {
   "cell_type": "markdown",
   "id": "b558c455-e830-41e5-a5c9-e5d2c703464e",
   "metadata": {},
   "source": [
    "### Temporal occurence of observations\n",
    "\n",
    "We might also be interested in the link between occurences frequency at different times of day or in different seasons. The plots below show a small peak in the middle of the day (which may due to observation bias), but no other obviously exploitable patterns in the data."
   ]
  },
  {
   "cell_type": "code",
   "execution_count": 27,
   "id": "9d02ad7d-33f6-40b6-be26-3607a2f25b16",
   "metadata": {},
   "outputs": [
    {
     "data": {
      "text/plain": [
       "Text(0.5, 0, 'hour of the day')"
      ]
     },
     "execution_count": 27,
     "metadata": {},
     "output_type": "execute_result"
    },
    {
     "data": {
      "image/png": "[encoded data removed]",
      "text/plain": [
       "<Figure size 1152x1152 with 4 Axes>"
      ]
     },
     "metadata": {
      "needs_background": "light"
     },
     "output_type": "display_data"
    }
   ],
   "source": [
    "fig1 = matplotlib.pyplot.figure('time of year',figsize=(16,16))\n",
    "# Monthly plots - no rotors\n",
    "ax1 = fig1.add_subplot(2,2,1, title='number of periods without rotors by month') \n",
    "no_rotors_df.groupby([ no_rotors_df['DTG'].apply(lambda x: x.month)])['DTG'].count().plot.bar( ax=ax1)\n",
    "ax1.set_xlabel('month of the year')\n",
    "\n",
    "# Monthly plots - rotors\n",
    "ax1 = fig1.add_subplot(2,2,2, title='number of periods with rotors by month') \n",
    "rotors_present_df.groupby([ rotors_present_df['DTG'].apply(lambda x: x.month)])['DTG'].count().plot.bar(ax=ax1)\n",
    "ax1.set_xlabel('month of the year')\n",
    "\n",
    "# Hour of the day plots - no rotors\n",
    "ax1 = fig1.add_subplot(2,2,3, title='number of periods without rotors by hour of the day') \n",
    "no_rotors_df.groupby([ no_rotors_df['DTG'].apply(lambda x: x.hour)])['DTG'].count().plot.bar( ax=ax1)\n",
    "ax1.set_xlabel('hour of the day')\n",
    "\n",
    "# Hour of the day plots - with rotors\n",
    "ax1 = fig1.add_subplot(2,2,4, title='number of periods without rotors by hour of the day') \n",
    "rotors_present_df.groupby([ rotors_present_df['DTG'].apply(lambda x: x.hour)])['DTG'].count().plot.bar(ax=ax1)\n",
    "ax1.set_xlabel('hour of the day')"
   ]
  },
  {
   "cell_type": "code",
   "execution_count": 28,
   "id": "ae7a2943-7f53-4b9c-90b4-3ca630227312",
   "metadata": {},
   "outputs": [],
   "source": [
    "features_dict = {\n",
    "    'air_temp': [c1 for c1 in falklands_df.columns if 'air_temp' in c1 and 'obs' not in c1],\n",
    "    'dewpoint': [c1 for c1 in falklands_df.columns if 'sh' in c1 and 'obs' not in c1],\n",
    "    'wind_speed': [c1 for c1 in falklands_df.columns if 'windspd' in c1 and 'obs' not in c1],\n",
    "    'wind_dir': [c1 for c1 in falklands_df.columns if 'winddir' in c1 and 'obs' not in c1],\n",
    "}"
   ]
  },
  {
   "cell_type": "code",
   "execution_count": 29,
   "id": "94a527e9-d168-4329-a5ee-85019dc6ddde",
   "metadata": {},
   "outputs": [
    {
     "data": {
      "image/png": "[encoded data removed]",
      "text/plain": [
       "<Figure size 1152x2304 with 12 Axes>"
      ]
     },
     "metadata": {
      "needs_background": "light"
     },
     "output_type": "display_data"
    }
   ],
   "source": [
    "num_vars = len(features_dict.keys())\n",
    "num_plots = 3\n",
    "fig1 = matplotlib.pyplot.figure(figsize=(16,8*num_vars))\n",
    "for ix1, (feature_name, fl1) in enumerate(features_dict.items()):\n",
    "    ax1 = fig1.add_subplot(num_vars,num_plots,ix1*num_plots+1, title=f'average {feature_name} with height for no rotors periods')\n",
    "    no_rotors_df[fl1].mean().plot.bar(ax=ax1)\n",
    "    ax1 = fig1.add_subplot(num_vars,num_plots,ix1*num_plots+2, title=f'average {feature_name} with height for rotors reported')\n",
    "    rotors_present_df[fl1].mean().plot.bar(ax=ax1)\n",
    "    ax1 = fig1.add_subplot(num_vars,num_plots,ix1*num_plots+3, title=f'difference in {feature_name} with height for rotors reported compared to no rotors')\n",
    "    (rotors_present_df[fl1].mean() - no_rotors_df[fl1].mean() ).plot.bar(ax=ax1)"
   ]
  },
  {
   "cell_type": "markdown",
   "id": "ed0de52c-532e-4bc9-8f01-69c89d019c13",
   "metadata": {},
   "source": [
    "Next up we want to explore the relationship between the forecast data and the observations."
   ]
  },
  {
   "cell_type": "markdown",
   "id": "94271903-b87e-4d7d-b67a-206630f23433",
   "metadata": {},
   "source": [
    "### Comparison with human performance\n",
    "\n",
    "This dataset also has some data contyaining the prediction made by human OpMets ahead of time. This is the baseline that we would need to match or improve upon for the algorithm to be useful."
   ]
  },
  {
   "cell_type": "code",
   "execution_count": 30,
   "id": "0df0adb1-5b8e-4cee-bc62-94b1ab7baf6d",
   "metadata": {},
   "outputs": [
    {
     "data": {
      "text/plain": [
       "PosixPath('/project/informatics_lab/data_science_cop/ML_challenges/2021_opmet_challenge/Rotors/rotors_opmet_performance_2016_2021.csv')"
      ]
     },
     "execution_count": 30,
     "metadata": {},
     "output_type": "execute_result"
    }
   ],
   "source": [
    "opmet_results_path = falklands_data_dir / 'rotors_opmet_performance_2016_2021.csv'\n",
    "opmet_results_path"
   ]
  },
  {
   "cell_type": "code",
   "execution_count": 31,
   "id": "33fba922-9f72-4a3d-9cd6-14100965946f",
   "metadata": {},
   "outputs": [],
   "source": [
    "opmet_predictions_df = pandas.read_csv(opmet_results_path)"
   ]
  },
  {
   "cell_type": "code",
   "execution_count": 32,
   "id": "56510f49-b9a7-42a7-8724-9c6d382bd6b3",
   "metadata": {},
   "outputs": [],
   "source": [
    "opmet_predictions_df.loc[opmet_predictions_df[opmet_predictions_df.observation.isna()].index,'observation'] = 0.0\n",
    "opmet_predictions_df.loc[opmet_predictions_df[opmet_predictions_df['opmet_forecast'].isna()].index,'opmet_forecast'] = 0.0\n",
    "opmet_predictions_df['DTG'] = pandas.to_datetime(opmet_predictions_df['DTG'])\n"
   ]
  },
  {
   "cell_type": "code",
   "execution_count": 33,
   "id": "cf845855-a8f0-4477-aa81-140b8c7bbffa",
   "metadata": {},
   "outputs": [
    {
     "data": {
      "text/html": [
       "<div>\n",
       "<style scoped>\n",
       "    .dataframe tbody tr th:only-of-type {\n",
       "        vertical-align: middle;\n",
       "    }\n",
       "\n",
       "    .dataframe tbody tr th {\n",
       "        vertical-align: top;\n",
       "    }\n",
       "\n",
       "    .dataframe thead th {\n",
       "        text-align: right;\n",
       "    }\n",
       "</style>\n",
       "<table border=\"1\" class=\"dataframe\">\n",
       "  <thead>\n",
       "    <tr style=\"text-align: right;\">\n",
       "      <th></th>\n",
       "      <th>DTG</th>\n",
       "      <th>observation</th>\n",
       "      <th>opmet_forecast</th>\n",
       "      <th>Hit</th>\n",
       "      <th>False Positive</th>\n",
       "      <th>True Negative</th>\n",
       "      <th>Miss</th>\n",
       "    </tr>\n",
       "  </thead>\n",
       "  <tbody>\n",
       "    <tr>\n",
       "      <th>0</th>\n",
       "      <td>2016-09-19 00:00:00</td>\n",
       "      <td>0.0</td>\n",
       "      <td>0.0</td>\n",
       "      <td>False</td>\n",
       "      <td>False</td>\n",
       "      <td>True</td>\n",
       "      <td>False</td>\n",
       "    </tr>\n",
       "    <tr>\n",
       "      <th>1</th>\n",
       "      <td>2016-09-19 01:00:00</td>\n",
       "      <td>0.0</td>\n",
       "      <td>0.0</td>\n",
       "      <td>False</td>\n",
       "      <td>False</td>\n",
       "      <td>True</td>\n",
       "      <td>False</td>\n",
       "    </tr>\n",
       "    <tr>\n",
       "      <th>2</th>\n",
       "      <td>2016-09-19 02:00:00</td>\n",
       "      <td>0.0</td>\n",
       "      <td>0.0</td>\n",
       "      <td>False</td>\n",
       "      <td>False</td>\n",
       "      <td>True</td>\n",
       "      <td>False</td>\n",
       "    </tr>\n",
       "    <tr>\n",
       "      <th>3</th>\n",
       "      <td>2016-09-19 03:00:00</td>\n",
       "      <td>0.0</td>\n",
       "      <td>0.0</td>\n",
       "      <td>False</td>\n",
       "      <td>False</td>\n",
       "      <td>True</td>\n",
       "      <td>False</td>\n",
       "    </tr>\n",
       "    <tr>\n",
       "      <th>4</th>\n",
       "      <td>2016-09-19 04:00:00</td>\n",
       "      <td>0.0</td>\n",
       "      <td>0.0</td>\n",
       "      <td>False</td>\n",
       "      <td>False</td>\n",
       "      <td>True</td>\n",
       "      <td>False</td>\n",
       "    </tr>\n",
       "    <tr>\n",
       "      <th>...</th>\n",
       "      <td>...</td>\n",
       "      <td>...</td>\n",
       "      <td>...</td>\n",
       "      <td>...</td>\n",
       "      <td>...</td>\n",
       "      <td>...</td>\n",
       "      <td>...</td>\n",
       "    </tr>\n",
       "    <tr>\n",
       "      <th>38971</th>\n",
       "      <td>2021-02-28 19:00:00</td>\n",
       "      <td>0.0</td>\n",
       "      <td>1.0</td>\n",
       "      <td>False</td>\n",
       "      <td>True</td>\n",
       "      <td>False</td>\n",
       "      <td>False</td>\n",
       "    </tr>\n",
       "    <tr>\n",
       "      <th>38972</th>\n",
       "      <td>2021-02-28 20:00:00</td>\n",
       "      <td>0.0</td>\n",
       "      <td>1.0</td>\n",
       "      <td>False</td>\n",
       "      <td>True</td>\n",
       "      <td>False</td>\n",
       "      <td>False</td>\n",
       "    </tr>\n",
       "    <tr>\n",
       "      <th>38973</th>\n",
       "      <td>2021-02-28 21:00:00</td>\n",
       "      <td>0.0</td>\n",
       "      <td>0.0</td>\n",
       "      <td>False</td>\n",
       "      <td>False</td>\n",
       "      <td>True</td>\n",
       "      <td>False</td>\n",
       "    </tr>\n",
       "    <tr>\n",
       "      <th>38974</th>\n",
       "      <td>2021-02-28 22:00:00</td>\n",
       "      <td>0.0</td>\n",
       "      <td>0.0</td>\n",
       "      <td>False</td>\n",
       "      <td>False</td>\n",
       "      <td>True</td>\n",
       "      <td>False</td>\n",
       "    </tr>\n",
       "    <tr>\n",
       "      <th>38975</th>\n",
       "      <td>2021-02-28 23:00:00</td>\n",
       "      <td>0.0</td>\n",
       "      <td>0.0</td>\n",
       "      <td>False</td>\n",
       "      <td>False</td>\n",
       "      <td>True</td>\n",
       "      <td>False</td>\n",
       "    </tr>\n",
       "  </tbody>\n",
       "</table>\n",
       "<p>38976 rows × 7 columns</p>\n",
       "</div>"
      ],
      "text/plain": [
       "                      DTG  observation  opmet_forecast    Hit  False Positive  \\\n",
       "0     2016-09-19 00:00:00          0.0             0.0  False           False   \n",
       "1     2016-09-19 01:00:00          0.0             0.0  False           False   \n",
       "2     2016-09-19 02:00:00          0.0             0.0  False           False   \n",
       "3     2016-09-19 03:00:00          0.0             0.0  False           False   \n",
       "4     2016-09-19 04:00:00          0.0             0.0  False           False   \n",
       "...                   ...          ...             ...    ...             ...   \n",
       "38971 2021-02-28 19:00:00          0.0             1.0  False            True   \n",
       "38972 2021-02-28 20:00:00          0.0             1.0  False            True   \n",
       "38973 2021-02-28 21:00:00          0.0             0.0  False           False   \n",
       "38974 2021-02-28 22:00:00          0.0             0.0  False           False   \n",
       "38975 2021-02-28 23:00:00          0.0             0.0  False           False   \n",
       "\n",
       "       True Negative   Miss  \n",
       "0               True  False  \n",
       "1               True  False  \n",
       "2               True  False  \n",
       "3               True  False  \n",
       "4               True  False  \n",
       "...              ...    ...  \n",
       "38971          False  False  \n",
       "38972          False  False  \n",
       "38973           True  False  \n",
       "38974           True  False  \n",
       "38975           True  False  \n",
       "\n",
       "[38976 rows x 7 columns]"
      ]
     },
     "execution_count": 33,
     "metadata": {},
     "output_type": "execute_result"
    }
   ],
   "source": [
    "opmet_predictions_df"
   ]
  },
  {
   "cell_type": "code",
   "execution_count": 34,
   "id": "5f44cd2b-8e78-4202-adc3-6ca04de34f80",
   "metadata": {},
   "outputs": [
    {
     "data": {
      "text/plain": [
       "0.0    37726\n",
       "1.0     1250\n",
       "Name: observation, dtype: int64"
      ]
     },
     "execution_count": 34,
     "metadata": {},
     "output_type": "execute_result"
    }
   ],
   "source": [
    "opmet_predictions_df['observation'].value_counts()"
   ]
  },
  {
   "cell_type": "code",
   "execution_count": 35,
   "id": "7b410f2c-9fe8-4e83-a148-93d43fd6fcfd",
   "metadata": {},
   "outputs": [
    {
     "data": {
      "text/plain": [
       "0.0     33551\n",
       "1.0      5424\n",
       "11.0        1\n",
       "Name: opmet_forecast, dtype: int64"
      ]
     },
     "execution_count": 35,
     "metadata": {},
     "output_type": "execute_result"
    }
   ],
   "source": [
    "opmet_predictions_df['opmet_forecast'].value_counts()"
   ]
  },
  {
   "cell_type": "code",
   "execution_count": 36,
   "id": "a84acc0b-8d11-4657-9c35-dd86f7082e3a",
   "metadata": {},
   "outputs": [],
   "source": [
    "opmet_predictions_df['truePositive'] = ((opmet_predictions_df['observation'] == 1 ) & (opmet_predictions_df['opmet_forecast'] ==1))\n",
    "opmet_predictions_df['falsePositive']  = ((opmet_predictions_df['observation'] == 0 ) & (opmet_predictions_df['opmet_forecast'] ==1))\n",
    "opmet_predictions_df['trueNegative'] = ((opmet_predictions_df['observation'] == 0 ) & (opmet_predictions_df['opmet_forecast'] ==0))\n",
    "opmet_predictions_df['falseNegative']  = ((opmet_predictions_df['observation'] == 1 ) & (opmet_predictions_df['opmet_forecast'] ==0))"
   ]
  },
  {
   "cell_type": "code",
   "execution_count": 37,
   "id": "add0e52f-b894-464f-b101-d8e015a65e54",
   "metadata": {},
   "outputs": [],
   "source": [
    "opmet_predictions_df['result_category'] = 'trueNegative'\n",
    "opmet_predictions_df.loc[opmet_predictions_df[opmet_predictions_df['falseNegative']==True].index,'result_category'] = 'falseNegative'\n",
    "opmet_predictions_df.loc[opmet_predictions_df[opmet_predictions_df['falsePositive']==True].index,'result_category'] = 'falsePositive'\n",
    "opmet_predictions_df.loc[opmet_predictions_df[opmet_predictions_df['truePositive']==True].index,'result_category'] = 'truePositive'"
   ]
  },
  {
   "cell_type": "code",
   "execution_count": 38,
   "id": "abd91668-6ee8-4647-99dd-65ba3a31b8ff",
   "metadata": {},
   "outputs": [
    {
     "data": {
      "text/plain": [
       "<AxesSubplot:title={'center':'true/false positive/negative proportions'}, ylabel='result_category'>"
      ]
     },
     "execution_count": 38,
     "metadata": {},
     "output_type": "execute_result"
    },
    {
     "data": {
      "image/png": "[encoded data removed]",
      "text/plain": [
       "<Figure size 1296x432 with 3 Axes>"
      ]
     },
     "metadata": {},
     "output_type": "display_data"
    }
   ],
   "source": [
    "fig1 = matplotlib.pyplot.figure('comparisonn of hits/isses/etc.')\n",
    "ax1 = fig1.add_subplot(1,3,1,title='rotor events')\n",
    "opmet_predictions_df['observation'].value_counts().plot.pie(figsize=(18,6))\n",
    "ax1 = fig1.add_subplot(1,3,2,title='opmet forecasts')\n",
    "opmet_predictions_df['opmet_forecast'].value_counts().plot.pie(figsize=(18,6))\n",
    "ax1 = fig1.add_subplot(1,3,3,title='true/false positive/negative proportions')\n",
    "opmet_predictions_df['result_category'].value_counts().plot.pie(figsize=(18,6))"
   ]
  },
  {
   "cell_type": "markdown",
   "id": "5c6a0c4e-c69b-47fc-a345-86de0ad21330",
   "metadata": {},
   "source": [
    "Exploration of this data shows us that OpMets routinely overpredict rotor events. This is what you would expect, as the cost of missing a rotor event (false negative) is much higher than the cost of predicting an event and it not happening (false positive). So the challenge for our ML algorithm is to eliminate false neagtives while maintaining an acceptably low false positive rate so as to maintain trust in forecast output."
   ]
  },
  {
   "cell_type": "markdown",
   "id": "3d02b966-a8df-4428-841a-6ba6c5ae736b",
   "metadata": {},
   "source": [
    "## Dataset 2 - ERA5 Reanalsysis\n",
    "\n",
    "ERA5 is Renanlysis data created by ECMWF. Reanalysis combines observations from many sources. by assimilating these into a forecast model (ECMWF's IFS in this case), to provide a consistent physically valid gridded dataset that is a close to observations as possible. The dataset consists of many different variables representing different physical values (e.g. temperature, wind, pressure). In this case we are going to use just one, **Mean Sea Level Pressure (MSLP)**, which will characterise the large scale *weather pattern*. We can then group similar pattern by consider all the values in the 2D array as a *feature vector* describing the pattern, and clustering those that are close in featue space.\n",
    "\n",
    "![Example of ERA5 data](https://datastore.copernicus-climate.eu/c3s/published-forms-v2/c3sprod/reanalysis-era5-single-levels/overview.jpg)\n",
    "\n",
    "https://www.ecmwf.int/en/forecasts/datasets/reanalysis-datasets/era5"
   ]
  },
  {
   "cell_type": "markdown",
   "id": "f5caf666-d707-4f6a-a180-f32f70ff4ba8",
   "metadata": {},
   "source": [
    "## Load and explore gridded model data - ERA5"
   ]
  },
  {
   "cell_type": "code",
   "execution_count": 39,
   "id": "0dff5256-4704-4f44-9ee1-b7b985fcdd4c",
   "metadata": {},
   "outputs": [
    {
     "name": "stdout",
     "output_type": "stream",
     "text": [
      "/project/informatics_lab/data_science_cop/era5\n"
     ]
    }
   ],
   "source": [
    "try:\n",
    "    era5_root = os.environ['ML_TUTORIAL_DIR']\n",
    "except KeyError:\n",
    "    era5_root = '/project/informatics_lab/data_science_cop/era5/'\n",
    "era5_data_dir = pathlib.Path(era5_root) \n",
    "print(era5_data_dir)"
   ]
  },
  {
   "cell_type": "markdown",
   "id": "6b1b1eef-17d0-48bb-9a55-84c73980fe81",
   "metadata": {},
   "source": [
    "### Prepare the raw data\n",
    "\n",
    "For this example, you need to either download the summary file as described in the set up page on the wiki (recommended), or load the \"raw\" data files from an AWS S3 nucket. The bucket is publicly available, but you need to be signed in with an AWS ID to be able to access it.\n",
    "\n",
    "https://drive.google.com/file/d/10HhCp0unrTBc-ynnu348umZ5ndbfRXyX/view?usp=sharing\n",
    "AWS S3 bucket - original data files https://registry.opendata.aws/ecmwf-era5/\n",
    "\n",
    "The next few cells show how to prepare the summary file from the raw data for interest, you can rather  ignore and move on to loading the file as downloading the raw data can be time consuming and not especially important for the purposes of this tutorial."
   ]
  },
  {
   "cell_type": "code",
   "execution_count": 40,
   "id": "27660aaa-8eb6-4169-8f95-649b02615f59",
   "metadata": {},
   "outputs": [
    {
     "data": {
      "text/plain": [
       "['/project/informatics_lab/data_science_cop/era5/air_pressure_mean_sea_level_2017_01.nc',\n",
       " '/project/informatics_lab/data_science_cop/era5/air_pressure_mean_sea_level_2017_02.nc',\n",
       " '/project/informatics_lab/data_science_cop/era5/air_pressure_mean_sea_level_2017_03.nc',\n",
       " '/project/informatics_lab/data_science_cop/era5/air_pressure_mean_sea_level_2017_04.nc',\n",
       " '/project/informatics_lab/data_science_cop/era5/air_pressure_mean_sea_level_2017_05.nc',\n",
       " '/project/informatics_lab/data_science_cop/era5/air_pressure_mean_sea_level_2017_06.nc',\n",
       " '/project/informatics_lab/data_science_cop/era5/air_pressure_mean_sea_level_2017_07.nc',\n",
       " '/project/informatics_lab/data_science_cop/era5/air_pressure_mean_sea_level_2017_08.nc',\n",
       " '/project/informatics_lab/data_science_cop/era5/air_pressure_mean_sea_level_2017_09.nc',\n",
       " '/project/informatics_lab/data_science_cop/era5/air_pressure_mean_sea_level_2017_10.nc',\n",
       " '/project/informatics_lab/data_science_cop/era5/air_pressure_mean_sea_level_2017_11.nc',\n",
       " '/project/informatics_lab/data_science_cop/era5/air_pressure_mean_sea_level_2017_12.nc',\n",
       " '/project/informatics_lab/data_science_cop/era5/air_pressure_mean_sea_level_2018_01.nc',\n",
       " '/project/informatics_lab/data_science_cop/era5/air_pressure_mean_sea_level_2018_02.nc',\n",
       " '/project/informatics_lab/data_science_cop/era5/air_pressure_mean_sea_level_2018_03.nc',\n",
       " '/project/informatics_lab/data_science_cop/era5/air_pressure_mean_sea_level_2018_04.nc',\n",
       " '/project/informatics_lab/data_science_cop/era5/air_pressure_mean_sea_level_2018_05.nc',\n",
       " '/project/informatics_lab/data_science_cop/era5/air_pressure_mean_sea_level_2018_06.nc',\n",
       " '/project/informatics_lab/data_science_cop/era5/air_pressure_mean_sea_level_2018_07.nc',\n",
       " '/project/informatics_lab/data_science_cop/era5/air_pressure_mean_sea_level_2018_08.nc',\n",
       " '/project/informatics_lab/data_science_cop/era5/air_pressure_mean_sea_level_2018_09.nc',\n",
       " '/project/informatics_lab/data_science_cop/era5/air_pressure_mean_sea_level_2018_10.nc',\n",
       " '/project/informatics_lab/data_science_cop/era5/air_pressure_mean_sea_level_2018_11.nc',\n",
       " '/project/informatics_lab/data_science_cop/era5/air_pressure_mean_sea_level_2018_12.nc',\n",
       " '/project/informatics_lab/data_science_cop/era5/air_pressure_mean_sea_level_2019_01.nc',\n",
       " '/project/informatics_lab/data_science_cop/era5/air_pressure_mean_sea_level_2019_02.nc',\n",
       " '/project/informatics_lab/data_science_cop/era5/air_pressure_mean_sea_level_2019_03.nc',\n",
       " '/project/informatics_lab/data_science_cop/era5/air_pressure_mean_sea_level_2019_04.nc',\n",
       " '/project/informatics_lab/data_science_cop/era5/air_pressure_mean_sea_level_2019_05.nc',\n",
       " '/project/informatics_lab/data_science_cop/era5/air_pressure_mean_sea_level_2019_06.nc',\n",
       " '/project/informatics_lab/data_science_cop/era5/air_pressure_mean_sea_level_2019_07.nc',\n",
       " '/project/informatics_lab/data_science_cop/era5/air_pressure_mean_sea_level_2019_08.nc',\n",
       " '/project/informatics_lab/data_science_cop/era5/air_pressure_mean_sea_level_2019_09.nc',\n",
       " '/project/informatics_lab/data_science_cop/era5/air_pressure_mean_sea_level_2019_10.nc',\n",
       " '/project/informatics_lab/data_science_cop/era5/air_pressure_mean_sea_level_2019_11.nc',\n",
       " '/project/informatics_lab/data_science_cop/era5/air_pressure_mean_sea_level_2019_12.nc']"
      ]
     },
     "execution_count": 40,
     "metadata": {},
     "output_type": "execute_result"
    }
   ],
   "source": [
    "nc_files = sorted([str(i1) for i1 in era5_data_dir.iterdir() if '.nc' in str(i1) and 'air_pressure' in str(i1)])\n",
    "nc_files"
   ]
  },
  {
   "cell_type": "code",
   "execution_count": 41,
   "id": "0bdb10c5-5b5a-4a27-9dc5-e526df762bf5",
   "metadata": {},
   "outputs": [],
   "source": [
    "era5_cubeList = iris.load(nc_files)\n",
    "iris.util.equalise_attributes(era5_cubeList)\n",
    "mslp_era5_cube = iris.cube.CubeList.concatenate_cube(era5_cubeList)"
   ]
  },
  {
   "cell_type": "code",
   "execution_count": 42,
   "id": "ca639606-1c36-49fe-bb0d-165df7576787",
   "metadata": {},
   "outputs": [],
   "source": [
    "uk_na_bounds = {'latitude': (40,65), 'longitude': (-10,10)}"
   ]
  },
  {
   "cell_type": "code",
   "execution_count": 43,
   "id": "bb0622f1-8aaa-45c4-90ae-32a49edc0012",
   "metadata": {},
   "outputs": [],
   "source": [
    "mslp_era5_uk_cube = mslp_era5_cube.intersection(latitude=uk_na_bounds['latitude'], \n",
    "                                                longitude=uk_na_bounds['longitude'])\n"
   ]
  },
  {
   "cell_type": "markdown",
   "id": "4758bb56-36cc-4fa3-ab67-850145f5f71e",
   "metadata": {},
   "source": [
    "### Load summary cube\n",
    "\n",
    "Having demonstrated how to prepare the file of interest from the original ERA5 files, we now load the cube directly."
   ]
  },
  {
   "cell_type": "code",
   "execution_count": 44,
   "id": "65b09d83-519a-48a3-aea8-a9200cfb7e31",
   "metadata": {},
   "outputs": [
    {
     "name": "stdout",
     "output_type": "stream",
     "text": [
      "True\n"
     ]
    },
    {
     "data": {
      "text/plain": [
       "PosixPath('/project/informatics_lab/data_science_cop/era5/era5_mslp_UK_2017_2020.nc')"
      ]
     },
     "execution_count": 44,
     "metadata": {},
     "output_type": "execute_result"
    }
   ],
   "source": [
    "era5_fname = 'era5_mslp_UK_2017_2020.nc'\n",
    "era5_path = era5_data_dir / era5_fname \n",
    "print(era5_path.is_file())\n",
    "era5_path"
   ]
  },
  {
   "cell_type": "code",
   "execution_count": 45,
   "id": "f2624a51-db1c-412b-93ff-264a030b561d",
   "metadata": {},
   "outputs": [],
   "source": [
    "mslp_era5_uk_cube = iris.load_cube(str(era5_path))"
   ]
  },
  {
   "cell_type": "markdown",
   "id": "c7997ab6-f8b6-4c06-bee4-77e76f63623e",
   "metadata": {},
   "source": [
    "### Explore ERA5 data to use for creating weather pattern clusters"
   ]
  },
  {
   "cell_type": "code",
   "execution_count": 46,
   "id": "b35b2f0c-07b1-4117-8a66-5cc7a157e4cd",
   "metadata": {},
   "outputs": [
    {
     "data": {
      "text/html": [
       "\n",
       "<style>\n",
       "  a.iris {\n",
       "      text-decoration: none !important;\n",
       "  }\n",
       "  table.iris {\n",
       "      white-space: pre;\n",
       "      border: 1px solid;\n",
       "      border-color: #9c9c9c;\n",
       "      font-family: monaco, monospace;\n",
       "  }\n",
       "  th.iris {\n",
       "      background: #303f3f;\n",
       "      color: #e0e0e0;\n",
       "      border-left: 1px solid;\n",
       "      border-color: #9c9c9c;\n",
       "      font-size: 1.05em;\n",
       "      min-width: 50px;\n",
       "      max-width: 125px;\n",
       "  }\n",
       "  tr.iris :first-child {\n",
       "      border-right: 1px solid #9c9c9c !important;\n",
       "  }\n",
       "  td.iris-title {\n",
       "      background: #d5dcdf;\n",
       "      border-top: 1px solid #9c9c9c;\n",
       "      font-weight: bold;\n",
       "  }\n",
       "  .iris-word-cell {\n",
       "      text-align: left !important;\n",
       "      white-space: pre;\n",
       "  }\n",
       "  .iris-subheading-cell {\n",
       "      padding-left: 2em !important;\n",
       "  }\n",
       "  .iris-inclusion-cell {\n",
       "      padding-right: 1em !important;\n",
       "  }\n",
       "  .iris-panel-body {\n",
       "      padding-top: 0px;\n",
       "  }\n",
       "  .iris-panel-title {\n",
       "      padding-left: 3em;\n",
       "  }\n",
       "  .iris-panel-title {\n",
       "      margin-top: 7px;\n",
       "  }\n",
       "</style>\n",
       "<table class=\"iris\" id=\"47090334911312\">\n",
       "    <tr class=\"iris\">\n",
       "<th class=\"iris iris-word-cell\">Air Pressure At Mean Sea Level (Pa)</th>\n",
       "<th class=\"iris iris-word-cell\">time</th>\n",
       "<th class=\"iris iris-word-cell\">latitude</th>\n",
       "<th class=\"iris iris-word-cell\">longitude</th>\n",
       "</tr>\n",
       "    <tr class=\"iris\">\n",
       "<td class=\"iris-word-cell iris-subheading-cell\">Shape</td>\n",
       "<td class=\"iris iris-inclusion-cell\">35064</td>\n",
       "<td class=\"iris iris-inclusion-cell\">101</td>\n",
       "<td class=\"iris iris-inclusion-cell\">81</td>\n",
       "</tr>\n",
       "    <tr class=\"iris\">\n",
       "    <td class=\"iris-title iris-word-cell\">Dimension coordinates</td>\n",
       "    <td class=\"iris-title\"></td>\n",
       "    <td class=\"iris-title\"></td>\n",
       "    <td class=\"iris-title\"></td>\n",
       "</tr>\n",
       "<tr class=\"iris\">\n",
       "    <td class=\"iris-word-cell iris-subheading-cell\">\ttime</td>\n",
       "    <td class=\"iris-inclusion-cell\">x</td>\n",
       "    <td class=\"iris-inclusion-cell\">-</td>\n",
       "    <td class=\"iris-inclusion-cell\">-</td>\n",
       "</tr>\n",
       "<tr class=\"iris\">\n",
       "    <td class=\"iris-word-cell iris-subheading-cell\">\tlatitude</td>\n",
       "    <td class=\"iris-inclusion-cell\">-</td>\n",
       "    <td class=\"iris-inclusion-cell\">x</td>\n",
       "    <td class=\"iris-inclusion-cell\">-</td>\n",
       "</tr>\n",
       "<tr class=\"iris\">\n",
       "    <td class=\"iris-word-cell iris-subheading-cell\">\tlongitude</td>\n",
       "    <td class=\"iris-inclusion-cell\">-</td>\n",
       "    <td class=\"iris-inclusion-cell\">-</td>\n",
       "    <td class=\"iris-inclusion-cell\">x</td>\n",
       "</tr>\n",
       "<tr class=\"iris\">\n",
       "    <td class=\"iris-title iris-word-cell\">Attributes</td>\n",
       "    <td class=\"iris-title\"></td>\n",
       "    <td class=\"iris-title\"></td>\n",
       "    <td class=\"iris-title\"><br>Conventions                   CF-1.7<br>institution                   ECMWF<br>nameCDM                       Mean_sea_level_pressure_surface<br>nameECMWF                     Mean sea level pressure<br>product_type                  analysis<br>shortNameECMWF                msl<br>source                        Reanalysis</td>\n",
       "</tr>\n",
       "</table>\n",
       "        "
      ],
      "text/plain": [
       "<iris 'Cube' of air_pressure_at_mean_sea_level / (Pa) (time: 35064; latitude: 101; longitude: 81)>"
      ]
     },
     "execution_count": 46,
     "metadata": {},
     "output_type": "execute_result"
    }
   ],
   "source": [
    "mslp_era5_uk_cube"
   ]
  },
  {
   "cell_type": "code",
   "execution_count": 47,
   "id": "682e953a-ff0d-42ef-a887-79002e9bfbe5",
   "metadata": {},
   "outputs": [],
   "source": [
    "iris.iris.coord_categorisation.add_season_number(mslp_era5_uk_cube,'time')"
   ]
  },
  {
   "cell_type": "code",
   "execution_count": 48,
   "id": "333ac1b6-b18b-4add-b5bf-64e9f87c4c5e",
   "metadata": {},
   "outputs": [],
   "source": [
    "# functools.reduce(lambda x,y: x*y, mslp_2020_cube.shape), functools.reduce(lambda x,y: x*y, mslp_uk_2020_cube.shape)"
   ]
  },
  {
   "cell_type": "code",
   "execution_count": 49,
   "id": "51056a2f-d335-4958-9ed0-e40bf0bb3d44",
   "metadata": {},
   "outputs": [
    {
     "data": {
      "text/html": [
       "\n",
       "<style>\n",
       "  a.iris {\n",
       "      text-decoration: none !important;\n",
       "  }\n",
       "  table.iris {\n",
       "      white-space: pre;\n",
       "      border: 1px solid;\n",
       "      border-color: #9c9c9c;\n",
       "      font-family: monaco, monospace;\n",
       "  }\n",
       "  th.iris {\n",
       "      background: #303f3f;\n",
       "      color: #e0e0e0;\n",
       "      border-left: 1px solid;\n",
       "      border-color: #9c9c9c;\n",
       "      font-size: 1.05em;\n",
       "      min-width: 50px;\n",
       "      max-width: 125px;\n",
       "  }\n",
       "  tr.iris :first-child {\n",
       "      border-right: 1px solid #9c9c9c !important;\n",
       "  }\n",
       "  td.iris-title {\n",
       "      background: #d5dcdf;\n",
       "      border-top: 1px solid #9c9c9c;\n",
       "      font-weight: bold;\n",
       "  }\n",
       "  .iris-word-cell {\n",
       "      text-align: left !important;\n",
       "      white-space: pre;\n",
       "  }\n",
       "  .iris-subheading-cell {\n",
       "      padding-left: 2em !important;\n",
       "  }\n",
       "  .iris-inclusion-cell {\n",
       "      padding-right: 1em !important;\n",
       "  }\n",
       "  .iris-panel-body {\n",
       "      padding-top: 0px;\n",
       "  }\n",
       "  .iris-panel-title {\n",
       "      padding-left: 3em;\n",
       "  }\n",
       "  .iris-panel-title {\n",
       "      margin-top: 7px;\n",
       "  }\n",
       "</style>\n",
       "<table class=\"iris\" id=\"47090334911312\">\n",
       "    <tr class=\"iris\">\n",
       "<th class=\"iris iris-word-cell\">Air Pressure At Mean Sea Level (Pa)</th>\n",
       "<th class=\"iris iris-word-cell\">time</th>\n",
       "<th class=\"iris iris-word-cell\">latitude</th>\n",
       "<th class=\"iris iris-word-cell\">longitude</th>\n",
       "</tr>\n",
       "    <tr class=\"iris\">\n",
       "<td class=\"iris-word-cell iris-subheading-cell\">Shape</td>\n",
       "<td class=\"iris iris-inclusion-cell\">35064</td>\n",
       "<td class=\"iris iris-inclusion-cell\">101</td>\n",
       "<td class=\"iris iris-inclusion-cell\">81</td>\n",
       "</tr>\n",
       "    <tr class=\"iris\">\n",
       "    <td class=\"iris-title iris-word-cell\">Dimension coordinates</td>\n",
       "    <td class=\"iris-title\"></td>\n",
       "    <td class=\"iris-title\"></td>\n",
       "    <td class=\"iris-title\"></td>\n",
       "</tr>\n",
       "<tr class=\"iris\">\n",
       "    <td class=\"iris-word-cell iris-subheading-cell\">\ttime</td>\n",
       "    <td class=\"iris-inclusion-cell\">x</td>\n",
       "    <td class=\"iris-inclusion-cell\">-</td>\n",
       "    <td class=\"iris-inclusion-cell\">-</td>\n",
       "</tr>\n",
       "<tr class=\"iris\">\n",
       "    <td class=\"iris-word-cell iris-subheading-cell\">\tlatitude</td>\n",
       "    <td class=\"iris-inclusion-cell\">-</td>\n",
       "    <td class=\"iris-inclusion-cell\">x</td>\n",
       "    <td class=\"iris-inclusion-cell\">-</td>\n",
       "</tr>\n",
       "<tr class=\"iris\">\n",
       "    <td class=\"iris-word-cell iris-subheading-cell\">\tlongitude</td>\n",
       "    <td class=\"iris-inclusion-cell\">-</td>\n",
       "    <td class=\"iris-inclusion-cell\">-</td>\n",
       "    <td class=\"iris-inclusion-cell\">x</td>\n",
       "</tr>\n",
       "<tr class=\"iris\">\n",
       "    <td class=\"iris-title iris-word-cell\">Auxiliary coordinates</td>\n",
       "    <td class=\"iris-title\"></td>\n",
       "    <td class=\"iris-title\"></td>\n",
       "    <td class=\"iris-title\"></td>\n",
       "</tr>\n",
       "<tr class=\"iris\">\n",
       "    <td class=\"iris-word-cell iris-subheading-cell\">\tseason_number</td>\n",
       "    <td class=\"iris-inclusion-cell\">x</td>\n",
       "    <td class=\"iris-inclusion-cell\">-</td>\n",
       "    <td class=\"iris-inclusion-cell\">-</td>\n",
       "</tr>\n",
       "<tr class=\"iris\">\n",
       "    <td class=\"iris-title iris-word-cell\">Attributes</td>\n",
       "    <td class=\"iris-title\"></td>\n",
       "    <td class=\"iris-title\"></td>\n",
       "    <td class=\"iris-title\"><br>Conventions                   CF-1.7<br>institution                   ECMWF<br>nameCDM                       Mean_sea_level_pressure_surface<br>nameECMWF                     Mean sea level pressure<br>product_type                  analysis<br>shortNameECMWF                msl<br>source                        Reanalysis</td>\n",
       "</tr>\n",
       "</table>\n",
       "        "
      ],
      "text/plain": [
       "<iris 'Cube' of air_pressure_at_mean_sea_level / (Pa) (time: 35064; latitude: 101; longitude: 81)>"
      ]
     },
     "execution_count": 49,
     "metadata": {},
     "output_type": "execute_result"
    }
   ],
   "source": [
    "mslp_era5_uk_cube"
   ]
  },
  {
   "cell_type": "code",
   "execution_count": 50,
   "id": "ac3cfcc2-a840-4482-aee6-edd355f93493",
   "metadata": {},
   "outputs": [
    {
     "data": {
      "text/plain": [
       "(40.0, 65.0)"
      ]
     },
     "execution_count": 50,
     "metadata": {},
     "output_type": "execute_result"
    }
   ],
   "source": [
    "min(mslp_era5_uk_cube.coord('latitude').points), max(mslp_era5_uk_cube.coord('latitude').points)"
   ]
  },
  {
   "cell_type": "code",
   "execution_count": 51,
   "id": "92e7cea1-5a85-460e-909f-727f73a28a24",
   "metadata": {},
   "outputs": [
    {
     "data": {
      "text/plain": [
       "(-10.0, 10.0)"
      ]
     },
     "execution_count": 51,
     "metadata": {},
     "output_type": "execute_result"
    }
   ],
   "source": [
    "min(mslp_era5_uk_cube.coord('longitude').points), max(mslp_era5_uk_cube.coord('longitude').points)"
   ]
  },
  {
   "cell_type": "code",
   "execution_count": 52,
   "id": "be1c6551-9fda-4619-a936-7fd0f7c21046",
   "metadata": {},
   "outputs": [
    {
     "data": {
      "text/html": [
       "\n",
       "<style>\n",
       "  a.iris {\n",
       "      text-decoration: none !important;\n",
       "  }\n",
       "  table.iris {\n",
       "      white-space: pre;\n",
       "      border: 1px solid;\n",
       "      border-color: #9c9c9c;\n",
       "      font-family: monaco, monospace;\n",
       "  }\n",
       "  th.iris {\n",
       "      background: #303f3f;\n",
       "      color: #e0e0e0;\n",
       "      border-left: 1px solid;\n",
       "      border-color: #9c9c9c;\n",
       "      font-size: 1.05em;\n",
       "      min-width: 50px;\n",
       "      max-width: 125px;\n",
       "  }\n",
       "  tr.iris :first-child {\n",
       "      border-right: 1px solid #9c9c9c !important;\n",
       "  }\n",
       "  td.iris-title {\n",
       "      background: #d5dcdf;\n",
       "      border-top: 1px solid #9c9c9c;\n",
       "      font-weight: bold;\n",
       "  }\n",
       "  .iris-word-cell {\n",
       "      text-align: left !important;\n",
       "      white-space: pre;\n",
       "  }\n",
       "  .iris-subheading-cell {\n",
       "      padding-left: 2em !important;\n",
       "  }\n",
       "  .iris-inclusion-cell {\n",
       "      padding-right: 1em !important;\n",
       "  }\n",
       "  .iris-panel-body {\n",
       "      padding-top: 0px;\n",
       "  }\n",
       "  .iris-panel-title {\n",
       "      padding-left: 3em;\n",
       "  }\n",
       "  .iris-panel-title {\n",
       "      margin-top: 7px;\n",
       "  }\n",
       "</style>\n",
       "<table class=\"iris\" id=\"47090340022256\">\n",
       "    <tr class=\"iris\">\n",
       "<th class=\"iris iris-word-cell\">Air Pressure At Mean Sea Level (Pa)</th>\n",
       "<th class=\"iris iris-word-cell\">--</th>\n",
       "<th class=\"iris iris-word-cell\">latitude</th>\n",
       "<th class=\"iris iris-word-cell\">longitude</th>\n",
       "</tr>\n",
       "    <tr class=\"iris\">\n",
       "<td class=\"iris-word-cell iris-subheading-cell\">Shape</td>\n",
       "<td class=\"iris iris-inclusion-cell\">4</td>\n",
       "<td class=\"iris iris-inclusion-cell\">101</td>\n",
       "<td class=\"iris iris-inclusion-cell\">81</td>\n",
       "</tr>\n",
       "    <tr class=\"iris\">\n",
       "    <td class=\"iris-title iris-word-cell\">Dimension coordinates</td>\n",
       "    <td class=\"iris-title\"></td>\n",
       "    <td class=\"iris-title\"></td>\n",
       "    <td class=\"iris-title\"></td>\n",
       "</tr>\n",
       "<tr class=\"iris\">\n",
       "    <td class=\"iris-word-cell iris-subheading-cell\">\tlatitude</td>\n",
       "    <td class=\"iris-inclusion-cell\">-</td>\n",
       "    <td class=\"iris-inclusion-cell\">x</td>\n",
       "    <td class=\"iris-inclusion-cell\">-</td>\n",
       "</tr>\n",
       "<tr class=\"iris\">\n",
       "    <td class=\"iris-word-cell iris-subheading-cell\">\tlongitude</td>\n",
       "    <td class=\"iris-inclusion-cell\">-</td>\n",
       "    <td class=\"iris-inclusion-cell\">-</td>\n",
       "    <td class=\"iris-inclusion-cell\">x</td>\n",
       "</tr>\n",
       "<tr class=\"iris\">\n",
       "    <td class=\"iris-title iris-word-cell\">Auxiliary coordinates</td>\n",
       "    <td class=\"iris-title\"></td>\n",
       "    <td class=\"iris-title\"></td>\n",
       "    <td class=\"iris-title\"></td>\n",
       "</tr>\n",
       "<tr class=\"iris\">\n",
       "    <td class=\"iris-word-cell iris-subheading-cell\">\tseason_number</td>\n",
       "    <td class=\"iris-inclusion-cell\">x</td>\n",
       "    <td class=\"iris-inclusion-cell\">-</td>\n",
       "    <td class=\"iris-inclusion-cell\">-</td>\n",
       "</tr>\n",
       "<tr class=\"iris\">\n",
       "    <td class=\"iris-word-cell iris-subheading-cell\">\ttime</td>\n",
       "    <td class=\"iris-inclusion-cell\">x</td>\n",
       "    <td class=\"iris-inclusion-cell\">-</td>\n",
       "    <td class=\"iris-inclusion-cell\">-</td>\n",
       "</tr>\n",
       "<tr class=\"iris\">\n",
       "    <td class=\"iris-title iris-word-cell\">Cell methods</td>\n",
       "    <td class=\"iris-title\"></td>\n",
       "    <td class=\"iris-title\"></td>\n",
       "    <td class=\"iris-title\"></td>\n",
       "</tr>\n",
       "<tr class=\"iris\">\n",
       "    <td class=\"iris-word-cell iris-subheading-cell\">\tmean                          season_number</td>\n",
       "    <td class=\"iris-word-cell\" colspan=\"3\"></td>\n",
       "</tr>\n",
       "<tr class=\"iris\">\n",
       "    <td class=\"iris-title iris-word-cell\">Attributes</td>\n",
       "    <td class=\"iris-title\"></td>\n",
       "    <td class=\"iris-title\"></td>\n",
       "    <td class=\"iris-title\"><br>Conventions                   CF-1.7<br>institution                   ECMWF<br>nameCDM                       Mean_sea_level_pressure_surface<br>nameECMWF                     Mean sea level pressure<br>product_type                  analysis<br>shortNameECMWF                msl<br>source                        Reanalysis</td>\n",
       "</tr>\n",
       "</table>\n",
       "        "
      ],
      "text/plain": [
       "<iris 'Cube' of air_pressure_at_mean_sea_level / (Pa) (-- : 4; latitude: 101; longitude: 81)>"
      ]
     },
     "execution_count": 52,
     "metadata": {},
     "output_type": "execute_result"
    }
   ],
   "source": [
    "mslp_uk_seasonal_mean = mslp_era5_uk_cube.aggregated_by(['season_number'],iris.analysis.MEAN)\n",
    "mslp_uk_seasonal_mean"
   ]
  },
  {
   "cell_type": "markdown",
   "id": "e74ea056-3a7c-403e-a242-0f519957974a",
   "metadata": {},
   "source": [
    "Now we can plot the seasonal averages as a way of exploring the data.\n",
    "*NOTE* This cell will take a while to execute. This is because up until now none of the calculations described will actually have been executed, due to the *lazy loading* paradigm employed in Iris. Only at the point when the data is need (in our case to actually create the plots), are the compute operations actually triggered. So what is taking time is the subsetting and aggregation of the data, rather than only the actual plotting operations"
   ]
  },
  {
   "cell_type": "code",
   "execution_count": null,
   "id": "a0002d45-6ca9-4686-bb7a-c9741f80b6ea",
   "metadata": {},
   "outputs": [],
   "source": [
    "%%time\n",
    "mslp_uk_seasonal_mean.data"
   ]
  },
  {
   "cell_type": "code",
   "execution_count": null,
   "id": "5acd692c-807d-41eb-93ac-1b86d59c2837",
   "metadata": {},
   "outputs": [],
   "source": [
    "fig1 = matplotlib.pyplot.figure(figsize=(16,8))\n",
    "for ix1 in range(mslp_uk_seasonal_mean.shape[0]):\n",
    "    ax1 = fig1.add_subplot(1,4,ix1+1,projection=cartopy.crs.PlateCarree())\n",
    "    iris.quickplot.contourf(mslp_uk_seasonal_mean[ix1],axes=ax1)\n",
    "    ax1.coastlines()"
   ]
  },
  {
   "cell_type": "markdown",
   "id": "88bcd1b7-1f3f-4448-b263-c2feb1184f22",
   "metadata": {},
   "source": [
    "## Next Steps\n",
    "\n",
    "There are further example notebooks looking at loading and exploring data in python in the following locations:\n",
    "* [Introduction to Data Analsyis in Python](https://github.com/informatics-lab/intro_python_data_analysis/)\n",
    "* [Pangeo Lectures](https://github.com/informatics-lab/PangeoLectures)\n",
    "* [Using Climate Data](https://github.com/Informatics-lab/UsingClimateData)\n"
   ]
  },
  {
   "cell_type": "markdown",
   "id": "2e70e46b-e202-47b9-8d6d-a479a11e2b25",
   "metadata": {},
   "source": [
    "## Dataset Info\n",
    "\n",
    "### Falklands Rotors Challenge Dataset\n",
    "Crown Copyright 2021 - This dataset was created by Met Office Chief Operational Meterologist Steve Ramsdale from Met Office forecast and observation data.\n",
    "* Model Data - Met Office Global 10km resolution model\n",
    "* Observations - made by meteorologists at Mount Pleasant airfield in the Falkland Islands.\n",
    "\n",
    "### ERA5\n",
    "ERA5 is Renanlysis data created by ECMWF. Reanalysis combines observations from many sources. by assimilating these into a forecast model (ECMWF's IFS in this case), to provide a consistent physically valid gridded dataset that is a close to observations as possible\n",
    "https://www.ecmwf.int/en/forecasts/datasets/reanalysis-datasets/era5\n",
    "\n"
   ]
  },
  {
   "cell_type": "markdown",
   "id": "260219d6-401b-4a45-b0ac-5daf6e4b03d1",
   "metadata": {},
   "source": [
    "## References\n",
    "\n",
    "The format of this notebook is based on the [template for tutorial notebooks](https://github.com/geo-yrao/notebook-dev/blob/main/templates/NCAI_Training_Notebook_template%20-%20Distribution%20Copy.ipynb) developed by NOAA, available on GitHub."
   ]
  }
 ],
 "metadata": {
  "kernelspec": {
   "display_name": ".conda-ml-weather-tutorial-skl Python (Conda)",
   "language": "python",
   "name": "conda-env-.conda-ml-weather-tutorial-skl-py"
  },
  "language_info": {
   "codemirror_mode": {
    "name": "ipython",
    "version": 3
   },
   "file_extension": ".py",
   "mimetype": "text/x-python",
   "name": "python",
   "nbconvert_exporter": "python",
   "pygments_lexer": "ipython3",
   "version": "3.8.13"
  }
 },
 "nbformat": 4,
 "nbformat_minor": 5
}
