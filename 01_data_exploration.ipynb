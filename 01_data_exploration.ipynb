{
 "cells": [
  {
   "cell_type": "markdown",
   "id": "403e4bfd-7925-43e2-977b-2baca78c2eaf",
   "metadata": {
    "tags": []
   },
   "source": [
    "# 1. Data Exploration\n",
    "\n",
    "## Overview \n",
    "In the first section we will look at techniques to load and explore the data to be used for machine learning. The purpose of this exploration is to gain an understanding of the data and how it relates to the problem we are trying to solve. This will help us make sensible choices for different elements of our machine learning pipeline."
   ]
  },
  {
   "cell_type": "markdown",
   "id": "40489368-10b7-4757-b486-3af6db2a2a2b",
   "metadata": {
    "jp-MarkdownHeadingCollapsed": true
   },
   "source": [
    "### Prerequisites \n",
    "\n",
    "To be able to successfully work through this notebook, you will need some understanding of the following \n",
    "* The Python programming language\n",
    "* Simple data handling in Python\n",
    "* Basic plotting using matplotlib\n",
    "* Environment setup using pip or conda"
   ]
  },
  {
   "cell_type": "markdown",
   "id": "7b82b8cb-681d-44f8-bc23-e218e7653def",
   "metadata": {},
   "source": [
    "### Learning Outcomes \n",
    "\n",
    "* Load tabular and gridded datasets using common python libraries.\n",
    "* Explore typical techniques for *exploratory data analysis* on different sorts of data.\n",
    "* Understand key characteristics of datasets to use in choosing components for a machine learning pipeline."
   ]
  },
  {
   "cell_type": "markdown",
   "id": "3cceadd3-46b6-42dc-b702-943d09365ca6",
   "metadata": {},
   "source": [
    "## Tutorial - Exploratory Data Analysis\n",
    "\n",
    "The first step in a machine learning problem is to understand the available data you have for training a machine learning algorithm. In any data driven technique, the quality of the result is only going to be as good as the quality of the data. This can only be achieved by matching the appropriate techniques to the data that you have, so understanding the particular dataset to be used is the foundation of a successful outcome.\n",
    "\n",
    "To achieve this, one typically performs an *Exploratory Data Analysis*, where one produce a series of summary statistics and plots that highlight the most salient characteristics of the dataset for the problem at hand. Typical traits to be considered include:\n",
    "* The range of values for different input features e.g. min and max temperature, start and end dates.\n",
    "* Important subsets of the data e.g. different seasons or time of the day.\n",
    "* Distributions of different features, both as a whole and important subsets.\n",
    "* Correlations between different features, especially input and target features.\n"
   ]
  },
  {
   "cell_type": "markdown",
   "id": "de71ed31-7104-4b61-8c9e-a2b6b7b70ddf",
   "metadata": {},
   "source": [
    "### Best Practices & Values\n",
    "\n",
    "Performing a thorough data exploration implements the Met Office Machine Learning best practices in the following ways:\n",
    "* Ethics - Ensure we can justify our choices from understanding of the data and how the choices relates to the potential impacts of this work.\n",
    "* Data - Ensure we understand biases or other issues with the data.\n",
    "* ML Pitfall - Avoid pitfalls through making informed choices based on analysis of data.\n",
    "* ML Lifecycle - Ensure we store and process the data so we can reproduce the results.\n",
    "\n",
    "(Please see [Met Office Best Prctice Summary document](https://metoffice.sharepoint.com/:w:/r/sites/MetOfficeDataScienceCommunity/Shared%20Documents/MLAG/project_evaluation_review/MachineLearningBestPracticesAndValues_v1_0.docx?d=wae2554217d0342f2a9c8cf8906bfbe38&csf=1&web=1&e=ja7rLn) on Data Science Community site (internal only) for more information and further reading.)"
   ]
  },
  {
   "cell_type": "markdown",
   "id": "8d421494-3e87-4e51-8efd-b35ad50764e2",
   "metadata": {},
   "source": [
    "## Exercise 1: Load and explore tabular dataset - Falkland Islands Airfield Rotors\n",
    "\n",
    "The first dataset we will explore comes from a challenge by Operational Meteorologist Steve Ramsdale. \n",
    "The aim of challenge is to forecast [rotors](https://www.youtube.com/watch?v=jgSZG9SqN_s), a type of localised topographically-driven turbulent wind gusts, at the Mount Pleasant Airfield in the Falkland Islands.\n",
    "\n",
    "<img src=\"images/falklands_mtpleasant.png\" width=\"400\"/>\n",
    "\n",
    "These occur through northerly winds interacting with mountains to the north of the airfield. \n",
    "The aim is to predict whether or not these will occur, using data from global, coarse-resolution models which are not able to to explicitly resolve this phenomenon. \n",
    "\n",
    "The target is a human-created dataset produced by Operational Meteorologists at the airfield, as to whether a rotor occurred in any given three hour period."
   ]
  },
  {
   "cell_type": "markdown",
   "id": "be840a72-5f36-4f19-8b0e-3405c8eebecb",
   "metadata": {
    "jp-MarkdownHeadingCollapsed": true
   },
   "source": [
    "### Setup"
   ]
  },
  {
   "cell_type": "code",
   "execution_count": 1,
   "id": "677db567-6260-41fa-bdb9-13850c81c9dd",
   "metadata": {},
   "outputs": [],
   "source": [
    "import pathlib \n",
    "import datetime\n",
    "import os\n",
    "import functools\n",
    "import warnings\n",
    "warnings.filterwarnings(\"ignore\")"
   ]
  },
  {
   "cell_type": "code",
   "execution_count": 2,
   "id": "afc21237-8703-4231-bdd9-818802c22f64",
   "metadata": {},
   "outputs": [
    {
     "name": "stdout",
     "output_type": "stream",
     "text": [
      "hello world!\n"
     ]
    }
   ],
   "source": [
    "print('hello world!')"
   ]
  },
  {
   "cell_type": "code",
   "execution_count": 3,
   "id": "f9b4ad3d-958d-4b04-ac0e-5555800898bd",
   "metadata": {},
   "outputs": [],
   "source": [
    "import matplotlib\n",
    "%matplotlib inline"
   ]
  },
  {
   "cell_type": "code",
   "execution_count": 30,
   "id": "32f8646d-99f6-48e1-bad6-789506b454a9",
   "metadata": {},
   "outputs": [],
   "source": [
    "import numpy as np"
   ]
  },
  {
   "cell_type": "code",
   "execution_count": 4,
   "id": "4e4c1340-753c-44f8-ac43-7d00fbd045f7",
   "metadata": {},
   "outputs": [],
   "source": [
    "import pandas"
   ]
  },
  {
   "cell_type": "code",
   "execution_count": 5,
   "id": "404790fe-fdc9-4890-ae53-497e255b3d48",
   "metadata": {},
   "outputs": [],
   "source": [
    "import iris\n",
    "import iris.quickplot\n",
    "import iris.coord_categorisation\n",
    "import cartopy"
   ]
  },
  {
   "cell_type": "code",
   "execution_count": 6,
   "id": "64fdc2e3-7dfa-44b7-96dd-79ba9994aa72",
   "metadata": {},
   "outputs": [],
   "source": [
    "import sklearn\n",
    "import sklearn.metrics"
   ]
  },
  {
   "cell_type": "markdown",
   "id": "15b00ced-25f7-454e-9a18-a45f99642299",
   "metadata": {
    "jp-MarkdownHeadingCollapsed": true
   },
   "source": [
    "### Load data"
   ]
  },
  {
   "cell_type": "code",
   "execution_count": 7,
   "id": "71a8c8e2-98df-4ffe-9d0d-9e613a29e618",
   "metadata": {},
   "outputs": [
    {
     "name": "stdout",
     "output_type": "stream",
     "text": [
      "/project/informatics_lab/data_science_cop/ML_challenges/2021_opmet_challenge/Rotors\n"
     ]
    }
   ],
   "source": [
    "try:\n",
    "    falklands_data_dir = os.environ['OPMET_ROTORS_DATA_ROOT']\n",
    "except KeyError:\n",
    "    falklands_data_dir = '/project/informatics_lab/data_science_cop/ML_challenges/2021_opmet_challenge'\n",
    "falklands_data_dir = pathlib.Path(falklands_data_dir) /  'Rotors'\n",
    "print(falklands_data_dir)"
   ]
  },
  {
   "cell_type": "code",
   "execution_count": 8,
   "id": "0349b603-8f6d-4858-a42e-0b65363688b6",
   "metadata": {},
   "outputs": [],
   "source": [
    "falklands_data_fname = 'new_training.csv'"
   ]
  },
  {
   "cell_type": "code",
   "execution_count": 9,
   "id": "5652d845-14b4-4b87-b249-66d85135fcf2",
   "metadata": {},
   "outputs": [
    {
     "data": {
      "text/plain": [
       "PosixPath('/project/informatics_lab/data_science_cop/ML_challenges/2021_opmet_challenge/Rotors/new_training.csv')"
      ]
     },
     "execution_count": 9,
     "metadata": {},
     "output_type": "execute_result"
    }
   ],
   "source": [
    "falklands_data_path = falklands_data_dir / falklands_data_fname\n",
    "falklands_data_path"
   ]
  },
  {
   "cell_type": "code",
   "execution_count": 10,
   "id": "a8fc58fb-295a-4345-88e5-9dadc58f83b5",
   "metadata": {},
   "outputs": [
    {
     "data": {
      "text/plain": [
       "True"
      ]
     },
     "execution_count": 10,
     "metadata": {},
     "output_type": "execute_result"
    }
   ],
   "source": [
    "falklands_data_path.is_file()"
   ]
  },
  {
   "cell_type": "code",
   "execution_count": 11,
   "id": "c279ac65-86c2-4199-a270-5fd05147feb2",
   "metadata": {},
   "outputs": [],
   "source": [
    "falklands_df = pandas.read_csv(falklands_data_path)"
   ]
  },
  {
   "cell_type": "code",
   "execution_count": 12,
   "id": "a7d75cf1-8827-4a97-bef6-a3496062319d",
   "metadata": {},
   "outputs": [
    {
     "data": {
      "text/html": [
       "<div>\n",
       "<style scoped>\n",
       "    .dataframe tbody tr th:only-of-type {\n",
       "        vertical-align: middle;\n",
       "    }\n",
       "\n",
       "    .dataframe tbody tr th {\n",
       "        vertical-align: top;\n",
       "    }\n",
       "\n",
       "    .dataframe thead th {\n",
       "        text-align: right;\n",
       "    }\n",
       "</style>\n",
       "<table border=\"1\" class=\"dataframe\">\n",
       "  <thead>\n",
       "    <tr style=\"text-align: right;\">\n",
       "      <th></th>\n",
       "      <th>DTG</th>\n",
       "      <th>air_temp_obs</th>\n",
       "      <th>dewpoint_obs</th>\n",
       "      <th>wind_direction_obs</th>\n",
       "      <th>wind_speed_obs</th>\n",
       "      <th>wind_gust_obs</th>\n",
       "      <th>air_temp_1</th>\n",
       "      <th>air_temp_2</th>\n",
       "      <th>air_temp_3</th>\n",
       "      <th>air_temp_4</th>\n",
       "      <th>...</th>\n",
       "      <th>windspd_18</th>\n",
       "      <th>winddir_19</th>\n",
       "      <th>windspd_19</th>\n",
       "      <th>winddir_20</th>\n",
       "      <th>windspd_20</th>\n",
       "      <th>winddir_21</th>\n",
       "      <th>windspd_21</th>\n",
       "      <th>winddir_22</th>\n",
       "      <th>windspd_22</th>\n",
       "      <th>Rotors 1 is true</th>\n",
       "    </tr>\n",
       "  </thead>\n",
       "  <tbody>\n",
       "    <tr>\n",
       "      <th>0</th>\n",
       "      <td>NaN</td>\n",
       "      <td>NaN</td>\n",
       "      <td>NaN</td>\n",
       "      <td>NaN</td>\n",
       "      <td>NaN</td>\n",
       "      <td>NaN</td>\n",
       "      <td>NaN</td>\n",
       "      <td>NaN</td>\n",
       "      <td>NaN</td>\n",
       "      <td>NaN</td>\n",
       "      <td>...</td>\n",
       "      <td>NaN</td>\n",
       "      <td>NaN</td>\n",
       "      <td>NaN</td>\n",
       "      <td>NaN</td>\n",
       "      <td>NaN</td>\n",
       "      <td>NaN</td>\n",
       "      <td>NaN</td>\n",
       "      <td>NaN</td>\n",
       "      <td>NaN</td>\n",
       "      <td>NaN</td>\n",
       "    </tr>\n",
       "    <tr>\n",
       "      <th>1</th>\n",
       "      <td>01/01/2015 00:00</td>\n",
       "      <td>283.9</td>\n",
       "      <td>280.7</td>\n",
       "      <td>110.0</td>\n",
       "      <td>4.1</td>\n",
       "      <td>-9999999.0</td>\n",
       "      <td>284.000</td>\n",
       "      <td>283.625</td>\n",
       "      <td>283.250</td>\n",
       "      <td>282.625</td>\n",
       "      <td>...</td>\n",
       "      <td>5.8</td>\n",
       "      <td>341.0</td>\n",
       "      <td>6.0</td>\n",
       "      <td>334.0</td>\n",
       "      <td>6.1</td>\n",
       "      <td>330.0</td>\n",
       "      <td>6.0</td>\n",
       "      <td>329.0</td>\n",
       "      <td>5.8</td>\n",
       "      <td>NaN</td>\n",
       "    </tr>\n",
       "    <tr>\n",
       "      <th>2</th>\n",
       "      <td>01/01/2015 03:00</td>\n",
       "      <td>280.7</td>\n",
       "      <td>279.7</td>\n",
       "      <td>90.0</td>\n",
       "      <td>7.7</td>\n",
       "      <td>-9999999.0</td>\n",
       "      <td>281.500</td>\n",
       "      <td>281.250</td>\n",
       "      <td>280.750</td>\n",
       "      <td>280.250</td>\n",
       "      <td>...</td>\n",
       "      <td>6.8</td>\n",
       "      <td>344.0</td>\n",
       "      <td>5.3</td>\n",
       "      <td>348.0</td>\n",
       "      <td>3.8</td>\n",
       "      <td>360.0</td>\n",
       "      <td>3.2</td>\n",
       "      <td>12.0</td>\n",
       "      <td>3.5</td>\n",
       "      <td>NaN</td>\n",
       "    </tr>\n",
       "    <tr>\n",
       "      <th>3</th>\n",
       "      <td>01/01/2015 06:00</td>\n",
       "      <td>279.8</td>\n",
       "      <td>278.1</td>\n",
       "      <td>100.0</td>\n",
       "      <td>7.7</td>\n",
       "      <td>-9999999.0</td>\n",
       "      <td>279.875</td>\n",
       "      <td>279.625</td>\n",
       "      <td>279.125</td>\n",
       "      <td>278.625</td>\n",
       "      <td>...</td>\n",
       "      <td>6.0</td>\n",
       "      <td>345.0</td>\n",
       "      <td>5.5</td>\n",
       "      <td>358.0</td>\n",
       "      <td>5.0</td>\n",
       "      <td>10.0</td>\n",
       "      <td>4.2</td>\n",
       "      <td>38.0</td>\n",
       "      <td>4.0</td>\n",
       "      <td>NaN</td>\n",
       "    </tr>\n",
       "    <tr>\n",
       "      <th>4</th>\n",
       "      <td>01/01/2015 09:00</td>\n",
       "      <td>279.9</td>\n",
       "      <td>277.0</td>\n",
       "      <td>120.0</td>\n",
       "      <td>7.2</td>\n",
       "      <td>-9999999.0</td>\n",
       "      <td>279.625</td>\n",
       "      <td>279.250</td>\n",
       "      <td>278.875</td>\n",
       "      <td>278.250</td>\n",
       "      <td>...</td>\n",
       "      <td>3.1</td>\n",
       "      <td>338.0</td>\n",
       "      <td>3.5</td>\n",
       "      <td>354.0</td>\n",
       "      <td>3.9</td>\n",
       "      <td>9.0</td>\n",
       "      <td>4.4</td>\n",
       "      <td>22.0</td>\n",
       "      <td>4.6</td>\n",
       "      <td>NaN</td>\n",
       "    </tr>\n",
       "    <tr>\n",
       "      <th>...</th>\n",
       "      <td>...</td>\n",
       "      <td>...</td>\n",
       "      <td>...</td>\n",
       "      <td>...</td>\n",
       "      <td>...</td>\n",
       "      <td>...</td>\n",
       "      <td>...</td>\n",
       "      <td>...</td>\n",
       "      <td>...</td>\n",
       "      <td>...</td>\n",
       "      <td>...</td>\n",
       "      <td>...</td>\n",
       "      <td>...</td>\n",
       "      <td>...</td>\n",
       "      <td>...</td>\n",
       "      <td>...</td>\n",
       "      <td>...</td>\n",
       "      <td>...</td>\n",
       "      <td>...</td>\n",
       "      <td>...</td>\n",
       "      <td>...</td>\n",
       "    </tr>\n",
       "    <tr>\n",
       "      <th>20101</th>\n",
       "      <td>31/12/2020 06:00</td>\n",
       "      <td>276.7</td>\n",
       "      <td>275.5</td>\n",
       "      <td>270.0</td>\n",
       "      <td>3.6</td>\n",
       "      <td>-9999999.0</td>\n",
       "      <td>277.875</td>\n",
       "      <td>277.750</td>\n",
       "      <td>277.625</td>\n",
       "      <td>277.500</td>\n",
       "      <td>...</td>\n",
       "      <td>12.1</td>\n",
       "      <td>223.0</td>\n",
       "      <td>11.8</td>\n",
       "      <td>221.0</td>\n",
       "      <td>11.4</td>\n",
       "      <td>219.0</td>\n",
       "      <td>11.3</td>\n",
       "      <td>215.0</td>\n",
       "      <td>11.4</td>\n",
       "      <td>NaN</td>\n",
       "    </tr>\n",
       "    <tr>\n",
       "      <th>20102</th>\n",
       "      <td>31/12/2020 09:00</td>\n",
       "      <td>277.9</td>\n",
       "      <td>276.9</td>\n",
       "      <td>270.0</td>\n",
       "      <td>3.1</td>\n",
       "      <td>-9999999.0</td>\n",
       "      <td>277.875</td>\n",
       "      <td>277.625</td>\n",
       "      <td>277.875</td>\n",
       "      <td>277.875</td>\n",
       "      <td>...</td>\n",
       "      <td>10.2</td>\n",
       "      <td>230.0</td>\n",
       "      <td>10.8</td>\n",
       "      <td>230.0</td>\n",
       "      <td>11.6</td>\n",
       "      <td>227.0</td>\n",
       "      <td>12.3</td>\n",
       "      <td>222.0</td>\n",
       "      <td>12.0</td>\n",
       "      <td>NaN</td>\n",
       "    </tr>\n",
       "    <tr>\n",
       "      <th>20103</th>\n",
       "      <td>31/12/2020 12:00</td>\n",
       "      <td>283.5</td>\n",
       "      <td>277.1</td>\n",
       "      <td>220.0</td>\n",
       "      <td>3.6</td>\n",
       "      <td>-9999999.0</td>\n",
       "      <td>281.125</td>\n",
       "      <td>280.625</td>\n",
       "      <td>280.125</td>\n",
       "      <td>279.625</td>\n",
       "      <td>...</td>\n",
       "      <td>10.3</td>\n",
       "      <td>218.0</td>\n",
       "      <td>11.9</td>\n",
       "      <td>221.0</td>\n",
       "      <td>12.8</td>\n",
       "      <td>222.0</td>\n",
       "      <td>11.9</td>\n",
       "      <td>225.0</td>\n",
       "      <td>10.6</td>\n",
       "      <td>NaN</td>\n",
       "    </tr>\n",
       "    <tr>\n",
       "      <th>20104</th>\n",
       "      <td>31/12/2020 15:00</td>\n",
       "      <td>286.1</td>\n",
       "      <td>276.9</td>\n",
       "      <td>250.0</td>\n",
       "      <td>3.6</td>\n",
       "      <td>-9999999.0</td>\n",
       "      <td>284.625</td>\n",
       "      <td>284.125</td>\n",
       "      <td>283.625</td>\n",
       "      <td>283.000</td>\n",
       "      <td>...</td>\n",
       "      <td>9.4</td>\n",
       "      <td>218.0</td>\n",
       "      <td>8.6</td>\n",
       "      <td>212.0</td>\n",
       "      <td>8.3</td>\n",
       "      <td>218.0</td>\n",
       "      <td>8.7</td>\n",
       "      <td>226.0</td>\n",
       "      <td>10.1</td>\n",
       "      <td>NaN</td>\n",
       "    </tr>\n",
       "    <tr>\n",
       "      <th>20105</th>\n",
       "      <td>01/01/2021 00:00</td>\n",
       "      <td>285.1</td>\n",
       "      <td>279.3</td>\n",
       "      <td>300.0</td>\n",
       "      <td>6.2</td>\n",
       "      <td>-9999999.0</td>\n",
       "      <td>284.250</td>\n",
       "      <td>284.000</td>\n",
       "      <td>283.750</td>\n",
       "      <td>283.250</td>\n",
       "      <td>...</td>\n",
       "      <td>8.6</td>\n",
       "      <td>241.0</td>\n",
       "      <td>10.2</td>\n",
       "      <td>236.0</td>\n",
       "      <td>10.5</td>\n",
       "      <td>232.0</td>\n",
       "      <td>10.5</td>\n",
       "      <td>227.0</td>\n",
       "      <td>11.3</td>\n",
       "      <td>NaN</td>\n",
       "    </tr>\n",
       "  </tbody>\n",
       "</table>\n",
       "<p>20106 rows × 95 columns</p>\n",
       "</div>"
      ],
      "text/plain": [
       "                    DTG  air_temp_obs  dewpoint_obs  wind_direction_obs  \\\n",
       "0                   NaN           NaN           NaN                 NaN   \n",
       "1      01/01/2015 00:00         283.9         280.7               110.0   \n",
       "2      01/01/2015 03:00         280.7         279.7                90.0   \n",
       "3      01/01/2015 06:00         279.8         278.1               100.0   \n",
       "4      01/01/2015 09:00         279.9         277.0               120.0   \n",
       "...                 ...           ...           ...                 ...   \n",
       "20101  31/12/2020 06:00         276.7         275.5               270.0   \n",
       "20102  31/12/2020 09:00         277.9         276.9               270.0   \n",
       "20103  31/12/2020 12:00         283.5         277.1               220.0   \n",
       "20104  31/12/2020 15:00         286.1         276.9               250.0   \n",
       "20105  01/01/2021 00:00         285.1         279.3               300.0   \n",
       "\n",
       "       wind_speed_obs  wind_gust_obs  air_temp_1  air_temp_2  air_temp_3  \\\n",
       "0                 NaN            NaN         NaN         NaN         NaN   \n",
       "1                 4.1     -9999999.0     284.000     283.625     283.250   \n",
       "2                 7.7     -9999999.0     281.500     281.250     280.750   \n",
       "3                 7.7     -9999999.0     279.875     279.625     279.125   \n",
       "4                 7.2     -9999999.0     279.625     279.250     278.875   \n",
       "...               ...            ...         ...         ...         ...   \n",
       "20101             3.6     -9999999.0     277.875     277.750     277.625   \n",
       "20102             3.1     -9999999.0     277.875     277.625     277.875   \n",
       "20103             3.6     -9999999.0     281.125     280.625     280.125   \n",
       "20104             3.6     -9999999.0     284.625     284.125     283.625   \n",
       "20105             6.2     -9999999.0     284.250     284.000     283.750   \n",
       "\n",
       "       air_temp_4  ...  windspd_18  winddir_19  windspd_19  winddir_20  \\\n",
       "0             NaN  ...         NaN         NaN         NaN         NaN   \n",
       "1         282.625  ...         5.8       341.0         6.0       334.0   \n",
       "2         280.250  ...         6.8       344.0         5.3       348.0   \n",
       "3         278.625  ...         6.0       345.0         5.5       358.0   \n",
       "4         278.250  ...         3.1       338.0         3.5       354.0   \n",
       "...           ...  ...         ...         ...         ...         ...   \n",
       "20101     277.500  ...        12.1       223.0        11.8       221.0   \n",
       "20102     277.875  ...        10.2       230.0        10.8       230.0   \n",
       "20103     279.625  ...        10.3       218.0        11.9       221.0   \n",
       "20104     283.000  ...         9.4       218.0         8.6       212.0   \n",
       "20105     283.250  ...         8.6       241.0        10.2       236.0   \n",
       "\n",
       "       windspd_20  winddir_21  windspd_21  winddir_22  windspd_22  \\\n",
       "0             NaN         NaN         NaN         NaN         NaN   \n",
       "1             6.1       330.0         6.0       329.0         5.8   \n",
       "2             3.8       360.0         3.2        12.0         3.5   \n",
       "3             5.0        10.0         4.2        38.0         4.0   \n",
       "4             3.9         9.0         4.4        22.0         4.6   \n",
       "...           ...         ...         ...         ...         ...   \n",
       "20101        11.4       219.0        11.3       215.0        11.4   \n",
       "20102        11.6       227.0        12.3       222.0        12.0   \n",
       "20103        12.8       222.0        11.9       225.0        10.6   \n",
       "20104         8.3       218.0         8.7       226.0        10.1   \n",
       "20105        10.5       232.0        10.5       227.0        11.3   \n",
       "\n",
       "       Rotors 1 is true  \n",
       "0                   NaN  \n",
       "1                   NaN  \n",
       "2                   NaN  \n",
       "3                   NaN  \n",
       "4                   NaN  \n",
       "...                 ...  \n",
       "20101               NaN  \n",
       "20102               NaN  \n",
       "20103               NaN  \n",
       "20104               NaN  \n",
       "20105               NaN  \n",
       "\n",
       "[20106 rows x 95 columns]"
      ]
     },
     "execution_count": 12,
     "metadata": {},
     "output_type": "execute_result"
    }
   ],
   "source": [
    "falklands_df"
   ]
  },
  {
   "cell_type": "code",
   "execution_count": 13,
   "id": "2643e469-3c3a-468d-95b1-40df8aedb431",
   "metadata": {},
   "outputs": [
    {
     "data": {
      "text/plain": [
       "Index(['DTG', 'air_temp_obs', 'dewpoint_obs', 'wind_direction_obs',\n",
       "       'wind_speed_obs', 'wind_gust_obs', 'air_temp_1', 'air_temp_2',\n",
       "       'air_temp_3', 'air_temp_4', 'air_temp_5', 'air_temp_6', 'air_temp_7',\n",
       "       'air_temp_8', 'air_temp_9', 'air_temp_10', 'air_temp_11', 'air_temp_12',\n",
       "       'air_temp_13', 'air_temp_14', 'air_temp_15', 'air_temp_16',\n",
       "       'air_temp_17', 'air_temp_18', 'air_temp_19', 'air_temp_20',\n",
       "       'air_temp_21', 'air_temp_22', 'sh_1', 'sh_2', 'sh_3', 'sh_4', 'sh_5',\n",
       "       'sh_6', 'sh_7', 'sh_8', 'sh_9', 'sh_10', 'sh_11', 'sh_12', 'sh_13',\n",
       "       'sh_14', 'sh_15', 'sh_16', 'sh_17', 'sh_18', 'sh_19', 'sh_20', 'sh_21',\n",
       "       'sh_22', 'winddir_1', 'windspd_1', 'winddir_2', 'windspd_2',\n",
       "       'winddir_3', 'windspd_3', 'winddir_4', 'windspd_4', 'winddir_5',\n",
       "       'windspd_5', 'winddir_6', 'windspd_6', 'winddir_7', 'windspd_7',\n",
       "       'winddir_8', 'windspd_8', 'winddir_9', 'windspd_9', 'winddir_10',\n",
       "       'windspd_10', 'winddir_11', 'windspd_11', 'winddir_12', 'windspd_12',\n",
       "       'winddir_13', 'windspd_13', 'winddir_14', 'windspd_14', 'winddir_15',\n",
       "       'windspd_15', 'winddir_16', 'windspd_16', 'winddir_17', 'windspd_17',\n",
       "       'winddir_18', 'windspd_18', 'winddir_19', 'windspd_19', 'winddir_20',\n",
       "       'windspd_20', 'winddir_21', 'windspd_21', 'winddir_22', 'windspd_22',\n",
       "       'Rotors 1 is true'],\n",
       "      dtype='object')"
      ]
     },
     "execution_count": 13,
     "metadata": {},
     "output_type": "execute_result"
    }
   ],
   "source": [
    "falklands_df.columns"
   ]
  },
  {
   "cell_type": "markdown",
   "id": "66b6938e-c5ab-4afa-a287-b1954dcef7aa",
   "metadata": {
    "jp-MarkdownHeadingCollapsed": true
   },
   "source": [
    "### Clean data"
   ]
  },
  {
   "cell_type": "markdown",
   "id": "4d6699d1-6b34-4f2d-a7f6-1fb99699b0b2",
   "metadata": {},
   "source": [
    "We perform some initial cleaning of the dataset to make it easier to work with. Ideally this could be done once and saved out for future use."
   ]
  },
  {
   "cell_type": "code",
   "execution_count": 14,
   "id": "2fb3d1b3-6cd7-4ddb-b92b-2256e13cdea5",
   "metadata": {
    "tags": []
   },
   "outputs": [
    {
     "data": {
      "text/html": [
       "<div>\n",
       "<style scoped>\n",
       "    .dataframe tbody tr th:only-of-type {\n",
       "        vertical-align: middle;\n",
       "    }\n",
       "\n",
       "    .dataframe tbody tr th {\n",
       "        vertical-align: top;\n",
       "    }\n",
       "\n",
       "    .dataframe thead th {\n",
       "        text-align: right;\n",
       "    }\n",
       "</style>\n",
       "<table border=\"1\" class=\"dataframe\">\n",
       "  <thead>\n",
       "    <tr style=\"text-align: right;\">\n",
       "      <th></th>\n",
       "      <th>DTG</th>\n",
       "      <th>air_temp_obs</th>\n",
       "      <th>dewpoint_obs</th>\n",
       "      <th>wind_direction_obs</th>\n",
       "      <th>wind_speed_obs</th>\n",
       "      <th>wind_gust_obs</th>\n",
       "      <th>air_temp_1</th>\n",
       "      <th>air_temp_2</th>\n",
       "      <th>air_temp_3</th>\n",
       "      <th>air_temp_4</th>\n",
       "      <th>...</th>\n",
       "      <th>windspd_18</th>\n",
       "      <th>winddir_19</th>\n",
       "      <th>windspd_19</th>\n",
       "      <th>winddir_20</th>\n",
       "      <th>windspd_20</th>\n",
       "      <th>winddir_21</th>\n",
       "      <th>windspd_21</th>\n",
       "      <th>winddir_22</th>\n",
       "      <th>windspd_22</th>\n",
       "      <th>rotors</th>\n",
       "    </tr>\n",
       "  </thead>\n",
       "  <tbody>\n",
       "    <tr>\n",
       "      <th>1</th>\n",
       "      <td>2015-01-01 00:00:00</td>\n",
       "      <td>283.9</td>\n",
       "      <td>280.7</td>\n",
       "      <td>110.0</td>\n",
       "      <td>4.1</td>\n",
       "      <td>-9999999.0</td>\n",
       "      <td>284.000</td>\n",
       "      <td>283.625</td>\n",
       "      <td>283.250</td>\n",
       "      <td>282.625</td>\n",
       "      <td>...</td>\n",
       "      <td>5.8</td>\n",
       "      <td>341.0</td>\n",
       "      <td>6.0</td>\n",
       "      <td>334.0</td>\n",
       "      <td>6.1</td>\n",
       "      <td>330.0</td>\n",
       "      <td>6.0</td>\n",
       "      <td>329.0</td>\n",
       "      <td>5.8</td>\n",
       "      <td>0.0</td>\n",
       "    </tr>\n",
       "    <tr>\n",
       "      <th>2</th>\n",
       "      <td>2015-01-01 03:00:00</td>\n",
       "      <td>280.7</td>\n",
       "      <td>279.7</td>\n",
       "      <td>90.0</td>\n",
       "      <td>7.7</td>\n",
       "      <td>-9999999.0</td>\n",
       "      <td>281.500</td>\n",
       "      <td>281.250</td>\n",
       "      <td>280.750</td>\n",
       "      <td>280.250</td>\n",
       "      <td>...</td>\n",
       "      <td>6.8</td>\n",
       "      <td>344.0</td>\n",
       "      <td>5.3</td>\n",
       "      <td>348.0</td>\n",
       "      <td>3.8</td>\n",
       "      <td>360.0</td>\n",
       "      <td>3.2</td>\n",
       "      <td>12.0</td>\n",
       "      <td>3.5</td>\n",
       "      <td>0.0</td>\n",
       "    </tr>\n",
       "    <tr>\n",
       "      <th>3</th>\n",
       "      <td>2015-01-01 06:00:00</td>\n",
       "      <td>279.8</td>\n",
       "      <td>278.1</td>\n",
       "      <td>100.0</td>\n",
       "      <td>7.7</td>\n",
       "      <td>-9999999.0</td>\n",
       "      <td>279.875</td>\n",
       "      <td>279.625</td>\n",
       "      <td>279.125</td>\n",
       "      <td>278.625</td>\n",
       "      <td>...</td>\n",
       "      <td>6.0</td>\n",
       "      <td>345.0</td>\n",
       "      <td>5.5</td>\n",
       "      <td>358.0</td>\n",
       "      <td>5.0</td>\n",
       "      <td>10.0</td>\n",
       "      <td>4.2</td>\n",
       "      <td>38.0</td>\n",
       "      <td>4.0</td>\n",
       "      <td>0.0</td>\n",
       "    </tr>\n",
       "    <tr>\n",
       "      <th>4</th>\n",
       "      <td>2015-01-01 09:00:00</td>\n",
       "      <td>279.9</td>\n",
       "      <td>277.0</td>\n",
       "      <td>120.0</td>\n",
       "      <td>7.2</td>\n",
       "      <td>-9999999.0</td>\n",
       "      <td>279.625</td>\n",
       "      <td>279.250</td>\n",
       "      <td>278.875</td>\n",
       "      <td>278.250</td>\n",
       "      <td>...</td>\n",
       "      <td>3.1</td>\n",
       "      <td>338.0</td>\n",
       "      <td>3.5</td>\n",
       "      <td>354.0</td>\n",
       "      <td>3.9</td>\n",
       "      <td>9.0</td>\n",
       "      <td>4.4</td>\n",
       "      <td>22.0</td>\n",
       "      <td>4.6</td>\n",
       "      <td>0.0</td>\n",
       "    </tr>\n",
       "    <tr>\n",
       "      <th>5</th>\n",
       "      <td>2015-01-01 12:00:00</td>\n",
       "      <td>279.9</td>\n",
       "      <td>277.4</td>\n",
       "      <td>120.0</td>\n",
       "      <td>8.7</td>\n",
       "      <td>-9999999.0</td>\n",
       "      <td>279.250</td>\n",
       "      <td>278.875</td>\n",
       "      <td>278.375</td>\n",
       "      <td>277.875</td>\n",
       "      <td>...</td>\n",
       "      <td>1.6</td>\n",
       "      <td>273.0</td>\n",
       "      <td>2.0</td>\n",
       "      <td>303.0</td>\n",
       "      <td>2.3</td>\n",
       "      <td>329.0</td>\n",
       "      <td>2.5</td>\n",
       "      <td>338.0</td>\n",
       "      <td>2.4</td>\n",
       "      <td>0.0</td>\n",
       "    </tr>\n",
       "    <tr>\n",
       "      <th>...</th>\n",
       "      <td>...</td>\n",
       "      <td>...</td>\n",
       "      <td>...</td>\n",
       "      <td>...</td>\n",
       "      <td>...</td>\n",
       "      <td>...</td>\n",
       "      <td>...</td>\n",
       "      <td>...</td>\n",
       "      <td>...</td>\n",
       "      <td>...</td>\n",
       "      <td>...</td>\n",
       "      <td>...</td>\n",
       "      <td>...</td>\n",
       "      <td>...</td>\n",
       "      <td>...</td>\n",
       "      <td>...</td>\n",
       "      <td>...</td>\n",
       "      <td>...</td>\n",
       "      <td>...</td>\n",
       "      <td>...</td>\n",
       "      <td>...</td>\n",
       "    </tr>\n",
       "    <tr>\n",
       "      <th>20101</th>\n",
       "      <td>2020-12-31 06:00:00</td>\n",
       "      <td>276.7</td>\n",
       "      <td>275.5</td>\n",
       "      <td>270.0</td>\n",
       "      <td>3.6</td>\n",
       "      <td>-9999999.0</td>\n",
       "      <td>277.875</td>\n",
       "      <td>277.750</td>\n",
       "      <td>277.625</td>\n",
       "      <td>277.500</td>\n",
       "      <td>...</td>\n",
       "      <td>12.1</td>\n",
       "      <td>223.0</td>\n",
       "      <td>11.8</td>\n",
       "      <td>221.0</td>\n",
       "      <td>11.4</td>\n",
       "      <td>219.0</td>\n",
       "      <td>11.3</td>\n",
       "      <td>215.0</td>\n",
       "      <td>11.4</td>\n",
       "      <td>0.0</td>\n",
       "    </tr>\n",
       "    <tr>\n",
       "      <th>20102</th>\n",
       "      <td>2020-12-31 09:00:00</td>\n",
       "      <td>277.9</td>\n",
       "      <td>276.9</td>\n",
       "      <td>270.0</td>\n",
       "      <td>3.1</td>\n",
       "      <td>-9999999.0</td>\n",
       "      <td>277.875</td>\n",
       "      <td>277.625</td>\n",
       "      <td>277.875</td>\n",
       "      <td>277.875</td>\n",
       "      <td>...</td>\n",
       "      <td>10.2</td>\n",
       "      <td>230.0</td>\n",
       "      <td>10.8</td>\n",
       "      <td>230.0</td>\n",
       "      <td>11.6</td>\n",
       "      <td>227.0</td>\n",
       "      <td>12.3</td>\n",
       "      <td>222.0</td>\n",
       "      <td>12.0</td>\n",
       "      <td>0.0</td>\n",
       "    </tr>\n",
       "    <tr>\n",
       "      <th>20103</th>\n",
       "      <td>2020-12-31 12:00:00</td>\n",
       "      <td>283.5</td>\n",
       "      <td>277.1</td>\n",
       "      <td>220.0</td>\n",
       "      <td>3.6</td>\n",
       "      <td>-9999999.0</td>\n",
       "      <td>281.125</td>\n",
       "      <td>280.625</td>\n",
       "      <td>280.125</td>\n",
       "      <td>279.625</td>\n",
       "      <td>...</td>\n",
       "      <td>10.3</td>\n",
       "      <td>218.0</td>\n",
       "      <td>11.9</td>\n",
       "      <td>221.0</td>\n",
       "      <td>12.8</td>\n",
       "      <td>222.0</td>\n",
       "      <td>11.9</td>\n",
       "      <td>225.0</td>\n",
       "      <td>10.6</td>\n",
       "      <td>0.0</td>\n",
       "    </tr>\n",
       "    <tr>\n",
       "      <th>20104</th>\n",
       "      <td>2020-12-31 15:00:00</td>\n",
       "      <td>286.1</td>\n",
       "      <td>276.9</td>\n",
       "      <td>250.0</td>\n",
       "      <td>3.6</td>\n",
       "      <td>-9999999.0</td>\n",
       "      <td>284.625</td>\n",
       "      <td>284.125</td>\n",
       "      <td>283.625</td>\n",
       "      <td>283.000</td>\n",
       "      <td>...</td>\n",
       "      <td>9.4</td>\n",
       "      <td>218.0</td>\n",
       "      <td>8.6</td>\n",
       "      <td>212.0</td>\n",
       "      <td>8.3</td>\n",
       "      <td>218.0</td>\n",
       "      <td>8.7</td>\n",
       "      <td>226.0</td>\n",
       "      <td>10.1</td>\n",
       "      <td>0.0</td>\n",
       "    </tr>\n",
       "    <tr>\n",
       "      <th>20105</th>\n",
       "      <td>2021-01-01 00:00:00</td>\n",
       "      <td>285.1</td>\n",
       "      <td>279.3</td>\n",
       "      <td>300.0</td>\n",
       "      <td>6.2</td>\n",
       "      <td>-9999999.0</td>\n",
       "      <td>284.250</td>\n",
       "      <td>284.000</td>\n",
       "      <td>283.750</td>\n",
       "      <td>283.250</td>\n",
       "      <td>...</td>\n",
       "      <td>8.6</td>\n",
       "      <td>241.0</td>\n",
       "      <td>10.2</td>\n",
       "      <td>236.0</td>\n",
       "      <td>10.5</td>\n",
       "      <td>232.0</td>\n",
       "      <td>10.5</td>\n",
       "      <td>227.0</td>\n",
       "      <td>11.3</td>\n",
       "      <td>0.0</td>\n",
       "    </tr>\n",
       "  </tbody>\n",
       "</table>\n",
       "<p>17486 rows × 95 columns</p>\n",
       "</div>"
      ],
      "text/plain": [
       "                      DTG  air_temp_obs  dewpoint_obs  wind_direction_obs  \\\n",
       "1     2015-01-01 00:00:00         283.9         280.7               110.0   \n",
       "2     2015-01-01 03:00:00         280.7         279.7                90.0   \n",
       "3     2015-01-01 06:00:00         279.8         278.1               100.0   \n",
       "4     2015-01-01 09:00:00         279.9         277.0               120.0   \n",
       "5     2015-01-01 12:00:00         279.9         277.4               120.0   \n",
       "...                   ...           ...           ...                 ...   \n",
       "20101 2020-12-31 06:00:00         276.7         275.5               270.0   \n",
       "20102 2020-12-31 09:00:00         277.9         276.9               270.0   \n",
       "20103 2020-12-31 12:00:00         283.5         277.1               220.0   \n",
       "20104 2020-12-31 15:00:00         286.1         276.9               250.0   \n",
       "20105 2021-01-01 00:00:00         285.1         279.3               300.0   \n",
       "\n",
       "       wind_speed_obs  wind_gust_obs  air_temp_1  air_temp_2  air_temp_3  \\\n",
       "1                 4.1     -9999999.0     284.000     283.625     283.250   \n",
       "2                 7.7     -9999999.0     281.500     281.250     280.750   \n",
       "3                 7.7     -9999999.0     279.875     279.625     279.125   \n",
       "4                 7.2     -9999999.0     279.625     279.250     278.875   \n",
       "5                 8.7     -9999999.0     279.250     278.875     278.375   \n",
       "...               ...            ...         ...         ...         ...   \n",
       "20101             3.6     -9999999.0     277.875     277.750     277.625   \n",
       "20102             3.1     -9999999.0     277.875     277.625     277.875   \n",
       "20103             3.6     -9999999.0     281.125     280.625     280.125   \n",
       "20104             3.6     -9999999.0     284.625     284.125     283.625   \n",
       "20105             6.2     -9999999.0     284.250     284.000     283.750   \n",
       "\n",
       "       air_temp_4  ...  windspd_18  winddir_19  windspd_19  winddir_20  \\\n",
       "1         282.625  ...         5.8       341.0         6.0       334.0   \n",
       "2         280.250  ...         6.8       344.0         5.3       348.0   \n",
       "3         278.625  ...         6.0       345.0         5.5       358.0   \n",
       "4         278.250  ...         3.1       338.0         3.5       354.0   \n",
       "5         277.875  ...         1.6       273.0         2.0       303.0   \n",
       "...           ...  ...         ...         ...         ...         ...   \n",
       "20101     277.500  ...        12.1       223.0        11.8       221.0   \n",
       "20102     277.875  ...        10.2       230.0        10.8       230.0   \n",
       "20103     279.625  ...        10.3       218.0        11.9       221.0   \n",
       "20104     283.000  ...         9.4       218.0         8.6       212.0   \n",
       "20105     283.250  ...         8.6       241.0        10.2       236.0   \n",
       "\n",
       "       windspd_20  winddir_21  windspd_21  winddir_22  windspd_22  rotors  \n",
       "1             6.1       330.0         6.0       329.0         5.8     0.0  \n",
       "2             3.8       360.0         3.2        12.0         3.5     0.0  \n",
       "3             5.0        10.0         4.2        38.0         4.0     0.0  \n",
       "4             3.9         9.0         4.4        22.0         4.6     0.0  \n",
       "5             2.3       329.0         2.5       338.0         2.4     0.0  \n",
       "...           ...         ...         ...         ...         ...     ...  \n",
       "20101        11.4       219.0        11.3       215.0        11.4     0.0  \n",
       "20102        11.6       227.0        12.3       222.0        12.0     0.0  \n",
       "20103        12.8       222.0        11.9       225.0        10.6     0.0  \n",
       "20104         8.3       218.0         8.7       226.0        10.1     0.0  \n",
       "20105        10.5       232.0        10.5       227.0        11.3     0.0  \n",
       "\n",
       "[17486 rows x 95 columns]"
      ]
     },
     "execution_count": 14,
     "metadata": {},
     "output_type": "execute_result"
    }
   ],
   "source": [
    "# rename target variable\n",
    "falklands_df = falklands_df.rename({'Rotors 1 is true': 'rotors'},axis=1)\n",
    "\n",
    "# set missing values to 0\n",
    "falklands_df.loc[falklands_df[falklands_df['rotors'].isna()].index, 'rotors'] = 0\n",
    "\n",
    "# Create date and times\n",
    "falklands_df['DTG'] = pandas.to_datetime(falklands_df['DTG'])\n",
    "\n",
    "# Drop duplicate dates and times\n",
    "falklands_df = falklands_df.drop_duplicates(subset=['DTG'])\n",
    "\n",
    "# remove observations with no dates and times\n",
    "falklands_df = falklands_df[~falklands_df['DTG'].isnull()]\n",
    "\n",
    "# subset observation so that wind speed, air temp, wind direction and dewpoints\n",
    "# are all greater than 0  (temperatures are in kevlen\n",
    "falklands_df = falklands_df[(falklands_df['wind_speed_obs'] >= 0.0) &\n",
    "                            (falklands_df['air_temp_obs'] >= 0.0) &\n",
    "                            (falklands_df['wind_direction_obs'] >= 0.0) &\n",
    "                            (falklands_df['dewpoint_obs'] >= 0.0) \n",
    "                           ]\n",
    "falklands_df"
   ]
  },
  {
   "cell_type": "markdown",
   "id": "e59ad8c2-6c51-498c-bb85-c5c400c1f1e9",
   "metadata": {},
   "source": [
    "### Exploring class imbalance"
   ]
  },
  {
   "cell_type": "markdown",
   "id": "ccc4305c-a573-4950-b66b-43c52ee2f3e8",
   "metadata": {
    "jp-MarkdownHeadingCollapsed": true
   },
   "source": [
    "#### Class imbalance"
   ]
  },
  {
   "cell_type": "markdown",
   "id": "4012374d-291e-47fd-a56d-ed3d6125d939",
   "metadata": {},
   "source": [
    "Our target variables is the *rotors* column, labelling whether or not one or more rotors occurred in a given 3 hour period."
   ]
  },
  {
   "cell_type": "code",
   "execution_count": 15,
   "id": "8872aba2-5442-40dc-8513-1bbf8baa7e42",
   "metadata": {},
   "outputs": [
    {
     "data": {
      "text/plain": [
       "0.0    17037\n",
       "1.0      449\n",
       "Name: rotors, dtype: int64"
      ]
     },
     "execution_count": 15,
     "metadata": {},
     "output_type": "execute_result"
    }
   ],
   "source": [
    "# Frequency table of events\n",
    "\n",
    "falklands_df['rotors'].value_counts()"
   ]
  },
  {
   "cell_type": "markdown",
   "id": "d121cb54-cad1-4213-b68a-ccce047b82a4",
   "metadata": {},
   "source": [
    "We see that this is an *imbalanced* classification problem. As a result we will have to consider carefully how to take this into account in our ML pipeline. This is because if we don't <mark> the classifier will get a good score by never predicting rotors, </mark> in this particular problem an accuracy of greater than 97% is achieved by this approach.  This is of course not a useful result for this problem based on what we want to achieve. Some of the ways we can take the class imbalance into account include:\n",
    "* *train/test split* - Ensure the distribution between classes in the train, validation and test sets is close to the distribution for the whole dataset, and also that this distribution is representative of the real-world problem.\n",
    "* *possible resampling strategies* - One can resample/undersample/oversample training data so the algorithm is presented with balanced training data\n",
    "* *classification metrics* - Ensure that the metric represents the *business need* and *actual costs* of making one prediction or another. In this, failing to predict a rotor event that occurs is very costly and should be penalised by the metric we use, where as predicting a rotor event that does not occur (false positive) is still ndesriable, but less costly so should be less penalised by our algorithm."
   ]
  },
  {
   "cell_type": "code",
   "execution_count": 16,
   "id": "7a9355b9-3143-43a7-8de5-bdcd8b4a3953",
   "metadata": {},
   "outputs": [
    {
     "data": {
      "text/plain": [
       "Index(['DTG', 'air_temp_obs', 'dewpoint_obs', 'wind_direction_obs',\n",
       "       'wind_speed_obs', 'wind_gust_obs', 'air_temp_1', 'air_temp_2',\n",
       "       'air_temp_3', 'air_temp_4', 'air_temp_5', 'air_temp_6', 'air_temp_7',\n",
       "       'air_temp_8', 'air_temp_9', 'air_temp_10', 'air_temp_11', 'air_temp_12',\n",
       "       'air_temp_13', 'air_temp_14', 'air_temp_15', 'air_temp_16',\n",
       "       'air_temp_17', 'air_temp_18', 'air_temp_19', 'air_temp_20',\n",
       "       'air_temp_21', 'air_temp_22', 'sh_1', 'sh_2', 'sh_3', 'sh_4', 'sh_5',\n",
       "       'sh_6', 'sh_7', 'sh_8', 'sh_9', 'sh_10', 'sh_11', 'sh_12', 'sh_13',\n",
       "       'sh_14', 'sh_15', 'sh_16', 'sh_17', 'sh_18', 'sh_19', 'sh_20', 'sh_21',\n",
       "       'sh_22', 'winddir_1', 'windspd_1', 'winddir_2', 'windspd_2',\n",
       "       'winddir_3', 'windspd_3', 'winddir_4', 'windspd_4', 'winddir_5',\n",
       "       'windspd_5', 'winddir_6', 'windspd_6', 'winddir_7', 'windspd_7',\n",
       "       'winddir_8', 'windspd_8', 'winddir_9', 'windspd_9', 'winddir_10',\n",
       "       'windspd_10', 'winddir_11', 'windspd_11', 'winddir_12', 'windspd_12',\n",
       "       'winddir_13', 'windspd_13', 'winddir_14', 'windspd_14', 'winddir_15',\n",
       "       'windspd_15', 'winddir_16', 'windspd_16', 'winddir_17', 'windspd_17',\n",
       "       'winddir_18', 'windspd_18', 'winddir_19', 'windspd_19', 'winddir_20',\n",
       "       'windspd_20', 'winddir_21', 'windspd_21', 'winddir_22', 'windspd_22',\n",
       "       'rotors'],\n",
       "      dtype='object')"
      ]
     },
     "execution_count": 16,
     "metadata": {},
     "output_type": "execute_result"
    }
   ],
   "source": [
    "falklands_df.columns"
   ]
  },
  {
   "cell_type": "markdown",
   "id": "32ecb5ed-b32e-4500-a4d9-597788f232b0",
   "metadata": {},
   "source": [
    "Above we see the forecast variables from the Met Office Global Forecast model, which we want to use an input to our algorithm. We see there are 4 variables, each on 22 height levels, including\n",
    "* temperature\n",
    "* specific humidity\n",
    "* wind speed\n",
    "* wind direction"
   ]
  },
  {
   "cell_type": "markdown",
   "id": "13b01037-db7e-4965-be42-026fe3e1af55",
   "metadata": {},
   "source": [
    "Next we split the data into two groups, to see how the distribution of input variables differs for samples with and without rotors."
   ]
  },
  {
   "cell_type": "code",
   "execution_count": 17,
   "id": "5245c7a1-f6b8-4cb0-b7ec-9dbf64f9d7f2",
   "metadata": {},
   "outputs": [],
   "source": [
    "# create a rotors and no rotors dataframe\n",
    "no_rotors_df = falklands_df[falklands_df['rotors'] ==False]\n",
    "rotors_present_df = falklands_df[falklands_df['rotors'] == True]"
   ]
  },
  {
   "cell_type": "code",
   "execution_count": 18,
   "id": "8a380eb0-4467-4aec-bd94-4fff8093f157",
   "metadata": {},
   "outputs": [
    {
     "data": {
      "text/plain": [
       "(17037, 95)"
      ]
     },
     "execution_count": 18,
     "metadata": {},
     "output_type": "execute_result"
    }
   ],
   "source": [
    "no_rotors_df.shape"
   ]
  },
  {
   "cell_type": "code",
   "execution_count": 19,
   "id": "9c7a73b9-0067-45c4-b6ea-1bb6c35c0a1b",
   "metadata": {},
   "outputs": [
    {
     "data": {
      "text/plain": [
       "(449, 95)"
      ]
     },
     "execution_count": 19,
     "metadata": {},
     "output_type": "execute_result"
    }
   ],
   "source": [
    "rotors_present_df.shape"
   ]
  },
  {
   "cell_type": "markdown",
   "id": "ed121b1e-de26-42c8-9164-c3f5aae9f198",
   "metadata": {},
   "source": [
    "17037 events where a rotor isn't present, 449 events where a rotor is"
   ]
  },
  {
   "cell_type": "markdown",
   "id": "98bb1c8e-ff06-4d13-8ca0-4fbf7511af28",
   "metadata": {
    "jp-MarkdownHeadingCollapsed": true
   },
   "source": [
    "#### Distribution of meteorological variables"
   ]
  },
  {
   "cell_type": "markdown",
   "id": "53e58629-1ea5-4e65-991e-46cd6f44cd19",
   "metadata": {},
   "source": [
    "We start by looking at the distributions of surface observations"
   ]
  },
  {
   "cell_type": "code",
   "execution_count": 20,
   "id": "87ce6744-b5f5-471a-843c-ff1f786eef65",
   "metadata": {},
   "outputs": [
    {
     "data": {
      "image/png": "[encoded data removed]",
      "text/plain": [
       "<Figure size 1600x800 with 2 Axes>"
      ]
     },
     "metadata": {},
     "output_type": "display_data"
    }
   ],
   "source": [
    "# Create figures\n",
    "fig1 = matplotlib.pyplot.figure('distribution_wind_spevalue_countsirection', \n",
    "                                figsize=(16,8))\n",
    "\n",
    "ax1 = fig1.add_subplot(1,2,1,title='distribution of observed wind speeds')\n",
    "\n",
    "# In the first plot create histogram of wind speed with 20 bins\n",
    "falklands_df['wind_speed_obs'].plot.hist(ax=ax1,bins=20)\n",
    "ax1.set_xlabel('windspeed (m/s-1)',)  # x-label\n",
    "ax1.set_ylim((0,3500))      # y-limits\n",
    "\n",
    "# second plot\n",
    "ax1 = fig1.add_subplot(1,2,2,title='distribution of observed wind directions')\n",
    "falklands_df['wind_direction_obs'].plot.hist(ax=ax1,bins=20)\n",
    "ax1.set_xlabel('wind direction (deg)',)\n",
    "ax1.set_ylim((0,3500))\n",
    "fig1.show()"
   ]
  },
  {
   "cell_type": "code",
   "execution_count": 37,
   "id": "0a4f1180-69d2-4c0e-856d-ae751f00464f",
   "metadata": {},
   "outputs": [
    {
     "data": {
      "image/png": "[encoded data removed]",
      "text/plain": [
       "<Figure size 1600x800 with 2 Axes>"
      ]
     },
     "metadata": {},
     "output_type": "display_data"
    }
   ],
   "source": [
    "fig1 = matplotlib.pyplot.figure('distribution_temp_dewpoint', figsize=(16,8))\n",
    "ax1 = fig1.add_subplot(1,2,1,title='distribution of observed air temperatures')\n",
    "falklands_df['air_temp_obs'].plot.hist(ax=ax1,bins=20)\n",
    "ax1.set_xlabel('air temperature (K)',)\n",
    "ax1.set_ylim((0,3500))\n",
    "ax1 = fig1.add_subplot(1,2,2,title='distribution of observed dew point temperatures')\n",
    "falklands_df['dewpoint_obs'].plot.hist(ax=ax1,bins=20)\n",
    "ax1.set_xlabel('dew point temperature (K)',)\n",
    "ax1.set_ylim((0,3500))\n",
    "fig1.show()"
   ]
  },
  {
   "cell_type": "markdown",
   "id": "b5f361fc-7d19-473e-a330-3adcdc9eaf45",
   "metadata": {
    "jp-MarkdownHeadingCollapsed": true
   },
   "source": [
    "#### Distribution of meteorological variables in relation to rotors"
   ]
  },
  {
   "cell_type": "markdown",
   "id": "e6d6a3bc-7fb1-47bb-9f49-c52eca161c94",
   "metadata": {},
   "source": [
    "Now compare for rotors present/absent"
   ]
  },
  {
   "cell_type": "code",
   "execution_count": 36,
   "id": "9cfc7721-7260-4462-bf4f-27e699a59f02",
   "metadata": {},
   "outputs": [
    {
     "name": "stdout",
     "output_type": "stream",
     "text": [
      "['air_temp_obs', 'dewpoint_obs', 'wind_direction_obs', 'wind_speed_obs']\n"
     ]
    },
    {
     "data": {
      "image/png": "[encoded data removed]",
      "text/plain": [
       "<Figure size 1600x2400 with 8 Axes>"
      ]
     },
     "metadata": {},
     "output_type": "display_data"
    }
   ],
   "source": [
    "# List of variables that we want to plot\n",
    "\n",
    "vars_to_plot = ['air_temp_obs', 'dewpoint_obs', 'wind_direction_obs', 'wind_speed_obs',]\n",
    "print(vars_to_plot)\n",
    "\n",
    "# Create plots\n",
    "fig1 = matplotlib.pyplot.figure('comparing rotor events',\n",
    "                                figsize=(16,6*len(vars_to_plot)))\n",
    "for ix1, var_name in enumerate(vars_to_plot):\n",
    "    # no rotors plot\n",
    "    ax1 = fig1.add_subplot(len(vars_to_plot),2,ix1*2+1, \n",
    "                           title=f'{var_name} histogram for no rotors')\n",
    "    bins=np.linspace(min(no_rotors_df[var_name]), max(no_rotors_df[var_name]), 20)\n",
    "    no_rotors_df[var_name].hist(bins=bins,ax=ax1)\n",
    "    ax1.set_ylim((0,3500))\n",
    "    xlim = ax1.get_xlim()\n",
    "\n",
    "    # Rotor plots\n",
    "    ax1 = fig1.add_subplot(len(vars_to_plot),2,ix1*2+2, \n",
    "                           title=f'{var_name} histogram for rotors')\n",
    "    rotors_present_df[var_name].hist(bins=bins,ax=ax1)\n",
    "    ax1.set_ylim((0,150))\n",
    "    ax1.set_xlim(xlim)\n",
    "\n",
    "\n",
    "fig1.show()"
   ]
  },
  {
   "cell_type": "markdown",
   "id": "79428b80-ba0e-4a42-a76f-acfcb9592ff5",
   "metadata": {},
   "source": [
    "The above diagrams already show some differences for conditions at the surface when a rotor is observed compared to when it is not. <Mark> Most obvious is the wind direction </mark>, where rotors are found mostly in northerly winds, as is already known. Other surface variables show smaller differences."
   ]
  },
  {
   "cell_type": "markdown",
   "id": "62772bce-849e-4908-9ef1-e91d83ed318e",
   "metadata": {
    "jp-MarkdownHeadingCollapsed": true
   },
   "source": [
    "#### Temporal occurence of observations"
   ]
  },
  {
   "cell_type": "markdown",
   "id": "b558c455-e830-41e5-a5c9-e5d2c703464e",
   "metadata": {},
   "source": [
    "We might also be interested in the link between occurrence frequency at different times of day or in different seasons. The plots below show a small peak in the middle of the day (which may due to observation bias), but no other obviously exploitable patterns in the data."
   ]
  },
  {
   "cell_type": "code",
   "execution_count": 38,
   "id": "9d02ad7d-33f6-40b6-be26-3607a2f25b16",
   "metadata": {},
   "outputs": [
    {
     "data": {
      "image/png": "[encoded data removed]",
      "text/plain": [
       "<Figure size 1600x1600 with 4 Axes>"
      ]
     },
     "metadata": {},
     "output_type": "display_data"
    }
   ],
   "source": [
    "fig1 = matplotlib.pyplot.figure('time of year',figsize=(16,16))\n",
    "\n",
    "# Monthly plots - no rotors\n",
    "ax1 = fig1.add_subplot(2,2,1, title='number of periods without rotors by month')\n",
    "# lambda function converst data to month - then a count of months is applied\n",
    "no_rotors_df.groupby([ no_rotors_df['DTG'].apply(lambda x: x.month)])['DTG'].count().plot.bar( ax=ax1)\n",
    "ax1.set_xlabel('month of the year')\n",
    "ax1.set_ylim((0,2200))\n",
    "\n",
    "# Monthly plots - rotors\n",
    "ax1 = fig1.add_subplot(2,2,2, title='number of periods with rotors by month') \n",
    "rotors_present_df.groupby([ rotors_present_df['DTG'].apply(lambda x: x.month)])['DTG'].count().plot.bar(ax=ax1)\n",
    "ax1.set_xlabel('month of the year')\n",
    "ax1.set_ylim((0,80))\n",
    "\n",
    "# Hour of the day plots - no rotors\n",
    "ax1 = fig1.add_subplot(2,2,3, title='number of periods without rotors by hour of the day') \n",
    "no_rotors_df.groupby([ no_rotors_df['DTG'].apply(lambda x: x.hour)])['DTG'].count().plot.bar( ax=ax1)\n",
    "ax1.set_xlabel('hour of the day')\n",
    "ax1.set_ylim((0,2200))\n",
    "\n",
    "# Hour of the day plots - with rotors\n",
    "ax1 = fig1.add_subplot(2,2,4, title='number of periods with rotors by hour of the day') \n",
    "rotors_present_df.groupby([ rotors_present_df['DTG'].apply(lambda x: x.hour)])['DTG'].count().plot.bar(ax=ax1)\n",
    "ax1.set_xlabel('hour of the day')\n",
    "ax1.set_ylim((0,80))\n",
    "\n",
    "fig1.show()"
   ]
  },
  {
   "cell_type": "markdown",
   "id": "4eece246-f9ac-4be4-9890-54f6a8dc23a5",
   "metadata": {
    "jp-MarkdownHeadingCollapsed": true
   },
   "source": [
    "#### Distributions at different height levels"
   ]
  },
  {
   "cell_type": "markdown",
   "id": "145bd213-1a2f-4563-9521-543de4ee8b91",
   "metadata": {},
   "source": [
    "Let's explore the meteorological observations at different height levels, and how they vary in the presence of rotors"
   ]
  },
  {
   "cell_type": "code",
   "execution_count": 23,
   "id": "ae7a2943-7f53-4b9c-90b4-3ca630227312",
   "metadata": {},
   "outputs": [],
   "source": [
    "# Create a dictionary for the model data by variable type\n",
    "\n",
    "features_dict = {\n",
    "    'air_temp': [c1 for c1 in falklands_df.columns if 'air_temp' in c1 and 'obs' not in c1],\n",
    "    'dewpoint': [c1 for c1 in falklands_df.columns if 'sh' in c1 and 'obs' not in c1],\n",
    "    'wind_speed': [c1 for c1 in falklands_df.columns if 'windspd' in c1 and 'obs' not in c1],\n",
    "    'wind_dir': [c1 for c1 in falklands_df.columns if 'winddir' in c1 and 'obs' not in c1],\n",
    "}"
   ]
  },
  {
   "cell_type": "code",
   "execution_count": 25,
   "id": "94a527e9-d168-4329-a5ee-85019dc6ddde",
   "metadata": {},
   "outputs": [
    {
     "data": {
      "image/png": "[encoded data removed]",
      "text/plain": [
       "<Figure size 1152x2304 with 12 Axes>"
      ]
     },
     "metadata": {
      "needs_background": "light"
     },
     "output_type": "display_data"
    }
   ],
   "source": [
    "# How many keys are there in the dictionary\n",
    "num_vars = len(features_dict.keys())\n",
    "\n",
    "num_plots = 3\n",
    "\n",
    "# plots of mean values for no rotors, rotors and the difference\n",
    "\n",
    "fig1 = matplotlib.pyplot.figure(figsize=(16,8*num_vars))\n",
    "for ix1, (feature_name, fl1) in enumerate(features_dict.items()):\n",
    "    ax1 = fig1.add_subplot(num_vars,num_plots,ix1*num_plots+1,\n",
    "        title=f'average {feature_name} with height for no rotors periods')\n",
    "    no_rotors_df[fl1].mean().plot.bar(ax=ax1)\n",
    "    \n",
    "    ax1 = fig1.add_subplot(num_vars,num_plots,ix1*num_plots+2, \n",
    "        title=f'average {feature_name} with height for rotors reported')\n",
    "    rotors_present_df[fl1].mean().plot.bar(ax=ax1)\n",
    "    \n",
    "    ax1 = fig1.add_subplot(num_vars,num_plots,ix1*num_plots+3, \n",
    "        title=f'difference in {feature_name} with height for rotors reported compared to no rotors')\n",
    "    (rotors_present_df[fl1].mean() - no_rotors_df[fl1].mean() ).plot.bar(ax=ax1)\n",
    "matplotlib.pyplot.tight_layout(w_pad=7)"
   ]
  },
  {
   "cell_type": "markdown",
   "id": "ed0de52c-532e-4bc9-8f01-69c89d019c13",
   "metadata": {},
   "source": [
    "Next up we want to explore the relationship between the forecast data and the observations."
   ]
  },
  {
   "cell_type": "markdown",
   "id": "4e75acbf-0a9a-4421-b7c1-7141d106052b",
   "metadata": {
    "jp-MarkdownHeadingCollapsed": true
   },
   "source": [
    "### Additional Exercises\n",
    "* Try to plot the histogram of model data at the surface level (height level index 1)\n",
    "* Plot the model surface data grouped by different times of day."
   ]
  },
  {
   "cell_type": "code",
   "execution_count": null,
   "id": "6a7e3267-8acc-4a64-87ab-ec297cfab3e1",
   "metadata": {},
   "outputs": [],
   "source": []
  },
  {
   "cell_type": "markdown",
   "id": "94271903-b87e-4d7d-b67a-206630f23433",
   "metadata": {
    "jp-MarkdownHeadingCollapsed": true
   },
   "source": [
    "### Comparison with human performance\n",
    "\n",
    "This dataset also has some data containing the prediction made by human OpMets ahead of time. #\n",
    "This is the baseline that we would need to match or improve upon for the algorithm to be useful."
   ]
  },
  {
   "cell_type": "code",
   "execution_count": 42,
   "id": "0df0adb1-5b8e-4cee-bc62-94b1ab7baf6d",
   "metadata": {},
   "outputs": [
    {
     "data": {
      "text/plain": [
       "PosixPath('/project/informatics_lab/data_science_cop/ML_challenges/2021_opmet_challenge/Rotors/rotors_opmet_performance_2016_2021.csv')"
      ]
     },
     "execution_count": 42,
     "metadata": {},
     "output_type": "execute_result"
    }
   ],
   "source": [
    "opmet_results_path = falklands_data_dir / 'rotors_opmet_performance_2016_2021.csv'\n",
    "opmet_results_path"
   ]
  },
  {
   "cell_type": "code",
   "execution_count": 43,
   "id": "33fba922-9f72-4a3d-9cd6-14100965946f",
   "metadata": {},
   "outputs": [],
   "source": [
    "opmet_predictions_df = pandas.read_csv(opmet_results_path)"
   ]
  },
  {
   "cell_type": "code",
   "execution_count": 44,
   "id": "56510f49-b9a7-42a7-8724-9c6d382bd6b3",
   "metadata": {},
   "outputs": [],
   "source": [
    "# set missing values to zero\n",
    "opmet_predictions_df.loc[opmet_predictions_df[opmet_predictions_df.observation.isna()].index,'observation'] = 0.0\n",
    "opmet_predictions_df.loc[opmet_predictions_df[opmet_predictions_df['opmet_forecast'].isna()].index,'opmet_forecast'] = 0.0\n",
    "\n",
    "# Create datatime variables\n",
    "opmet_predictions_df['DTG'] = pandas.to_datetime(opmet_predictions_df['DTG'])"
   ]
  },
  {
   "cell_type": "code",
   "execution_count": 45,
   "id": "cf845855-a8f0-4477-aa81-140b8c7bbffa",
   "metadata": {},
   "outputs": [
    {
     "data": {
      "text/html": [
       "<div>\n",
       "<style scoped>\n",
       "    .dataframe tbody tr th:only-of-type {\n",
       "        vertical-align: middle;\n",
       "    }\n",
       "\n",
       "    .dataframe tbody tr th {\n",
       "        vertical-align: top;\n",
       "    }\n",
       "\n",
       "    .dataframe thead th {\n",
       "        text-align: right;\n",
       "    }\n",
       "</style>\n",
       "<table border=\"1\" class=\"dataframe\">\n",
       "  <thead>\n",
       "    <tr style=\"text-align: right;\">\n",
       "      <th></th>\n",
       "      <th>DTG</th>\n",
       "      <th>observation</th>\n",
       "      <th>opmet_forecast</th>\n",
       "      <th>Hit</th>\n",
       "      <th>False Positive</th>\n",
       "      <th>True Negative</th>\n",
       "      <th>Miss</th>\n",
       "    </tr>\n",
       "  </thead>\n",
       "  <tbody>\n",
       "    <tr>\n",
       "      <th>0</th>\n",
       "      <td>2016-09-19 00:00:00</td>\n",
       "      <td>0.0</td>\n",
       "      <td>0.0</td>\n",
       "      <td>False</td>\n",
       "      <td>False</td>\n",
       "      <td>True</td>\n",
       "      <td>False</td>\n",
       "    </tr>\n",
       "    <tr>\n",
       "      <th>1</th>\n",
       "      <td>2016-09-19 01:00:00</td>\n",
       "      <td>0.0</td>\n",
       "      <td>0.0</td>\n",
       "      <td>False</td>\n",
       "      <td>False</td>\n",
       "      <td>True</td>\n",
       "      <td>False</td>\n",
       "    </tr>\n",
       "    <tr>\n",
       "      <th>2</th>\n",
       "      <td>2016-09-19 02:00:00</td>\n",
       "      <td>0.0</td>\n",
       "      <td>0.0</td>\n",
       "      <td>False</td>\n",
       "      <td>False</td>\n",
       "      <td>True</td>\n",
       "      <td>False</td>\n",
       "    </tr>\n",
       "    <tr>\n",
       "      <th>3</th>\n",
       "      <td>2016-09-19 03:00:00</td>\n",
       "      <td>0.0</td>\n",
       "      <td>0.0</td>\n",
       "      <td>False</td>\n",
       "      <td>False</td>\n",
       "      <td>True</td>\n",
       "      <td>False</td>\n",
       "    </tr>\n",
       "    <tr>\n",
       "      <th>4</th>\n",
       "      <td>2016-09-19 04:00:00</td>\n",
       "      <td>0.0</td>\n",
       "      <td>0.0</td>\n",
       "      <td>False</td>\n",
       "      <td>False</td>\n",
       "      <td>True</td>\n",
       "      <td>False</td>\n",
       "    </tr>\n",
       "    <tr>\n",
       "      <th>...</th>\n",
       "      <td>...</td>\n",
       "      <td>...</td>\n",
       "      <td>...</td>\n",
       "      <td>...</td>\n",
       "      <td>...</td>\n",
       "      <td>...</td>\n",
       "      <td>...</td>\n",
       "    </tr>\n",
       "    <tr>\n",
       "      <th>38971</th>\n",
       "      <td>2021-02-28 19:00:00</td>\n",
       "      <td>0.0</td>\n",
       "      <td>1.0</td>\n",
       "      <td>False</td>\n",
       "      <td>True</td>\n",
       "      <td>False</td>\n",
       "      <td>False</td>\n",
       "    </tr>\n",
       "    <tr>\n",
       "      <th>38972</th>\n",
       "      <td>2021-02-28 20:00:00</td>\n",
       "      <td>0.0</td>\n",
       "      <td>1.0</td>\n",
       "      <td>False</td>\n",
       "      <td>True</td>\n",
       "      <td>False</td>\n",
       "      <td>False</td>\n",
       "    </tr>\n",
       "    <tr>\n",
       "      <th>38973</th>\n",
       "      <td>2021-02-28 21:00:00</td>\n",
       "      <td>0.0</td>\n",
       "      <td>0.0</td>\n",
       "      <td>False</td>\n",
       "      <td>False</td>\n",
       "      <td>True</td>\n",
       "      <td>False</td>\n",
       "    </tr>\n",
       "    <tr>\n",
       "      <th>38974</th>\n",
       "      <td>2021-02-28 22:00:00</td>\n",
       "      <td>0.0</td>\n",
       "      <td>0.0</td>\n",
       "      <td>False</td>\n",
       "      <td>False</td>\n",
       "      <td>True</td>\n",
       "      <td>False</td>\n",
       "    </tr>\n",
       "    <tr>\n",
       "      <th>38975</th>\n",
       "      <td>2021-02-28 23:00:00</td>\n",
       "      <td>0.0</td>\n",
       "      <td>0.0</td>\n",
       "      <td>False</td>\n",
       "      <td>False</td>\n",
       "      <td>True</td>\n",
       "      <td>False</td>\n",
       "    </tr>\n",
       "  </tbody>\n",
       "</table>\n",
       "<p>38976 rows × 7 columns</p>\n",
       "</div>"
      ],
      "text/plain": [
       "                      DTG  observation  opmet_forecast    Hit  False Positive  \\\n",
       "0     2016-09-19 00:00:00          0.0             0.0  False           False   \n",
       "1     2016-09-19 01:00:00          0.0             0.0  False           False   \n",
       "2     2016-09-19 02:00:00          0.0             0.0  False           False   \n",
       "3     2016-09-19 03:00:00          0.0             0.0  False           False   \n",
       "4     2016-09-19 04:00:00          0.0             0.0  False           False   \n",
       "...                   ...          ...             ...    ...             ...   \n",
       "38971 2021-02-28 19:00:00          0.0             1.0  False            True   \n",
       "38972 2021-02-28 20:00:00          0.0             1.0  False            True   \n",
       "38973 2021-02-28 21:00:00          0.0             0.0  False           False   \n",
       "38974 2021-02-28 22:00:00          0.0             0.0  False           False   \n",
       "38975 2021-02-28 23:00:00          0.0             0.0  False           False   \n",
       "\n",
       "       True Negative   Miss  \n",
       "0               True  False  \n",
       "1               True  False  \n",
       "2               True  False  \n",
       "3               True  False  \n",
       "4               True  False  \n",
       "...              ...    ...  \n",
       "38971          False  False  \n",
       "38972          False  False  \n",
       "38973           True  False  \n",
       "38974           True  False  \n",
       "38975           True  False  \n",
       "\n",
       "[38976 rows x 7 columns]"
      ]
     },
     "execution_count": 45,
     "metadata": {},
     "output_type": "execute_result"
    }
   ],
   "source": [
    "opmet_predictions_df"
   ]
  },
  {
   "cell_type": "code",
   "execution_count": 46,
   "id": "5f44cd2b-8e78-4202-adc3-6ca04de34f80",
   "metadata": {},
   "outputs": [
    {
     "data": {
      "text/plain": [
       "0.0    37726\n",
       "1.0     1250\n",
       "Name: observation, dtype: int64"
      ]
     },
     "execution_count": 46,
     "metadata": {},
     "output_type": "execute_result"
    }
   ],
   "source": [
    "opmet_predictions_df['observation'].value_counts()"
   ]
  },
  {
   "cell_type": "code",
   "execution_count": 47,
   "id": "7b410f2c-9fe8-4e83-a148-93d43fd6fcfd",
   "metadata": {},
   "outputs": [
    {
     "data": {
      "text/plain": [
       "0.0     33551\n",
       "1.0      5424\n",
       "11.0        1\n",
       "Name: opmet_forecast, dtype: int64"
      ]
     },
     "execution_count": 47,
     "metadata": {},
     "output_type": "execute_result"
    }
   ],
   "source": [
    "opmet_predictions_df['opmet_forecast'].value_counts()"
   ]
  },
  {
   "cell_type": "markdown",
   "id": "638a53ef-ef2a-4feb-90c0-4996e72b1192",
   "metadata": {},
   "source": [
    "Fix spurious value"
   ]
  },
  {
   "cell_type": "code",
   "execution_count": 62,
   "id": "a8669b8a-32df-4554-ac7f-6aae0c2a9917",
   "metadata": {},
   "outputs": [
    {
     "data": {
      "text/plain": [
       "0.0    33551\n",
       "1.0     5425\n",
       "Name: opmet_forecast, dtype: int64"
      ]
     },
     "execution_count": 62,
     "metadata": {},
     "output_type": "execute_result"
    }
   ],
   "source": [
    "opmet_predictions_df.at[31180, \"opmet_forecast\"] = 1.0\n",
    "opmet_predictions_df['opmet_forecast'].value_counts()"
   ]
  },
  {
   "cell_type": "markdown",
   "id": "33cc004b-260b-452e-aad1-32a604bda0a3",
   "metadata": {},
   "source": [
    "We can use a [confusion matrix](https://towardsdatascience.com/understanding-confusion-matrix-a9ad42dcfd62) to compare the number of true-positive, true-negative, false-positive and false-negative predictions which were made."
   ]
  },
  {
   "cell_type": "code",
   "execution_count": 72,
   "id": "040d8900-71d4-408c-bad0-e75e94bc0994",
   "metadata": {},
   "outputs": [
    {
     "data": {
      "text/plain": [
       "array([[33475,  4251],\n",
       "       [   76,  1174]])"
      ]
     },
     "execution_count": 72,
     "metadata": {},
     "output_type": "execute_result"
    }
   ],
   "source": [
    "from sklearn.metrics import confusion_matrix, ConfusionMatrixDisplay\n",
    "\n",
    "cm = confusion_matrix(opmet_predictions_df['observation'], opmet_predictions_df['opmet_forecast'])\n",
    "cm"
   ]
  },
  {
   "cell_type": "code",
   "execution_count": 71,
   "id": "d1065b0e-f960-482b-9c94-12c6111bbcfc",
   "metadata": {},
   "outputs": [
    {
     "data": {
      "text/plain": [
       "<sklearn.metrics._plot.confusion_matrix.ConfusionMatrixDisplay at 0x7f5a27f29a00>"
      ]
     },
     "execution_count": 71,
     "metadata": {},
     "output_type": "execute_result"
    },
    {
     "data": {
      "image/png": "[encoded data removed]",
      "text/plain": [
       "<Figure size 640x480 with 2 Axes>"
      ]
     },
     "metadata": {},
     "output_type": "display_data"
    }
   ],
   "source": [
    "ConfusionMatrixDisplay(confusion_matrix=cm).plot()"
   ]
  },
  {
   "cell_type": "markdown",
   "id": "5c6a0c4e-c69b-47fc-a345-86de0ad21330",
   "metadata": {},
   "source": [
    "Exploration of this data shows us that OpMets routinely overpredict rotor events (large values of false positives). This is what you would expect, as the cost of missing a rotor event (false negative) is much higher than the cost of predicting an event and it not happening (false positive). **So the challenge for our ML algorithm is to eliminate false negatives while maintaining an acceptably low false positive rate** so as to maintain trust in forecast output."
   ]
  },
  {
   "cell_type": "markdown",
   "id": "f5caf666-d707-4f6a-a180-f32f70ff4ba8",
   "metadata": {
    "jp-MarkdownHeadingCollapsed": true
   },
   "source": [
    "## Exercise 2: Load and explore gridded model data - ERA5"
   ]
  },
  {
   "cell_type": "code",
   "execution_count": 40,
   "id": "0dff5256-4704-4f44-9ee1-b7b985fcdd4c",
   "metadata": {},
   "outputs": [
    {
     "name": "stdout",
     "output_type": "stream",
     "text": [
      "/project/informatics_lab/data_science_cop/era5\n"
     ]
    }
   ],
   "source": [
    "try:\n",
    "    era5_root = os.environ['ERA5_DATA_ROOT']\n",
    "except KeyError:\n",
    "    era5_root = '/project/informatics_lab/data_science_cop/era5/'\n",
    "era5_data_dir = pathlib.Path(era5_root) \n",
    "print(era5_data_dir)"
   ]
  },
  {
   "cell_type": "code",
   "execution_count": 41,
   "id": "27660aaa-8eb6-4169-8f95-649b02615f59",
   "metadata": {},
   "outputs": [
    {
     "data": {
      "text/plain": [
       "['/project/informatics_lab/data_science_cop/era5/air_pressure_mean_sea_level_2017_01.nc',\n",
       " '/project/informatics_lab/data_science_cop/era5/air_pressure_mean_sea_level_2017_02.nc',\n",
       " '/project/informatics_lab/data_science_cop/era5/air_pressure_mean_sea_level_2017_03.nc',\n",
       " '/project/informatics_lab/data_science_cop/era5/air_pressure_mean_sea_level_2017_04.nc',\n",
       " '/project/informatics_lab/data_science_cop/era5/air_pressure_mean_sea_level_2017_05.nc',\n",
       " '/project/informatics_lab/data_science_cop/era5/air_pressure_mean_sea_level_2017_06.nc',\n",
       " '/project/informatics_lab/data_science_cop/era5/air_pressure_mean_sea_level_2017_07.nc',\n",
       " '/project/informatics_lab/data_science_cop/era5/air_pressure_mean_sea_level_2017_08.nc',\n",
       " '/project/informatics_lab/data_science_cop/era5/air_pressure_mean_sea_level_2017_09.nc',\n",
       " '/project/informatics_lab/data_science_cop/era5/air_pressure_mean_sea_level_2017_10.nc',\n",
       " '/project/informatics_lab/data_science_cop/era5/air_pressure_mean_sea_level_2017_11.nc',\n",
       " '/project/informatics_lab/data_science_cop/era5/air_pressure_mean_sea_level_2017_12.nc',\n",
       " '/project/informatics_lab/data_science_cop/era5/air_pressure_mean_sea_level_2018_01.nc',\n",
       " '/project/informatics_lab/data_science_cop/era5/air_pressure_mean_sea_level_2018_02.nc',\n",
       " '/project/informatics_lab/data_science_cop/era5/air_pressure_mean_sea_level_2018_03.nc',\n",
       " '/project/informatics_lab/data_science_cop/era5/air_pressure_mean_sea_level_2018_04.nc',\n",
       " '/project/informatics_lab/data_science_cop/era5/air_pressure_mean_sea_level_2018_05.nc',\n",
       " '/project/informatics_lab/data_science_cop/era5/air_pressure_mean_sea_level_2018_06.nc',\n",
       " '/project/informatics_lab/data_science_cop/era5/air_pressure_mean_sea_level_2018_07.nc',\n",
       " '/project/informatics_lab/data_science_cop/era5/air_pressure_mean_sea_level_2018_08.nc',\n",
       " '/project/informatics_lab/data_science_cop/era5/air_pressure_mean_sea_level_2018_09.nc',\n",
       " '/project/informatics_lab/data_science_cop/era5/air_pressure_mean_sea_level_2018_10.nc',\n",
       " '/project/informatics_lab/data_science_cop/era5/air_pressure_mean_sea_level_2018_11.nc',\n",
       " '/project/informatics_lab/data_science_cop/era5/air_pressure_mean_sea_level_2018_12.nc',\n",
       " '/project/informatics_lab/data_science_cop/era5/air_pressure_mean_sea_level_2019_01.nc',\n",
       " '/project/informatics_lab/data_science_cop/era5/air_pressure_mean_sea_level_2019_02.nc',\n",
       " '/project/informatics_lab/data_science_cop/era5/air_pressure_mean_sea_level_2019_03.nc',\n",
       " '/project/informatics_lab/data_science_cop/era5/air_pressure_mean_sea_level_2019_04.nc',\n",
       " '/project/informatics_lab/data_science_cop/era5/air_pressure_mean_sea_level_2019_05.nc',\n",
       " '/project/informatics_lab/data_science_cop/era5/air_pressure_mean_sea_level_2019_06.nc',\n",
       " '/project/informatics_lab/data_science_cop/era5/air_pressure_mean_sea_level_2019_07.nc',\n",
       " '/project/informatics_lab/data_science_cop/era5/air_pressure_mean_sea_level_2019_08.nc',\n",
       " '/project/informatics_lab/data_science_cop/era5/air_pressure_mean_sea_level_2019_09.nc',\n",
       " '/project/informatics_lab/data_science_cop/era5/air_pressure_mean_sea_level_2019_10.nc',\n",
       " '/project/informatics_lab/data_science_cop/era5/air_pressure_mean_sea_level_2019_11.nc',\n",
       " '/project/informatics_lab/data_science_cop/era5/air_pressure_mean_sea_level_2019_12.nc']"
      ]
     },
     "execution_count": 41,
     "metadata": {},
     "output_type": "execute_result"
    }
   ],
   "source": [
    "nc_files = sorted([str(i1) for i1 in era5_data_dir.iterdir() if '.nc' in str(i1) and 'air_pressure' in str(i1)])\n",
    "nc_files"
   ]
  },
  {
   "cell_type": "code",
   "execution_count": 42,
   "id": "0bdb10c5-5b5a-4a27-9dc5-e526df762bf5",
   "metadata": {},
   "outputs": [],
   "source": [
    "era5_cubeList = iris.load(nc_files)\n",
    "iris.util.equalise_attributes(era5_cubeList)\n",
    "mslp_era5_cube = iris.cube.CubeList.concatenate_cube(era5_cubeList)"
   ]
  },
  {
   "cell_type": "code",
   "execution_count": 43,
   "id": "8b41788a-f1a1-437d-b8a2-cfdfd3b6c772",
   "metadata": {},
   "outputs": [
    {
     "data": {
      "text/html": [
       "\n",
       "<style>\n",
       "  a.iris {\n",
       "      text-decoration: none !important;\n",
       "  }\n",
       "  table.iris {\n",
       "      white-space: pre;\n",
       "      border: 1px solid;\n",
       "      border-color: #9c9c9c;\n",
       "      font-family: monaco, monospace;\n",
       "  }\n",
       "  th.iris {\n",
       "      background: #303f3f;\n",
       "      color: #e0e0e0;\n",
       "      border-left: 1px solid;\n",
       "      border-color: #9c9c9c;\n",
       "      font-size: 1.05em;\n",
       "      min-width: 50px;\n",
       "      max-width: 125px;\n",
       "  }\n",
       "  tr.iris :first-child {\n",
       "      border-right: 1px solid #9c9c9c !important;\n",
       "  }\n",
       "  td.iris-title {\n",
       "      background: #d5dcdf;\n",
       "      border-top: 1px solid #9c9c9c;\n",
       "      font-weight: bold;\n",
       "  }\n",
       "  .iris-word-cell {\n",
       "      text-align: left !important;\n",
       "      white-space: pre;\n",
       "  }\n",
       "  .iris-subheading-cell {\n",
       "      padding-left: 2em !important;\n",
       "  }\n",
       "  .iris-inclusion-cell {\n",
       "      padding-right: 1em !important;\n",
       "  }\n",
       "  .iris-panel-body {\n",
       "      padding-top: 0px;\n",
       "  }\n",
       "  .iris-panel-title {\n",
       "      padding-left: 3em;\n",
       "  }\n",
       "  .iris-panel-title {\n",
       "      margin-top: 7px;\n",
       "  }\n",
       "</style>\n",
       "<table class=\"iris\" id=\"139760669944896\">\n",
       "    <tr class=\"iris\">\n",
       "<th class=\"iris iris-word-cell\">Air Pressure At Mean Sea Level (Pa)</th>\n",
       "<th class=\"iris iris-word-cell\">time</th>\n",
       "<th class=\"iris iris-word-cell\">latitude</th>\n",
       "<th class=\"iris iris-word-cell\">longitude</th>\n",
       "</tr>\n",
       "    <tr class=\"iris\">\n",
       "<td class=\"iris-word-cell iris-subheading-cell\">Shape</td>\n",
       "<td class=\"iris iris-inclusion-cell\">26280</td>\n",
       "<td class=\"iris iris-inclusion-cell\">721</td>\n",
       "<td class=\"iris iris-inclusion-cell\">1440</td>\n",
       "</tr>\n",
       "    <tr class=\"iris\">\n",
       "    <td class=\"iris-title iris-word-cell\">Dimension coordinates</td>\n",
       "    <td class=\"iris-title\"></td>\n",
       "    <td class=\"iris-title\"></td>\n",
       "    <td class=\"iris-title\"></td>\n",
       "</tr>\n",
       "<tr class=\"iris\">\n",
       "    <td class=\"iris-word-cell iris-subheading-cell\">\ttime</td>\n",
       "    <td class=\"iris-inclusion-cell\">x</td>\n",
       "    <td class=\"iris-inclusion-cell\">-</td>\n",
       "    <td class=\"iris-inclusion-cell\">-</td>\n",
       "</tr>\n",
       "<tr class=\"iris\">\n",
       "    <td class=\"iris-word-cell iris-subheading-cell\">\tlatitude</td>\n",
       "    <td class=\"iris-inclusion-cell\">-</td>\n",
       "    <td class=\"iris-inclusion-cell\">x</td>\n",
       "    <td class=\"iris-inclusion-cell\">-</td>\n",
       "</tr>\n",
       "<tr class=\"iris\">\n",
       "    <td class=\"iris-word-cell iris-subheading-cell\">\tlongitude</td>\n",
       "    <td class=\"iris-inclusion-cell\">-</td>\n",
       "    <td class=\"iris-inclusion-cell\">-</td>\n",
       "    <td class=\"iris-inclusion-cell\">x</td>\n",
       "</tr>\n",
       "<tr class=\"iris\">\n",
       "    <td class=\"iris-title iris-word-cell\">Attributes</td>\n",
       "    <td class=\"iris-title\"></td>\n",
       "    <td class=\"iris-title\"></td>\n",
       "    <td class=\"iris-title\"><br>institution                   ECMWF<br>nameCDM                       Mean_sea_level_pressure_surface<br>nameECMWF                     Mean sea level pressure<br>product_type                  analysis<br>shortNameECMWF                msl<br>source                        Reanalysis</td>\n",
       "</tr>\n",
       "</table>\n",
       "        "
      ],
      "text/plain": [
       "<iris 'Cube' of air_pressure_at_mean_sea_level / (Pa) (time: 26280; latitude: 721; longitude: 1440)>"
      ]
     },
     "execution_count": 43,
     "metadata": {},
     "output_type": "execute_result"
    }
   ],
   "source": [
    "mslp_era5_cube"
   ]
  },
  {
   "cell_type": "code",
   "execution_count": 44,
   "id": "ca639606-1c36-49fe-bb0d-165df7576787",
   "metadata": {},
   "outputs": [],
   "source": [
    "uk_na_bounds = {'latitude': (40,65), 'longitude': (-10,10)}"
   ]
  },
  {
   "cell_type": "code",
   "execution_count": 45,
   "id": "bb0622f1-8aaa-45c4-90ae-32a49edc0012",
   "metadata": {},
   "outputs": [
    {
     "data": {
      "text/html": [
       "\n",
       "<style>\n",
       "  a.iris {\n",
       "      text-decoration: none !important;\n",
       "  }\n",
       "  table.iris {\n",
       "      white-space: pre;\n",
       "      border: 1px solid;\n",
       "      border-color: #9c9c9c;\n",
       "      font-family: monaco, monospace;\n",
       "  }\n",
       "  th.iris {\n",
       "      background: #303f3f;\n",
       "      color: #e0e0e0;\n",
       "      border-left: 1px solid;\n",
       "      border-color: #9c9c9c;\n",
       "      font-size: 1.05em;\n",
       "      min-width: 50px;\n",
       "      max-width: 125px;\n",
       "  }\n",
       "  tr.iris :first-child {\n",
       "      border-right: 1px solid #9c9c9c !important;\n",
       "  }\n",
       "  td.iris-title {\n",
       "      background: #d5dcdf;\n",
       "      border-top: 1px solid #9c9c9c;\n",
       "      font-weight: bold;\n",
       "  }\n",
       "  .iris-word-cell {\n",
       "      text-align: left !important;\n",
       "      white-space: pre;\n",
       "  }\n",
       "  .iris-subheading-cell {\n",
       "      padding-left: 2em !important;\n",
       "  }\n",
       "  .iris-inclusion-cell {\n",
       "      padding-right: 1em !important;\n",
       "  }\n",
       "  .iris-panel-body {\n",
       "      padding-top: 0px;\n",
       "  }\n",
       "  .iris-panel-title {\n",
       "      padding-left: 3em;\n",
       "  }\n",
       "  .iris-panel-title {\n",
       "      margin-top: 7px;\n",
       "  }\n",
       "</style>\n",
       "<table class=\"iris\" id=\"139760666660288\">\n",
       "    <tr class=\"iris\">\n",
       "<th class=\"iris iris-word-cell\">Air Pressure At Mean Sea Level (Pa)</th>\n",
       "<th class=\"iris iris-word-cell\">time</th>\n",
       "<th class=\"iris iris-word-cell\">latitude</th>\n",
       "<th class=\"iris iris-word-cell\">longitude</th>\n",
       "</tr>\n",
       "    <tr class=\"iris\">\n",
       "<td class=\"iris-word-cell iris-subheading-cell\">Shape</td>\n",
       "<td class=\"iris iris-inclusion-cell\">26280</td>\n",
       "<td class=\"iris iris-inclusion-cell\">101</td>\n",
       "<td class=\"iris iris-inclusion-cell\">81</td>\n",
       "</tr>\n",
       "    <tr class=\"iris\">\n",
       "    <td class=\"iris-title iris-word-cell\">Dimension coordinates</td>\n",
       "    <td class=\"iris-title\"></td>\n",
       "    <td class=\"iris-title\"></td>\n",
       "    <td class=\"iris-title\"></td>\n",
       "</tr>\n",
       "<tr class=\"iris\">\n",
       "    <td class=\"iris-word-cell iris-subheading-cell\">\ttime</td>\n",
       "    <td class=\"iris-inclusion-cell\">x</td>\n",
       "    <td class=\"iris-inclusion-cell\">-</td>\n",
       "    <td class=\"iris-inclusion-cell\">-</td>\n",
       "</tr>\n",
       "<tr class=\"iris\">\n",
       "    <td class=\"iris-word-cell iris-subheading-cell\">\tlatitude</td>\n",
       "    <td class=\"iris-inclusion-cell\">-</td>\n",
       "    <td class=\"iris-inclusion-cell\">x</td>\n",
       "    <td class=\"iris-inclusion-cell\">-</td>\n",
       "</tr>\n",
       "<tr class=\"iris\">\n",
       "    <td class=\"iris-word-cell iris-subheading-cell\">\tlongitude</td>\n",
       "    <td class=\"iris-inclusion-cell\">-</td>\n",
       "    <td class=\"iris-inclusion-cell\">-</td>\n",
       "    <td class=\"iris-inclusion-cell\">x</td>\n",
       "</tr>\n",
       "<tr class=\"iris\">\n",
       "    <td class=\"iris-title iris-word-cell\">Attributes</td>\n",
       "    <td class=\"iris-title\"></td>\n",
       "    <td class=\"iris-title\"></td>\n",
       "    <td class=\"iris-title\"><br>institution                   ECMWF<br>nameCDM                       Mean_sea_level_pressure_surface<br>nameECMWF                     Mean sea level pressure<br>product_type                  analysis<br>shortNameECMWF                msl<br>source                        Reanalysis</td>\n",
       "</tr>\n",
       "</table>\n",
       "        "
      ],
      "text/plain": [
       "<iris 'Cube' of air_pressure_at_mean_sea_level / (Pa) (time: 26280; latitude: 101; longitude: 81)>"
      ]
     },
     "execution_count": 45,
     "metadata": {},
     "output_type": "execute_result"
    }
   ],
   "source": [
    "mslp_era5_uk_cube = mslp_era5_cube.intersection(latitude=uk_na_bounds['latitude'], \n",
    "                                                longitude=uk_na_bounds['longitude'])\n",
    "mslp_era5_uk_cube"
   ]
  },
  {
   "cell_type": "code",
   "execution_count": 46,
   "id": "682e953a-ff0d-42ef-a887-79002e9bfbe5",
   "metadata": {},
   "outputs": [],
   "source": [
    "iris.iris.coord_categorisation.add_season_number(mslp_era5_uk_cube,'time')"
   ]
  },
  {
   "cell_type": "code",
   "execution_count": 47,
   "id": "333ac1b6-b18b-4add-b5bf-64e9f87c4c5e",
   "metadata": {},
   "outputs": [
    {
     "data": {
      "text/plain": [
       "(27284947200, 214996680)"
      ]
     },
     "execution_count": 47,
     "metadata": {},
     "output_type": "execute_result"
    }
   ],
   "source": [
    "functools.reduce(lambda x,y: x*y, mslp_era5_cube.shape), functools.reduce(lambda x,y: x*y, mslp_era5_uk_cube.shape)\n",
    "\n",
    "#TODO pretty print and explanation of why."
   ]
  },
  {
   "cell_type": "code",
   "execution_count": 48,
   "id": "51056a2f-d335-4958-9ed0-e40bf0bb3d44",
   "metadata": {},
   "outputs": [
    {
     "data": {
      "text/html": [
       "\n",
       "<style>\n",
       "  a.iris {\n",
       "      text-decoration: none !important;\n",
       "  }\n",
       "  table.iris {\n",
       "      white-space: pre;\n",
       "      border: 1px solid;\n",
       "      border-color: #9c9c9c;\n",
       "      font-family: monaco, monospace;\n",
       "  }\n",
       "  th.iris {\n",
       "      background: #303f3f;\n",
       "      color: #e0e0e0;\n",
       "      border-left: 1px solid;\n",
       "      border-color: #9c9c9c;\n",
       "      font-size: 1.05em;\n",
       "      min-width: 50px;\n",
       "      max-width: 125px;\n",
       "  }\n",
       "  tr.iris :first-child {\n",
       "      border-right: 1px solid #9c9c9c !important;\n",
       "  }\n",
       "  td.iris-title {\n",
       "      background: #d5dcdf;\n",
       "      border-top: 1px solid #9c9c9c;\n",
       "      font-weight: bold;\n",
       "  }\n",
       "  .iris-word-cell {\n",
       "      text-align: left !important;\n",
       "      white-space: pre;\n",
       "  }\n",
       "  .iris-subheading-cell {\n",
       "      padding-left: 2em !important;\n",
       "  }\n",
       "  .iris-inclusion-cell {\n",
       "      padding-right: 1em !important;\n",
       "  }\n",
       "  .iris-panel-body {\n",
       "      padding-top: 0px;\n",
       "  }\n",
       "  .iris-panel-title {\n",
       "      padding-left: 3em;\n",
       "  }\n",
       "  .iris-panel-title {\n",
       "      margin-top: 7px;\n",
       "  }\n",
       "</style>\n",
       "<table class=\"iris\" id=\"139760666660288\">\n",
       "    <tr class=\"iris\">\n",
       "<th class=\"iris iris-word-cell\">Air Pressure At Mean Sea Level (Pa)</th>\n",
       "<th class=\"iris iris-word-cell\">time</th>\n",
       "<th class=\"iris iris-word-cell\">latitude</th>\n",
       "<th class=\"iris iris-word-cell\">longitude</th>\n",
       "</tr>\n",
       "    <tr class=\"iris\">\n",
       "<td class=\"iris-word-cell iris-subheading-cell\">Shape</td>\n",
       "<td class=\"iris iris-inclusion-cell\">26280</td>\n",
       "<td class=\"iris iris-inclusion-cell\">101</td>\n",
       "<td class=\"iris iris-inclusion-cell\">81</td>\n",
       "</tr>\n",
       "    <tr class=\"iris\">\n",
       "    <td class=\"iris-title iris-word-cell\">Dimension coordinates</td>\n",
       "    <td class=\"iris-title\"></td>\n",
       "    <td class=\"iris-title\"></td>\n",
       "    <td class=\"iris-title\"></td>\n",
       "</tr>\n",
       "<tr class=\"iris\">\n",
       "    <td class=\"iris-word-cell iris-subheading-cell\">\ttime</td>\n",
       "    <td class=\"iris-inclusion-cell\">x</td>\n",
       "    <td class=\"iris-inclusion-cell\">-</td>\n",
       "    <td class=\"iris-inclusion-cell\">-</td>\n",
       "</tr>\n",
       "<tr class=\"iris\">\n",
       "    <td class=\"iris-word-cell iris-subheading-cell\">\tlatitude</td>\n",
       "    <td class=\"iris-inclusion-cell\">-</td>\n",
       "    <td class=\"iris-inclusion-cell\">x</td>\n",
       "    <td class=\"iris-inclusion-cell\">-</td>\n",
       "</tr>\n",
       "<tr class=\"iris\">\n",
       "    <td class=\"iris-word-cell iris-subheading-cell\">\tlongitude</td>\n",
       "    <td class=\"iris-inclusion-cell\">-</td>\n",
       "    <td class=\"iris-inclusion-cell\">-</td>\n",
       "    <td class=\"iris-inclusion-cell\">x</td>\n",
       "</tr>\n",
       "<tr class=\"iris\">\n",
       "    <td class=\"iris-title iris-word-cell\">Auxiliary coordinates</td>\n",
       "    <td class=\"iris-title\"></td>\n",
       "    <td class=\"iris-title\"></td>\n",
       "    <td class=\"iris-title\"></td>\n",
       "</tr>\n",
       "<tr class=\"iris\">\n",
       "    <td class=\"iris-word-cell iris-subheading-cell\">\tseason_number</td>\n",
       "    <td class=\"iris-inclusion-cell\">x</td>\n",
       "    <td class=\"iris-inclusion-cell\">-</td>\n",
       "    <td class=\"iris-inclusion-cell\">-</td>\n",
       "</tr>\n",
       "<tr class=\"iris\">\n",
       "    <td class=\"iris-title iris-word-cell\">Attributes</td>\n",
       "    <td class=\"iris-title\"></td>\n",
       "    <td class=\"iris-title\"></td>\n",
       "    <td class=\"iris-title\"><br>institution                   ECMWF<br>nameCDM                       Mean_sea_level_pressure_surface<br>nameECMWF                     Mean sea level pressure<br>product_type                  analysis<br>shortNameECMWF                msl<br>source                        Reanalysis</td>\n",
       "</tr>\n",
       "</table>\n",
       "        "
      ],
      "text/plain": [
       "<iris 'Cube' of air_pressure_at_mean_sea_level / (Pa) (time: 26280; latitude: 101; longitude: 81)>"
      ]
     },
     "execution_count": 48,
     "metadata": {},
     "output_type": "execute_result"
    }
   ],
   "source": [
    "mslp_era5_uk_cube"
   ]
  },
  {
   "cell_type": "code",
   "execution_count": 49,
   "id": "ac3cfcc2-a840-4482-aee6-edd355f93493",
   "metadata": {},
   "outputs": [
    {
     "data": {
      "text/plain": [
       "(40.0, 65.0)"
      ]
     },
     "execution_count": 49,
     "metadata": {},
     "output_type": "execute_result"
    }
   ],
   "source": [
    "min(mslp_era5_uk_cube.coord('latitude').points), max(mslp_era5_uk_cube.coord('latitude').points)"
   ]
  },
  {
   "cell_type": "code",
   "execution_count": 50,
   "id": "92e7cea1-5a85-460e-909f-727f73a28a24",
   "metadata": {},
   "outputs": [
    {
     "data": {
      "text/plain": [
       "(-10.0, 10.0)"
      ]
     },
     "execution_count": 50,
     "metadata": {},
     "output_type": "execute_result"
    }
   ],
   "source": [
    "min(mslp_era5_uk_cube.coord('longitude').points), max(mslp_era5_uk_cube.coord('longitude').points)"
   ]
  },
  {
   "cell_type": "code",
   "execution_count": 51,
   "id": "be1c6551-9fda-4619-a936-7fd0f7c21046",
   "metadata": {},
   "outputs": [
    {
     "data": {
      "text/html": [
       "\n",
       "<style>\n",
       "  a.iris {\n",
       "      text-decoration: none !important;\n",
       "  }\n",
       "  table.iris {\n",
       "      white-space: pre;\n",
       "      border: 1px solid;\n",
       "      border-color: #9c9c9c;\n",
       "      font-family: monaco, monospace;\n",
       "  }\n",
       "  th.iris {\n",
       "      background: #303f3f;\n",
       "      color: #e0e0e0;\n",
       "      border-left: 1px solid;\n",
       "      border-color: #9c9c9c;\n",
       "      font-size: 1.05em;\n",
       "      min-width: 50px;\n",
       "      max-width: 125px;\n",
       "  }\n",
       "  tr.iris :first-child {\n",
       "      border-right: 1px solid #9c9c9c !important;\n",
       "  }\n",
       "  td.iris-title {\n",
       "      background: #d5dcdf;\n",
       "      border-top: 1px solid #9c9c9c;\n",
       "      font-weight: bold;\n",
       "  }\n",
       "  .iris-word-cell {\n",
       "      text-align: left !important;\n",
       "      white-space: pre;\n",
       "  }\n",
       "  .iris-subheading-cell {\n",
       "      padding-left: 2em !important;\n",
       "  }\n",
       "  .iris-inclusion-cell {\n",
       "      padding-right: 1em !important;\n",
       "  }\n",
       "  .iris-panel-body {\n",
       "      padding-top: 0px;\n",
       "  }\n",
       "  .iris-panel-title {\n",
       "      padding-left: 3em;\n",
       "  }\n",
       "  .iris-panel-title {\n",
       "      margin-top: 7px;\n",
       "  }\n",
       "</style>\n",
       "<table class=\"iris\" id=\"139760666745392\">\n",
       "    <tr class=\"iris\">\n",
       "<th class=\"iris iris-word-cell\">Air Pressure At Mean Sea Level (Pa)</th>\n",
       "<th class=\"iris iris-word-cell\">--</th>\n",
       "<th class=\"iris iris-word-cell\">latitude</th>\n",
       "<th class=\"iris iris-word-cell\">longitude</th>\n",
       "</tr>\n",
       "    <tr class=\"iris\">\n",
       "<td class=\"iris-word-cell iris-subheading-cell\">Shape</td>\n",
       "<td class=\"iris iris-inclusion-cell\">4</td>\n",
       "<td class=\"iris iris-inclusion-cell\">101</td>\n",
       "<td class=\"iris iris-inclusion-cell\">81</td>\n",
       "</tr>\n",
       "    <tr class=\"iris\">\n",
       "    <td class=\"iris-title iris-word-cell\">Dimension coordinates</td>\n",
       "    <td class=\"iris-title\"></td>\n",
       "    <td class=\"iris-title\"></td>\n",
       "    <td class=\"iris-title\"></td>\n",
       "</tr>\n",
       "<tr class=\"iris\">\n",
       "    <td class=\"iris-word-cell iris-subheading-cell\">\tlatitude</td>\n",
       "    <td class=\"iris-inclusion-cell\">-</td>\n",
       "    <td class=\"iris-inclusion-cell\">x</td>\n",
       "    <td class=\"iris-inclusion-cell\">-</td>\n",
       "</tr>\n",
       "<tr class=\"iris\">\n",
       "    <td class=\"iris-word-cell iris-subheading-cell\">\tlongitude</td>\n",
       "    <td class=\"iris-inclusion-cell\">-</td>\n",
       "    <td class=\"iris-inclusion-cell\">-</td>\n",
       "    <td class=\"iris-inclusion-cell\">x</td>\n",
       "</tr>\n",
       "<tr class=\"iris\">\n",
       "    <td class=\"iris-title iris-word-cell\">Auxiliary coordinates</td>\n",
       "    <td class=\"iris-title\"></td>\n",
       "    <td class=\"iris-title\"></td>\n",
       "    <td class=\"iris-title\"></td>\n",
       "</tr>\n",
       "<tr class=\"iris\">\n",
       "    <td class=\"iris-word-cell iris-subheading-cell\">\tseason_number</td>\n",
       "    <td class=\"iris-inclusion-cell\">x</td>\n",
       "    <td class=\"iris-inclusion-cell\">-</td>\n",
       "    <td class=\"iris-inclusion-cell\">-</td>\n",
       "</tr>\n",
       "<tr class=\"iris\">\n",
       "    <td class=\"iris-word-cell iris-subheading-cell\">\ttime</td>\n",
       "    <td class=\"iris-inclusion-cell\">x</td>\n",
       "    <td class=\"iris-inclusion-cell\">-</td>\n",
       "    <td class=\"iris-inclusion-cell\">-</td>\n",
       "</tr>\n",
       "<tr class=\"iris\">\n",
       "    <td class=\"iris-title iris-word-cell\">Cell methods</td>\n",
       "    <td class=\"iris-title\"></td>\n",
       "    <td class=\"iris-title\"></td>\n",
       "    <td class=\"iris-title\"></td>\n",
       "</tr>\n",
       "<tr class=\"iris\">\n",
       "    <td class=\"iris-word-cell iris-subheading-cell\">\tmean                          season_number</td>\n",
       "    <td class=\"iris-word-cell\" colspan=\"3\"></td>\n",
       "</tr>\n",
       "<tr class=\"iris\">\n",
       "    <td class=\"iris-title iris-word-cell\">Attributes</td>\n",
       "    <td class=\"iris-title\"></td>\n",
       "    <td class=\"iris-title\"></td>\n",
       "    <td class=\"iris-title\"><br>institution                   ECMWF<br>nameCDM                       Mean_sea_level_pressure_surface<br>nameECMWF                     Mean sea level pressure<br>product_type                  analysis<br>shortNameECMWF                msl<br>source                        Reanalysis</td>\n",
       "</tr>\n",
       "</table>\n",
       "        "
      ],
      "text/plain": [
       "<iris 'Cube' of air_pressure_at_mean_sea_level / (Pa) (-- : 4; latitude: 101; longitude: 81)>"
      ]
     },
     "execution_count": 51,
     "metadata": {},
     "output_type": "execute_result"
    }
   ],
   "source": [
    "mslp_uk_seasonal_mean = mslp_era5_uk_cube.aggregated_by(['season_number'],iris.analysis.MEAN)\n",
    "mslp_uk_seasonal_mean"
   ]
  },
  {
   "cell_type": "markdown",
   "id": "e74ea056-3a7c-403e-a242-0f519957974a",
   "metadata": {},
   "source": [
    "Now we can plot the seasonal averages as a way of exploring the data.\n",
    "*NOTE* This cell will take a while to execute. This is because up until now none of the calculations described will actually have been executed, due to the *lazy loading* paradigm employed in Iris. Only at the point when the data is needed (in our case to actually create the plots), are the compute operations actually triggered. So what is taking time is the subsetting and aggregation of the data, rather than only the actual plotting operations."
   ]
  },
  {
   "cell_type": "code",
   "execution_count": 52,
   "id": "a0002d45-6ca9-4686-bb7a-c9741f80b6ea",
   "metadata": {},
   "outputs": [
    {
     "name": "stdout",
     "output_type": "stream",
     "text": [
      "CPU times: user 15min 17s, sys: 2min 41s, total: 17min 59s\n",
      "Wall time: 17min 50s\n"
     ]
    },
    {
     "data": {
      "text/plain": [
       "masked_array(\n",
       "  data=[[[100171.664, 100177.51 , 100183.39 , ..., 100494.01 ,\n",
       "          100503.13 , 100512.21 ],\n",
       "         [100173.05 , 100179.48 , 100186.16 , ..., 100512.85 ,\n",
       "          100521.86 , 100530.516],\n",
       "         [100176.336, 100182.164, 100187.99 , ..., 100530.87 ,\n",
       "          100538.695, 100546.51 ],\n",
       "         ...,\n",
       "         [102283.5  , 102281.195, 102281.26 , ..., 101754.805,\n",
       "          101718.875, 101711.2  ],\n",
       "         [102290.055, 102286.984, 102285.984, ..., 101769.375,\n",
       "          101718.766, 101716.75 ],\n",
       "         [102295.23 , 102292.336, 102290.13 , ..., 101775.586,\n",
       "          101718.02 , 101722.27 ]],\n",
       "\n",
       "        [[101111.58 , 101116.48 , 101121.38 , ..., 101235.36 ,\n",
       "          101236.83 , 101238.28 ],\n",
       "         [101104.28 , 101109.64 , 101115.16 , ..., 101240.87 ,\n",
       "          101242.73 , 101244.58 ],\n",
       "         [101097.75 , 101102.7  , 101107.68 , ..., 101245.586,\n",
       "          101247.5  , 101249.39 ],\n",
       "         ...,\n",
       "         [101664.13 , 101656.4  , 101651.36 , ..., 101444.68 ,\n",
       "          101426.29 , 101422.62 ],\n",
       "         [101669.26 , 101661.12 , 101655.54 , ..., 101459.34 ,\n",
       "          101428.01 , 101425.836],\n",
       "         [101673.6  , 101665.625, 101659.16 , ..., 101469.1  ,\n",
       "          101430.72 , 101430.16 ]],\n",
       "\n",
       "        [[100941.95 , 100943.84 , 100945.72 , ..., 101119.01 ,\n",
       "          101119.97 , 101120.91 ],\n",
       "         [100940.734, 100942.445, 100944.28 , ..., 101125.25 ,\n",
       "          101126.49 , 101127.664],\n",
       "         [100940.16 , 100941.54 , 100942.93 , ..., 101130.664,\n",
       "          101131.67 , 101132.68 ],\n",
       "         ...,\n",
       "         [101781.43 , 101764.74 , 101751.65 , ..., 101479.58 ,\n",
       "          101436.82 , 101419.17 ],\n",
       "         [101781.234, 101764.94 , 101752.11 , ..., 101509.68 ,\n",
       "          101440.125, 101418.53 ],\n",
       "         [101781.07 , 101765.28 , 101751.73 , ..., 101543.76 ,\n",
       "          101455.91 , 101422.46 ]],\n",
       "\n",
       "        [[100557.336, 100558.805, 100560.28 , ..., 100745.31 ,\n",
       "          100752.18 , 100759.02 ],\n",
       "         [100555.08 , 100556.984, 100559.03 , ..., 100755.75 ,\n",
       "          100762.95 , 100769.95 ],\n",
       "         [100554.08 , 100555.56 , 100557.08 , ..., 100765.34 ,\n",
       "          100771.93 , 100778.53 ],\n",
       "         ...,\n",
       "         [101796.13 , 101789.69 , 101786.47 , ..., 101565.28 ,\n",
       "          101529.57 , 101517.73 ],\n",
       "         [101799.33 , 101792.61 , 101788.805, ..., 101584.08 ,\n",
       "          101529.086, 101517.65 ],\n",
       "         [101801.91 , 101795.78 , 101790.84 , ..., 101600.47 ,\n",
       "          101532.95 , 101519.54 ]]],\n",
       "  mask=False,\n",
       "  fill_value=1e+20,\n",
       "  dtype=float32)"
      ]
     },
     "execution_count": 52,
     "metadata": {},
     "output_type": "execute_result"
    }
   ],
   "source": [
    "%%time\n",
    "mslp_uk_seasonal_mean.data"
   ]
  },
  {
   "cell_type": "code",
   "execution_count": null,
   "id": "5acd692c-807d-41eb-93ac-1b86d59c2837",
   "metadata": {},
   "outputs": [],
   "source": [
    "fig1 = matplotlib.pyplot.figure(figsize=(16,16))\n",
    "for ix1 in range(mslp_uk_seasonal_mean.shape[0]):\n",
    "    ax1 = fig1.add_subplot(2,2,ix1+1,projection=cartopy.crs.PlateCarree())\n",
    "    iris.quickplot.contourf(mslp_uk_seasonal_mean[ix1],axes=ax1)\n",
    "    ax1.coastlines()"
   ]
  },
  {
   "cell_type": "markdown",
   "id": "4e8ad1ff-c74b-4ddc-a9db-f16ee5efaf1d",
   "metadata": {},
   "source": [
    "### Addtional execises\n",
    "* try to cut out a different area, e.g. Australia 10-43S, 113-153E and do plots for that area.\n",
    "* Try and find the average for a month and find the anomaly for that that month."
   ]
  },
  {
   "cell_type": "markdown",
   "id": "88bcd1b7-1f3f-4448-b263-c2feb1184f22",
   "metadata": {},
   "source": [
    "## Next Steps\n",
    "\n",
    "There are further example notebooks looking at loading and exploring data in Python in the following locations:\n",
    "* [Introduction to Data Analysis in Python](https://github.com/informatics-lab/intro_python_data_analysis/)\n",
    "* [Pangeo Lectures](https://github.com/informatics-lab/PangeoLectures)\n",
    "* [Using Climate Data](https://github.com/Informatics-lab/UsingClimateData)\n"
   ]
  },
  {
   "cell_type": "markdown",
   "id": "2e70e46b-e202-47b9-8d6d-a479a11e2b25",
   "metadata": {
    "tags": []
   },
   "source": [
    "## Dataset Info\n",
    "\n",
    "### Falklands Rotors Challenge Dataset\n",
    "Crown Copyright 2021 - This dataset was created by Met Office Chief Operational Meteorologist Steve Ramsdale from Met Office forecast and observation data.\n",
    "* Model Data - Met Office Global 10km resolution model\n",
    "* Observations - made by meteorologists at Mount Pleasant airfield in the Falkland Islands.\n",
    "\n",
    "### ERA5\n",
    "ERA5 is Reanalysis data created by ECMWF. Reanalysis combines observations from many sources. by assimilating these into a forecast model (ECMWF's IFS in this case), to provide a consistent physically valid gridded dataset that is a close to observations as possible\n",
    "https://www.ecmwf.int/en/forecasts/datasets/reanalysis-datasets/era5\n",
    "\n"
   ]
  },
  {
   "cell_type": "markdown",
   "id": "260219d6-401b-4a45-b0ac-5daf6e4b03d1",
   "metadata": {},
   "source": [
    "## References\n",
    "\n",
    "The format of this notebook is based on the [template for tutorial notebooks](https://github.com/geo-yrao/notebook-dev/blob/main/templates/NCAI_Training_Notebook_template%20-%20Distribution%20Copy.ipynb) developed by NOAA, available on GitHub."
   ]
  }
 ],
 "metadata": {
  "kernelspec": {
   "display_name": "Python [conda env:ml-weather-tutorial-skl]",
   "language": "python",
   "name": "conda-env-ml-weather-tutorial-skl-py"
  },
  "language_info": {
   "codemirror_mode": {
    "name": "ipython",
    "version": 3
   },
   "file_extension": ".py",
   "mimetype": "text/x-python",
   "name": "python",
   "nbconvert_exporter": "python",
   "pygments_lexer": "ipython3",
   "version": "3.8.17"
  }
 },
 "nbformat": 4,
 "nbformat_minor": 5
}
