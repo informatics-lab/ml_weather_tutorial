{
 "cells": [
  {
   "cell_type": "markdown",
   "id": "403e4bfd-7925-43e2-977b-2baca78c2eaf",
   "metadata": {
    "tags": []
   },
   "source": [
    "# 1. Data Exploration\n",
    "\n",
    "## Overview \n",
    "In the first section we will look at techniques to load and explore the data to be used for machine learning. The purpose of this exploration to gain an understanding of the data and how it relates to the problem we are trying to solve. This will help us make sensible choices for different elements of our machine learning pipeline."
   ]
  },
  {
   "cell_type": "markdown",
   "id": "40489368-10b7-4757-b486-3af6db2a2a2b",
   "metadata": {},
   "source": [
    "### Prerequisites \n",
    "\n",
    "To be able to successfully work through this notebook, you will need some understanding of the following \n",
    "* The python programming language\n",
    "* Simple data handling in python\n",
    "* Basic plotting using matplotlib\n",
    "* Environment set up using pip or conda"
   ]
  },
  {
   "cell_type": "markdown",
   "id": "7b82b8cb-681d-44f8-bc23-e218e7653def",
   "metadata": {},
   "source": [
    "### Learning Outcomes \n",
    "\n",
    "* Loading tabular and gridded datasets using common python libraries\n",
    "* typical techniques for *exploratory data analysis* on different\n",
    "* key characteristics of datasets to use in choosing components for a machine learning pipeline\n"
   ]
  },
  {
   "cell_type": "markdown",
   "id": "3cceadd3-46b6-42dc-b702-943d09365ca6",
   "metadata": {},
   "source": [
    "## Tutorial - Exploratory Data Analysis\n",
    "\n",
    "The first step in a machine learning problem is to understand the data you have available for training a machine learning algorithm. In any data driven technique, the quality of the results is only going to be as good as the quality of the data. This can only be achieved by matching the appropriate techniques to the data that you have, so understanding the particular dataset to be used is the foundation of a successful outcome.\n",
    "\n",
    "To achieve this, one typically performs an *Exploratory Data Analysis*, where one produce a series of summary statistics and plots that highlight the most salient characteristics of the dataset for the problem at hand. Typical traits to be considered include:\n",
    "* The range of values different input feature can take e.g. min and max temperature, start and end dates.\n",
    "* Important subsets of the data e.g. different seasons or time of the day.\n",
    "* Distributions of different features, both as a whole and important subsets\n",
    "* Correlations between different features, especially input and target features.\n",
    "\n",
    "\n",
    "\n",
    "\n",
    "\n"
   ]
  },
  {
   "cell_type": "markdown",
   "id": "de71ed31-7104-4b61-8c9e-a2b6b7b70ddf",
   "metadata": {},
   "source": [
    "### Best Practices & Values\n",
    "\n",
    "Performing a through data exploration implements the Met Office Machine Learning best practices in the following ways\n",
    "* Ethics - Ensure we can justify our choices from understanding of the data and how it relates to the potential impacts of this work.\n",
    "* Data - Ensure that we understand biases or other issues with the data\n",
    "* ML Pitfall -  Avoid pitfalls through making informed choices based on analysis of data\n",
    "* ML Lifecycle - Ensure we store and process the data so we can reproduce the results"
   ]
  },
  {
   "cell_type": "markdown",
   "id": "8d421494-3e87-4e51-8efd-b35ad50764e2",
   "metadata": {},
   "source": [
    "## Exercise 1: Load and explore tabular dataset - Falkland Islands Airfield Rotors\n",
    "\n",
    "The first dataset we will explore comes from a challenge by Operational Meteorologist Steve Ramsdale, around forecasting  localised topographically-driven turbulent wind gusts at the Mount Pleasant Airfield in the Falkland Islands, which occur in northerly winds interacting with mountains to the north of the airfield. The aim is to predict whether or not these will occur, using data from global, coarse-resolution models which are not able to to explicitly resolve this phenomenon. \n",
    "\n",
    "The target is a human-created dataset produced by Operational Meteorologists at the airfield, as to whether a rotor occurred in any given three hour period."
   ]
  },
  {
   "cell_type": "code",
   "execution_count": null,
   "id": "677db567-6260-41fa-bdb9-13850c81c9dd",
   "metadata": {},
   "outputs": [],
   "source": [
    "import pathlib\n",
    "import datetime\n",
    "import os\n",
    "import functools"
   ]
  },
  {
   "cell_type": "code",
   "execution_count": null,
   "id": "f9b4ad3d-958d-4b04-ac0e-5555800898bd",
   "metadata": {},
   "outputs": [],
   "source": [
    "import matplotlib\n",
    "%matplotlib inline"
   ]
  },
  {
   "cell_type": "code",
   "execution_count": null,
   "id": "4e4c1340-753c-44f8-ac43-7d00fbd045f7",
   "metadata": {},
   "outputs": [],
   "source": [
    "import pandas"
   ]
  },
  {
   "cell_type": "code",
   "execution_count": null,
   "id": "404790fe-fdc9-4890-ae53-497e255b3d48",
   "metadata": {},
   "outputs": [],
   "source": [
    "import iris\n",
    "import iris.quickplot\n",
    "import iris.coord_categorisation\n",
    "import cartopy\n"
   ]
  },
  {
   "cell_type": "code",
   "execution_count": null,
   "id": "64fdc2e3-7dfa-44b7-96dd-79ba9994aa72",
   "metadata": {},
   "outputs": [],
   "source": [
    "import sklearn\n",
    "import sklearn.metrics"
   ]
  },
  {
   "cell_type": "code",
   "execution_count": null,
   "id": "71a8c8e2-98df-4ffe-9d0d-9e613a29e618",
   "metadata": {},
   "outputs": [],
   "source": [
    "try:\n",
    "    falklands_data_dir = os.environ['OPMET_ROTORS_DATA_ROOT']\n",
    "except KeyError:\n",
    "    falklands_data_dir = '/project/informatics_lab/data_science_cop/ML_challenges/2021_opmet_challenge'\n",
    "falklands_data_dir = pathlib.Path(falklands_data_dir) /  'Rotors'\n",
    "print(falklands_data_dir)"
   ]
  },
  {
   "cell_type": "code",
   "execution_count": null,
   "id": "0349b603-8f6d-4858-a42e-0b65363688b6",
   "metadata": {},
   "outputs": [],
   "source": [
    "falklands_data_fname = 'new_training.csv'"
   ]
  },
  {
   "cell_type": "code",
   "execution_count": null,
   "id": "5652d845-14b4-4b87-b249-66d85135fcf2",
   "metadata": {},
   "outputs": [],
   "source": [
    "falklands_data_path = falklands_data_dir / falklands_data_fname\n",
    "falklands_data_path"
   ]
  },
  {
   "cell_type": "code",
   "execution_count": null,
   "id": "a8fc58fb-295a-4345-88e5-9dadc58f83b5",
   "metadata": {},
   "outputs": [],
   "source": [
    "falklands_data_path.is_file()"
   ]
  },
  {
   "cell_type": "code",
   "execution_count": null,
   "id": "c279ac65-86c2-4199-a270-5fd05147feb2",
   "metadata": {},
   "outputs": [],
   "source": [
    "falklands_df = pandas.read_csv(falklands_data_path)"
   ]
  },
  {
   "cell_type": "code",
   "execution_count": null,
   "id": "a7d75cf1-8827-4a97-bef6-a3496062319d",
   "metadata": {},
   "outputs": [],
   "source": [
    "falklands_df"
   ]
  },
  {
   "cell_type": "code",
   "execution_count": null,
   "id": "2643e469-3c3a-468d-95b1-40df8aedb431",
   "metadata": {},
   "outputs": [],
   "source": [
    "falklands_df.columns"
   ]
  },
  {
   "cell_type": "markdown",
   "id": "4d6699d1-6b34-4f2d-a7f6-1fb99699b0b2",
   "metadata": {},
   "source": [
    "We perform some initial cleaning of the dataset to make it easier to work with. Ideally this could be done once and saved out for future use."
   ]
  },
  {
   "cell_type": "code",
   "execution_count": null,
   "id": "2fb3d1b3-6cd7-4ddb-b92b-2256e13cdea5",
   "metadata": {
    "tags": []
   },
   "outputs": [],
   "source": [
    "falklands_df = falklands_df.rename({'Rotors 1 is true': 'rotors'},axis=1)\n",
    "falklands_df.loc[falklands_df[falklands_df['rotors'].isna()].index, 'rotors'] = 0\n",
    "falklands_df['DTG'] = pandas.to_datetime(falklands_df['DTG'])\n",
    "falklands_df = falklands_df.drop_duplicates(subset=['DTG'])\n",
    "falklands_df = falklands_df[~falklands_df['DTG'].isnull()]\n",
    "falklands_df = falklands_df[(falklands_df['wind_speed_obs'] >= 0.0) &\n",
    "                            (falklands_df['air_temp_obs'] >= 0.0) &\n",
    "                            (falklands_df['wind_direction_obs'] >= 0.0) &\n",
    "                            (falklands_df['dewpoint_obs'] >= 0.0) \n",
    "                           ]\n",
    "falklands_df"
   ]
  },
  {
   "cell_type": "markdown",
   "id": "4012374d-291e-47fd-a56d-ed3d6125d939",
   "metadata": {},
   "source": [
    "Our target variables is the *rotors* column, labelling whether or not one or more rotors occurred in a given 3 hour period."
   ]
  },
  {
   "cell_type": "code",
   "execution_count": null,
   "id": "8872aba2-5442-40dc-8513-1bbf8baa7e42",
   "metadata": {},
   "outputs": [],
   "source": [
    "falklands_df['rotors'].value_counts()"
   ]
  },
  {
   "cell_type": "markdown",
   "id": "d121cb54-cad1-4213-b68a-ccce047b82a4",
   "metadata": {},
   "source": [
    "We see that this is an *imbalanced* classification problem. As a result we will have to consider carefully how to take this into account in our ML pipeline, including\n",
    "* train/test split\n",
    "* possible resampling strategies\n",
    "* classification metrics"
   ]
  },
  {
   "cell_type": "code",
   "execution_count": null,
   "id": "7a9355b9-3143-43a7-8de5-bdcd8b4a3953",
   "metadata": {},
   "outputs": [],
   "source": [
    "falklands_df.columns"
   ]
  },
  {
   "cell_type": "markdown",
   "id": "32ecb5ed-b32e-4500-a4d9-597788f232b0",
   "metadata": {},
   "source": [
    "Above we see the forecast variables from the Met Office Global Forecast model, which we want to use an input to our algorithm. We see there are 4 variables, each on 22 height levels, including\n",
    "* temperature\n",
    "* specific humidity\n",
    "* wind speed\n",
    "* wind direction"
   ]
  },
  {
   "cell_type": "markdown",
   "id": "13b01037-db7e-4965-be42-026fe3e1af55",
   "metadata": {},
   "source": [
    "Next we split into two groups, to see how the distribution of input variables differs for times with and without rotors."
   ]
  },
  {
   "cell_type": "code",
   "execution_count": null,
   "id": "5245c7a1-f6b8-4cb0-b7ec-9dbf64f9d7f2",
   "metadata": {},
   "outputs": [],
   "source": [
    "no_rotors_df = falklands_df[falklands_df['rotors'] ==False]\n",
    "rotors_present_df = falklands_df[falklands_df['rotors'] == True]"
   ]
  },
  {
   "cell_type": "code",
   "execution_count": null,
   "id": "8a380eb0-4467-4aec-bd94-4fff8093f157",
   "metadata": {},
   "outputs": [],
   "source": [
    "no_rotors_df.shape"
   ]
  },
  {
   "cell_type": "code",
   "execution_count": null,
   "id": "9c7a73b9-0067-45c4-b6ea-1bb6c35c0a1b",
   "metadata": {},
   "outputs": [],
   "source": [
    "rotors_present_df.shape"
   ]
  },
  {
   "cell_type": "markdown",
   "id": "649cfa28-a4eb-4c63-81c0-e1197ffc6200",
   "metadata": {},
   "source": [
    "We start by looking at the surface observations"
   ]
  },
  {
   "cell_type": "code",
   "execution_count": null,
   "id": "87ce6744-b5f5-471a-843c-ff1f786eef65",
   "metadata": {},
   "outputs": [],
   "source": [
    "fig1 = matplotlib.pyplot.figure('distribution_wind_spevalue_countsirection', figsize=(16,8))\n",
    "ax1 = fig1.add_subplot(1,2,1,title='distribution of observed wind speeds')\n",
    "falklands_df['wind_speed_obs'].plot.hist(ax=ax1,bins=20)\n",
    "ax1.set_xlabel('windspeed in m/s-1',)\n",
    "ax1 = fig1.add_subplot(1,2,2,title='distribution of observed wind directions')\n",
    "falklands_df['wind_direction_obs'].plot.hist(ax=ax1,bins=20)\n",
    "ax1.set_xlabel('wind direction',)"
   ]
  },
  {
   "cell_type": "code",
   "execution_count": null,
   "id": "0a4f1180-69d2-4c0e-856d-ae751f00464f",
   "metadata": {},
   "outputs": [],
   "source": [
    "fig1 = matplotlib.pyplot.figure('distribution_temp_dewpoint', figsize=(16,8))\n",
    "ax1 = fig1.add_subplot(1,2,1,title='distribution of observed air temperatures')\n",
    "falklands_df['air_temp_obs'].plot.hist(ax=ax1,bins=20)\n",
    "ax1.set_xlabel('air temperature (K)',)\n",
    "ax1 = fig1.add_subplot(1,2,2,title='distribution of observed dew point temperatures')\n",
    "falklands_df['dewpoint_obs'].plot.hist(ax=ax1,bins=20)\n",
    "ax1.set_xlabel('dew point temperature (K)',)"
   ]
  },
  {
   "cell_type": "markdown",
   "id": "e6d6a3bc-7fb1-47bb-9f49-c52eca161c94",
   "metadata": {},
   "source": [
    "Now compare for rotors present/absent"
   ]
  },
  {
   "cell_type": "code",
   "execution_count": null,
   "id": "9cfc7721-7260-4462-bf4f-27e699a59f02",
   "metadata": {},
   "outputs": [],
   "source": [
    "vars_to_plot = ['air_temp_obs', 'dewpoint_obs', 'wind_direction_obs', 'wind_speed_obs',]\n",
    "print(vars_to_plot)\n",
    "fig1 = matplotlib.pyplot.figure('comparing rota events',figsize=(16,6*len(vars_to_plot)))\n",
    "for ix1, var_name in enumerate(vars_to_plot):\n",
    "    ax1 = fig1.add_subplot(len(vars_to_plot),2,ix1*2+1, title=f'{var_name} histogram for no rotors')\n",
    "    no_rotors_df[var_name].hist(bins=20,ax=ax1)\n",
    "    ax1 = fig1.add_subplot(len(vars_to_plot),2,ix1*2+2, title=f'{var_name} histogram for rotors')\n",
    "    rotors_present_df[var_name].hist(bins=20,ax=ax1)"
   ]
  },
  {
   "cell_type": "markdown",
   "id": "79428b80-ba0e-4a42-a76f-acfcb9592ff5",
   "metadata": {},
   "source": [
    "The above diagrams already show some differences for conditions at the surface when a rotor is observed compared to when not. Most obvious is the wind direction, where rotors are found mostly in northerly winds, as is already known. Other surface variables show smaller differences."
   ]
  },
  {
   "cell_type": "markdown",
   "id": "b558c455-e830-41e5-a5c9-e5d2c703464e",
   "metadata": {},
   "source": [
    "We might also be interested in the link between occurrences frequency at different times of day or in different seasons. The plots below show a small peak in the middle of the day (which may due to observation bias), but no other obviously exploitable patterns in the data."
   ]
  },
  {
   "cell_type": "code",
   "execution_count": null,
   "id": "9d02ad7d-33f6-40b6-be26-3607a2f25b16",
   "metadata": {},
   "outputs": [],
   "source": [
    "fig1 = matplotlib.pyplot.figure('time of year',figsize=(16,16))\n",
    "ax1 = fig1.add_subplot(2,2,1, title='number of periods without rotors by month') \n",
    "no_rotors_df.groupby([ no_rotors_df['DTG'].apply(lambda x: x.month)])['DTG'].count().plot.bar( ax=ax1)\n",
    "ax1.set_xlabel('month of the year')\n",
    "ax1 = fig1.add_subplot(2,2,2, title='number of periods with rotors by month') \n",
    "rotors_present_df.groupby([ rotors_present_df['DTG'].apply(lambda x: x.month)])['DTG'].count().plot.bar(ax=ax1)\n",
    "ax1.set_xlabel('month of the year')\n",
    "\n",
    "ax1 = fig1.add_subplot(2,2,3, title='number of periods without rotors by hour of the day') \n",
    "no_rotors_df.groupby([ no_rotors_df['DTG'].apply(lambda x: x.hour)])['DTG'].count().plot.bar( ax=ax1)\n",
    "ax1.set_xlabel('hour of the day')\n",
    "ax1 = fig1.add_subplot(2,2,4, title='number of periods without rotors by hour of the day') \n",
    "rotors_present_df.groupby([ rotors_present_df['DTG'].apply(lambda x: x.hour)])['DTG'].count().plot.bar(ax=ax1)\n",
    "ax1.set_xlabel('hour of the day')"
   ]
  },
  {
   "cell_type": "code",
   "execution_count": null,
   "id": "ae7a2943-7f53-4b9c-90b4-3ca630227312",
   "metadata": {},
   "outputs": [],
   "source": [
    "features_dict = {\n",
    "    'air_temp': [c1 for c1 in falklands_df.columns if 'air_temp' in c1 and 'obs' not in c1],\n",
    "    'dewpoint': [c1 for c1 in falklands_df.columns if 'sh' in c1 and 'obs' not in c1],\n",
    "    'wind_speed': [c1 for c1 in falklands_df.columns if 'windspd' in c1 and 'obs' not in c1],\n",
    "    'wind_dir': [c1 for c1 in falklands_df.columns if 'winddir' in c1 and 'obs' not in c1],\n",
    "}"
   ]
  },
  {
   "cell_type": "code",
   "execution_count": null,
   "id": "94a527e9-d168-4329-a5ee-85019dc6ddde",
   "metadata": {},
   "outputs": [],
   "source": [
    "num_vars = len(features_dict.keys())\n",
    "num_plots = 3\n",
    "fig1 = matplotlib.pyplot.figure(figsize=(16,8*num_vars))\n",
    "for ix1, (feature_name, fl1) in enumerate(features_dict.items()):\n",
    "    ax1 = fig1.add_subplot(num_vars,num_plots,ix1*num_plots+1, title=f'average {feature_name} with height for no rotors periods')\n",
    "    no_rotors_df[fl1].mean().plot.bar(ax=ax1)\n",
    "    ax1 = fig1.add_subplot(num_vars,num_plots,ix1*num_plots+2, title=f'average {feature_name} with height for rotors reported')\n",
    "    rotors_present_df[fl1].mean().plot.bar(ax=ax1)\n",
    "    ax1 = fig1.add_subplot(num_vars,num_plots,ix1*num_plots+3, title=f'difference in {feature_name} with height for rotors reported compared to no rotors')\n",
    "    (rotors_present_df[fl1].mean() - no_rotors_df[fl1].mean() ).plot.bar(ax=ax1)"
   ]
  },
  {
   "cell_type": "markdown",
   "id": "ed0de52c-532e-4bc9-8f01-69c89d019c13",
   "metadata": {},
   "source": [
    "Next up we want to explore the relationship between the forecast data and the observations."
   ]
  },
  {
   "cell_type": "markdown",
   "id": "94271903-b87e-4d7d-b67a-206630f23433",
   "metadata": {},
   "source": [
    "### Comparison with human performance\n",
    "\n",
    "This dataset also has some data containing the prediction made by human OpMets ahead of time. This is the baseline that we would need to match or improve upon for the algorithm to be useful."
   ]
  },
  {
   "cell_type": "code",
   "execution_count": null,
   "id": "0df0adb1-5b8e-4cee-bc62-94b1ab7baf6d",
   "metadata": {},
   "outputs": [],
   "source": [
    "opmet_results_path = falklands_data_dir / 'rotors_opmet_performance_2016_2021.csv'\n",
    "opmet_results_path"
   ]
  },
  {
   "cell_type": "code",
   "execution_count": null,
   "id": "33fba922-9f72-4a3d-9cd6-14100965946f",
   "metadata": {},
   "outputs": [],
   "source": [
    "opmet_predictions_df = pandas.read_csv(opmet_results_path)"
   ]
  },
  {
   "cell_type": "code",
   "execution_count": null,
   "id": "56510f49-b9a7-42a7-8724-9c6d382bd6b3",
   "metadata": {},
   "outputs": [],
   "source": [
    "opmet_predictions_df.loc[opmet_predictions_df[opmet_predictions_df.observation.isna()].index,'observation'] = 0.0\n",
    "opmet_predictions_df.loc[opmet_predictions_df[opmet_predictions_df['opmet_forecast'].isna()].index,'opmet_forecast'] = 0.0\n",
    "opmet_predictions_df['DTG'] = pandas.to_datetime(opmet_predictions_df['DTG'])\n"
   ]
  },
  {
   "cell_type": "code",
   "execution_count": null,
   "id": "cf845855-a8f0-4477-aa81-140b8c7bbffa",
   "metadata": {},
   "outputs": [],
   "source": [
    "opmet_predictions_df"
   ]
  },
  {
   "cell_type": "code",
   "execution_count": null,
   "id": "5f44cd2b-8e78-4202-adc3-6ca04de34f80",
   "metadata": {},
   "outputs": [],
   "source": [
    "opmet_predictions_df['observation'].value_counts()"
   ]
  },
  {
   "cell_type": "code",
   "execution_count": null,
   "id": "7b410f2c-9fe8-4e83-a148-93d43fd6fcfd",
   "metadata": {},
   "outputs": [],
   "source": [
    "opmet_predictions_df['opmet_forecast'].value_counts()"
   ]
  },
  {
   "cell_type": "code",
   "execution_count": null,
   "id": "a84acc0b-8d11-4657-9c35-dd86f7082e3a",
   "metadata": {},
   "outputs": [],
   "source": [
    "opmet_predictions_df['truePositive'] = ((opmet_predictions_df['observation'] == 1 ) & (opmet_predictions_df['opmet_forecast'] ==1))\n",
    "opmet_predictions_df['falsePositive']  = ((opmet_predictions_df['observation'] == 0 ) & (opmet_predictions_df['opmet_forecast'] ==1))\n",
    "opmet_predictions_df['trueNegative'] = ((opmet_predictions_df['observation'] == 0 ) & (opmet_predictions_df['opmet_forecast'] ==0))\n",
    "opmet_predictions_df['falseNegative']  = ((opmet_predictions_df['observation'] == 1 ) & (opmet_predictions_df['opmet_forecast'] ==0))"
   ]
  },
  {
   "cell_type": "code",
   "execution_count": null,
   "id": "add0e52f-b894-464f-b101-d8e015a65e54",
   "metadata": {},
   "outputs": [],
   "source": [
    "opmet_predictions_df['result_category'] = 'trueNegative'\n",
    "opmet_predictions_df.loc[opmet_predictions_df[opmet_predictions_df['falseNegative']==True].index,'result_category'] = 'falseNegative'\n",
    "opmet_predictions_df.loc[opmet_predictions_df[opmet_predictions_df['falsePositive']==True].index,'result_category'] = 'falsePositive'\n",
    "opmet_predictions_df.loc[opmet_predictions_df[opmet_predictions_df['truePositive']==True].index,'result_category'] = 'truePositive'"
   ]
  },
  {
   "cell_type": "code",
   "execution_count": null,
   "id": "abd91668-6ee8-4647-99dd-65ba3a31b8ff",
   "metadata": {},
   "outputs": [],
   "source": [
    "fig1 = matplotlib.pyplot.figure('comparisonn of hits/isses/etc.')\n",
    "ax1 = fig1.add_subplot(1,3,1,title='rotor events')\n",
    "opmet_predictions_df['observation'].value_counts().plot.pie(figsize=(18,6))\n",
    "ax1 = fig1.add_subplot(1,3,2,title='opmet forecasts')\n",
    "opmet_predictions_df['opmet_forecast'].value_counts().plot.pie(figsize=(18,6))\n",
    "ax1 = fig1.add_subplot(1,3,3,title='true/false positive/negative proportions')\n",
    "opmet_predictions_df['result_category'].value_counts().plot.pie(figsize=(18,6))"
   ]
  },
  {
   "cell_type": "markdown",
   "id": "5c6a0c4e-c69b-47fc-a345-86de0ad21330",
   "metadata": {},
   "source": [
    "Exploration of this data shows us that OpMets routinely overpredict rotor events. This is what you would expect, as the cost of missing a rotor event (false negative) is much higher than the cost of predicting an event and it not happening (false positive). So the challenge for our ML algorithm is to eliminate false negatives while maintaining an acceptably low false positive rate so as to maintain trust in forecast output."
   ]
  },
  {
   "cell_type": "markdown",
   "id": "f5caf666-d707-4f6a-a180-f32f70ff4ba8",
   "metadata": {},
   "source": [
    "## Load and explore gridded model data - ERA5"
   ]
  },
  {
   "cell_type": "code",
   "execution_count": null,
   "id": "0dff5256-4704-4f44-9ee1-b7b985fcdd4c",
   "metadata": {},
   "outputs": [],
   "source": [
    "try:\n",
    "    era5_root = os.environ['ERA5_DATA_ROOT']\n",
    "except KeyError:\n",
    "    era5_root = '/project/informatics_lab/data_science_cop/era5/'\n",
    "era5_data_dir = pathlib.Path(era5_root) \n",
    "print(era5_data_dir)"
   ]
  },
  {
   "cell_type": "code",
   "execution_count": null,
   "id": "27660aaa-8eb6-4169-8f95-649b02615f59",
   "metadata": {},
   "outputs": [],
   "source": [
    "nc_files = sorted([str(i1) for i1 in era5_data_dir.iterdir() if '.nc' in str(i1) and 'air_pressure' in str(i1)])\n",
    "nc_files"
   ]
  },
  {
   "cell_type": "code",
   "execution_count": null,
   "id": "0bdb10c5-5b5a-4a27-9dc5-e526df762bf5",
   "metadata": {},
   "outputs": [],
   "source": [
    "era5_cubeList = iris.load(nc_files)\n",
    "iris.util.equalise_attributes(era5_cubeList)\n",
    "mslp_era5_cube = iris.cube.CubeList.concatenate_cube(era5_cubeList)"
   ]
  },
  {
   "cell_type": "code",
   "execution_count": null,
   "id": "ca639606-1c36-49fe-bb0d-165df7576787",
   "metadata": {},
   "outputs": [],
   "source": [
    "uk_na_bounds = {'latitude': (40,65), 'longitude': (-10,10)}"
   ]
  },
  {
   "cell_type": "code",
   "execution_count": null,
   "id": "bb0622f1-8aaa-45c4-90ae-32a49edc0012",
   "metadata": {},
   "outputs": [],
   "source": [
    "mslp_era5_uk_cube = mslp_era5_cube.intersection(latitude=uk_na_bounds['latitude'], \n",
    "                                                longitude=uk_na_bounds['longitude'])\n",
    "mslp_era5_uk_cube"
   ]
  },
  {
   "cell_type": "code",
   "execution_count": null,
   "id": "682e953a-ff0d-42ef-a887-79002e9bfbe5",
   "metadata": {},
   "outputs": [],
   "source": [
    "iris.iris.coord_categorisation.add_season_number(mslp_era5_uk_cube,'time')"
   ]
  },
  {
   "cell_type": "code",
   "execution_count": null,
   "id": "333ac1b6-b18b-4add-b5bf-64e9f87c4c5e",
   "metadata": {},
   "outputs": [],
   "source": [
    "functools.reduce(lambda x,y: x*y, mslp_2020_cube.shape), functools.reduce(lambda x,y: x*y, mslp_uk_2020_cube.shape)"
   ]
  },
  {
   "cell_type": "code",
   "execution_count": null,
   "id": "51056a2f-d335-4958-9ed0-e40bf0bb3d44",
   "metadata": {},
   "outputs": [],
   "source": [
    "mslp_era5_uk_cube"
   ]
  },
  {
   "cell_type": "code",
   "execution_count": null,
   "id": "ac3cfcc2-a840-4482-aee6-edd355f93493",
   "metadata": {},
   "outputs": [],
   "source": [
    "min(mslp_era5_uk_cube.coord('latitude').points), max(mslp_era5_uk_cube.coord('latitude').points)"
   ]
  },
  {
   "cell_type": "code",
   "execution_count": null,
   "id": "92e7cea1-5a85-460e-909f-727f73a28a24",
   "metadata": {},
   "outputs": [],
   "source": [
    "min(mslp_era5_uk_cube.coord('longitude').points), max(mslp_era5_uk_cube.coord('longitude').points)"
   ]
  },
  {
   "cell_type": "code",
   "execution_count": null,
   "id": "be1c6551-9fda-4619-a936-7fd0f7c21046",
   "metadata": {},
   "outputs": [],
   "source": [
    "mslp_uk_seasonal_mean = mslp_era5_uk_cube.aggregated_by(['season_number'],iris.analysis.MEAN)\n",
    "mslp_uk_seasonal_mean"
   ]
  },
  {
   "cell_type": "markdown",
   "id": "e74ea056-3a7c-403e-a242-0f519957974a",
   "metadata": {},
   "source": [
    "Now we can plot the seasonal averages as a way of exploring the data.\n",
    "*NOTE* This cell will take a while to execute. This is because up until now none of the calculations described will actually have been executed, due to the *lazy loading* paradigm employed in Iris. Only at the point when the data is need (in our case to actually create the plots), are the compute operations actually triggered. So what is taking time is the subsetting and aggregation of the data, rather than only the actual plotting operations"
   ]
  },
  {
   "cell_type": "code",
   "execution_count": null,
   "id": "a0002d45-6ca9-4686-bb7a-c9741f80b6ea",
   "metadata": {},
   "outputs": [],
   "source": [
    "%%time\n",
    "mslp_uk_seasonal_mean.data"
   ]
  },
  {
   "cell_type": "code",
   "execution_count": null,
   "id": "5acd692c-807d-41eb-93ac-1b86d59c2837",
   "metadata": {},
   "outputs": [],
   "source": [
    "fig1 = matplotlib.pyplot.figure(figsize=(16,8))\n",
    "for ix1 in range(mslp_uk_seasonal_mean.shape[0]):\n",
    "    ax1 = fig1.add_subplot(1,4,ix1+1,projection=cartopy.crs.PlateCarree())\n",
    "    iris.quickplot.contourf(mslp_uk_seasonal_mean[ix1],axes=ax1)\n",
    "    ax1.coastlines()"
   ]
  },
  {
   "cell_type": "markdown",
   "id": "88bcd1b7-1f3f-4448-b263-c2feb1184f22",
   "metadata": {},
   "source": [
    "## Next Steps\n",
    "\n",
    "There are further example notebooks looking at loading and exploring data in python in the following locations:\n",
    "* [Introduction to Data Analsyis in Python](https://github.com/informatics-lab/intro_python_data_analysis/)\n",
    "* [Pangeo Lectures](https://github.com/informatics-lab/PangeoLectures)\n",
    "* [Using Climate Data](https://github.com/Informatics-lab/UsingClimateData)\n"
   ]
  },
  {
   "cell_type": "markdown",
   "id": "2e70e46b-e202-47b9-8d6d-a479a11e2b25",
   "metadata": {},
   "source": [
    "## Dataset Info\n",
    "\n",
    "### Falklands Rotors Challenge Dataset\n",
    "Crown Copyright 2021 - This dataset was created by Met Office Chief Operational Meteorologist Steve Ramsdale from Met Office forecast and observation data.\n",
    "* Model Data - Met Office Global 10km resolution model\n",
    "* Observations - made by meteorologists at Mount Pleasant airfield in the Falkland Islands.\n",
    "\n",
    "### ERA5\n",
    "ERA5 is Reanalysis data created by ECMWF. Reanalysis combines observations from many sources. by assimilating these into a forecast model (ECMWF's IFS in this case), to provide a consistent physically valid gridded dataset that is a close to observations as possible\n",
    "https://www.ecmwf.int/en/forecasts/datasets/reanalysis-datasets/era5\n",
    "\n"
   ]
  },
  {
   "cell_type": "markdown",
   "id": "260219d6-401b-4a45-b0ac-5daf6e4b03d1",
   "metadata": {},
   "source": [
    "## References\n",
    "\n",
    "The format of this notebook is based on the [template for tutorial notebooks](https://github.com/geo-yrao/notebook-dev/blob/main/templates/NCAI_Training_Notebook_template%20-%20Distribution%20Copy.ipynb) developed by NOAA, available on GitHub."
   ]
  },
  {
   "cell_type": "code",
   "execution_count": null,
   "id": "5623f971-e435-449a-90c2-47cb521940ed",
   "metadata": {},
   "outputs": [],
   "source": []
  }
 ],
 "metadata": {
  "kernelspec": {
   "display_name": "Python 3 (ipykernel)",
   "language": "python",
   "name": "python3"
  },
  "language_info": {
   "codemirror_mode": {
    "name": "ipython",
    "version": 3
   },
   "file_extension": ".py",
   "mimetype": "text/x-python",
   "name": "python",
   "nbconvert_exporter": "python",
   "pygments_lexer": "ipython3",
   "version": "3.8.13"
  }
 },
 "nbformat": 4,
 "nbformat_minor": 5
}
