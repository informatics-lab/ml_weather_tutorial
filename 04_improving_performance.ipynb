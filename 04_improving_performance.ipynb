{
 "cells": [
  {
   "cell_type": "markdown",
   "id": "7868c275-b8aa-4abd-bf13-4c7ac047f9e8",
   "metadata": {},
   "source": [
    "# 4. Improving and understanding algorithm performance.\n",
    "\n",
    "Having built a basic machine learning pipeline, one wants to improve performance to get the best results, and also understand the results of the trained algorithm."
   ]
  },
  {
   "cell_type": "markdown",
   "id": "ffe7e83d-b3c1-42d5-b754-05c0a6c69bb8",
   "metadata": {},
   "source": [
    "## Overview "
   ]
  },
  {
   "cell_type": "markdown",
   "id": "a64c4a63-ae89-41b4-938d-84b3c1aa6230",
   "metadata": {},
   "source": [
    "### Prerequisites\n",
    "Completed the first 3 notebooks in this series."
   ]
  },
  {
   "cell_type": "markdown",
   "id": "9108987e-3ec7-49cf-9efc-a08bebd376fa",
   "metadata": {},
   "source": [
    "### Learning Outcomes \n",
    "* Understand how to improve results through hyperparameter tuning\n",
    "* Understand basic approaches to improving training data through resampling approaches\n",
    "* Understand basic explainability and interpretability methods"
   ]
  },
  {
   "cell_type": "markdown",
   "id": "d531434e-e7e8-4183-8af1-95c88621943c",
   "metadata": {},
   "source": [
    "## Tutorial - Improving ML performance\n",
    "\n",
    "So far in this series of notebooks, we have started by exploring a dataset we want to use with machine learning to tackle a particular problem, so that we understand the requirements and challenges of working with particular datasets. We have then made use of that knowledge to build a machine learning pipeline to tackle the problem. As a complement to the first notebook which seeks to understand the data, the third notebook looks at some of the details of how the algorithms work to help make appropriate choices for the components and hyperparameters of our machine learning pipeline. In this last notebook we will look at some techniques for making use of the knowledge of how the machine learning pipeline fits together to improve the performance of that pipeline for our problem of interest. We will look at these areas:\n",
    "* cross-validation\n",
    "* hyperparameter tuning\n",
    "* resampling data to tackle the imbalanced class problem\n",
    "* machine learning interpretability and explainability\n"
   ]
  },
  {
   "cell_type": "markdown",
   "id": "5e39284b-ac8c-46cc-9c81-02a617f77474",
   "metadata": {},
   "source": [
    "### Best Practices\n",
    "* Data - How can my training data be improved through augmentation, filtering, resampling, extension etc. to improve the results of the ML algorithm?\n",
    "* Ethics - Can positive impacts be extended or negative ones reduced through correct use of ML algorithms e.g. using the best hyperparameters?\n",
    "* ML Pitfalls - Could my results be spuriously good or bad through random elements in the pipeline e.g. the train/validate/test split and could this be made more robust through use of appropriate techniques e.g. cross-validation\n",
    "\n",
    "(Please see [Met Office Best Practice Summary document](https://metoffice.sharepoint.com/:w:/r/sites/MetOfficeDataScienceCommunity/Shared%20Documents/MLAG/project_evaluation_review/MachineLearningBestPracticesAndValues_v1_0.docx?d=wae2554217d0342f2a9c8cf8906bfbe38&csf=1&web=1&e=ja7rLn) on Data Science Community site (internal only) for more information and further reading.)"
   ]
  },
  {
   "cell_type": "markdown",
   "id": "a6451ce9-6d8b-467d-95fa-f68f41ced454",
   "metadata": {},
   "source": [
    "### What is ultimate end goal for improving performance?\n",
    "\n",
    "It's important to know that the point of our modelling is to be able to model the whole population of samples we can encounter in our problem. \n",
    "There is no value in a model trained on high quality data made 20 years ago, if it doesn't reflect the data of today where the model is going to be applied.\n",
    "\n",
    "Keeping this in mind as we explore a machine learning problem can be particularly helpful when improving performance: \n",
    "* Are my results sensitive to small changes to the experiment setup? \n",
    "* What decisions can I make to improve the longevity of my model / make the results more robust? \n",
    "* Can I attempt to explain why a change in my experiment setup produces better results on independent data than another?"
   ]
  },
  {
   "cell_type": "markdown",
   "id": "84bbe08e-7835-4130-bb21-32c21d3d0632",
   "metadata": {},
   "source": [
    "### Importance of randomness in sampling data\n",
    "\n",
    "Random sampling is important for machine learning because a representative sample of your data will help toward modeling on independent data.   Particularly to help to ensure that your model is not biased towards any particular group of data points / categories for classification, or learns spurious patterns in data.   To give an example for either:   When modelling extremes you ideally want to capture an extreme event in every sample that you feed to the model - feeding an all \"No event occurred\" batch to your model might make negative progress on your goals.   Similarly if data is not randomized you may encounter a decreasing number of extremes as you feed data to the model which will be particularly destructive in cases where your model is optimized to use weight momentum as your momentum will pick up toward the same undesirable \"no event occurred\" outcome.   In our presented case below, while random tree classifiers use the entire training data to make algorithm decisions on, the problem can still be contextualized through an example where data split between train and test is not randomized, seasonal differences may be a factor in the problem and so the training data may not fully represent the whole population of our problem."
   ]
  },
  {
   "cell_type": "markdown",
   "id": "0e190327-1d8d-4102-9888-572a900a8fa0",
   "metadata": {},
   "source": [
    "### Cross-validation\n",
    "\n",
    "Before we train our machine learning algorithm, we split our data into train and test subsets so we can evaluate the performance of the algorithm with data that has not been used to train the algorithm. \n",
    "There is an assumption that the particular split doesn't matter, but this is not always the case, especially where we are not familiar with the dataset that we are using and are less able to evaluate whether a split is suitable or not. \n",
    "What can happen is that a particular split may result in especially good or especially bad results, and generalise poorly to the test and validation sets if rare cases are not present in the training set. \n",
    "One way to get around this is to try multiple different splits and check whether results differ greatly between different splits. \n",
    "**This is called cross validation**. \n",
    "The way this is done is that after separating out your test set, the remaining data is then split again into train and validate sets. \n",
    "Typically this is done by dividing the data into $n$ *folds* (by whatever means was used for splitting e.g. random, divide by time etc.). \n",
    "Then you produced $n$ different train/validate splits, each each using the members of one fold as the validation set and the rest as the training set. \n",
    "K-fold (or n-fold) cross validation is pictured below:\n",
    "\n",
    "![https://towardsdatascience.com/cross-validation-k-fold-vs-monte-carlo-e54df2fc179b](https://miro.medium.com/v2/resize:fit:1200/1*AAwIlHM8TpAVe4l2FihNUQ.png)"
   ]
  },
  {
   "cell_type": "markdown",
   "id": "b48bc878-696a-4123-b271-c9a1788b7809",
   "metadata": {},
   "source": [
    "### Hyperparameter tuning\n",
    "\n",
    "As we were setting up our machine learning pipeline in Notebook 2, in the step where were initialising and setting up the ML algorithm before training, we had to set a number of *hyperparameters* for each algorithm. \n",
    "For example we had to set the maximum depth for a decision tree, the number of estimators (i.e. the number of decision trees) in the random forest, and the number of layers and nodes in each layer for a neural network. \n",
    "These were just set to a particular value that are known to be reasonable for that problem. \n",
    "In general when we start a new problem, we can't be so sure we know what is a reasonable value for those hyperparameters.\n",
    "One may have some intuition to guide the choice based on similarity to other problems, but in general one needs to tweak these and do some trial and error experimentation find the values that give the best performance for a particular problem. \n",
    "This process is known as *hyperparameter tuning*. \n",
    "Each run with a different set of hyperparameters is called a *trial*.\n",
    "\n",
    "In general there is no good systematic way to determine the best hyperparameters. \n",
    "Typically, one needs to train the algorithm a lot of times with different hyperparameters to find the best combination for your problem. \n",
    "Unfortunately the results tend to be quite non-linear, limiting the ability to perform a systematic iterative optimisation. \n",
    "The two most common methods are:\n",
    "* **grid search** - Search a grid of regularly spaced values in the hyperparameter space, train an algorithm with each of the combinations on the grid and select the combination that gives the best results.\n",
    "* **random search** - Specify a distribution for each of the hyperparameters, get $n$ random samples from the distributions, train an algorithm with each and select the hyperparameter combination that gives the best result.\n",
    "\n",
    "There are other methods that try to be smarter about selecting based on previous results, and also more exotic method like genetic algorithms. \n",
    "For most problems grid or random search is sufficient. \n",
    "Grid is more comprehensive but costly, so random is often used.\n",
    "\n",
    "The process of training an algorithm many times is of course very costly, but also very easy to run multiple trials in parallel. \n",
    "See the notes at the bottom of the notebook for more information about tools to help scale up hyperparameter tuning."
   ]
  },
  {
   "cell_type": "markdown",
   "id": "915fb65d-7022-42b4-acaa-9b91a27e4e75",
   "metadata": {},
   "source": [
    "### Key Terms\n",
    "* cross validation - Re-running a machine learning experiment across different splits of test and training data to verify performance results\n",
    "* hyperparameter tuning - Running multiple machine learning experiments with different experiment setups in an attempt to find an optimal experiment setup"
   ]
  },
  {
   "cell_type": "markdown",
   "id": "cd1df685-9010-4ee6-aa73-e58f1a3d027e",
   "metadata": {},
   "source": [
    "## Exercise - Hyperparameter tuning"
   ]
  },
  {
   "cell_type": "markdown",
   "id": "b29f61b1-ff4d-4265-9009-83b48ce584c4",
   "metadata": {},
   "source": [
    "### Setup"
   ]
  },
  {
   "cell_type": "code",
   "execution_count": 1,
   "id": "6efe3c42-c559-437a-9dc5-aabcc8ec2c2a",
   "metadata": {},
   "outputs": [],
   "source": [
    "import warnings\n",
    "warnings.filterwarnings('ignore')"
   ]
  },
  {
   "cell_type": "code",
   "execution_count": 2,
   "id": "447118c6-fb34-4c45-8ce5-dd0edbc92705",
   "metadata": {},
   "outputs": [],
   "source": [
    "import pathlib\n",
    "import os\n",
    "import functools\n",
    "import math\n",
    "import datetime"
   ]
  },
  {
   "cell_type": "code",
   "execution_count": 3,
   "id": "4f1290d9-79b7-4824-9757-c471ab45eb22",
   "metadata": {},
   "outputs": [],
   "source": [
    "import pandas\n",
    "import numpy"
   ]
  },
  {
   "cell_type": "code",
   "execution_count": 4,
   "id": "f6857022-753d-4a8d-9045-591a51ad99e2",
   "metadata": {},
   "outputs": [],
   "source": [
    "import matplotlib\n",
    "import matplotlib.pyplot\n",
    "%matplotlib inline"
   ]
  },
  {
   "cell_type": "code",
   "execution_count": 5,
   "id": "a29a4781-3e30-44d8-8cbb-445bdfedbb7f",
   "metadata": {},
   "outputs": [],
   "source": [
    "import sklearn\n",
    "import sklearn.tree\n",
    "import sklearn.preprocessing\n",
    "import sklearn.ensemble"
   ]
  },
  {
   "cell_type": "markdown",
   "id": "a9bb2685-3759-4015-943e-729d40a439fe",
   "metadata": {},
   "source": [
    "### Load and prepare data"
   ]
  },
  {
   "cell_type": "code",
   "execution_count": 6,
   "id": "bfdfbccb-1639-4d39-8562-ad1dd41e6f23",
   "metadata": {},
   "outputs": [
    {
     "name": "stdout",
     "output_type": "stream",
     "text": [
      "/Users/stephen.haddad/data/ml_weather_tutorial\n"
     ]
    }
   ],
   "source": [
    "try:\n",
    "    falklands_data_dir = os.environ['ML_TUTORIAL_DIR']\n",
    "except KeyError:\n",
    "    falklands_data_dir = '/project/informatics_lab/data_science_cop/ML_challenges/2021_opmet_challenge/Rotors'\n",
    "falklands_data_dir = pathlib.Path(falklands_data_dir)\n",
    "print(falklands_data_dir)"
   ]
  },
  {
   "cell_type": "code",
   "execution_count": 7,
   "id": "f97e05d9-839d-49fd-9bc0-59e0114730bd",
   "metadata": {},
   "outputs": [],
   "source": [
    "falklands_data_fname = '2021_met_office_aviation_rotors.csv'\n",
    "falklands_data_path = falklands_data_dir / falklands_data_fname\n",
    "falklands_df = pandas.read_csv(falklands_data_path)"
   ]
  },
  {
   "cell_type": "code",
   "execution_count": 8,
   "id": "ec72d625-9b31-494f-ad2e-46fcf42ba685",
   "metadata": {},
   "outputs": [],
   "source": [
    "temp_feature_names = [f'air_temp_{i1}' for i1 in range(1,23)]\n",
    "humidity_feature_names = [f'sh_{i1}' for i1 in range(1,23)]\n",
    "wind_direction_feature_names = [f'winddir_{i1}' for i1 in range(1,23)]\n",
    "wind_speed_feature_names = [f'windspd_{i1}' for i1 in range(1,23)]\n",
    "target_feature_name = 'rotors_present'\n"
   ]
  },
  {
   "cell_type": "code",
   "execution_count": 12,
   "id": "2bdd2445-c828-4428-a97d-bdefaeb04fd4",
   "metadata": {},
   "outputs": [],
   "source": [
    "falklands_df = falklands_df.rename({'Rotors 1 is true': target_feature_name},axis=1)\n",
    "falklands_df.loc[falklands_df[falklands_df[target_feature_name].isna()].index, target_feature_name] = 0\n",
    "falklands_df['DTG'] = pandas.to_datetime(falklands_df['DTG'], dayfirst=True)\n",
    "falklands_df = falklands_df.drop_duplicates(subset=['DTG'])\n",
    "falklands_df = falklands_df[~falklands_df['DTG'].isnull()]\n",
    "falklands_df = falklands_df[(falklands_df['wind_speed_obs'] >= 0.0) &\n",
    "                            (falklands_df['air_temp_obs'] >= 0.0) &\n",
    "                            (falklands_df['wind_direction_obs'] >= 0.0) &\n",
    "                            (falklands_df['dewpoint_obs'] >= 0.0) \n",
    "                           ]\n",
    "falklands_df = falklands_df.drop_duplicates(subset='DTG')\n",
    "falklands_df[target_feature_name]  = falklands_df[target_feature_name].astype(bool)\n",
    "falklands_df['time'] = pandas.to_datetime(falklands_df['DTG'], dayfirst=True)"
   ]
  },
  {
   "cell_type": "code",
   "execution_count": 13,
   "id": "a55370de-1b5e-4949-9153-51563ca5a2b6",
   "metadata": {},
   "outputs": [],
   "source": [
    "def get_v_wind(wind_dir_name, wind_speed_name, row1):\n",
    "    return math.cos(math.radians(row1[wind_dir_name])) * row1[wind_speed_name]\n",
    "\n",
    "def get_u_wind(wind_dir_name, wind_speed_name, row1):\n",
    "    return math.sin(math.radians(row1[wind_dir_name])) * row1[wind_speed_name]"
   ]
  },
  {
   "cell_type": "code",
   "execution_count": 14,
   "id": "8c08a693-9668-4967-beea-f17558c26400",
   "metadata": {},
   "outputs": [
    {
     "name": "stdout",
     "output_type": "stream",
     "text": [
      "CPU times: user 18.2 s, sys: 2.27 s, total: 20.5 s\n",
      "Wall time: 20.8 s\n"
     ]
    }
   ],
   "source": [
    "%%time\n",
    "u_feature_template = 'u_wind_{level_ix}'\n",
    "v_feature_template = 'v_wind_{level_ix}'\n",
    "u_wind_feature_names = []\n",
    "v_wind_features_names = []\n",
    "for wsn1, wdn1 in zip(wind_speed_feature_names, wind_direction_feature_names):\n",
    "    level_ix = int( wsn1.split('_')[1])\n",
    "    u_feature = u_feature_template.format(level_ix=level_ix)\n",
    "    u_wind_feature_names += [u_feature]\n",
    "    falklands_df[u_feature] = falklands_df.apply(functools.partial(get_u_wind, wdn1, wsn1), axis='columns')\n",
    "    v_feature = v_feature_template.format(level_ix=level_ix)\n",
    "    v_wind_features_names += [v_feature]\n",
    "    falklands_df[v_feature] = falklands_df.apply(functools.partial(get_v_wind, wdn1, wsn1), axis='columns')"
   ]
  },
  {
   "cell_type": "markdown",
   "id": "a733b712-55be-4ba7-a60e-c72d1e8208a0",
   "metadata": {},
   "source": [
    "### Train/Test split"
   ]
  },
  {
   "cell_type": "code",
   "execution_count": 15,
   "id": "c8b7a249-2340-4a8a-b85c-ba1cb2643815",
   "metadata": {},
   "outputs": [],
   "source": [
    "rotors_train_df = falklands_df[falklands_df['time'] < datetime.datetime(2020,1,1,0,0)]\n",
    "rotors_test_df = falklands_df[falklands_df['time'] > datetime.datetime(2020,1,1,0,0)]"
   ]
  },
  {
   "cell_type": "code",
   "execution_count": 16,
   "id": "18d2a1df-b3fd-4258-8751-edd49efdf965",
   "metadata": {},
   "outputs": [],
   "source": [
    "def preproc_input(data_subset, pp_dict):\n",
    "    return numpy.concatenate([scaler1.transform(data_subset[[if1]]) for if1,scaler1 in pp_dict.items()],axis=1)\n",
    "\n",
    "def preproc_target(data_subset, enc1):\n",
    "     return enc1.transform(data_subset[[target_feature_name]])"
   ]
  },
  {
   "cell_type": "code",
   "execution_count": 17,
   "id": "07891093-5d7a-45a6-8687-a081f43973e9",
   "metadata": {},
   "outputs": [
    {
     "data": {
      "text/html": [
       "<style>#sk-container-id-1 {\n",
       "  /* Definition of color scheme common for light and dark mode */\n",
       "  --sklearn-color-text: black;\n",
       "  --sklearn-color-line: gray;\n",
       "  /* Definition of color scheme for unfitted estimators */\n",
       "  --sklearn-color-unfitted-level-0: #fff5e6;\n",
       "  --sklearn-color-unfitted-level-1: #f6e4d2;\n",
       "  --sklearn-color-unfitted-level-2: #ffe0b3;\n",
       "  --sklearn-color-unfitted-level-3: chocolate;\n",
       "  /* Definition of color scheme for fitted estimators */\n",
       "  --sklearn-color-fitted-level-0: #f0f8ff;\n",
       "  --sklearn-color-fitted-level-1: #d4ebff;\n",
       "  --sklearn-color-fitted-level-2: #b3dbfd;\n",
       "  --sklearn-color-fitted-level-3: cornflowerblue;\n",
       "\n",
       "  /* Specific color for light theme */\n",
       "  --sklearn-color-text-on-default-background: var(--sg-text-color, var(--theme-code-foreground, var(--jp-content-font-color1, black)));\n",
       "  --sklearn-color-background: var(--sg-background-color, var(--theme-background, var(--jp-layout-color0, white)));\n",
       "  --sklearn-color-border-box: var(--sg-text-color, var(--theme-code-foreground, var(--jp-content-font-color1, black)));\n",
       "  --sklearn-color-icon: #696969;\n",
       "\n",
       "  @media (prefers-color-scheme: dark) {\n",
       "    /* Redefinition of color scheme for dark theme */\n",
       "    --sklearn-color-text-on-default-background: var(--sg-text-color, var(--theme-code-foreground, var(--jp-content-font-color1, white)));\n",
       "    --sklearn-color-background: var(--sg-background-color, var(--theme-background, var(--jp-layout-color0, #111)));\n",
       "    --sklearn-color-border-box: var(--sg-text-color, var(--theme-code-foreground, var(--jp-content-font-color1, white)));\n",
       "    --sklearn-color-icon: #878787;\n",
       "  }\n",
       "}\n",
       "\n",
       "#sk-container-id-1 {\n",
       "  color: var(--sklearn-color-text);\n",
       "}\n",
       "\n",
       "#sk-container-id-1 pre {\n",
       "  padding: 0;\n",
       "}\n",
       "\n",
       "#sk-container-id-1 input.sk-hidden--visually {\n",
       "  border: 0;\n",
       "  clip: rect(1px 1px 1px 1px);\n",
       "  clip: rect(1px, 1px, 1px, 1px);\n",
       "  height: 1px;\n",
       "  margin: -1px;\n",
       "  overflow: hidden;\n",
       "  padding: 0;\n",
       "  position: absolute;\n",
       "  width: 1px;\n",
       "}\n",
       "\n",
       "#sk-container-id-1 div.sk-dashed-wrapped {\n",
       "  border: 1px dashed var(--sklearn-color-line);\n",
       "  margin: 0 0.4em 0.5em 0.4em;\n",
       "  box-sizing: border-box;\n",
       "  padding-bottom: 0.4em;\n",
       "  background-color: var(--sklearn-color-background);\n",
       "}\n",
       "\n",
       "#sk-container-id-1 div.sk-container {\n",
       "  /* jupyter's `normalize.less` sets `[hidden] { display: none; }`\n",
       "     but bootstrap.min.css set `[hidden] { display: none !important; }`\n",
       "     so we also need the `!important` here to be able to override the\n",
       "     default hidden behavior on the sphinx rendered scikit-learn.org.\n",
       "     See: https://github.com/scikit-learn/scikit-learn/issues/21755 */\n",
       "  display: inline-block !important;\n",
       "  position: relative;\n",
       "}\n",
       "\n",
       "#sk-container-id-1 div.sk-text-repr-fallback {\n",
       "  display: none;\n",
       "}\n",
       "\n",
       "div.sk-parallel-item,\n",
       "div.sk-serial,\n",
       "div.sk-item {\n",
       "  /* draw centered vertical line to link estimators */\n",
       "  background-image: linear-gradient(var(--sklearn-color-text-on-default-background), var(--sklearn-color-text-on-default-background));\n",
       "  background-size: 2px 100%;\n",
       "  background-repeat: no-repeat;\n",
       "  background-position: center center;\n",
       "}\n",
       "\n",
       "/* Parallel-specific style estimator block */\n",
       "\n",
       "#sk-container-id-1 div.sk-parallel-item::after {\n",
       "  content: \"\";\n",
       "  width: 100%;\n",
       "  border-bottom: 2px solid var(--sklearn-color-text-on-default-background);\n",
       "  flex-grow: 1;\n",
       "}\n",
       "\n",
       "#sk-container-id-1 div.sk-parallel {\n",
       "  display: flex;\n",
       "  align-items: stretch;\n",
       "  justify-content: center;\n",
       "  background-color: var(--sklearn-color-background);\n",
       "  position: relative;\n",
       "}\n",
       "\n",
       "#sk-container-id-1 div.sk-parallel-item {\n",
       "  display: flex;\n",
       "  flex-direction: column;\n",
       "}\n",
       "\n",
       "#sk-container-id-1 div.sk-parallel-item:first-child::after {\n",
       "  align-self: flex-end;\n",
       "  width: 50%;\n",
       "}\n",
       "\n",
       "#sk-container-id-1 div.sk-parallel-item:last-child::after {\n",
       "  align-self: flex-start;\n",
       "  width: 50%;\n",
       "}\n",
       "\n",
       "#sk-container-id-1 div.sk-parallel-item:only-child::after {\n",
       "  width: 0;\n",
       "}\n",
       "\n",
       "/* Serial-specific style estimator block */\n",
       "\n",
       "#sk-container-id-1 div.sk-serial {\n",
       "  display: flex;\n",
       "  flex-direction: column;\n",
       "  align-items: center;\n",
       "  background-color: var(--sklearn-color-background);\n",
       "  padding-right: 1em;\n",
       "  padding-left: 1em;\n",
       "}\n",
       "\n",
       "\n",
       "/* Toggleable style: style used for estimator/Pipeline/ColumnTransformer box that is\n",
       "clickable and can be expanded/collapsed.\n",
       "- Pipeline and ColumnTransformer use this feature and define the default style\n",
       "- Estimators will overwrite some part of the style using the `sk-estimator` class\n",
       "*/\n",
       "\n",
       "/* Pipeline and ColumnTransformer style (default) */\n",
       "\n",
       "#sk-container-id-1 div.sk-toggleable {\n",
       "  /* Default theme specific background. It is overwritten whether we have a\n",
       "  specific estimator or a Pipeline/ColumnTransformer */\n",
       "  background-color: var(--sklearn-color-background);\n",
       "}\n",
       "\n",
       "/* Toggleable label */\n",
       "#sk-container-id-1 label.sk-toggleable__label {\n",
       "  cursor: pointer;\n",
       "  display: block;\n",
       "  width: 100%;\n",
       "  margin-bottom: 0;\n",
       "  padding: 0.5em;\n",
       "  box-sizing: border-box;\n",
       "  text-align: center;\n",
       "}\n",
       "\n",
       "#sk-container-id-1 label.sk-toggleable__label-arrow:before {\n",
       "  /* Arrow on the left of the label */\n",
       "  content: \"▸\";\n",
       "  float: left;\n",
       "  margin-right: 0.25em;\n",
       "  color: var(--sklearn-color-icon);\n",
       "}\n",
       "\n",
       "#sk-container-id-1 label.sk-toggleable__label-arrow:hover:before {\n",
       "  color: var(--sklearn-color-text);\n",
       "}\n",
       "\n",
       "/* Toggleable content - dropdown */\n",
       "\n",
       "#sk-container-id-1 div.sk-toggleable__content {\n",
       "  max-height: 0;\n",
       "  max-width: 0;\n",
       "  overflow: hidden;\n",
       "  text-align: left;\n",
       "  /* unfitted */\n",
       "  background-color: var(--sklearn-color-unfitted-level-0);\n",
       "}\n",
       "\n",
       "#sk-container-id-1 div.sk-toggleable__content.fitted {\n",
       "  /* fitted */\n",
       "  background-color: var(--sklearn-color-fitted-level-0);\n",
       "}\n",
       "\n",
       "#sk-container-id-1 div.sk-toggleable__content pre {\n",
       "  margin: 0.2em;\n",
       "  border-radius: 0.25em;\n",
       "  color: var(--sklearn-color-text);\n",
       "  /* unfitted */\n",
       "  background-color: var(--sklearn-color-unfitted-level-0);\n",
       "}\n",
       "\n",
       "#sk-container-id-1 div.sk-toggleable__content.fitted pre {\n",
       "  /* unfitted */\n",
       "  background-color: var(--sklearn-color-fitted-level-0);\n",
       "}\n",
       "\n",
       "#sk-container-id-1 input.sk-toggleable__control:checked~div.sk-toggleable__content {\n",
       "  /* Expand drop-down */\n",
       "  max-height: 200px;\n",
       "  max-width: 100%;\n",
       "  overflow: auto;\n",
       "}\n",
       "\n",
       "#sk-container-id-1 input.sk-toggleable__control:checked~label.sk-toggleable__label-arrow:before {\n",
       "  content: \"▾\";\n",
       "}\n",
       "\n",
       "/* Pipeline/ColumnTransformer-specific style */\n",
       "\n",
       "#sk-container-id-1 div.sk-label input.sk-toggleable__control:checked~label.sk-toggleable__label {\n",
       "  color: var(--sklearn-color-text);\n",
       "  background-color: var(--sklearn-color-unfitted-level-2);\n",
       "}\n",
       "\n",
       "#sk-container-id-1 div.sk-label.fitted input.sk-toggleable__control:checked~label.sk-toggleable__label {\n",
       "  background-color: var(--sklearn-color-fitted-level-2);\n",
       "}\n",
       "\n",
       "/* Estimator-specific style */\n",
       "\n",
       "/* Colorize estimator box */\n",
       "#sk-container-id-1 div.sk-estimator input.sk-toggleable__control:checked~label.sk-toggleable__label {\n",
       "  /* unfitted */\n",
       "  background-color: var(--sklearn-color-unfitted-level-2);\n",
       "}\n",
       "\n",
       "#sk-container-id-1 div.sk-estimator.fitted input.sk-toggleable__control:checked~label.sk-toggleable__label {\n",
       "  /* fitted */\n",
       "  background-color: var(--sklearn-color-fitted-level-2);\n",
       "}\n",
       "\n",
       "#sk-container-id-1 div.sk-label label.sk-toggleable__label,\n",
       "#sk-container-id-1 div.sk-label label {\n",
       "  /* The background is the default theme color */\n",
       "  color: var(--sklearn-color-text-on-default-background);\n",
       "}\n",
       "\n",
       "/* On hover, darken the color of the background */\n",
       "#sk-container-id-1 div.sk-label:hover label.sk-toggleable__label {\n",
       "  color: var(--sklearn-color-text);\n",
       "  background-color: var(--sklearn-color-unfitted-level-2);\n",
       "}\n",
       "\n",
       "/* Label box, darken color on hover, fitted */\n",
       "#sk-container-id-1 div.sk-label.fitted:hover label.sk-toggleable__label.fitted {\n",
       "  color: var(--sklearn-color-text);\n",
       "  background-color: var(--sklearn-color-fitted-level-2);\n",
       "}\n",
       "\n",
       "/* Estimator label */\n",
       "\n",
       "#sk-container-id-1 div.sk-label label {\n",
       "  font-family: monospace;\n",
       "  font-weight: bold;\n",
       "  display: inline-block;\n",
       "  line-height: 1.2em;\n",
       "}\n",
       "\n",
       "#sk-container-id-1 div.sk-label-container {\n",
       "  text-align: center;\n",
       "}\n",
       "\n",
       "/* Estimator-specific */\n",
       "#sk-container-id-1 div.sk-estimator {\n",
       "  font-family: monospace;\n",
       "  border: 1px dotted var(--sklearn-color-border-box);\n",
       "  border-radius: 0.25em;\n",
       "  box-sizing: border-box;\n",
       "  margin-bottom: 0.5em;\n",
       "  /* unfitted */\n",
       "  background-color: var(--sklearn-color-unfitted-level-0);\n",
       "}\n",
       "\n",
       "#sk-container-id-1 div.sk-estimator.fitted {\n",
       "  /* fitted */\n",
       "  background-color: var(--sklearn-color-fitted-level-0);\n",
       "}\n",
       "\n",
       "/* on hover */\n",
       "#sk-container-id-1 div.sk-estimator:hover {\n",
       "  /* unfitted */\n",
       "  background-color: var(--sklearn-color-unfitted-level-2);\n",
       "}\n",
       "\n",
       "#sk-container-id-1 div.sk-estimator.fitted:hover {\n",
       "  /* fitted */\n",
       "  background-color: var(--sklearn-color-fitted-level-2);\n",
       "}\n",
       "\n",
       "/* Specification for estimator info (e.g. \"i\" and \"?\") */\n",
       "\n",
       "/* Common style for \"i\" and \"?\" */\n",
       "\n",
       ".sk-estimator-doc-link,\n",
       "a:link.sk-estimator-doc-link,\n",
       "a:visited.sk-estimator-doc-link {\n",
       "  float: right;\n",
       "  font-size: smaller;\n",
       "  line-height: 1em;\n",
       "  font-family: monospace;\n",
       "  background-color: var(--sklearn-color-background);\n",
       "  border-radius: 1em;\n",
       "  height: 1em;\n",
       "  width: 1em;\n",
       "  text-decoration: none !important;\n",
       "  margin-left: 1ex;\n",
       "  /* unfitted */\n",
       "  border: var(--sklearn-color-unfitted-level-1) 1pt solid;\n",
       "  color: var(--sklearn-color-unfitted-level-1);\n",
       "}\n",
       "\n",
       ".sk-estimator-doc-link.fitted,\n",
       "a:link.sk-estimator-doc-link.fitted,\n",
       "a:visited.sk-estimator-doc-link.fitted {\n",
       "  /* fitted */\n",
       "  border: var(--sklearn-color-fitted-level-1) 1pt solid;\n",
       "  color: var(--sklearn-color-fitted-level-1);\n",
       "}\n",
       "\n",
       "/* On hover */\n",
       "div.sk-estimator:hover .sk-estimator-doc-link:hover,\n",
       ".sk-estimator-doc-link:hover,\n",
       "div.sk-label-container:hover .sk-estimator-doc-link:hover,\n",
       ".sk-estimator-doc-link:hover {\n",
       "  /* unfitted */\n",
       "  background-color: var(--sklearn-color-unfitted-level-3);\n",
       "  color: var(--sklearn-color-background);\n",
       "  text-decoration: none;\n",
       "}\n",
       "\n",
       "div.sk-estimator.fitted:hover .sk-estimator-doc-link.fitted:hover,\n",
       ".sk-estimator-doc-link.fitted:hover,\n",
       "div.sk-label-container:hover .sk-estimator-doc-link.fitted:hover,\n",
       ".sk-estimator-doc-link.fitted:hover {\n",
       "  /* fitted */\n",
       "  background-color: var(--sklearn-color-fitted-level-3);\n",
       "  color: var(--sklearn-color-background);\n",
       "  text-decoration: none;\n",
       "}\n",
       "\n",
       "/* Span, style for the box shown on hovering the info icon */\n",
       ".sk-estimator-doc-link span {\n",
       "  display: none;\n",
       "  z-index: 9999;\n",
       "  position: relative;\n",
       "  font-weight: normal;\n",
       "  right: .2ex;\n",
       "  padding: .5ex;\n",
       "  margin: .5ex;\n",
       "  width: min-content;\n",
       "  min-width: 20ex;\n",
       "  max-width: 50ex;\n",
       "  color: var(--sklearn-color-text);\n",
       "  box-shadow: 2pt 2pt 4pt #999;\n",
       "  /* unfitted */\n",
       "  background: var(--sklearn-color-unfitted-level-0);\n",
       "  border: .5pt solid var(--sklearn-color-unfitted-level-3);\n",
       "}\n",
       "\n",
       ".sk-estimator-doc-link.fitted span {\n",
       "  /* fitted */\n",
       "  background: var(--sklearn-color-fitted-level-0);\n",
       "  border: var(--sklearn-color-fitted-level-3);\n",
       "}\n",
       "\n",
       ".sk-estimator-doc-link:hover span {\n",
       "  display: block;\n",
       "}\n",
       "\n",
       "/* \"?\"-specific style due to the `<a>` HTML tag */\n",
       "\n",
       "#sk-container-id-1 a.estimator_doc_link {\n",
       "  float: right;\n",
       "  font-size: 1rem;\n",
       "  line-height: 1em;\n",
       "  font-family: monospace;\n",
       "  background-color: var(--sklearn-color-background);\n",
       "  border-radius: 1rem;\n",
       "  height: 1rem;\n",
       "  width: 1rem;\n",
       "  text-decoration: none;\n",
       "  /* unfitted */\n",
       "  color: var(--sklearn-color-unfitted-level-1);\n",
       "  border: var(--sklearn-color-unfitted-level-1) 1pt solid;\n",
       "}\n",
       "\n",
       "#sk-container-id-1 a.estimator_doc_link.fitted {\n",
       "  /* fitted */\n",
       "  border: var(--sklearn-color-fitted-level-1) 1pt solid;\n",
       "  color: var(--sklearn-color-fitted-level-1);\n",
       "}\n",
       "\n",
       "/* On hover */\n",
       "#sk-container-id-1 a.estimator_doc_link:hover {\n",
       "  /* unfitted */\n",
       "  background-color: var(--sklearn-color-unfitted-level-3);\n",
       "  color: var(--sklearn-color-background);\n",
       "  text-decoration: none;\n",
       "}\n",
       "\n",
       "#sk-container-id-1 a.estimator_doc_link.fitted:hover {\n",
       "  /* fitted */\n",
       "  background-color: var(--sklearn-color-fitted-level-3);\n",
       "}\n",
       "</style><div id=\"sk-container-id-1\" class=\"sk-top-container\"><div class=\"sk-text-repr-fallback\"><pre>LabelEncoder()</pre><b>In a Jupyter environment, please rerun this cell to show the HTML representation or trust the notebook. <br />On GitHub, the HTML representation is unable to render, please try loading this page with nbviewer.org.</b></div><div class=\"sk-container\" hidden><div class=\"sk-item\"><div class=\"sk-estimator fitted sk-toggleable\"><input class=\"sk-toggleable__control sk-hidden--visually\" id=\"sk-estimator-id-1\" type=\"checkbox\" checked><label for=\"sk-estimator-id-1\" class=\"sk-toggleable__label fitted sk-toggleable__label-arrow fitted\">&nbsp;&nbsp;LabelEncoder<a class=\"sk-estimator-doc-link fitted\" rel=\"noreferrer\" target=\"_blank\" href=\"https://scikit-learn.org/1.4/modules/generated/sklearn.preprocessing.LabelEncoder.html\">?<span>Documentation for LabelEncoder</span></a><span class=\"sk-estimator-doc-link fitted\">i<span>Fitted</span></span></label><div class=\"sk-toggleable__content fitted\"><pre>LabelEncoder()</pre></div> </div></div></div></div>"
      ],
      "text/plain": [
       "LabelEncoder()"
      ]
     },
     "execution_count": 17,
     "metadata": {},
     "output_type": "execute_result"
    }
   ],
   "source": [
    "input_feature_names = temp_feature_names + humidity_feature_names + u_wind_feature_names + v_wind_features_names\n",
    "preproc_dict = {}\n",
    "for if1 in input_feature_names:\n",
    "    scaler1 = sklearn.preprocessing.StandardScaler()\n",
    "    scaler1.fit(rotors_train_df[[if1]])\n",
    "    preproc_dict[if1] = scaler1\n",
    "    \n",
    "target_encoder = sklearn.preprocessing.LabelEncoder()\n",
    "target_encoder.fit(rotors_train_df[[target_feature_name]])"
   ]
  },
  {
   "cell_type": "code",
   "execution_count": 18,
   "id": "f159381e-3b08-4440-bc79-a6de0f934e28",
   "metadata": {},
   "outputs": [],
   "source": [
    "X_train_rotors = preproc_input(rotors_train_df, preproc_dict)\n",
    "y_train_rotors = preproc_target(rotors_train_df, target_encoder)"
   ]
  },
  {
   "cell_type": "code",
   "execution_count": 19,
   "id": "e324c976-3339-472a-9fa9-af0309ac8ef4",
   "metadata": {},
   "outputs": [],
   "source": [
    "X_test_rotors = preproc_input(rotors_test_df, preproc_dict)\n",
    "y_test_rotors = preproc_target(rotors_test_df, target_encoder)"
   ]
  },
  {
   "cell_type": "markdown",
   "id": "30c78fca-cadb-4f11-a1d9-91c931db023d",
   "metadata": {},
   "source": [
    "### Grid-search"
   ]
  },
  {
   "cell_type": "markdown",
   "id": "9b28a6cc-fbe2-4433-8a2a-820a9033aa71",
   "metadata": {},
   "source": [
    "Here we come to the part that is different. \n",
    "We will do hyperparameter tuning and cross-validation to robustly find the best hyperparameters for this problem. \n",
    "We will do multiple trials with each combination of hyperparameters, and for each combination we will do a cross validation. \n",
    "The steps for setting up our hyperparameter tuning with cross validation are as follows:\n",
    "* First we create an instance of the classifier for which we want to tune the hyperparameters.\n",
    "* Then we instantiate an object to handle the cross-validation. This will split the data into folds. This has 2 parameters:\n",
    "  * `n_splits` - The number of folds.\n",
    "  * `shuffle` - whether to randomly mix up the data before dividing into folds. If this is `False`, then the data will be split in its current order.\n",
    "* Then we create an object to do a **grid-search** hyperparameter tuning. We pass three items:\n",
    "  * `estimator` - The classifier to tune. This currently has default hyperparameter values, which will be set differently for each trial.\n",
    "  * `param_grid` - The grid of hyperparameter values to try. The values for each hyperparameter value is specified separately as a list, and all possible combinations are tried. So if we specify `n` options for hyperparameter 1, and `m` options for hyperparameter 2, there will be `n*m` trials.\n",
    "  * `cv` - The cross validation handler which we created. For each trial we will do a separate cross-validation."
   ]
  },
  {
   "cell_type": "code",
   "execution_count": 20,
   "id": "6f0711cd-5c8a-4943-9a46-7b37ea39641e",
   "metadata": {},
   "outputs": [
    {
     "data": {
      "text/plain": [
       "{'ccp_alpha': 0.0,\n",
       " 'class_weight': None,\n",
       " 'criterion': 'gini',\n",
       " 'max_depth': None,\n",
       " 'max_features': None,\n",
       " 'max_leaf_nodes': None,\n",
       " 'min_impurity_decrease': 0.0,\n",
       " 'min_samples_leaf': 1,\n",
       " 'min_samples_split': 2,\n",
       " 'min_weight_fraction_leaf': 0.0,\n",
       " 'monotonic_cst': None,\n",
       " 'random_state': None,\n",
       " 'splitter': 'best'}"
      ]
     },
     "execution_count": 20,
     "metadata": {},
     "output_type": "execute_result"
    }
   ],
   "source": [
    "sklearn.tree.DecisionTreeClassifier().get_params()"
   ]
  },
  {
   "cell_type": "code",
   "execution_count": 21,
   "id": "6c9ab221-3184-4318-a7cf-8bb758a70177",
   "metadata": {},
   "outputs": [],
   "source": [
    "opts_grid = {'max_depth':[5,10,15,20], \n",
    "            'min_samples_leaf': [1,2,5],\n",
    "            'min_samples_split': [4,10,20],\n",
    "            # 'ccp_alpha': [0.0, 0.01, 0.1],\n",
    "           }"
   ]
  },
  {
   "cell_type": "code",
   "execution_count": 22,
   "id": "98d94496-e453-4a88-bccc-1fd64432b5c7",
   "metadata": {},
   "outputs": [
    {
     "name": "stdout",
     "output_type": "stream",
     "text": [
      "CPU times: user 4min 12s, sys: 1.11 s, total: 4min 13s\n",
      "Wall time: 4min 40s\n"
     ]
    }
   ],
   "source": [
    "%%time\n",
    "clf1 = sklearn.tree.DecisionTreeClassifier()\n",
    "cv1 = sklearn.model_selection.KFold(n_splits=5, shuffle=True)\n",
    "hpt_grid = sklearn.model_selection.GridSearchCV(estimator=clf1, \n",
    "                                                param_grid=opts_grid,\n",
    "                                                cv=cv1,\n",
    "                                               )\n",
    "res1 = hpt_grid.fit(X_train_rotors, y_train_rotors)"
   ]
  },
  {
   "cell_type": "code",
   "execution_count": 23,
   "id": "13df6b4c-1c93-4e61-822c-a807f5f525f5",
   "metadata": {},
   "outputs": [
    {
     "data": {
      "text/html": [
       "<style>#sk-container-id-2 {\n",
       "  /* Definition of color scheme common for light and dark mode */\n",
       "  --sklearn-color-text: black;\n",
       "  --sklearn-color-line: gray;\n",
       "  /* Definition of color scheme for unfitted estimators */\n",
       "  --sklearn-color-unfitted-level-0: #fff5e6;\n",
       "  --sklearn-color-unfitted-level-1: #f6e4d2;\n",
       "  --sklearn-color-unfitted-level-2: #ffe0b3;\n",
       "  --sklearn-color-unfitted-level-3: chocolate;\n",
       "  /* Definition of color scheme for fitted estimators */\n",
       "  --sklearn-color-fitted-level-0: #f0f8ff;\n",
       "  --sklearn-color-fitted-level-1: #d4ebff;\n",
       "  --sklearn-color-fitted-level-2: #b3dbfd;\n",
       "  --sklearn-color-fitted-level-3: cornflowerblue;\n",
       "\n",
       "  /* Specific color for light theme */\n",
       "  --sklearn-color-text-on-default-background: var(--sg-text-color, var(--theme-code-foreground, var(--jp-content-font-color1, black)));\n",
       "  --sklearn-color-background: var(--sg-background-color, var(--theme-background, var(--jp-layout-color0, white)));\n",
       "  --sklearn-color-border-box: var(--sg-text-color, var(--theme-code-foreground, var(--jp-content-font-color1, black)));\n",
       "  --sklearn-color-icon: #696969;\n",
       "\n",
       "  @media (prefers-color-scheme: dark) {\n",
       "    /* Redefinition of color scheme for dark theme */\n",
       "    --sklearn-color-text-on-default-background: var(--sg-text-color, var(--theme-code-foreground, var(--jp-content-font-color1, white)));\n",
       "    --sklearn-color-background: var(--sg-background-color, var(--theme-background, var(--jp-layout-color0, #111)));\n",
       "    --sklearn-color-border-box: var(--sg-text-color, var(--theme-code-foreground, var(--jp-content-font-color1, white)));\n",
       "    --sklearn-color-icon: #878787;\n",
       "  }\n",
       "}\n",
       "\n",
       "#sk-container-id-2 {\n",
       "  color: var(--sklearn-color-text);\n",
       "}\n",
       "\n",
       "#sk-container-id-2 pre {\n",
       "  padding: 0;\n",
       "}\n",
       "\n",
       "#sk-container-id-2 input.sk-hidden--visually {\n",
       "  border: 0;\n",
       "  clip: rect(1px 1px 1px 1px);\n",
       "  clip: rect(1px, 1px, 1px, 1px);\n",
       "  height: 1px;\n",
       "  margin: -1px;\n",
       "  overflow: hidden;\n",
       "  padding: 0;\n",
       "  position: absolute;\n",
       "  width: 1px;\n",
       "}\n",
       "\n",
       "#sk-container-id-2 div.sk-dashed-wrapped {\n",
       "  border: 1px dashed var(--sklearn-color-line);\n",
       "  margin: 0 0.4em 0.5em 0.4em;\n",
       "  box-sizing: border-box;\n",
       "  padding-bottom: 0.4em;\n",
       "  background-color: var(--sklearn-color-background);\n",
       "}\n",
       "\n",
       "#sk-container-id-2 div.sk-container {\n",
       "  /* jupyter's `normalize.less` sets `[hidden] { display: none; }`\n",
       "     but bootstrap.min.css set `[hidden] { display: none !important; }`\n",
       "     so we also need the `!important` here to be able to override the\n",
       "     default hidden behavior on the sphinx rendered scikit-learn.org.\n",
       "     See: https://github.com/scikit-learn/scikit-learn/issues/21755 */\n",
       "  display: inline-block !important;\n",
       "  position: relative;\n",
       "}\n",
       "\n",
       "#sk-container-id-2 div.sk-text-repr-fallback {\n",
       "  display: none;\n",
       "}\n",
       "\n",
       "div.sk-parallel-item,\n",
       "div.sk-serial,\n",
       "div.sk-item {\n",
       "  /* draw centered vertical line to link estimators */\n",
       "  background-image: linear-gradient(var(--sklearn-color-text-on-default-background), var(--sklearn-color-text-on-default-background));\n",
       "  background-size: 2px 100%;\n",
       "  background-repeat: no-repeat;\n",
       "  background-position: center center;\n",
       "}\n",
       "\n",
       "/* Parallel-specific style estimator block */\n",
       "\n",
       "#sk-container-id-2 div.sk-parallel-item::after {\n",
       "  content: \"\";\n",
       "  width: 100%;\n",
       "  border-bottom: 2px solid var(--sklearn-color-text-on-default-background);\n",
       "  flex-grow: 1;\n",
       "}\n",
       "\n",
       "#sk-container-id-2 div.sk-parallel {\n",
       "  display: flex;\n",
       "  align-items: stretch;\n",
       "  justify-content: center;\n",
       "  background-color: var(--sklearn-color-background);\n",
       "  position: relative;\n",
       "}\n",
       "\n",
       "#sk-container-id-2 div.sk-parallel-item {\n",
       "  display: flex;\n",
       "  flex-direction: column;\n",
       "}\n",
       "\n",
       "#sk-container-id-2 div.sk-parallel-item:first-child::after {\n",
       "  align-self: flex-end;\n",
       "  width: 50%;\n",
       "}\n",
       "\n",
       "#sk-container-id-2 div.sk-parallel-item:last-child::after {\n",
       "  align-self: flex-start;\n",
       "  width: 50%;\n",
       "}\n",
       "\n",
       "#sk-container-id-2 div.sk-parallel-item:only-child::after {\n",
       "  width: 0;\n",
       "}\n",
       "\n",
       "/* Serial-specific style estimator block */\n",
       "\n",
       "#sk-container-id-2 div.sk-serial {\n",
       "  display: flex;\n",
       "  flex-direction: column;\n",
       "  align-items: center;\n",
       "  background-color: var(--sklearn-color-background);\n",
       "  padding-right: 1em;\n",
       "  padding-left: 1em;\n",
       "}\n",
       "\n",
       "\n",
       "/* Toggleable style: style used for estimator/Pipeline/ColumnTransformer box that is\n",
       "clickable and can be expanded/collapsed.\n",
       "- Pipeline and ColumnTransformer use this feature and define the default style\n",
       "- Estimators will overwrite some part of the style using the `sk-estimator` class\n",
       "*/\n",
       "\n",
       "/* Pipeline and ColumnTransformer style (default) */\n",
       "\n",
       "#sk-container-id-2 div.sk-toggleable {\n",
       "  /* Default theme specific background. It is overwritten whether we have a\n",
       "  specific estimator or a Pipeline/ColumnTransformer */\n",
       "  background-color: var(--sklearn-color-background);\n",
       "}\n",
       "\n",
       "/* Toggleable label */\n",
       "#sk-container-id-2 label.sk-toggleable__label {\n",
       "  cursor: pointer;\n",
       "  display: block;\n",
       "  width: 100%;\n",
       "  margin-bottom: 0;\n",
       "  padding: 0.5em;\n",
       "  box-sizing: border-box;\n",
       "  text-align: center;\n",
       "}\n",
       "\n",
       "#sk-container-id-2 label.sk-toggleable__label-arrow:before {\n",
       "  /* Arrow on the left of the label */\n",
       "  content: \"▸\";\n",
       "  float: left;\n",
       "  margin-right: 0.25em;\n",
       "  color: var(--sklearn-color-icon);\n",
       "}\n",
       "\n",
       "#sk-container-id-2 label.sk-toggleable__label-arrow:hover:before {\n",
       "  color: var(--sklearn-color-text);\n",
       "}\n",
       "\n",
       "/* Toggleable content - dropdown */\n",
       "\n",
       "#sk-container-id-2 div.sk-toggleable__content {\n",
       "  max-height: 0;\n",
       "  max-width: 0;\n",
       "  overflow: hidden;\n",
       "  text-align: left;\n",
       "  /* unfitted */\n",
       "  background-color: var(--sklearn-color-unfitted-level-0);\n",
       "}\n",
       "\n",
       "#sk-container-id-2 div.sk-toggleable__content.fitted {\n",
       "  /* fitted */\n",
       "  background-color: var(--sklearn-color-fitted-level-0);\n",
       "}\n",
       "\n",
       "#sk-container-id-2 div.sk-toggleable__content pre {\n",
       "  margin: 0.2em;\n",
       "  border-radius: 0.25em;\n",
       "  color: var(--sklearn-color-text);\n",
       "  /* unfitted */\n",
       "  background-color: var(--sklearn-color-unfitted-level-0);\n",
       "}\n",
       "\n",
       "#sk-container-id-2 div.sk-toggleable__content.fitted pre {\n",
       "  /* unfitted */\n",
       "  background-color: var(--sklearn-color-fitted-level-0);\n",
       "}\n",
       "\n",
       "#sk-container-id-2 input.sk-toggleable__control:checked~div.sk-toggleable__content {\n",
       "  /* Expand drop-down */\n",
       "  max-height: 200px;\n",
       "  max-width: 100%;\n",
       "  overflow: auto;\n",
       "}\n",
       "\n",
       "#sk-container-id-2 input.sk-toggleable__control:checked~label.sk-toggleable__label-arrow:before {\n",
       "  content: \"▾\";\n",
       "}\n",
       "\n",
       "/* Pipeline/ColumnTransformer-specific style */\n",
       "\n",
       "#sk-container-id-2 div.sk-label input.sk-toggleable__control:checked~label.sk-toggleable__label {\n",
       "  color: var(--sklearn-color-text);\n",
       "  background-color: var(--sklearn-color-unfitted-level-2);\n",
       "}\n",
       "\n",
       "#sk-container-id-2 div.sk-label.fitted input.sk-toggleable__control:checked~label.sk-toggleable__label {\n",
       "  background-color: var(--sklearn-color-fitted-level-2);\n",
       "}\n",
       "\n",
       "/* Estimator-specific style */\n",
       "\n",
       "/* Colorize estimator box */\n",
       "#sk-container-id-2 div.sk-estimator input.sk-toggleable__control:checked~label.sk-toggleable__label {\n",
       "  /* unfitted */\n",
       "  background-color: var(--sklearn-color-unfitted-level-2);\n",
       "}\n",
       "\n",
       "#sk-container-id-2 div.sk-estimator.fitted input.sk-toggleable__control:checked~label.sk-toggleable__label {\n",
       "  /* fitted */\n",
       "  background-color: var(--sklearn-color-fitted-level-2);\n",
       "}\n",
       "\n",
       "#sk-container-id-2 div.sk-label label.sk-toggleable__label,\n",
       "#sk-container-id-2 div.sk-label label {\n",
       "  /* The background is the default theme color */\n",
       "  color: var(--sklearn-color-text-on-default-background);\n",
       "}\n",
       "\n",
       "/* On hover, darken the color of the background */\n",
       "#sk-container-id-2 div.sk-label:hover label.sk-toggleable__label {\n",
       "  color: var(--sklearn-color-text);\n",
       "  background-color: var(--sklearn-color-unfitted-level-2);\n",
       "}\n",
       "\n",
       "/* Label box, darken color on hover, fitted */\n",
       "#sk-container-id-2 div.sk-label.fitted:hover label.sk-toggleable__label.fitted {\n",
       "  color: var(--sklearn-color-text);\n",
       "  background-color: var(--sklearn-color-fitted-level-2);\n",
       "}\n",
       "\n",
       "/* Estimator label */\n",
       "\n",
       "#sk-container-id-2 div.sk-label label {\n",
       "  font-family: monospace;\n",
       "  font-weight: bold;\n",
       "  display: inline-block;\n",
       "  line-height: 1.2em;\n",
       "}\n",
       "\n",
       "#sk-container-id-2 div.sk-label-container {\n",
       "  text-align: center;\n",
       "}\n",
       "\n",
       "/* Estimator-specific */\n",
       "#sk-container-id-2 div.sk-estimator {\n",
       "  font-family: monospace;\n",
       "  border: 1px dotted var(--sklearn-color-border-box);\n",
       "  border-radius: 0.25em;\n",
       "  box-sizing: border-box;\n",
       "  margin-bottom: 0.5em;\n",
       "  /* unfitted */\n",
       "  background-color: var(--sklearn-color-unfitted-level-0);\n",
       "}\n",
       "\n",
       "#sk-container-id-2 div.sk-estimator.fitted {\n",
       "  /* fitted */\n",
       "  background-color: var(--sklearn-color-fitted-level-0);\n",
       "}\n",
       "\n",
       "/* on hover */\n",
       "#sk-container-id-2 div.sk-estimator:hover {\n",
       "  /* unfitted */\n",
       "  background-color: var(--sklearn-color-unfitted-level-2);\n",
       "}\n",
       "\n",
       "#sk-container-id-2 div.sk-estimator.fitted:hover {\n",
       "  /* fitted */\n",
       "  background-color: var(--sklearn-color-fitted-level-2);\n",
       "}\n",
       "\n",
       "/* Specification for estimator info (e.g. \"i\" and \"?\") */\n",
       "\n",
       "/* Common style for \"i\" and \"?\" */\n",
       "\n",
       ".sk-estimator-doc-link,\n",
       "a:link.sk-estimator-doc-link,\n",
       "a:visited.sk-estimator-doc-link {\n",
       "  float: right;\n",
       "  font-size: smaller;\n",
       "  line-height: 1em;\n",
       "  font-family: monospace;\n",
       "  background-color: var(--sklearn-color-background);\n",
       "  border-radius: 1em;\n",
       "  height: 1em;\n",
       "  width: 1em;\n",
       "  text-decoration: none !important;\n",
       "  margin-left: 1ex;\n",
       "  /* unfitted */\n",
       "  border: var(--sklearn-color-unfitted-level-1) 1pt solid;\n",
       "  color: var(--sklearn-color-unfitted-level-1);\n",
       "}\n",
       "\n",
       ".sk-estimator-doc-link.fitted,\n",
       "a:link.sk-estimator-doc-link.fitted,\n",
       "a:visited.sk-estimator-doc-link.fitted {\n",
       "  /* fitted */\n",
       "  border: var(--sklearn-color-fitted-level-1) 1pt solid;\n",
       "  color: var(--sklearn-color-fitted-level-1);\n",
       "}\n",
       "\n",
       "/* On hover */\n",
       "div.sk-estimator:hover .sk-estimator-doc-link:hover,\n",
       ".sk-estimator-doc-link:hover,\n",
       "div.sk-label-container:hover .sk-estimator-doc-link:hover,\n",
       ".sk-estimator-doc-link:hover {\n",
       "  /* unfitted */\n",
       "  background-color: var(--sklearn-color-unfitted-level-3);\n",
       "  color: var(--sklearn-color-background);\n",
       "  text-decoration: none;\n",
       "}\n",
       "\n",
       "div.sk-estimator.fitted:hover .sk-estimator-doc-link.fitted:hover,\n",
       ".sk-estimator-doc-link.fitted:hover,\n",
       "div.sk-label-container:hover .sk-estimator-doc-link.fitted:hover,\n",
       ".sk-estimator-doc-link.fitted:hover {\n",
       "  /* fitted */\n",
       "  background-color: var(--sklearn-color-fitted-level-3);\n",
       "  color: var(--sklearn-color-background);\n",
       "  text-decoration: none;\n",
       "}\n",
       "\n",
       "/* Span, style for the box shown on hovering the info icon */\n",
       ".sk-estimator-doc-link span {\n",
       "  display: none;\n",
       "  z-index: 9999;\n",
       "  position: relative;\n",
       "  font-weight: normal;\n",
       "  right: .2ex;\n",
       "  padding: .5ex;\n",
       "  margin: .5ex;\n",
       "  width: min-content;\n",
       "  min-width: 20ex;\n",
       "  max-width: 50ex;\n",
       "  color: var(--sklearn-color-text);\n",
       "  box-shadow: 2pt 2pt 4pt #999;\n",
       "  /* unfitted */\n",
       "  background: var(--sklearn-color-unfitted-level-0);\n",
       "  border: .5pt solid var(--sklearn-color-unfitted-level-3);\n",
       "}\n",
       "\n",
       ".sk-estimator-doc-link.fitted span {\n",
       "  /* fitted */\n",
       "  background: var(--sklearn-color-fitted-level-0);\n",
       "  border: var(--sklearn-color-fitted-level-3);\n",
       "}\n",
       "\n",
       ".sk-estimator-doc-link:hover span {\n",
       "  display: block;\n",
       "}\n",
       "\n",
       "/* \"?\"-specific style due to the `<a>` HTML tag */\n",
       "\n",
       "#sk-container-id-2 a.estimator_doc_link {\n",
       "  float: right;\n",
       "  font-size: 1rem;\n",
       "  line-height: 1em;\n",
       "  font-family: monospace;\n",
       "  background-color: var(--sklearn-color-background);\n",
       "  border-radius: 1rem;\n",
       "  height: 1rem;\n",
       "  width: 1rem;\n",
       "  text-decoration: none;\n",
       "  /* unfitted */\n",
       "  color: var(--sklearn-color-unfitted-level-1);\n",
       "  border: var(--sklearn-color-unfitted-level-1) 1pt solid;\n",
       "}\n",
       "\n",
       "#sk-container-id-2 a.estimator_doc_link.fitted {\n",
       "  /* fitted */\n",
       "  border: var(--sklearn-color-fitted-level-1) 1pt solid;\n",
       "  color: var(--sklearn-color-fitted-level-1);\n",
       "}\n",
       "\n",
       "/* On hover */\n",
       "#sk-container-id-2 a.estimator_doc_link:hover {\n",
       "  /* unfitted */\n",
       "  background-color: var(--sklearn-color-unfitted-level-3);\n",
       "  color: var(--sklearn-color-background);\n",
       "  text-decoration: none;\n",
       "}\n",
       "\n",
       "#sk-container-id-2 a.estimator_doc_link.fitted:hover {\n",
       "  /* fitted */\n",
       "  background-color: var(--sklearn-color-fitted-level-3);\n",
       "}\n",
       "</style><div id=\"sk-container-id-2\" class=\"sk-top-container\"><div class=\"sk-text-repr-fallback\"><pre>DecisionTreeClassifier(max_depth=5, min_samples_leaf=5, min_samples_split=20)</pre><b>In a Jupyter environment, please rerun this cell to show the HTML representation or trust the notebook. <br />On GitHub, the HTML representation is unable to render, please try loading this page with nbviewer.org.</b></div><div class=\"sk-container\" hidden><div class=\"sk-item\"><div class=\"sk-estimator fitted sk-toggleable\"><input class=\"sk-toggleable__control sk-hidden--visually\" id=\"sk-estimator-id-2\" type=\"checkbox\" checked><label for=\"sk-estimator-id-2\" class=\"sk-toggleable__label fitted sk-toggleable__label-arrow fitted\">&nbsp;&nbsp;DecisionTreeClassifier<a class=\"sk-estimator-doc-link fitted\" rel=\"noreferrer\" target=\"_blank\" href=\"https://scikit-learn.org/1.4/modules/generated/sklearn.tree.DecisionTreeClassifier.html\">?<span>Documentation for DecisionTreeClassifier</span></a><span class=\"sk-estimator-doc-link fitted\">i<span>Fitted</span></span></label><div class=\"sk-toggleable__content fitted\"><pre>DecisionTreeClassifier(max_depth=5, min_samples_leaf=5, min_samples_split=20)</pre></div> </div></div></div></div>"
      ],
      "text/plain": [
       "DecisionTreeClassifier(max_depth=5, min_samples_leaf=5, min_samples_split=20)"
      ]
     },
     "execution_count": 23,
     "metadata": {},
     "output_type": "execute_result"
    }
   ],
   "source": [
    "hpt_grid.best_estimator_"
   ]
  },
  {
   "cell_type": "code",
   "execution_count": 24,
   "id": "832d8ec2-7736-43ef-b041-998c6c607278",
   "metadata": {},
   "outputs": [
    {
     "data": {
      "text/plain": [
       "{'ccp_alpha': 0.0,\n",
       " 'class_weight': None,\n",
       " 'criterion': 'gini',\n",
       " 'max_depth': 5,\n",
       " 'max_features': None,\n",
       " 'max_leaf_nodes': None,\n",
       " 'min_impurity_decrease': 0.0,\n",
       " 'min_samples_leaf': 5,\n",
       " 'min_samples_split': 20,\n",
       " 'min_weight_fraction_leaf': 0.0,\n",
       " 'monotonic_cst': None,\n",
       " 'random_state': None,\n",
       " 'splitter': 'best'}"
      ]
     },
     "execution_count": 24,
     "metadata": {},
     "output_type": "execute_result"
    }
   ],
   "source": [
    "hpt_grid.best_estimator_.get_params()"
   ]
  },
  {
   "cell_type": "code",
   "execution_count": 25,
   "id": "5ab7a85c-3d9f-4bcc-8f39-d24e392348e4",
   "metadata": {},
   "outputs": [
    {
     "data": {
      "text/plain": [
       "(array([0.95570055, 0.        ]),\n",
       " array([0.9996408, 0.       ]),\n",
       " array([0.97717697, 0.        ]),\n",
       " array([2784,  129]))"
      ]
     },
     "execution_count": 25,
     "metadata": {},
     "output_type": "execute_result"
    }
   ],
   "source": [
    "sklearn.metrics.precision_recall_fscore_support(\n",
    "    y_test_rotors, \n",
    "    hpt_grid.best_estimator_.predict(X_test_rotors)\n",
    ")"
   ]
  },
  {
   "cell_type": "markdown",
   "id": "319c1d01-9a8f-41ea-b681-5e33fcc572ec",
   "metadata": {},
   "source": [
    "### Random-search"
   ]
  },
  {
   "cell_type": "code",
   "execution_count": 26,
   "id": "e5075c2b-7553-4512-8762-16ce268a7150",
   "metadata": {},
   "outputs": [],
   "source": [
    "import scipy.stats"
   ]
  },
  {
   "cell_type": "markdown",
   "id": "7ab2f88d-afdf-49e1-b4c9-67cbe916949b",
   "metadata": {},
   "source": [
    "Here we demonstrate the other common way of doing hyperparameter tuning, random-search. \n",
    "Instead of specifying a list of choices for each hyperparameter, we specify a distribution to sample. \n",
    "The algorithm will sample each distribution for each trial. \n",
    "We specify how many trials to run with the argument `n_iter`. \n",
    "Here are using hyperparameters with integer values so we are just randomly selecting with equal chance. \n",
    "Other hyperparameters have real values. \n",
    "We may want to use different distributions for these, such as uniform or normal distributions, or more specific distributions if we know more about what sort of values a hyperparameter should take on. \n",
    "It easy to select any distribution that SciPy makes available."
   ]
  },
  {
   "cell_type": "code",
   "execution_count": 27,
   "id": "7839d71f-41f0-4d89-838c-d2927f06347a",
   "metadata": {},
   "outputs": [],
   "source": [
    "opts_rand = {'max_depth': scipy.stats.randint(5,10), \n",
    "             'min_samples_leaf': scipy.stats.randint(1,7),\n",
    "             'min_samples_split': scipy.stats.randint(4,20),\n",
    "            }"
   ]
  },
  {
   "cell_type": "code",
   "execution_count": 28,
   "id": "4db99afb-8cb6-4e7b-929f-6086b37dd9b4",
   "metadata": {},
   "outputs": [
    {
     "name": "stdout",
     "output_type": "stream",
     "text": [
      "CPU times: user 1min 36s, sys: 318 ms, total: 1min 36s\n",
      "Wall time: 1min 45s\n"
     ]
    }
   ],
   "source": [
    "%%time\n",
    "clf1 = sklearn.tree.DecisionTreeClassifier()\n",
    "cv1 = sklearn.model_selection.KFold(n_splits=5, shuffle=True)\n",
    "hpt_random = sklearn.model_selection.RandomizedSearchCV(estimator=clf1,\n",
    "                                                        param_distributions=opts_rand,\n",
    "                                                        cv=cv1,\n",
    "                                                        n_iter=20,\n",
    "                                                     )\n",
    "res1 = hpt_random.fit(X_train_rotors, y_train_rotors)  "
   ]
  },
  {
   "cell_type": "markdown",
   "id": "46b16722-7bdf-4261-9583-d42ce9076f2e",
   "metadata": {},
   "source": [
    "Once we have done the tuning, we can then select the combination of values that results in the best estimator to use for our problem. "
   ]
  },
  {
   "cell_type": "code",
   "execution_count": 29,
   "id": "454ced4f-f05f-420b-be05-c9bc92d792f0",
   "metadata": {},
   "outputs": [
    {
     "data": {
      "text/html": [
       "<style>#sk-container-id-3 {\n",
       "  /* Definition of color scheme common for light and dark mode */\n",
       "  --sklearn-color-text: black;\n",
       "  --sklearn-color-line: gray;\n",
       "  /* Definition of color scheme for unfitted estimators */\n",
       "  --sklearn-color-unfitted-level-0: #fff5e6;\n",
       "  --sklearn-color-unfitted-level-1: #f6e4d2;\n",
       "  --sklearn-color-unfitted-level-2: #ffe0b3;\n",
       "  --sklearn-color-unfitted-level-3: chocolate;\n",
       "  /* Definition of color scheme for fitted estimators */\n",
       "  --sklearn-color-fitted-level-0: #f0f8ff;\n",
       "  --sklearn-color-fitted-level-1: #d4ebff;\n",
       "  --sklearn-color-fitted-level-2: #b3dbfd;\n",
       "  --sklearn-color-fitted-level-3: cornflowerblue;\n",
       "\n",
       "  /* Specific color for light theme */\n",
       "  --sklearn-color-text-on-default-background: var(--sg-text-color, var(--theme-code-foreground, var(--jp-content-font-color1, black)));\n",
       "  --sklearn-color-background: var(--sg-background-color, var(--theme-background, var(--jp-layout-color0, white)));\n",
       "  --sklearn-color-border-box: var(--sg-text-color, var(--theme-code-foreground, var(--jp-content-font-color1, black)));\n",
       "  --sklearn-color-icon: #696969;\n",
       "\n",
       "  @media (prefers-color-scheme: dark) {\n",
       "    /* Redefinition of color scheme for dark theme */\n",
       "    --sklearn-color-text-on-default-background: var(--sg-text-color, var(--theme-code-foreground, var(--jp-content-font-color1, white)));\n",
       "    --sklearn-color-background: var(--sg-background-color, var(--theme-background, var(--jp-layout-color0, #111)));\n",
       "    --sklearn-color-border-box: var(--sg-text-color, var(--theme-code-foreground, var(--jp-content-font-color1, white)));\n",
       "    --sklearn-color-icon: #878787;\n",
       "  }\n",
       "}\n",
       "\n",
       "#sk-container-id-3 {\n",
       "  color: var(--sklearn-color-text);\n",
       "}\n",
       "\n",
       "#sk-container-id-3 pre {\n",
       "  padding: 0;\n",
       "}\n",
       "\n",
       "#sk-container-id-3 input.sk-hidden--visually {\n",
       "  border: 0;\n",
       "  clip: rect(1px 1px 1px 1px);\n",
       "  clip: rect(1px, 1px, 1px, 1px);\n",
       "  height: 1px;\n",
       "  margin: -1px;\n",
       "  overflow: hidden;\n",
       "  padding: 0;\n",
       "  position: absolute;\n",
       "  width: 1px;\n",
       "}\n",
       "\n",
       "#sk-container-id-3 div.sk-dashed-wrapped {\n",
       "  border: 1px dashed var(--sklearn-color-line);\n",
       "  margin: 0 0.4em 0.5em 0.4em;\n",
       "  box-sizing: border-box;\n",
       "  padding-bottom: 0.4em;\n",
       "  background-color: var(--sklearn-color-background);\n",
       "}\n",
       "\n",
       "#sk-container-id-3 div.sk-container {\n",
       "  /* jupyter's `normalize.less` sets `[hidden] { display: none; }`\n",
       "     but bootstrap.min.css set `[hidden] { display: none !important; }`\n",
       "     so we also need the `!important` here to be able to override the\n",
       "     default hidden behavior on the sphinx rendered scikit-learn.org.\n",
       "     See: https://github.com/scikit-learn/scikit-learn/issues/21755 */\n",
       "  display: inline-block !important;\n",
       "  position: relative;\n",
       "}\n",
       "\n",
       "#sk-container-id-3 div.sk-text-repr-fallback {\n",
       "  display: none;\n",
       "}\n",
       "\n",
       "div.sk-parallel-item,\n",
       "div.sk-serial,\n",
       "div.sk-item {\n",
       "  /* draw centered vertical line to link estimators */\n",
       "  background-image: linear-gradient(var(--sklearn-color-text-on-default-background), var(--sklearn-color-text-on-default-background));\n",
       "  background-size: 2px 100%;\n",
       "  background-repeat: no-repeat;\n",
       "  background-position: center center;\n",
       "}\n",
       "\n",
       "/* Parallel-specific style estimator block */\n",
       "\n",
       "#sk-container-id-3 div.sk-parallel-item::after {\n",
       "  content: \"\";\n",
       "  width: 100%;\n",
       "  border-bottom: 2px solid var(--sklearn-color-text-on-default-background);\n",
       "  flex-grow: 1;\n",
       "}\n",
       "\n",
       "#sk-container-id-3 div.sk-parallel {\n",
       "  display: flex;\n",
       "  align-items: stretch;\n",
       "  justify-content: center;\n",
       "  background-color: var(--sklearn-color-background);\n",
       "  position: relative;\n",
       "}\n",
       "\n",
       "#sk-container-id-3 div.sk-parallel-item {\n",
       "  display: flex;\n",
       "  flex-direction: column;\n",
       "}\n",
       "\n",
       "#sk-container-id-3 div.sk-parallel-item:first-child::after {\n",
       "  align-self: flex-end;\n",
       "  width: 50%;\n",
       "}\n",
       "\n",
       "#sk-container-id-3 div.sk-parallel-item:last-child::after {\n",
       "  align-self: flex-start;\n",
       "  width: 50%;\n",
       "}\n",
       "\n",
       "#sk-container-id-3 div.sk-parallel-item:only-child::after {\n",
       "  width: 0;\n",
       "}\n",
       "\n",
       "/* Serial-specific style estimator block */\n",
       "\n",
       "#sk-container-id-3 div.sk-serial {\n",
       "  display: flex;\n",
       "  flex-direction: column;\n",
       "  align-items: center;\n",
       "  background-color: var(--sklearn-color-background);\n",
       "  padding-right: 1em;\n",
       "  padding-left: 1em;\n",
       "}\n",
       "\n",
       "\n",
       "/* Toggleable style: style used for estimator/Pipeline/ColumnTransformer box that is\n",
       "clickable and can be expanded/collapsed.\n",
       "- Pipeline and ColumnTransformer use this feature and define the default style\n",
       "- Estimators will overwrite some part of the style using the `sk-estimator` class\n",
       "*/\n",
       "\n",
       "/* Pipeline and ColumnTransformer style (default) */\n",
       "\n",
       "#sk-container-id-3 div.sk-toggleable {\n",
       "  /* Default theme specific background. It is overwritten whether we have a\n",
       "  specific estimator or a Pipeline/ColumnTransformer */\n",
       "  background-color: var(--sklearn-color-background);\n",
       "}\n",
       "\n",
       "/* Toggleable label */\n",
       "#sk-container-id-3 label.sk-toggleable__label {\n",
       "  cursor: pointer;\n",
       "  display: block;\n",
       "  width: 100%;\n",
       "  margin-bottom: 0;\n",
       "  padding: 0.5em;\n",
       "  box-sizing: border-box;\n",
       "  text-align: center;\n",
       "}\n",
       "\n",
       "#sk-container-id-3 label.sk-toggleable__label-arrow:before {\n",
       "  /* Arrow on the left of the label */\n",
       "  content: \"▸\";\n",
       "  float: left;\n",
       "  margin-right: 0.25em;\n",
       "  color: var(--sklearn-color-icon);\n",
       "}\n",
       "\n",
       "#sk-container-id-3 label.sk-toggleable__label-arrow:hover:before {\n",
       "  color: var(--sklearn-color-text);\n",
       "}\n",
       "\n",
       "/* Toggleable content - dropdown */\n",
       "\n",
       "#sk-container-id-3 div.sk-toggleable__content {\n",
       "  max-height: 0;\n",
       "  max-width: 0;\n",
       "  overflow: hidden;\n",
       "  text-align: left;\n",
       "  /* unfitted */\n",
       "  background-color: var(--sklearn-color-unfitted-level-0);\n",
       "}\n",
       "\n",
       "#sk-container-id-3 div.sk-toggleable__content.fitted {\n",
       "  /* fitted */\n",
       "  background-color: var(--sklearn-color-fitted-level-0);\n",
       "}\n",
       "\n",
       "#sk-container-id-3 div.sk-toggleable__content pre {\n",
       "  margin: 0.2em;\n",
       "  border-radius: 0.25em;\n",
       "  color: var(--sklearn-color-text);\n",
       "  /* unfitted */\n",
       "  background-color: var(--sklearn-color-unfitted-level-0);\n",
       "}\n",
       "\n",
       "#sk-container-id-3 div.sk-toggleable__content.fitted pre {\n",
       "  /* unfitted */\n",
       "  background-color: var(--sklearn-color-fitted-level-0);\n",
       "}\n",
       "\n",
       "#sk-container-id-3 input.sk-toggleable__control:checked~div.sk-toggleable__content {\n",
       "  /* Expand drop-down */\n",
       "  max-height: 200px;\n",
       "  max-width: 100%;\n",
       "  overflow: auto;\n",
       "}\n",
       "\n",
       "#sk-container-id-3 input.sk-toggleable__control:checked~label.sk-toggleable__label-arrow:before {\n",
       "  content: \"▾\";\n",
       "}\n",
       "\n",
       "/* Pipeline/ColumnTransformer-specific style */\n",
       "\n",
       "#sk-container-id-3 div.sk-label input.sk-toggleable__control:checked~label.sk-toggleable__label {\n",
       "  color: var(--sklearn-color-text);\n",
       "  background-color: var(--sklearn-color-unfitted-level-2);\n",
       "}\n",
       "\n",
       "#sk-container-id-3 div.sk-label.fitted input.sk-toggleable__control:checked~label.sk-toggleable__label {\n",
       "  background-color: var(--sklearn-color-fitted-level-2);\n",
       "}\n",
       "\n",
       "/* Estimator-specific style */\n",
       "\n",
       "/* Colorize estimator box */\n",
       "#sk-container-id-3 div.sk-estimator input.sk-toggleable__control:checked~label.sk-toggleable__label {\n",
       "  /* unfitted */\n",
       "  background-color: var(--sklearn-color-unfitted-level-2);\n",
       "}\n",
       "\n",
       "#sk-container-id-3 div.sk-estimator.fitted input.sk-toggleable__control:checked~label.sk-toggleable__label {\n",
       "  /* fitted */\n",
       "  background-color: var(--sklearn-color-fitted-level-2);\n",
       "}\n",
       "\n",
       "#sk-container-id-3 div.sk-label label.sk-toggleable__label,\n",
       "#sk-container-id-3 div.sk-label label {\n",
       "  /* The background is the default theme color */\n",
       "  color: var(--sklearn-color-text-on-default-background);\n",
       "}\n",
       "\n",
       "/* On hover, darken the color of the background */\n",
       "#sk-container-id-3 div.sk-label:hover label.sk-toggleable__label {\n",
       "  color: var(--sklearn-color-text);\n",
       "  background-color: var(--sklearn-color-unfitted-level-2);\n",
       "}\n",
       "\n",
       "/* Label box, darken color on hover, fitted */\n",
       "#sk-container-id-3 div.sk-label.fitted:hover label.sk-toggleable__label.fitted {\n",
       "  color: var(--sklearn-color-text);\n",
       "  background-color: var(--sklearn-color-fitted-level-2);\n",
       "}\n",
       "\n",
       "/* Estimator label */\n",
       "\n",
       "#sk-container-id-3 div.sk-label label {\n",
       "  font-family: monospace;\n",
       "  font-weight: bold;\n",
       "  display: inline-block;\n",
       "  line-height: 1.2em;\n",
       "}\n",
       "\n",
       "#sk-container-id-3 div.sk-label-container {\n",
       "  text-align: center;\n",
       "}\n",
       "\n",
       "/* Estimator-specific */\n",
       "#sk-container-id-3 div.sk-estimator {\n",
       "  font-family: monospace;\n",
       "  border: 1px dotted var(--sklearn-color-border-box);\n",
       "  border-radius: 0.25em;\n",
       "  box-sizing: border-box;\n",
       "  margin-bottom: 0.5em;\n",
       "  /* unfitted */\n",
       "  background-color: var(--sklearn-color-unfitted-level-0);\n",
       "}\n",
       "\n",
       "#sk-container-id-3 div.sk-estimator.fitted {\n",
       "  /* fitted */\n",
       "  background-color: var(--sklearn-color-fitted-level-0);\n",
       "}\n",
       "\n",
       "/* on hover */\n",
       "#sk-container-id-3 div.sk-estimator:hover {\n",
       "  /* unfitted */\n",
       "  background-color: var(--sklearn-color-unfitted-level-2);\n",
       "}\n",
       "\n",
       "#sk-container-id-3 div.sk-estimator.fitted:hover {\n",
       "  /* fitted */\n",
       "  background-color: var(--sklearn-color-fitted-level-2);\n",
       "}\n",
       "\n",
       "/* Specification for estimator info (e.g. \"i\" and \"?\") */\n",
       "\n",
       "/* Common style for \"i\" and \"?\" */\n",
       "\n",
       ".sk-estimator-doc-link,\n",
       "a:link.sk-estimator-doc-link,\n",
       "a:visited.sk-estimator-doc-link {\n",
       "  float: right;\n",
       "  font-size: smaller;\n",
       "  line-height: 1em;\n",
       "  font-family: monospace;\n",
       "  background-color: var(--sklearn-color-background);\n",
       "  border-radius: 1em;\n",
       "  height: 1em;\n",
       "  width: 1em;\n",
       "  text-decoration: none !important;\n",
       "  margin-left: 1ex;\n",
       "  /* unfitted */\n",
       "  border: var(--sklearn-color-unfitted-level-1) 1pt solid;\n",
       "  color: var(--sklearn-color-unfitted-level-1);\n",
       "}\n",
       "\n",
       ".sk-estimator-doc-link.fitted,\n",
       "a:link.sk-estimator-doc-link.fitted,\n",
       "a:visited.sk-estimator-doc-link.fitted {\n",
       "  /* fitted */\n",
       "  border: var(--sklearn-color-fitted-level-1) 1pt solid;\n",
       "  color: var(--sklearn-color-fitted-level-1);\n",
       "}\n",
       "\n",
       "/* On hover */\n",
       "div.sk-estimator:hover .sk-estimator-doc-link:hover,\n",
       ".sk-estimator-doc-link:hover,\n",
       "div.sk-label-container:hover .sk-estimator-doc-link:hover,\n",
       ".sk-estimator-doc-link:hover {\n",
       "  /* unfitted */\n",
       "  background-color: var(--sklearn-color-unfitted-level-3);\n",
       "  color: var(--sklearn-color-background);\n",
       "  text-decoration: none;\n",
       "}\n",
       "\n",
       "div.sk-estimator.fitted:hover .sk-estimator-doc-link.fitted:hover,\n",
       ".sk-estimator-doc-link.fitted:hover,\n",
       "div.sk-label-container:hover .sk-estimator-doc-link.fitted:hover,\n",
       ".sk-estimator-doc-link.fitted:hover {\n",
       "  /* fitted */\n",
       "  background-color: var(--sklearn-color-fitted-level-3);\n",
       "  color: var(--sklearn-color-background);\n",
       "  text-decoration: none;\n",
       "}\n",
       "\n",
       "/* Span, style for the box shown on hovering the info icon */\n",
       ".sk-estimator-doc-link span {\n",
       "  display: none;\n",
       "  z-index: 9999;\n",
       "  position: relative;\n",
       "  font-weight: normal;\n",
       "  right: .2ex;\n",
       "  padding: .5ex;\n",
       "  margin: .5ex;\n",
       "  width: min-content;\n",
       "  min-width: 20ex;\n",
       "  max-width: 50ex;\n",
       "  color: var(--sklearn-color-text);\n",
       "  box-shadow: 2pt 2pt 4pt #999;\n",
       "  /* unfitted */\n",
       "  background: var(--sklearn-color-unfitted-level-0);\n",
       "  border: .5pt solid var(--sklearn-color-unfitted-level-3);\n",
       "}\n",
       "\n",
       ".sk-estimator-doc-link.fitted span {\n",
       "  /* fitted */\n",
       "  background: var(--sklearn-color-fitted-level-0);\n",
       "  border: var(--sklearn-color-fitted-level-3);\n",
       "}\n",
       "\n",
       ".sk-estimator-doc-link:hover span {\n",
       "  display: block;\n",
       "}\n",
       "\n",
       "/* \"?\"-specific style due to the `<a>` HTML tag */\n",
       "\n",
       "#sk-container-id-3 a.estimator_doc_link {\n",
       "  float: right;\n",
       "  font-size: 1rem;\n",
       "  line-height: 1em;\n",
       "  font-family: monospace;\n",
       "  background-color: var(--sklearn-color-background);\n",
       "  border-radius: 1rem;\n",
       "  height: 1rem;\n",
       "  width: 1rem;\n",
       "  text-decoration: none;\n",
       "  /* unfitted */\n",
       "  color: var(--sklearn-color-unfitted-level-1);\n",
       "  border: var(--sklearn-color-unfitted-level-1) 1pt solid;\n",
       "}\n",
       "\n",
       "#sk-container-id-3 a.estimator_doc_link.fitted {\n",
       "  /* fitted */\n",
       "  border: var(--sklearn-color-fitted-level-1) 1pt solid;\n",
       "  color: var(--sklearn-color-fitted-level-1);\n",
       "}\n",
       "\n",
       "/* On hover */\n",
       "#sk-container-id-3 a.estimator_doc_link:hover {\n",
       "  /* unfitted */\n",
       "  background-color: var(--sklearn-color-unfitted-level-3);\n",
       "  color: var(--sklearn-color-background);\n",
       "  text-decoration: none;\n",
       "}\n",
       "\n",
       "#sk-container-id-3 a.estimator_doc_link.fitted:hover {\n",
       "  /* fitted */\n",
       "  background-color: var(--sklearn-color-fitted-level-3);\n",
       "}\n",
       "</style><div id=\"sk-container-id-3\" class=\"sk-top-container\"><div class=\"sk-text-repr-fallback\"><pre>DecisionTreeClassifier(max_depth=5, min_samples_leaf=3, min_samples_split=12)</pre><b>In a Jupyter environment, please rerun this cell to show the HTML representation or trust the notebook. <br />On GitHub, the HTML representation is unable to render, please try loading this page with nbviewer.org.</b></div><div class=\"sk-container\" hidden><div class=\"sk-item\"><div class=\"sk-estimator fitted sk-toggleable\"><input class=\"sk-toggleable__control sk-hidden--visually\" id=\"sk-estimator-id-3\" type=\"checkbox\" checked><label for=\"sk-estimator-id-3\" class=\"sk-toggleable__label fitted sk-toggleable__label-arrow fitted\">&nbsp;&nbsp;DecisionTreeClassifier<a class=\"sk-estimator-doc-link fitted\" rel=\"noreferrer\" target=\"_blank\" href=\"https://scikit-learn.org/1.4/modules/generated/sklearn.tree.DecisionTreeClassifier.html\">?<span>Documentation for DecisionTreeClassifier</span></a><span class=\"sk-estimator-doc-link fitted\">i<span>Fitted</span></span></label><div class=\"sk-toggleable__content fitted\"><pre>DecisionTreeClassifier(max_depth=5, min_samples_leaf=3, min_samples_split=12)</pre></div> </div></div></div></div>"
      ],
      "text/plain": [
       "DecisionTreeClassifier(max_depth=5, min_samples_leaf=3, min_samples_split=12)"
      ]
     },
     "execution_count": 29,
     "metadata": {},
     "output_type": "execute_result"
    }
   ],
   "source": [
    "hpt_random.best_estimator_"
   ]
  },
  {
   "cell_type": "code",
   "execution_count": 30,
   "id": "3a010805-5484-4598-a73a-56a3476eac7b",
   "metadata": {},
   "outputs": [
    {
     "data": {
      "text/plain": [
       "{'ccp_alpha': 0.0,\n",
       " 'class_weight': None,\n",
       " 'criterion': 'gini',\n",
       " 'max_depth': 5,\n",
       " 'max_features': None,\n",
       " 'max_leaf_nodes': None,\n",
       " 'min_impurity_decrease': 0.0,\n",
       " 'min_samples_leaf': 3,\n",
       " 'min_samples_split': 12,\n",
       " 'min_weight_fraction_leaf': 0.0,\n",
       " 'monotonic_cst': None,\n",
       " 'random_state': None,\n",
       " 'splitter': 'best'}"
      ]
     },
     "execution_count": 30,
     "metadata": {},
     "output_type": "execute_result"
    }
   ],
   "source": [
    "hpt_random.best_estimator_.get_params()"
   ]
  },
  {
   "cell_type": "code",
   "execution_count": 31,
   "id": "9af9cbb3-6d3f-4875-b30f-a73cc947e9c5",
   "metadata": {
    "scrolled": true
   },
   "outputs": [
    {
     "data": {
      "text/plain": [
       "(array([0.95570055, 0.        ]),\n",
       " array([0.9996408, 0.       ]),\n",
       " array([0.97717697, 0.        ]),\n",
       " array([2784,  129]))"
      ]
     },
     "execution_count": 31,
     "metadata": {},
     "output_type": "execute_result"
    }
   ],
   "source": [
    "sklearn.metrics.precision_recall_fscore_support(\n",
    "    y_test_rotors, \n",
    "    hpt_random.best_estimator_.predict(X_test_rotors)\n",
    ")"
   ]
  },
  {
   "cell_type": "markdown",
   "id": "0ad45613-573e-4479-ba2e-27463dee0042",
   "metadata": {},
   "source": [
    "### Selecting the best classifier"
   ]
  },
  {
   "cell_type": "markdown",
   "id": "784b0f18-b277-43db-9e8b-d519f3ff5406",
   "metadata": {},
   "source": [
    "Depending on what is most important for our problem, we may want to use different metrics to select the best classifier. \n",
    "Here we demonstrate using **recall** *vs* **balanced accuracy**, which may result in a different choice of hyperparameters."
   ]
  },
  {
   "cell_type": "code",
   "execution_count": 32,
   "id": "f53769d4-50f2-470f-adc9-140e07522a16",
   "metadata": {},
   "outputs": [],
   "source": [
    "opts_rand = {'max_depth': scipy.stats.randint(5,10), \n",
    "             'min_samples_leaf': scipy.stats.randint(1,7),\n",
    "             'min_samples_split': scipy.stats.randint(4,20),\n",
    "            }"
   ]
  },
  {
   "cell_type": "markdown",
   "id": "fdd94e62-8354-47b2-9d61-6045d337c0f1",
   "metadata": {},
   "source": [
    "### Recall"
   ]
  },
  {
   "cell_type": "code",
   "execution_count": 33,
   "id": "0ca06f8d-b8e4-42b8-9aeb-f92df4fefe9d",
   "metadata": {},
   "outputs": [
    {
     "name": "stdout",
     "output_type": "stream",
     "text": [
      "CPU times: user 1min 17s, sys: 256 ms, total: 1min 17s\n",
      "Wall time: 1min 17s\n"
     ]
    }
   ],
   "source": [
    "%%time\n",
    "clf1 = sklearn.tree.DecisionTreeClassifier()\n",
    "cv1 = sklearn.model_selection.KFold(n_splits=5, shuffle=True)\n",
    "hpt_random_recall = sklearn.model_selection.RandomizedSearchCV(estimator=clf1,\n",
    "                                                        param_distributions=opts_rand,\n",
    "                                                        cv=cv1,\n",
    "                                                        n_iter=20,\n",
    "                                                        scoring='recall',\n",
    "                                                     )\n",
    "res1 = hpt_random_recall.fit(X_train_rotors, y_train_rotors)  "
   ]
  },
  {
   "cell_type": "code",
   "execution_count": 34,
   "id": "b4e1e407-ffdd-4d11-b11a-0a6409ff1e0b",
   "metadata": {},
   "outputs": [
    {
     "data": {
      "text/plain": [
       "{'ccp_alpha': 0.0,\n",
       " 'class_weight': None,\n",
       " 'criterion': 'gini',\n",
       " 'max_depth': 9,\n",
       " 'max_features': None,\n",
       " 'max_leaf_nodes': None,\n",
       " 'min_impurity_decrease': 0.0,\n",
       " 'min_samples_leaf': 2,\n",
       " 'min_samples_split': 9,\n",
       " 'min_weight_fraction_leaf': 0.0,\n",
       " 'monotonic_cst': None,\n",
       " 'random_state': None,\n",
       " 'splitter': 'best'}"
      ]
     },
     "execution_count": 34,
     "metadata": {},
     "output_type": "execute_result"
    }
   ],
   "source": [
    "hpt_random_recall.best_estimator_.get_params()"
   ]
  },
  {
   "cell_type": "code",
   "execution_count": 35,
   "id": "072da722-188c-420c-83f6-1a158216ea42",
   "metadata": {},
   "outputs": [
    {
     "data": {
      "text/plain": [
       "(array([0.95868056, 0.3030303 ]),\n",
       " array([0.99173851, 0.07751938]),\n",
       " array([0.97492938, 0.12345679]),\n",
       " array([2784,  129]))"
      ]
     },
     "execution_count": 35,
     "metadata": {},
     "output_type": "execute_result"
    }
   ],
   "source": [
    "sklearn.metrics.precision_recall_fscore_support(\n",
    "    y_test_rotors, \n",
    "    hpt_random_recall.best_estimator_.predict(X_test_rotors)\n",
    ")"
   ]
  },
  {
   "cell_type": "markdown",
   "id": "d4c9fb8a-c289-4d22-8773-4dec61980f20",
   "metadata": {},
   "source": [
    "### Balanced-accuracy"
   ]
  },
  {
   "cell_type": "code",
   "execution_count": 36,
   "id": "4db545ba-4c74-409f-a3b9-12152b665bb2",
   "metadata": {},
   "outputs": [
    {
     "name": "stdout",
     "output_type": "stream",
     "text": [
      "CPU times: user 1min 26s, sys: 215 ms, total: 1min 26s\n",
      "Wall time: 1min 26s\n"
     ]
    }
   ],
   "source": [
    "%%time\n",
    "clf1 = sklearn.tree.DecisionTreeClassifier()\n",
    "cv1 = sklearn.model_selection.KFold(n_splits=5, shuffle=True)\n",
    "hpt_random_ba = sklearn.model_selection.RandomizedSearchCV(estimator=clf1,\n",
    "                                                        param_distributions=opts_rand,\n",
    "                                                        cv=cv1,\n",
    "                                                        n_iter=20,\n",
    "                                                        scoring='balanced_accuracy',\n",
    "                                                     )\n",
    "res1 = hpt_random_ba.fit(X_train_rotors, y_train_rotors)  "
   ]
  },
  {
   "cell_type": "code",
   "execution_count": 37,
   "id": "4eae8a5f-e7a3-4829-a941-6d1109e201a8",
   "metadata": {},
   "outputs": [
    {
     "data": {
      "text/plain": [
       "{'ccp_alpha': 0.0,\n",
       " 'class_weight': None,\n",
       " 'criterion': 'gini',\n",
       " 'max_depth': 9,\n",
       " 'max_features': None,\n",
       " 'max_leaf_nodes': None,\n",
       " 'min_impurity_decrease': 0.0,\n",
       " 'min_samples_leaf': 2,\n",
       " 'min_samples_split': 9,\n",
       " 'min_weight_fraction_leaf': 0.0,\n",
       " 'monotonic_cst': None,\n",
       " 'random_state': None,\n",
       " 'splitter': 'best'}"
      ]
     },
     "execution_count": 37,
     "metadata": {},
     "output_type": "execute_result"
    }
   ],
   "source": [
    "hpt_random_recall.best_estimator_.get_params()"
   ]
  },
  {
   "cell_type": "code",
   "execution_count": 38,
   "id": "f9cac021-2e63-45bf-811b-405859a27d3b",
   "metadata": {},
   "outputs": [
    {
     "data": {
      "text/plain": [
       "{'ccp_alpha': 0.0,\n",
       " 'class_weight': None,\n",
       " 'criterion': 'gini',\n",
       " 'max_depth': 8,\n",
       " 'max_features': None,\n",
       " 'max_leaf_nodes': None,\n",
       " 'min_impurity_decrease': 0.0,\n",
       " 'min_samples_leaf': 4,\n",
       " 'min_samples_split': 7,\n",
       " 'min_weight_fraction_leaf': 0.0,\n",
       " 'monotonic_cst': None,\n",
       " 'random_state': None,\n",
       " 'splitter': 'best'}"
      ]
     },
     "execution_count": 38,
     "metadata": {},
     "output_type": "execute_result"
    }
   ],
   "source": [
    "hpt_random_ba.best_estimator_.get_params()"
   ]
  },
  {
   "cell_type": "code",
   "execution_count": 39,
   "id": "b3d84910-6dbf-494c-b427-f319ca7933a4",
   "metadata": {},
   "outputs": [
    {
     "data": {
      "text/plain": [
       "(array([0.958117  , 0.33333333]),\n",
       " array([0.99425287, 0.0620155 ]),\n",
       " array([0.97585052, 0.10457516]),\n",
       " array([2784,  129]))"
      ]
     },
     "execution_count": 39,
     "metadata": {},
     "output_type": "execute_result"
    }
   ],
   "source": [
    "sklearn.metrics.precision_recall_fscore_support(\n",
    "    y_test_rotors, \n",
    "    hpt_random_ba.best_estimator_.predict(X_test_rotors)\n",
    ")"
   ]
  },
  {
   "cell_type": "markdown",
   "id": "cd6d26a4-8fe2-47fa-82fa-f7d7ed763d90",
   "metadata": {
    "tags": []
   },
   "source": [
    "# Resampling data for imbalanced classes\n",
    "\n",
    "In general, one of the best way to improve the performance of your machine learning algorithm is to improve the quality of your training data. \n",
    "You can do this by:\n",
    "* gathering more data, especially for examples or classes that are poorly represented\n",
    "* removing bad or unrepresentative data\n",
    "* add features that improve descriptive power of your feature vector\n",
    "\n",
    "All of these steps can be expensive, so sometime we just need to do as much as we can with the data that we have. \n",
    "In particular, for the class-imbalance problem (under-represented classes), we can resample the data to create a dataset that appears balanced. \n",
    "Although this might seem like it doesn't achieve anything, it can be very helpful. \n",
    "Usually this is a combination of the following tasks:\n",
    "* __undersampling__ - take a subset of classes that are most common or over represented\n",
    "* __oversampling__ - taking repeat samples of underrepresented classes\n",
    "* __synthetic samples__ - If you know enough about the data that you can create a distribution from which to create synthetic samples, this another option for oversampling.\n",
    "\n",
    "The state of the art for resampling uses a combination of these, such as  Synthetic Minority Oversampling Technique (SMOTE).\n",
    "\n",
    "Further reading: \n",
    "* [Under and over sampling](https://en.wikipedia.org/wiki/Oversampling_and_undersampling_in_data_analysis)\n",
    "* [More information on SMOTE](https://machinelearningmastery.com/smote-oversampling-for-imbalanced-classification/)\n",
    "* [Imbalanced learn](https://imbalanced-learn.org/stable/)\n",
    "* [Video introducing data-centric AI](https://www.youtube.com/watch?v=06-AZXmwHjo)\n",
    "* [Article on data-centric AI](https://datacentricai.org/)"
   ]
  },
  {
   "cell_type": "markdown",
   "id": "2d49e595-7ae3-483d-8292-4f0798fc6e52",
   "metadata": {
    "tags": []
   },
   "source": [
    "### Key Terms\n",
    "\n",
    "* __resampling__ - Sampling your data to change the distribution of classes, usually to correct the *class imbalance problem*\n",
    "* __undersampling__ - Selecting a subset of training data tom reduced the number of samples of a \n",
    "* __oversampling__ - Selecting repeated samples of an underrepresented class to increase the proportion of a dataset from the class\n",
    "* __synthetic oversampling__ - Use statistical techniques to create synthetic data samples."
   ]
  },
  {
   "cell_type": "markdown",
   "id": "41ef59df-db6b-424a-ba07-8c9711008c88",
   "metadata": {
    "tags": []
   },
   "source": [
    "## Example - Oversampling"
   ]
  },
  {
   "cell_type": "markdown",
   "id": "f763a60b-b299-47db-9874-1a426199a3bc",
   "metadata": {},
   "source": [
    "### Create oversampled training dataset"
   ]
  },
  {
   "cell_type": "code",
   "execution_count": 40,
   "id": "f2c3e28c-aa4f-40c8-a58f-b4e6c09d1945",
   "metadata": {},
   "outputs": [
    {
     "data": {
      "text/plain": [
       "rotors_present\n",
       "False    14252\n",
       "True       320\n",
       "Name: count, dtype: int64"
      ]
     },
     "execution_count": 40,
     "metadata": {},
     "output_type": "execute_result"
    }
   ],
   "source": [
    "rotors_train_df[target_feature_name].value_counts()"
   ]
  },
  {
   "cell_type": "code",
   "execution_count": 41,
   "id": "9aedbcdb-9b78-44a3-b77a-cd67e4f7536f",
   "metadata": {},
   "outputs": [],
   "source": [
    "no_rotors_df = rotors_train_df[rotors_train_df[target_feature_name] == False]\n",
    "rotors_df = rotors_train_df[rotors_train_df[target_feature_name] == True]"
   ]
  },
  {
   "cell_type": "code",
   "execution_count": 42,
   "id": "119bc0f7-0da8-41bd-a8b6-e83a177edf01",
   "metadata": {},
   "outputs": [],
   "source": [
    "num_resamples = 5000"
   ]
  },
  {
   "cell_type": "code",
   "execution_count": 43,
   "id": "5f86699b-36d6-4a45-8ff0-b1f55bd75386",
   "metadata": {},
   "outputs": [],
   "source": [
    "rotors_resampled_train = pandas.concat([\n",
    "    no_rotors_df.sample(num_resamples, replace=False),\n",
    "    rotors_df.sample(num_resamples, replace=True),\n",
    "])"
   ]
  },
  {
   "cell_type": "code",
   "execution_count": 44,
   "id": "75c94513-003a-4de1-a948-846d99a43159",
   "metadata": {},
   "outputs": [
    {
     "data": {
      "text/plain": [
       "(10000, 141)"
      ]
     },
     "execution_count": 44,
     "metadata": {},
     "output_type": "execute_result"
    }
   ],
   "source": [
    "rotors_resampled_train.shape"
   ]
  },
  {
   "cell_type": "code",
   "execution_count": 45,
   "id": "1baa8f5c-e34e-43c9-a47f-71886c5d3833",
   "metadata": {},
   "outputs": [
    {
     "data": {
      "text/plain": [
       "rotors_present\n",
       "False    5000\n",
       "True     5000\n",
       "Name: count, dtype: int64"
      ]
     },
     "execution_count": 45,
     "metadata": {},
     "output_type": "execute_result"
    }
   ],
   "source": [
    "rotors_resampled_train[target_feature_name].value_counts()"
   ]
  },
  {
   "cell_type": "code",
   "execution_count": 46,
   "id": "456f7bfc-dc2d-497a-8385-4ccdc318da87",
   "metadata": {},
   "outputs": [
    {
     "data": {
      "text/plain": [
       "rotors_present\n",
       "False    14252\n",
       "True       320\n",
       "Name: count, dtype: int64"
      ]
     },
     "execution_count": 46,
     "metadata": {},
     "output_type": "execute_result"
    }
   ],
   "source": [
    "rotors_train_df[target_feature_name].value_counts()"
   ]
  },
  {
   "cell_type": "code",
   "execution_count": 47,
   "id": "e492d4a2-e292-4b1d-9964-089873b1ef3f",
   "metadata": {},
   "outputs": [],
   "source": [
    "X_train_resampled_rotors = preproc_input(rotors_resampled_train, preproc_dict)\n",
    "y_train_resampled_rotors = preproc_target(rotors_resampled_train, target_encoder)"
   ]
  },
  {
   "cell_type": "markdown",
   "id": "ffc8d64e-f96d-4cc9-9d02-9ecaa3d8ffc3",
   "metadata": {},
   "source": [
    "### Fit oversampled data to model"
   ]
  },
  {
   "cell_type": "code",
   "execution_count": 48,
   "id": "633765dd-2b92-43e3-a9d2-bc20443f2542",
   "metadata": {},
   "outputs": [],
   "source": [
    "opts_rand = {'max_depth': scipy.stats.randint(5,10), \n",
    "             'min_samples_leaf': scipy.stats.randint(1,7),\n",
    "             'min_samples_split': scipy.stats.randint(4,20),\n",
    "            }"
   ]
  },
  {
   "cell_type": "code",
   "execution_count": null,
   "id": "ca3e74f0-1ad9-4255-bfa2-af726978d365",
   "metadata": {},
   "outputs": [],
   "source": [
    "%%time\n",
    "clf1 = sklearn.tree.DecisionTreeClassifier()\n",
    "cv1 = sklearn.model_selection.KFold(n_splits=5, shuffle=True)\n",
    "hpt_resampled = sklearn.model_selection.RandomizedSearchCV(estimator=clf1,\n",
    "                                                        param_distributions=opts_rand,\n",
    "                                                        cv=cv1,\n",
    "                                                        n_iter=20,\n",
    "                                                        scoring='balanced_accuracy',\n",
    "                                                     )\n",
    "res1 = hpt_resampled.fit(X_train_resampled_rotors, y_train_resampled_rotors)  "
   ]
  },
  {
   "cell_type": "code",
   "execution_count": null,
   "id": "726fc211-5dff-4c54-b970-9b118b775275",
   "metadata": {},
   "outputs": [],
   "source": [
    "hpt_resampled.best_estimator_.get_params()"
   ]
  },
  {
   "cell_type": "code",
   "execution_count": null,
   "id": "1f7980a3-3989-4057-a385-f608560b7c00",
   "metadata": {},
   "outputs": [],
   "source": [
    "hpt_random_ba.best_estimator_.get_params()"
   ]
  },
  {
   "cell_type": "code",
   "execution_count": null,
   "id": "8c1298cd-98dc-4beb-88b8-c815ad5fea01",
   "metadata": {},
   "outputs": [],
   "source": [
    "sklearn.metrics.precision_recall_fscore_support(\n",
    "    y_test_rotors, \n",
    "    hpt_resampled.best_estimator_.predict(X_test_rotors)\n",
    ")"
   ]
  },
  {
   "cell_type": "markdown",
   "id": "8603e721-3796-4332-9e4b-c85c348926b3",
   "metadata": {},
   "source": [
    "# Explainable AI (XAI)\n",
    "\n",
    "Data-driven techniques are often presented, and have often been used, as black box techniques. \n",
    "That is, we throw the data at an algorithm, and it gives us some answers but we don't understand how or why it decided to give us those answers. \n",
    "This has already caused many problems in the real world where algorithms have been used in places that affect people lives, for example in the justice system or approving bank loans. Often people have been negatively affected and there has been no recourse to challenge the decision of an algorithm. \n",
    "In many ways this is the fault of the overall human system and how it uses machine learning, rather than the algorithm itself, but it highlights the importance of building trust in the results produced by an ML algorithm. \n",
    "One way to do this is to be able to explain how a result was made and interpret what the real world impact of such a result will be and if that makes sense. \n",
    "The field of explaining and interpreting ML results, rather than just using ML as a black box, is called **Explainable AI** or **XAI**."
   ]
  },
  {
   "cell_type": "markdown",
   "id": "c8ad14f7-4fe8-4a75-9c87-d6a03ef1e023",
   "metadata": {},
   "source": [
    "Common methods for XAI include\n",
    "* [permutation feature importance](https://scikit-learn.org/stable/modules/permutation_importance.html) - The input values of a particular feature are randomly shuffled. If the feature is important, this should result in a degradation of performance metrics. The greater the degradation (relative to other features), the more important a particular feature is.\n",
    "* [SHAP value](https://shap.readthedocs.io/en/latest/index.html) - **SH**apley **A**dditive ex**P**lanations is a game theoretic approach to explain the output of any machine learning model. It connects optimal credit allocation with local explanations using the classic Shapley values from game theory and their related extensions.\n",
    "* [Saliency maps](https://www.kitware.com/understanding-ai-with-saliency-maps/) - originally a technique from the study of vision to show which areas of an image a persons eyes focus on, here it refers to a visualisation of which different neurons in a neural network are activated for a given input.\n",
    "* [LIME](https://christophm.github.io/interpretable-ml-book/lime.html) - creating multiple, locally-accurate linear approximations of a complex ML model to explain its performance for specific ranges of input values.\n",
    "\n",
    "Further reading and tools\n",
    "* [Interpretable Machine Learning by Christopher Molnar](https://christophm.github.io/interpretable-ml-book/)\n",
    "* [Introduction to XAI](https://www.mobiquity.com/insights/an-introduction-to-explainable-artifical-intelligence)\n",
    "* [What is XAI?](https://towardsdatascience.com/what-is-explainable-ai-xai-afc56938d513)\n",
    "* [OmniXAI](https://github.com/salesforce/OmniXAI)"
   ]
  },
  {
   "cell_type": "markdown",
   "id": "e61db362-a7b6-405d-a43c-308a50015b09",
   "metadata": {},
   "source": [
    "## Example - Feature Importance\n",
    "\n",
    "Here are are going to investigate which input features are most important for our rotors classifier using the permutation feature importance method.\n",
    "\n",
    "Docs\n",
    "* [Algorithm explanation](https://scikit-learn.org/stable/modules/permutation_importance.html)\n",
    "* [API doc](https://scikit-learn.org/stable/modules/generated/sklearn.inspection.permutation_importance.html)"
   ]
  },
  {
   "cell_type": "code",
   "execution_count": null,
   "id": "e5137501-1fac-45e3-9590-7600609d42aa",
   "metadata": {},
   "outputs": [],
   "source": [
    "import sklearn.inspection"
   ]
  },
  {
   "cell_type": "code",
   "execution_count": null,
   "id": "64e5f9d0-b23f-41de-965e-062ddba4489c",
   "metadata": {},
   "outputs": [],
   "source": [
    "%%time\n",
    "importances_dict_resampled = sklearn.inspection.permutation_importance(\n",
    "    estimator=hpt_resampled.best_estimator_,\n",
    "    X=X_test_rotors,\n",
    "    y=y_test_rotors,\n",
    "    scoring='recall',    \n",
    "    n_repeats=10,\n",
    ")\n",
    "importances_dict_resampled.keys()"
   ]
  },
  {
   "cell_type": "code",
   "execution_count": null,
   "id": "6c5fba03-d61a-4a07-bf27-20b7d15024a9",
   "metadata": {},
   "outputs": [],
   "source": [
    "features_df = pandas.DataFrame({\n",
    "    'feature': input_feature_names, \n",
    "    'importances_mean':  importances_dict_resampled['importances_mean'],\n",
    "    'importances_std':  importances_dict_resampled['importances_std'],\n",
    "})"
   ]
  },
  {
   "cell_type": "code",
   "execution_count": null,
   "id": "4d243311-9dd4-4944-9e51-0c0a8f6ab36e",
   "metadata": {},
   "outputs": [],
   "source": [
    "(features_df\n",
    " .query(\"importances_mean.abs()>0.005\")\n",
    " .plot.barh(x='feature', y=['importances_mean', 'importances_std'], figsize=(16,16))\n",
    ")"
   ]
  },
  {
   "cell_type": "markdown",
   "id": "510b0c47-f10c-4f14-99a2-5be7fa87b0a2",
   "metadata": {},
   "source": [
    "## Next steps\n",
    "\n",
    "### Reproducible Scalable Machine Learning\n",
    "\n",
    "Making use of the techniques described here, especially hyperparameter tuning, is very compute intensive and produces a lot of data to keep track of. Two sets of tools from the [MLOps](https://blogs.nvidia.com/blog/2020/09/03/what-is-mlops/) space including parallelisation tools, to run multiple training runs in parallel on a cluster, and experiment tracking or ML lifecycle tools, to keep track of which inputs and hyperparameters correspond to which trained model and the associated metrics and visualisations over the course of the experiment and provide evidence to build trust in subsequent deployment of ML based products.\n",
    "\n",
    "Scalable ML\n",
    "* [dask-ml](https://ml.dask.org/)\n",
    "* [ray](https://www.ray.io/)\n",
    "\n",
    "Experiment Tracking\n",
    "* [ML Flow](https://mlflow.org/)\n",
    "\n",
    "Further information on getting started with these tools to scale up your machine learning experiments can be found in this tutorial:\n",
    "* [MLOps for Research Software Engineers - UK RSE Conference 2022](https://github.com/informatics-lab/ukrse_2022_mlops_walkthrough)\n",
    "\n",
    "### Presenting Results\n",
    "\n",
    "*UNDER  CONSTRUCTION*\n",
    "\n",
    "Once we've found an experiment setup that produces satisfying results, which have been improved: How can these results be presented? - Should a final \"set in stone\" experiment be ran, or is a detailed description of the entire experimental process a reasonable solution? "
   ]
  },
  {
   "cell_type": "markdown",
   "id": "152c20ea-118a-46d9-a52c-f6a3cc72a9af",
   "metadata": {},
   "source": [
    "### Further machine learning overview tutorials\n",
    "https://github.com/djgagne/ams-ml-python-course\n",
    "\n",
    "### Interpretable/Explainable Machine Learning - Theory\n",
    "* https://christophm.github.io/interpretable-ml-book/limo.html\n",
    "* https://github.com/interpretml/interpret\n",
    "\n",
    "Interpretable/Explainable Machine Learning - Practical Examples\n",
    "Colab - What IF Tool (WIT)\n",
    "* https://pair-code.github.io/what-if-tool/\n",
    "* https://colab.research.google.com/github/pair-code/what-if-tool/blob/master/WIT_COMPAS_with_SHAP.ipynb#scrollTo=iywHwbJJkeYG\n",
    "* https://github.com/neomatrix369/awesome-ai-ml-dl/blob/master/data/model-analysis-interpretation-explainability.md\n"
   ]
  },
  {
   "cell_type": "markdown",
   "id": "669cd64f-26da-42ad-8309-c0fcf28d7c2e",
   "metadata": {
    "jp-MarkdownHeadingCollapsed": true,
    "tags": []
   },
   "source": [
    "## Dataset Info\n",
    "\n",
    "### Falklands Rotors Challenge Dataset\n",
    "Crown Copyright 2021 - This dataset was created by Met Office Chief Operational Meteorologist Steve Ramsdale from Met Office forecast and observation data.\n",
    "* Model Data - Met Office Global 10km resolution model\n",
    "* Observations - made by meteorologists at Mount Pleasant airfield in the Falkland Islands.\n"
   ]
  },
  {
   "cell_type": "markdown",
   "id": "2bcb58a9-80b7-41d4-a82e-090b931d4d27",
   "metadata": {
    "tags": []
   },
   "source": [
    "## References\n",
    "\n",
    "Hyperparameter search\n",
    "* [Hyperparameter tuning with scikit-learn - Machine Learning Mastery](https://machinelearningmastery.com/hyperparameter-optimization-with-random-search-and-grid-search/)\n",
    "* [scikit-learn docs](https://scikit-learn.org/stable/modules/grid_search.html#multimetric-grid-search)\n",
    "\n",
    "Data Resampling\n",
    "* [Imbalanced Learn docs](https://www.google.com/url?sa=t&rct=j&q=&esrc=s&source=web&cd=&cad=rja&uact=8&ved=2ahUKEwiru8rfifT4AhUTQ8AKHWyYAmkQFnoECBQQAQ&url=https%3A%2F%2Fimbalanced-learn.org%2F&usg=AOvVaw1LZ6uQInqba1dPLNkmMvhL)\n",
    "* [Introduction to SMOTE](https://machinelearningmastery.com/smote-oversampling-for-imbalanced-classification/)\n",
    "\n",
    "Feature Importance\n",
    "* [Introduction to feature importance for interpretability - Towards Data Science](https://towardsdatascience.com/from-scratch-permutation-feature-importance-for-ml-interpretability-b60f7d5d1fe9)\n",
    "* [scikit learn feature importance docs](https://scikit-learn.org/stable/modules/permutation_importance.html)\n",
    "\n",
    "Experiment Tracking\n",
    "* [ML Flow docs](https://www.mlflow.org/docs/latest/index.html)"
   ]
  }
 ],
 "metadata": {
  "kernelspec": {
   "display_name": "Python 3 (ipykernel)",
   "language": "python",
   "name": "python3"
  },
  "language_info": {
   "codemirror_mode": {
    "name": "ipython",
    "version": 3
   },
   "file_extension": ".py",
   "mimetype": "text/x-python",
   "name": "python",
   "nbconvert_exporter": "python",
   "pygments_lexer": "ipython3",
   "version": "3.10.14"
  }
 },
 "nbformat": 4,
 "nbformat_minor": 5
}
