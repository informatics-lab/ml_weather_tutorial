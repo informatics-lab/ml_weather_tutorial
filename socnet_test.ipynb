{
 "cells": [
  {
   "cell_type": "code",
   "execution_count": 6,
   "id": "b6c82652-b78a-494c-9f5e-38b68cbddc12",
   "metadata": {},
   "outputs": [],
   "source": [
    "import random as rd\n",
    "import sys\n",
    "import copy\n",
    "import pickle\n",
    "import pathlib\n",
    "import os"
   ]
  },
  {
   "cell_type": "code",
   "execution_count": 3,
   "id": "cf616090-c8a5-4f6d-81c1-8e1902e5aab4",
   "metadata": {},
   "outputs": [],
   "source": [
    "import numpy as np\n",
    "import scipy as sp\n",
    "import matplotlib.pyplot as plt\n"
   ]
  },
  {
   "cell_type": "code",
   "execution_count": 4,
   "id": "ffd00329-f04d-4a46-9303-90c1995356d3",
   "metadata": {},
   "outputs": [],
   "source": [
    "import tensorflow as tf\n",
    "from tensorflow.keras.layers import Dense, Activation, Flatten\n",
    "from tensorflow.keras.layers import Conv1D, concatenate\n",
    "from tensorflow.keras.layers import ZeroPadding1D, Reshape, Input, Dropout, PReLU\n",
    "from tensorflow.keras.models import Sequential, Model\n",
    "import code"
   ]
  },
  {
   "cell_type": "code",
   "execution_count": 11,
   "id": "e2e13c29-8570-4e3f-ab8e-28527f36db1f",
   "metadata": {},
   "outputs": [],
   "source": [
    "data_dir   = pathlib.Path('/project/informatics_lab/data_science_cop/socrates_emulation/')\n",
    "output_dir = pathlib.Path(os.environ['SCRATCH']) / 'ml_weather_tutorial'\n",
    "\n",
    "if not output_dir.is_dir():\n",
    "    output_dir.mkdir()\n",
    "    print(f'creating directory {output_dir}')"
   ]
  },
  {
   "cell_type": "markdown",
   "id": "74c0213d-221d-4395-ad4f-6f6081326bb9",
   "metadata": {},
   "source": [
    "## Define inputs\n",
    "Specify the hyperparametersfor the pipeline and the locationof the input data"
   ]
  },
  {
   "cell_type": "markdown",
   "id": "231016d6-25cc-417a-8e02-1db4df4b1aeb",
   "metadata": {},
   "source": [
    "Set up the hyperparameters for out training"
   ]
  },
  {
   "cell_type": "code",
   "execution_count": 9,
   "id": "e36f5608-da97-47a5-b67e-269b1a79ffb2",
   "metadata": {},
   "outputs": [],
   "source": [
    "wl='sw'\n",
    "target='nflx'\n",
    "nsamps = '50.0K'\n",
    "scale_data = True\n",
    "if wl=='sw':\n",
    "  model = 'sw_260'\n",
    "  model_ref = 'sw_ga7'\n",
    "elif wl=='lw':\n",
    "  model = 'lw_300'\n",
    "  model_ref = 'lw_ga7'\n"
   ]
  },
  {
   "cell_type": "markdown",
   "id": "a9237f4a-b90f-4c14-b7af-e9fc8cb6c73d",
   "metadata": {},
   "source": [
    "Construct the paths to file names that contain the data"
   ]
  },
  {
   "cell_type": "code",
   "execution_count": 12,
   "id": "94df4384-9f1e-4836-a69a-5defff906e5c",
   "metadata": {},
   "outputs": [
    {
     "name": "stdout",
     "output_type": "stream",
     "text": [
      "root dir: /project/informatics_lab/data_science_cop/socrates_emulation\n"
     ]
    }
   ],
   "source": [
    "fnext='train'\n",
    "fn_meta = model+'_meta_'+nsamps+'_'+fnext+'.npz'\n",
    "fn_dat_levs = model+'_dat_levs_'+nsamps+'_'+fnext+'.npz'\n",
    "fn_dat_lays = model+'_dat_lays_'+nsamps+'_'+fnext+'.npz'\n",
    "fn_dat_surf = model+'_dat_surf_'+nsamps+'_'+fnext+'.npz'\n",
    "if target=='nflx':\n",
    "  fn_trg = model+'_trg_levs_'+nsamps+'_'+fnext+'.npz'\n",
    "if target=='ndiv':\n",
    "  fn_trg = model+'_trg_lays_'+nsamps+'_'+fnext+'.npz'\n",
    " \n",
    "fnext='test'\n",
    "fn_meta_test = model+'_meta_'+nsamps+'_'+fnext+'.npz'\n",
    "fn_dat_levs_test = model+'_dat_levs_'+nsamps+'_'+fnext+'.npz'\n",
    "fn_dat_lays_test = model+'_dat_lays_'+nsamps+'_'+fnext+'.npz'\n",
    "fn_dat_surf_test = model+'_dat_surf_'+nsamps+'_'+fnext+'.npz'\n",
    "if target=='nflx':\n",
    "  fn_trg_test = model+'_trg_levs_'+nsamps+'_'+fnext+'.npz'\n",
    "  fn_trg_ref = model_ref+'_trg_levs_'+nsamps+'_'+fnext+'.npz'\n",
    "if target=='ndiv':\n",
    "  fn_trg_test = model+'_trg_lays_'+nsamps+'_'+fnext+'.npz'\n",
    "  fn_trg_ref = model_ref+'_trg_lays_'+nsamps+'_'+fnext+'.npz'\n",
    "\n",
    "print('root dir:',data_dir)"
   ]
  },
  {
   "cell_type": "markdown",
   "id": "d5e1f5ff-3ebf-4db4-836c-aedf4b2fe328",
   "metadata": {},
   "source": [
    "### Loading and preparing the  training data"
   ]
  },
  {
   "cell_type": "code",
   "execution_count": 15,
   "id": "9cf89ea2-84be-4400-91a9-1511305fcdee",
   "metadata": {},
   "outputs": [
    {
     "name": "stdout",
     "output_type": "stream",
     "text": [
      "loading sw_260_dat_lays_50.0K_train.npz\n"
     ]
    }
   ],
   "source": [
    "print('loading',fn_dat_lays)\n",
    "with np.load(data_dir / fn_dat_lays) as npzfile:\n",
    "    dat_lays = npzfile['dat_lays']"
   ]
  },
  {
   "cell_type": "code",
   "execution_count": 18,
   "id": "c8587209-3ae2-4919-85a2-4adb6d9cfbdf",
   "metadata": {},
   "outputs": [
    {
     "name": "stdout",
     "output_type": "stream",
     "text": [
      "loading sw_260_dat_surf_50.0K_train.npz\n"
     ]
    }
   ],
   "source": [
    "print('loading',fn_dat_surf)\n",
    "with np.load(data_dir / fn_dat_surf) as npzfile:\n",
    "    dat_surf = npzfile['dat_surf']"
   ]
  },
  {
   "cell_type": "code",
   "execution_count": 16,
   "id": "c411a38d-f1d3-493c-89c3-39001d68b671",
   "metadata": {},
   "outputs": [
    {
     "name": "stdout",
     "output_type": "stream",
     "text": [
      "loading sw_260_trg_levs_50.0K_train.npz\n"
     ]
    }
   ],
   "source": [
    "print('loading',fn_trg)\n",
    "with np.load(data_dir / fn_trg) as npzfile:\n",
    "    if target=='nflx':\n",
    "         trg = npzfile['trg_levs']\n",
    "    elif target=='ndiv':\n",
    "         trg = npzfile['trg_lays']"
   ]
  },
  {
   "cell_type": "code",
   "execution_count": 19,
   "id": "64fe3f4f-2e31-485c-97d8-ba62eb36f1c4",
   "metadata": {},
   "outputs": [],
   "source": [
    "nsamps = trg.shape[0]\n",
    "nlays = dat_lays.shape[1]\n",
    "nlay_feats = dat_lays.shape[2]\n",
    "nsurf_feats = dat_surf.shape[1]"
   ]
  },
  {
   "cell_type": "markdown",
   "id": "cf1ac304-f48f-495b-bbc7-17119771990a",
   "metadata": {},
   "source": [
    "Next we normalise the data"
   ]
  },
  {
   "cell_type": "code",
   "execution_count": 59,
   "id": "858047d0-1d84-4a1a-b71c-0542f5a02345",
   "metadata": {},
   "outputs": [
    {
     "data": {
      "text/plain": [
       "array([[[7.48596189e-02, 2.07117128e-02, 1.28316524e-02, ...,\n",
       "         0.00000000e+00, 9.53195985e-02, 0.00000000e+00],\n",
       "        [7.50777509e-02, 2.07628967e-02, 1.28662172e-02, ...,\n",
       "         0.00000000e+00, 2.39585537e-01, 0.00000000e+00],\n",
       "        [7.52075666e-02, 2.07914892e-02, 1.28858323e-02, ...,\n",
       "         0.00000000e+00, 3.97299512e-01, 0.00000000e+00],\n",
       "        ...,\n",
       "        [2.59644903e-03, 9.05737910e-04, 3.99721354e-03, ...,\n",
       "         7.23902259e-01, 9.38158696e-01, 0.00000000e+00],\n",
       "        [1.61318348e-03, 5.63421798e-04, 2.31647339e-03, ...,\n",
       "         7.23902259e-01, 9.41771698e-01, 0.00000000e+00],\n",
       "        [5.87507001e-04, 2.05322775e-04, 5.60418666e-04, ...,\n",
       "         7.23902259e-01, 9.44402078e-01, 0.00000000e+00]],\n",
       "\n",
       "       [[1.26202793e-04, 3.66322592e-06, 1.57547697e-03, ...,\n",
       "         0.00000000e+00, 4.29455379e-02, 0.00000000e+00],\n",
       "        [1.28851030e-04, 3.75739613e-06, 1.57675368e-03, ...,\n",
       "         0.00000000e+00, 1.72811216e-01, 0.00000000e+00],\n",
       "        [1.42091854e-04, 4.38634354e-06, 1.57934227e-03, ...,\n",
       "         0.00000000e+00, 3.61180706e-01, 0.00000000e+00],\n",
       "        ...,\n",
       "        [3.56097778e-03, 1.24615131e-03, 5.65986030e-03, ...,\n",
       "         2.00382283e-01, 6.01805922e-01, 0.00000000e+00],\n",
       "        [2.79017377e-03, 9.76690095e-04, 4.33783035e-03, ...,\n",
       "         2.00382283e-01, 6.05677306e-01, 0.00000000e+00],\n",
       "        [1.22915369e-03, 4.30274772e-04, 1.66176715e-03, ...,\n",
       "         2.00382283e-01, 6.09110093e-01, 0.00000000e+00]],\n",
       "\n",
       "       [[4.06717973e-02, 2.62244614e-03, 3.78832342e-03, ...,\n",
       "         0.00000000e+00, 6.46323584e-02, 0.00000000e+00],\n",
       "        [4.06380466e-02, 2.62819719e-03, 3.80200744e-03, ...,\n",
       "         0.00000000e+00, 2.13664850e-01, 0.00000000e+00],\n",
       "        [4.05636330e-02, 2.63300742e-03, 3.81482172e-03, ...,\n",
       "         0.00000000e+00, 3.54187027e-01, 0.00000000e+00],\n",
       "        ...,\n",
       "        [3.39010516e-03, 1.18568665e-03, 5.36066482e-03, ...,\n",
       "         6.17225572e-01, 8.74296899e-01, 0.00000000e+00],\n",
       "        [2.26714713e-03, 7.92685944e-04, 3.43576206e-03, ...,\n",
       "         6.17225572e-01, 8.77988308e-01, 0.00000000e+00],\n",
       "        [8.94574833e-04, 3.12762047e-04, 1.08630962e-03, ...,\n",
       "         6.17225572e-01, 8.80861147e-01, 0.00000000e+00]],\n",
       "\n",
       "       ...,\n",
       "\n",
       "       [[8.90418255e-02, 6.84193111e-02, 4.64770676e-02, ...,\n",
       "         0.00000000e+00, 3.58349724e-02, 0.00000000e+00],\n",
       "        [8.98498831e-02, 6.90489234e-02, 4.68789632e-02, ...,\n",
       "         0.00000000e+00, 2.15075214e-01, 0.00000000e+00],\n",
       "        [9.06251868e-02, 6.99099747e-02, 4.73874082e-02, ...,\n",
       "         0.00000000e+00, 3.93528972e-01, 0.00000000e+00],\n",
       "        ...,\n",
       "        [2.64375277e-03, 9.21061639e-04, 4.07203019e-03, ...,\n",
       "         7.20056039e-01, 9.34961854e-01, 0.00000000e+00],\n",
       "        [1.62101484e-03, 5.65673077e-04, 2.32830185e-03, ...,\n",
       "         7.20056039e-01, 9.38546389e-01, 0.00000000e+00],\n",
       "        [5.79207395e-04, 2.02461328e-04, 5.46636043e-04, ...,\n",
       "         7.20056039e-01, 9.41129724e-01, 0.00000000e+00]],\n",
       "\n",
       "       [[1.16998933e-02, 6.83098835e-03, 4.84883525e-02, ...,\n",
       "         0.00000000e+00, 6.19977568e-02, 0.00000000e+00],\n",
       "        [1.22530887e-02, 7.21981659e-03, 4.86410554e-02, ...,\n",
       "         0.00000000e+00, 2.31925277e-01, 0.00000000e+00],\n",
       "        [1.31090457e-02, 8.62433946e-03, 4.95706984e-02, ...,\n",
       "         0.00000000e+00, 3.23150936e-01, 0.00000000e+00],\n",
       "        ...,\n",
       "        [1.34099989e-03, 4.68035714e-04, 1.85051877e-03, ...,\n",
       "         2.09834244e-01, 7.37400872e-01, 0.00000000e+00],\n",
       "        [9.99488045e-04, 3.49430487e-04, 1.27065805e-03, ...,\n",
       "         2.09834244e-01, 7.40680463e-01, 0.00000000e+00],\n",
       "        [4.24838375e-04, 1.48772731e-04, 2.85306984e-04, ...,\n",
       "         2.09834244e-01, 7.43663555e-01, 0.00000000e+00]],\n",
       "\n",
       "       [[1.88133975e-02, 1.53180230e-04, 1.56832894e-03, ...,\n",
       "         0.00000000e+00, 8.68917926e-02, 0.00000000e+00],\n",
       "        [1.86371925e-02, 1.51315885e-04, 1.57021199e-03, ...,\n",
       "         0.00000000e+00, 1.88251397e-01, 0.00000000e+00],\n",
       "        [1.81890123e-02, 1.46603953e-04, 1.57086960e-03, ...,\n",
       "         0.00000000e+00, 3.57811731e-01, 0.00000000e+00],\n",
       "        ...,\n",
       "        [3.56657801e-03, 1.24783482e-03, 5.66784742e-03, ...,\n",
       "         2.90813620e-01, 7.76430273e-01, 0.00000000e+00],\n",
       "        [2.61987641e-03, 9.16881395e-04, 4.04464564e-03, ...,\n",
       "         2.90813620e-01, 7.79778622e-01, 0.00000000e+00],\n",
       "        [1.07235600e-03, 3.75419398e-04, 1.39306943e-03, ...,\n",
       "         2.90813620e-01, 7.82297060e-01, 0.00000000e+00]]])"
      ]
     },
     "execution_count": 59,
     "metadata": {},
     "output_type": "execute_result"
    }
   ],
   "source": [
    "dat_lays"
   ]
  },
  {
   "cell_type": "code",
   "execution_count": 29,
   "id": "049c3139-56e2-45fc-a41d-ee5adddaa68e",
   "metadata": {},
   "outputs": [
    {
     "data": {
      "text/plain": [
       "(50000, 70, 29)"
      ]
     },
     "execution_count": 29,
     "metadata": {},
     "output_type": "execute_result"
    }
   ],
   "source": [
    "dat_lays.shape"
   ]
  },
  {
   "cell_type": "code",
   "execution_count": 20,
   "id": "f0cfd63a-2526-4ef0-915a-e1b5d6b12ff7",
   "metadata": {},
   "outputs": [
    {
     "name": "stdout",
     "output_type": "stream",
     "text": [
      "removing constant layer features: 6\n"
     ]
    }
   ],
   "source": [
    "if scale_data: # normalize by range\n",
    "  scaler_lays = []\n",
    "  use_lays = []\n",
    "  for ic in range(nlay_feats):\n",
    "    min0 = np.min(dat_lays[:,:,ic])\n",
    "    range0 = np.max(dat_lays[:,:,ic]) - min0\n",
    "    if range0 > 0.:\n",
    "      dat_lays[:,:,ic] = (dat_lays[:,:,ic] - min0)/range0\n",
    "      scaler_lays.append([min0, range0])\n",
    "      use_lays.append(ic)\n",
    "  if len(use_lays)<nlay_feats:\n",
    "    print('removing constant layer features:', nlay_feats-len(use_lays))\n",
    "    dat_lays = dat_lays[:,:,use_lays]\n",
    "    nlay_feats = len(use_lays)\n",
    "      \n",
    "\n",
    "  scaler_surf = []\n",
    "  use_surf = []\n",
    "  for ic in range(nsurf_feats):\n",
    "    min0 = np.min(dat_surf[:,ic])\n",
    "    range0 = np.max(dat_surf[:,ic]) - min0\n",
    "    if range0 > 0.:\n",
    "      dat_surf[:,ic] = (dat_surf[:,ic] - min0)/range0\n",
    "      scaler_surf.append([min0, range0])\n",
    "      use_surf.append(ic)\n",
    "  if len(use_surf)<nsurf_feats:\n",
    "    print('removing constant surf features:', nsurf_feats-len(use_surf))\n",
    "    dat_surf = dat_surf[:,:,use_surf]\n",
    "    nsurf_feats = len(use_surf)\n",
    "\n"
   ]
  },
  {
   "cell_type": "code",
   "execution_count": 23,
   "id": "95e28b0f-98cb-4a67-8223-8baf862eeae6",
   "metadata": {},
   "outputs": [],
   "source": [
    "ntrg_samps = trg.shape[0]\n",
    "\n",
    "if target=='nflx' or target=='ndiv':\n",
    "  nouts=1\n",
    "  ntrg_levs = trg.shape[1]\n"
   ]
  },
  {
   "cell_type": "code",
   "execution_count": 39,
   "id": "4dd67ee4-3bb4-41d2-9489-99aade718ade",
   "metadata": {},
   "outputs": [],
   "source": [
    "def build_model_mlp(nlays, nlay_feats):\n",
    "    profile_input = Input(shape=(nlays, nlay_feats), name='profile_input')\n",
    "    surf_input = Input(shape=(nsurf_feats,), name='surf_input')\n",
    "    flat_profs = Flatten()(profile_input)\n",
    "    raw_in = tf.keras.layers.concatenate([flat_profs, surf_input])\n",
    "    raw_size = (nlays*nlay_feats)+nsurf_feats\n",
    "    prof_size = nlays*nlay_feats\n",
    "\n",
    "    x = Dense(512, use_bias=False, activation='relu')(raw_in)\n",
    "    x = Dense(512, use_bias=False, activation='relu')(x)\n",
    "    x = Dense(256, use_bias=False, activation='relu')(x)\n",
    "    x = Dense(256, use_bias=False, activation='relu')(x)\n",
    "    x = Dense(128, use_bias=False, activation='relu')(x)\n",
    "    x = Dense(128, use_bias=False, activation='relu')(x)\n",
    "\n",
    "    main_output = Dense(ntrg_levs, use_bias=True, activation='linear', name='main_output')(x)\n",
    "    model = Model(inputs=[profile_input, surf_input], outputs=[main_output])\n",
    "    return model"
   ]
  },
  {
   "cell_type": "code",
   "execution_count": 40,
   "id": "7add4bed-8d1f-4df7-865f-7b22304637fa",
   "metadata": {},
   "outputs": [],
   "source": [
    "def build_model_cnn(nlays, nlay_feats):\n",
    "    profile_input = Input(shape=(nlays, nlay_feats), name='profile_input')\n",
    "    surf_input = Input(shape=(nsurf_feats,), name='surf_input')\n",
    "    flat_profs = Flatten()(profile_input)\n",
    "    raw_in = tf.keras.layers.concatenate([flat_profs, surf_input])\n",
    "    raw_size = (nlays*nlay_feats)+nsurf_feats\n",
    "    prof_size = nlays*nlay_feats\n",
    "\n",
    "    out = ZeroPadding1D(padding=1)(profile_input)\n",
    "    out = Conv1D(32, 3, strides=1, activation='relu', use_bias=False, kernel_initializer='glorot_uniform', bias_initializer='zeros')(out)\n",
    "    ident = out\n",
    "    out = ZeroPadding1D(padding=1)(out)\n",
    "    out = Conv1D(32, 3, strides=1, activation='relu', use_bias=False, kernel_initializer='glorot_uniform', bias_initializer='zeros')(out)\n",
    "    out = ZeroPadding1D(padding=1)(out)\n",
    "    out = Conv1D(32, 3, strides=1, activation='relu', use_bias=False, kernel_initializer='glorot_uniform', bias_initializer='zeros')(out)\n",
    "    x = tf.keras.layers.add([out, ident])\n",
    "    out = Flatten()(x)\n",
    "    out = Dense(prof_size, use_bias=False, activation='relu')(out)\n",
    "\n",
    "    out = tf.keras.layers.concatenate([out, surf_input])\n",
    "    x = tf.keras.layers.add([out, raw_in])\n",
    "    x = Dense(1024, use_bias=False, activation='relu')(x)\n",
    "    x = Dense(1024, use_bias=False, activation='relu')(x)\n",
    "\n",
    "    main_output = Dense(ntrg_levs, use_bias=True, activation='linear', name='main_output')(x)\n",
    "    model = Model(inputs=[profile_input, surf_input], outputs=[main_output])\n",
    "    return model"
   ]
  },
  {
   "cell_type": "code",
   "execution_count": 41,
   "id": "3f9f6a79-f2dd-469a-bd46-98ef45651290",
   "metadata": {},
   "outputs": [],
   "source": [
    "model_dict = {'mlp': {'build_func': build_model_mlp,},\n",
    "              'cnn_1d': {'build_func': build_model_cnn,},\n",
    "             }"
   ]
  },
  {
   "cell_type": "code",
   "execution_count": 42,
   "id": "2eb36ffd-b068-4acd-8f2e-534fccc85bf5",
   "metadata": {},
   "outputs": [
    {
     "name": "stdout",
     "output_type": "stream",
     "text": [
      "building and training model mlp\n"
     ]
    },
    {
     "name": "stderr",
     "output_type": "stream",
     "text": [
      "2022-07-08 15:56:53.774845: I tensorflow/core/platform/cpu_feature_guard.cc:151] This TensorFlow binary is optimized with oneAPI Deep Neural Network Library (oneDNN) to use the following CPU instructions in performance-critical operations:  SSE4.1 SSE4.2 AVX AVX2 FMA\n",
      "To enable them in other operations, rebuild TensorFlow with the appropriate compiler flags.\n"
     ]
    },
    {
     "name": "stdout",
     "output_type": "stream",
     "text": [
      "building and training model cnn_1d\n",
      "CPU times: user 4min 19s, sys: 28.9 s, total: 4min 48s\n",
      "Wall time: 52.6 s\n"
     ]
    }
   ],
   "source": [
    "%%time\n",
    "for model_name in model_dict.keys():\n",
    "    print(f'building and training model {model_name}')\n",
    "    model_dict[model_name]['model_object'] = model_dict[model_name]['build_func'](nlays=nlays, nlay_feats=nlay_feats)\n",
    "    model_dict[model_name]['model_object'].compile(loss='mean_absolute_error',\n",
    "                                                   optimizer='adam')\n",
    "    model_dict[model_name]['model_object'].fit([dat_lays, dat_surf], trg, epochs=1, batch_size=32, verbose=0)"
   ]
  },
  {
   "cell_type": "code",
   "execution_count": null,
   "id": "45d1d8ff-fe98-4c19-b177-a96ec53fd3ed",
   "metadata": {},
   "outputs": [],
   "source": [
    "del dat_lays, dat_surf\n"
   ]
  },
  {
   "cell_type": "markdown",
   "id": "af4b3b67-d72f-49ea-81e2-d4ce7de5cabb",
   "metadata": {},
   "source": [
    "### Testing the output\n",
    "\n",
    "Next we load in the test data and do inferenceto check the result"
   ]
  },
  {
   "cell_type": "code",
   "execution_count": 44,
   "id": "347d87fe-a2a7-489f-8d50-b02ac54c681b",
   "metadata": {},
   "outputs": [
    {
     "name": "stdout",
     "output_type": "stream",
     "text": [
      "loading sw_260_dat_lays_50.0K_test.npz\n",
      "loading sw_260_dat_surf_50.0K_test.npz\n",
      "loading sw_260_trg_levs_50.0K_test.npz\n",
      "loading sw_ga7_trg_levs_50.0K_test.npz\n"
     ]
    }
   ],
   "source": [
    "print('loading',fn_dat_lays_test)\n",
    "with np.load(data_dir / fn_dat_lays_test) as npzfile:\n",
    "    dat_lays_test = npzfile['dat_lays']\n",
    "\n",
    "print('loading',fn_dat_surf_test)\n",
    "with np.load(data_dir / fn_dat_surf_test) as npzfile:\n",
    "    dat_surf_test = npzfile['dat_surf']\n",
    "\n",
    "print('loading',fn_trg_test)\n",
    "with np.load(data_dir / fn_trg_test)as npzfile:\n",
    "    if target=='nflx':\n",
    "        trg_test = npzfile['trg_levs']\n",
    "    elif target=='ndiv':\n",
    "         trg_test = npzfile['trg_lays']\n",
    "\n",
    "print('loading',fn_trg_ref)\n",
    "with np.load(data_dir / fn_trg_ref) as npzfile:\n",
    "    if target=='nflx':\n",
    "         trg_ref = npzfile['trg_levs_ref']\n",
    "    elif target=='ndiv':\n",
    "         trg_ref = npzfile['trg_lays_ref']"
   ]
  },
  {
   "cell_type": "code",
   "execution_count": 45,
   "id": "0a53579e-00bb-4129-989a-8bbc881c696f",
   "metadata": {},
   "outputs": [],
   "source": [
    "# scale test data\n",
    "if scale_data: # normalize by range\n",
    "  dat_lays_test = dat_lays_test[:,:,use_lays]\n",
    "  for ic in range(nlay_feats):\n",
    "    dat_lays_test[:,:,ic] = (dat_lays_test[:,:,ic] - scaler_lays[ic][0])/scaler_lays[ic][1]\n",
    "\n",
    "  dat_surf_test = dat_surf_test[:,use_surf]\n",
    "  for ic in range(nsurf_feats):\n",
    "    dat_surf_test[:,ic] = (dat_surf_test[:,ic] - scaler_surf[ic][0])/scaler_surf[ic][1]\n",
    "\n"
   ]
  },
  {
   "cell_type": "markdown",
   "id": "a6429339-8eeb-43a1-8cf4-78d2cad1df74",
   "metadata": {},
   "source": [
    "### Do inference on test data"
   ]
  },
  {
   "cell_type": "code",
   "execution_count": 50,
   "id": "5831bb99-bd5e-4b7a-9ccf-cfa7aafd71dd",
   "metadata": {},
   "outputs": [],
   "source": [
    "predictions = {}"
   ]
  },
  {
   "cell_type": "code",
   "execution_count": 51,
   "id": "8d3920db-faf8-4c36-8085-57ac6380d0c4",
   "metadata": {},
   "outputs": [],
   "source": [
    "for model_name, selected_model in model_dict.items():\n",
    "  predictions[model_name] = selected_model['model_object'].predict([dat_lays_test, dat_surf_test])"
   ]
  },
  {
   "cell_type": "markdown",
   "id": "24af6c78-19c6-4052-8957-104c1fb47ba7",
   "metadata": {},
   "source": [
    "### Calaculate metrics for test data"
   ]
  },
  {
   "cell_type": "code",
   "execution_count": 52,
   "id": "ec68fea0-9cfd-419e-bdc8-3ec2bba88b05",
   "metadata": {},
   "outputs": [],
   "source": [
    "metrics_dict = {}\n",
    "for model_name in model_dict.keys():\n",
    "    metrics_dict['me_p'] = np.zeros(ntrg_levs)\n",
    "    metrics_dict['me_ctl'] = np.zeros(ntrg_levs)\n",
    "    metrics_dict['mae_p'] = np.zeros(ntrg_levs)\n",
    "    metrics_dict['mae_ctl'] = np.zeros(ntrg_levs)\n",
    "    for ilev in range(ntrg_levs):\n",
    "      metrics_dict['me_p'][ilev] = np.mean(predictions[model_name][:,ilev] - trg_test[:,ilev])\n",
    "      metrics_dict['me_ctl'][ilev] = np.mean(trg_ref[:,ilev] - trg_test[:,ilev])\n",
    "      metrics_dict['mae_p'][ilev] = np.mean(np.abs(predictions[model_name][:,ilev] - trg_test[:,ilev]))\n",
    "      metrics_dict['mae_ctl'][ilev] = np.mean(np.abs(trg_ref[:,ilev] - trg_test[:,ilev]))    "
   ]
  },
  {
   "cell_type": "markdown",
   "id": "21a0ebc4-2f21-4de9-ba5a-86f78e7f4752",
   "metadata": {},
   "source": [
    "### Visualise metrics"
   ]
  },
  {
   "cell_type": "code",
   "execution_count": 53,
   "id": "80f046ee-3343-4f8f-8bce-9ae3a3d627a0",
   "metadata": {},
   "outputs": [],
   "source": [
    "yax = np.arange(1,len(me_p[1:])+1)[::-1]\n"
   ]
  },
  {
   "cell_type": "code",
   "execution_count": 58,
   "id": "d013ba7a-0f0f-40f7-866f-c849c26d21ac",
   "metadata": {},
   "outputs": [
    {
     "data": {
      "image/png": "[encoded data removed]",
      "text/plain": [
       "<Figure size 1152x432 with 8 Axes>"
      ]
     },
     "metadata": {
      "needs_background": "light"
     },
     "output_type": "display_data"
    }
   ],
   "source": [
    "fig1 = plt.figure('compare_NN_results', figsize=(16,6))\n",
    "for ix1,model_name in enumerate(model_dict.keys()):\n",
    "    ax1 = fig1.add_subplot(2,4,(4*ix1) + 1,title=f'results for {model_name}')\n",
    "    ax1.plot(me_p[1:],yax, '-r', label='ME emu')\n",
    "    ax1.set_xlabel('level')\n",
    "    ax1.set_ylabel('flux / flux div. difference')\n",
    "    ax1.legend(loc='upper right')\n",
    "  \n",
    "    ax1 = fig1.add_subplot(2,4,(4*ix1) + 2, title=f'results for {model_name}')\n",
    "    ax1.plot(mae_p[1:],yax, '--r', label='MAE emu')\n",
    "    ax1.set_xlabel('level')\n",
    "    ax1.set_ylabel('flux / flux div. difference')\n",
    "    ax1.legend(loc='upper right')\n",
    "    \n",
    "    ax1 = fig1.add_subplot(2,4, (4*ix1) + 3, title=f'results for {model_name}')\n",
    "    plt.plot(me_ctl[1:],yax, '-c', label='ME ga7')\n",
    "    ax1.set_xlabel('level')\n",
    "    ax1.set_ylabel('flux / flux div. difference')\n",
    "    ax1.legend(loc='upper right')\n",
    "    \n",
    "    ax1 = fig1.add_subplot(2,4, (4*ix1) + 4, title=f'results for {model_name}')\n",
    "    ax1.plot(mae_ctl[1:],yax, '--c', label='MAE ga7')\n",
    "    ax1.set_xlabel('level')\n",
    "    ax1.set_ylabel('flux / flux div. difference')\n",
    "    ax1.legend(loc='upper right')\n",
    "    \n"
   ]
  }
 ],
 "metadata": {
  "kernelspec": {
   "display_name": "Python 3 (ipykernel)",
   "language": "python",
   "name": "python3"
  },
  "language_info": {
   "codemirror_mode": {
    "name": "ipython",
    "version": 3
   },
   "file_extension": ".py",
   "mimetype": "text/x-python",
   "name": "python",
   "nbconvert_exporter": "python",
   "pygments_lexer": "ipython3",
   "version": "3.8.13"
  }
 },
 "nbformat": 4,
 "nbformat_minor": 5
}
